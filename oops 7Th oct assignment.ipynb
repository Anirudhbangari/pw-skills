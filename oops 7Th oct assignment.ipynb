{
 "cells": [
  {
   "cell_type": "code",
   "execution_count": 4,
   "id": "b792be0a-90ad-4c53-9a41-29d280923b7e",
   "metadata": {},
   "outputs": [
    {
     "name": "stdout",
     "output_type": "stream",
     "text": [
      "Name :  Sam \n",
      " Account number :  5255484 \n",
      " Balance is :  48586\n",
      "Deposit sucessfully and net balance is  =  2860034186\n",
      "Amount withdraw is :  7898875\n"
     ]
    }
   ],
   "source": [
    "#Problem 1: Bank Account Create a class representing a bank account with attributes like account number, account holder name, and balance. Implement methods to deposit and withdraw money from the account.\n",
    "import logging as log\n",
    "log.basicConfig(filename = \"Bank_account\",level = log.DEBUG,format = '%(asctime)s - %(levelname)s - %(message)s' )\n",
    "class bank_account :\n",
    "    try :\n",
    "        def __init__(self,a,b,c) :\n",
    "            self.account_holder = a\n",
    "            self.account_number = b\n",
    "            self.balance = c\n",
    "            \n",
    "        def withdraw(self,amount):\n",
    "            if amount < self.balance:\n",
    "                log.info(\"Amount withdraw is : %d\",amount)\n",
    "                print(\"Amount withdraw is : \",amount)\n",
    "                self.balance = self.balance-amount\n",
    "                \n",
    "        def deposit(self,amount):\n",
    "            if amount > 0:\n",
    "                log.info(\"Deposit sucessfully and net balance is  = %d\",amount+self.balance)\n",
    "                print(\"Deposit sucessfully and net balance is  = \",amount+self.balance)\n",
    "                self.balance = self.balance+amount\n",
    "                \n",
    "        def inf(self) :\n",
    "            log.info(\"Name : %s\",self.account_holder)\n",
    "            log.info(\"Account number : %d\",self.account_number)\n",
    "            log.info(\"Balance is : %d\",self.balance)\n",
    "            print(\"Name : \",self.account_holder,'\\n',\"Account number : \",self.account_number,'\\n',\"Balance is : \",self.balance)\n",
    "    except Exception as p :\n",
    "        log.error(p)\n",
    "p = bank_account('Sam',5255484,48586)\n",
    "p.inf()\n",
    "p.deposit(2859985600)\n",
    "p.withdraw(7898875)"
   ]
  },
  {
   "cell_type": "code",
   "execution_count": 2,
   "id": "b6feea2b-bdc7-4953-9b7a-c11c616f45a0",
   "metadata": {},
   "outputs": [
    {
     "name": "stdout",
     "output_type": "stream",
     "text": [
      "Employee name : Rockstar \n",
      " Salary  :  4478 \n",
      " Attandance :  90\n",
      "Bonus is :  895.6\n"
     ]
    }
   ],
   "source": [
    "#Problem 2: Employee Management Create a class representing an employee with attributes like employee ID, name, and salary. Implement methods to calculate the yearly bonus and display employee details.\n",
    "import logging as log\n",
    "log.basicConfig(filename = \"employee\" ,level = log.DEBUG, format = '%(asctime)s - %(levelname)s -%(message)s')\n",
    "class employee :\n",
    "    def __init__(self,a,b,c,d):\n",
    "        self.name = a\n",
    "        self.employee_id = b \n",
    "        self.salary = c\n",
    "        self.attandance = d\n",
    "    try:\n",
    "        def bonus(self):\n",
    "            g = self.salary*0.2\n",
    "            log.info(\"Bonus is  %d\",g)\n",
    "            print(\"Bonus is : \",g)\n",
    "            \n",
    "        def details(self):\n",
    "            log.info(\"Employee name : %s\",self.name)\n",
    "            log.info(\"Salary  : %d\", self.salary)\n",
    "            log.info(\"Attandance : %d\", self.attandance)\n",
    "            print(\"Employee name :\",self.name,'\\n',\"Salary  : \", self.salary,'\\n',\"Attandance : \", self.attandance)\n",
    "    except Exception as u:\n",
    "        log.error(u)\n",
    "h = employee('Rockstar',255,4478,90)\n",
    "h.details()\n",
    "h.bonus()"
   ]
  },
  {
   "cell_type": "code",
   "execution_count": 4,
   "id": "a92796f8-fe2e-4f32-bf10-18c9c2bea465",
   "metadata": {},
   "outputs": [
    {
     "name": "stdin",
     "output_type": "stream",
     "text": [
      "Enter 1 to add further vehicle or any number to stop adding vehicle 1\n",
      "Enter id : 1\n",
      "Enter the vehicle name : fkdj\n",
      "Enter 1 to add further vehicle or any number to stop adding vehicle 1\n",
      "Enter id : 2\n",
      "Enter the vehicle name : skjf\n",
      "Enter 1 to add further vehicle or any number to stop adding vehicle 5\n"
     ]
    },
    {
     "name": "stdout",
     "output_type": "stream",
     "text": [
      "Vehicle available :\n",
      "1 . fkdj \n",
      "2 . skjf \n",
      "Vehicle rented\n"
     ]
    },
    {
     "name": "stdin",
     "output_type": "stream",
     "text": [
      "Enter 1 for rent a vehicle or 2 for return the rented the vehicle or any key to exit 1\n",
      "Enter id of vehicle to rent  1\n"
     ]
    },
    {
     "name": "stdout",
     "output_type": "stream",
     "text": [
      "Vehicle id 1 . fkdj is rented successfully\n",
      "Vehicle available :\n",
      "2 . skjf \n",
      "Vehicle rented\n",
      "1 . fkdj \n"
     ]
    },
    {
     "name": "stdin",
     "output_type": "stream",
     "text": [
      "Enter 1 for rent a vehicle or 2 for return the rented the vehicle or any key to exit 2\n",
      "Emter id for return the vehicle 1\n"
     ]
    },
    {
     "name": "stdout",
     "output_type": "stream",
     "text": [
      " vehicle fkdj return successfully\n",
      "Vehicle available :\n",
      "2 . skjf \n",
      "1 . fkdj \n",
      "Vehicle rented\n"
     ]
    },
    {
     "name": "stdin",
     "output_type": "stream",
     "text": [
      "Enter 1 for rent a vehicle or 2 for return the rented the vehicle or any key to exit 6\n"
     ]
    },
    {
     "name": "stdout",
     "output_type": "stream",
     "text": [
      "EXIT\n"
     ]
    }
   ],
   "source": [
    "#Problem 3: Vehicle Rental Create a class representing a vehicle rental system. Implement methods to rent a vehicle, return a vehicle, and display available vehicles.\n",
    "class rental:\n",
    "    def __init__(self):\n",
    "        self.h = {}\n",
    "        self.j = {}\n",
    "        \n",
    "    def add1(self,vehicle_id,vehicle_name):\n",
    "        self.vehicle_id = vehicle_id\n",
    "        self.vehicle_name = vehicle_name\n",
    "        if self.vehicle_id in self.h:\n",
    "            return self.start()\n",
    "        else:\n",
    "            self.h[self.vehicle_id] = self.vehicle_name\n",
    "            return self.start()\n",
    "        \n",
    "    def start(self):\n",
    "        y = int(input(\"Enter 1 to add further vehicle or any number to stop adding vehicle\"))\n",
    "        if y == 1:\n",
    "            i = int(input(\"Enter id :\"))\n",
    "            n = input(\"Enter the vehicle name :\")\n",
    "            if i in self.h :\n",
    "                print(\"id already exist\")\n",
    "                return self.start()\n",
    "            else:\n",
    "                return self.add1(i,n)\n",
    "        else:\n",
    "            pass\n",
    "        \n",
    "    def rented_vehicle(self,ident):\n",
    "        if ident in self.h:\n",
    "            print(f\"Vehicle id {ident} . {self.h[ident]} is rented successfully\")\n",
    "            self.j[ident] = self.h[ident]\n",
    "            self.h.pop(ident,None)\n",
    "            self.avail_vehicle()\n",
    "        else:\n",
    "            print(\"Enter wrong id\")\n",
    "            \n",
    "    def ret(self,hu):\n",
    "        print(f\" vehicle {self.j[hu]} return successfully\")\n",
    "        self.h[hu] = self.j[hu]\n",
    "        self.j.pop(hu,None)\n",
    "        self.avail_vehicle()\n",
    "    \n",
    "    def avail_vehicle(self):\n",
    "        print(\"Vehicle available :\")\n",
    "        for i in self.h:\n",
    "            print(f\"{i} . {self.h[i]} \")\n",
    "        print(\"Vehicle rented :\")\n",
    "        for o in self.j:\n",
    "            print(f\"{o} . {self.j[o]} \")\n",
    "        yt = input(\"Enter 1 for rent a vehicle or 2 for return the rented the vehicle or any key to exit\")\n",
    "        if int(yt) == 1:\n",
    "            yu = int(input(\"Enter id of vehicle to rent \"))\n",
    "            if yu in self.h :\n",
    "                return self.rented_vehicle(yu)\n",
    "            else:\n",
    "                print(\"Enter wrong id\")\n",
    "                print(\"EXIT\")\n",
    "        elif int(yt) == 2:\n",
    "            yo = int(input(\"Emter id for return the vehicle\"))\n",
    "            if yo in self.j:\n",
    "                return self.ret(yo)\n",
    "            else:\n",
    "                print(\"Wrong input\")\n",
    "                print(\"EXIT\")\n",
    "        else:\n",
    "            print(\"EXIT\")\n",
    "                        \n",
    "uy = rental()\n",
    "uy.start()\n",
    "uy.avail_vehicle()"
   ]
  },
  {
   "cell_type": "code",
   "execution_count": 5,
   "id": "41e2f221-4d3d-4ca8-a955-71bedd0b9a15",
   "metadata": {},
   "outputs": [
    {
     "name": "stdin",
     "output_type": "stream",
     "text": [
      "Enter 1 to add  book or any number to stop adding book 1\n",
      "Enter id : 1\n",
      "Enter the book name : kjij\n",
      "Enter 1 to add  book or any number to stop adding book 1\n",
      "Enter id : 2\n",
      "Enter the book name : jjijhioh\n",
      "Enter 1 to add  book or any number to stop adding book 1\n",
      "Enter id : 3\n",
      "Enter the book name : kjpiouji\n",
      "Enter 1 to add  book or any number to stop adding book 1\n",
      "Enter id : 4\n",
      "Enter the book name : jkji\n",
      "Enter 1 to add  book or any number to stop adding book 5\n"
     ]
    },
    {
     "name": "stdout",
     "output_type": "stream",
     "text": [
      "Books available :\n",
      "1 . kjij\n",
      "2 . jjijhioh\n",
      "3 . kjpiouji\n",
      "4 . jkji\n",
      "Books borrows :\n"
     ]
    },
    {
     "name": "stdin",
     "output_type": "stream",
     "text": [
      "Enter 1 for borrow books or 2 for return books or any key to exit 1\n",
      "Enter book id for borrow book 2\n"
     ]
    },
    {
     "name": "stdout",
     "output_type": "stream",
     "text": [
      "Books available :\n",
      "1 . kjij\n",
      "3 . kjpiouji\n",
      "4 . jkji\n",
      "Books borrows :\n",
      "2 . jjijhioh\n"
     ]
    },
    {
     "name": "stdin",
     "output_type": "stream",
     "text": [
      "Enter 1 for borrow books or 2 for return books or any key to exit 1\n",
      "Enter book id for borrow book 4\n"
     ]
    },
    {
     "name": "stdout",
     "output_type": "stream",
     "text": [
      "Books available :\n",
      "1 . kjij\n",
      "3 . kjpiouji\n",
      "Books borrows :\n",
      "2 . jjijhioh\n",
      "4 . jkji\n"
     ]
    },
    {
     "name": "stdin",
     "output_type": "stream",
     "text": [
      "Enter 1 for borrow books or 2 for return books or any key to exit 2\n",
      "Enter book id for return book 4\n"
     ]
    },
    {
     "name": "stdout",
     "output_type": "stream",
     "text": [
      "Books available :\n",
      "1 . kjij\n",
      "3 . kjpiouji\n",
      "4 . jkji\n",
      "Books borrows :\n",
      "2 . jjijhioh\n"
     ]
    },
    {
     "name": "stdin",
     "output_type": "stream",
     "text": [
      "Enter 1 for borrow books or 2 for return books or any key to exit 2\n",
      "Enter book id for return book 2\n"
     ]
    },
    {
     "name": "stdout",
     "output_type": "stream",
     "text": [
      "Books available :\n",
      "1 . kjij\n",
      "3 . kjpiouji\n",
      "4 . jkji\n",
      "2 . jjijhioh\n",
      "Books borrows :\n"
     ]
    },
    {
     "name": "stdin",
     "output_type": "stream",
     "text": [
      "Enter 1 for borrow books or 2 for return books or any key to exit 5\n"
     ]
    },
    {
     "name": "stdout",
     "output_type": "stream",
     "text": [
      "EXIT\n"
     ]
    }
   ],
   "source": [
    "#Problem 4: Library Catalog Create classes representing a library and a book. Implement methods to add books to the library, borrow books, and display available books.\n",
    "class lib:\n",
    "    def __init__(self):\n",
    "        self.h = {}\n",
    "        self.j = {}\n",
    "     \n",
    "    def add1(self,book_id,Book_name):\n",
    "        self.book_id = book_id\n",
    "        self.book_name = Book_name\n",
    "        self.h[self.book_id] = self.book_name\n",
    "        return self.start()\n",
    "    \n",
    "    def start(self):\n",
    "        y = int(input(\"Enter 1 to add  book or any number to stop adding book\"))\n",
    "        if y == 1:\n",
    "            i = int(input(\"Enter id :\"))\n",
    "            n = input(\"Enter the book name :\")\n",
    "            if i in self.h :\n",
    "                print(\"id already exist\")\n",
    "                return self.start()\n",
    "            else:\n",
    "                return self.add1(i,n)\n",
    "        else:\n",
    "            pass\n",
    "        \n",
    "    def borrow(self,k):\n",
    "        self.j[k] = self.h[k]\n",
    "        self.h.pop(k,None)\n",
    "        return self.avail()\n",
    "    \n",
    "    def ret(self,kp):\n",
    "        self.h[kp] = self.j[kp]\n",
    "        self.j.pop(kp,None)\n",
    "        return self.avail()\n",
    "    \n",
    "    def avail(self):\n",
    "        print(\"Books available :\")\n",
    "        for i in self.h:\n",
    "            print(f\"{i} . {self.h[i]}\")\n",
    "        print(\"Books borrows :\")\n",
    "        for g in self.j:\n",
    "            print(f\"{g} . {self.j[g]}\")\n",
    "        gh = input(\"Enter 1 for borrow books or 2 for return books or any key to exit\")\n",
    "        if int(gh) == 1:\n",
    "            hj = int(input(\"Enter book id for borrow book\"))\n",
    "            if hj in self.h:\n",
    "                return self.borrow(hj)\n",
    "            else:\n",
    "                print(\"Wrong input\")\n",
    "                return self.avail()\n",
    "        elif int(gh) == 2:\n",
    "            hg = int(input(\"Enter book id for return book\"))\n",
    "            if hg in self.j:\n",
    "                return self.ret(hg)\n",
    "            else:\n",
    "                print(\"Wrong input\")\n",
    "                return self.avail()\n",
    "        else:\n",
    "            print(\"EXIT\")\n",
    "kl = lib()\n",
    "kl.start()\n",
    "kl.avail()"
   ]
  },
  {
   "cell_type": "code",
   "execution_count": 17,
   "id": "640d4685-6647-4b10-b348-aac1a7d72734",
   "metadata": {},
   "outputs": [
    {
     "name": "stdin",
     "output_type": "stream",
     "text": [
      "Enter 1 to add  product or any number to stop adding product 1\n",
      "Enter product name: spoon\n",
      "Enter the product quantity : 59699\n",
      "Enter 1 to add  product or any number to stop adding product 1\n",
      "Enter product name: knife\n",
      "Enter the product quantity : 7895\n",
      "Enter 1 to add  product or any number to stop adding product 1\n",
      "Enter product name: plate\n",
      "Enter the product quantity : 7665\n",
      "Enter 1 to add  product or any number to stop adding product 5\n"
     ]
    },
    {
     "name": "stdout",
     "output_type": "stream",
     "text": [
      "Product available :\n",
      "spoon . Quantity = 59699\n",
      "knife . Quantity = 7895\n",
      "plate . Quantity = 7665\n"
     ]
    },
    {
     "name": "stdin",
     "output_type": "stream",
     "text": [
      "Enter 1 for add product or 2 for remove or any key to exit 1\n",
      "Enter product name  glass\n",
      "Enter quantity 7878\n"
     ]
    },
    {
     "name": "stdout",
     "output_type": "stream",
     "text": [
      "Product available :\n",
      "spoon . Quantity = 59699\n",
      "knife . Quantity = 7895\n",
      "plate . Quantity = 7665\n",
      "glass . Quantity = 7878\n"
     ]
    },
    {
     "name": "stdin",
     "output_type": "stream",
     "text": [
      "Enter 1 for add product or 2 for remove or any key to exit 2\n",
      "Enter product to remove knife\n"
     ]
    },
    {
     "name": "stdout",
     "output_type": "stream",
     "text": [
      "Product available :\n",
      "spoon . Quantity = 59699\n",
      "plate . Quantity = 7665\n",
      "glass . Quantity = 7878\n"
     ]
    },
    {
     "name": "stdin",
     "output_type": "stream",
     "text": [
      "Enter 1 for add product or 2 for remove or any key to exit 6\n"
     ]
    },
    {
     "name": "stdout",
     "output_type": "stream",
     "text": [
      "EXIT\n"
     ]
    }
   ],
   "source": [
    "#Problem 5: Product Inventory Create classes representing a product and an inventory system. Implement methods to add products to the inventory, update product quantity, and display available products.\n",
    "class pro:\n",
    "    def __init__(self):\n",
    "        self.h = {}\n",
    "     \n",
    "    def add1(self,product_name,product_quantity):\n",
    "        self.product_name = product_name\n",
    "        self.product_quantity = product_quantity\n",
    "        self.h[self.product_name] = self.product_quantity\n",
    "        return self.start()\n",
    "    \n",
    "    def start(self):\n",
    "        y = int(input(\"Enter 1 to add  product or any number to stop adding product\"))\n",
    "        if y == 1:\n",
    "            i = input(\"Enter product name:\")\n",
    "            n = input(\"Enter the product quantity :\")\n",
    "            if i in self.h :\n",
    "                print(\"Product already exist\")\n",
    "                return self.start()\n",
    "            else:\n",
    "                return self.add1(i,n)\n",
    "        else:\n",
    "            pass\n",
    "        \n",
    "    def remove(self,k):\n",
    "        self.h.pop(k,None)\n",
    "        return self.avail()\n",
    "    \n",
    "    def ad(self,kp,po):\n",
    "        self.h[kp] = po\n",
    "        return self.avail()\n",
    "    \n",
    "    def avail(self):\n",
    "        print(\"Product available :\")\n",
    "        for i in self.h:\n",
    "            print(f\"{i} . Quantity = {self.h[i]}\")\n",
    "        gh = input(\"Enter 1 for add product or 2 for remove or any key to exit\")\n",
    "        if int(gh) == 1:\n",
    "            hj = input(\"Enter product name \")\n",
    "            lk = int(input(\"Enter quantity\"))\n",
    "            if hj in self.h:\n",
    "                print(\"Wrong input\")\n",
    "                return self.avail()\n",
    "            else:\n",
    "                return self.ad(hj,lk)\n",
    "        elif int(gh) == 2:\n",
    "            hg = input(\"Enter product to remove\")\n",
    "            if hg in self.h:\n",
    "                return self.remove(hg)\n",
    "            else:\n",
    "                print(\"Wrong input\")\n",
    "                return self.avail()\n",
    "                \n",
    "        else:\n",
    "            print(\"EXIT\")\n",
    "kl = pro()\n",
    "kl.start()\n",
    "kl.avail()"
   ]
  },
  {
   "cell_type": "code",
   "execution_count": 30,
   "id": "dc212e63-4d96-4979-8fe8-49368506002b",
   "metadata": {},
   "outputs": [
    {
     "name": "stdout",
     "output_type": "stream",
     "text": [
      "Enter 1 for Rectangle  \n",
      " Enter 2` for Square  \n",
      " Enter 3 for Triangel  \n",
      " Enter 4 for circle  \n",
      " Any key to Exit\n"
     ]
    },
    {
     "name": "stdin",
     "output_type": "stream",
     "text": [
      " 1\n",
      "Enter length of rectangle 4\n",
      "Enter breath of rectangle 5\n"
     ]
    },
    {
     "name": "stdout",
     "output_type": "stream",
     "text": [
      "Perimeter of rectangle is :  18\n",
      "Area of rectangle is :  20\n",
      "Enter 1 for Rectangle  \n",
      " Enter 2` for Square  \n",
      " Enter 3 for Triangel  \n",
      " Enter 4 for circle  \n",
      " Any key to Exit\n"
     ]
    },
    {
     "name": "stdin",
     "output_type": "stream",
     "text": [
      " 2\n",
      "Enter side of square 8\n"
     ]
    },
    {
     "name": "stdout",
     "output_type": "stream",
     "text": [
      "Perimeter ofsquare is : 32\n",
      "Area of square is : 64\n",
      "Enter 1 for Rectangle  \n",
      " Enter 2` for Square  \n",
      " Enter 3 for Triangel  \n",
      " Enter 4 for circle  \n",
      " Any key to Exit\n"
     ]
    },
    {
     "name": "stdin",
     "output_type": "stream",
     "text": [
      " 3\n",
      "Enter side of triangle 7\n",
      "Enter side of triangle 8\n",
      "Enter side of triangle 9\n"
     ]
    },
    {
     "name": "stdout",
     "output_type": "stream",
     "text": [
      "Perimeter of triangle is :\n",
      "24\n",
      "Area of triangle is :\n",
      "26.832815729997478\n",
      "Enter 1 for Rectangle  \n",
      " Enter 2` for Square  \n",
      " Enter 3 for Triangel  \n",
      " Enter 4 for circle  \n",
      " Any key to Exit\n"
     ]
    },
    {
     "name": "stdin",
     "output_type": "stream",
     "text": [
      " 4\n",
      "Enter radius of circle 7\n"
     ]
    },
    {
     "name": "stdout",
     "output_type": "stream",
     "text": [
      "Perimeter of circle is : 44.0\n",
      "Area of circle is : 154.0\n",
      "Enter 1 for Rectangle  \n",
      " Enter 2` for Square  \n",
      " Enter 3 for Triangel  \n",
      " Enter 4 for circle  \n",
      " Any key to Exit\n"
     ]
    },
    {
     "name": "stdin",
     "output_type": "stream",
     "text": [
      " 6\n"
     ]
    },
    {
     "name": "stdout",
     "output_type": "stream",
     "text": [
      "Exit\n"
     ]
    }
   ],
   "source": [
    "#Problem 6: Shape Calculation Create a class representing a shape with attributes like length, width, and height. Implement methods to calculate the area and perimeter of the shape.\n",
    "import math\n",
    "class shape:\n",
    "    \n",
    "    def rect(self):\n",
    "        jh  = int(input(\"Enter length of rectangle\"))\n",
    "        bh = int(input(\"Enter breath of rectangle\"))\n",
    "        print(\"Perimeter of rectangle is : \",(jh+bh)*2)\n",
    "        print(\"Area of rectangle is : \",jh*bh)\n",
    "        return self.start()\n",
    "    \n",
    "    def squ(self):\n",
    "        s = int(input(\"Enter side of square\"))\n",
    "        print(\"Perimeter ofsquare is :\",4*s)\n",
    "        print(\"Area of square is :\",s*s)\n",
    "        return self.start()\n",
    "    \n",
    "    def tri(self):\n",
    "        self.h = []\n",
    "        self.o = 0\n",
    "        for i in range(3):\n",
    "            jl = int(input(\"Enter side of triangle\"))\n",
    "            self.h.append(jl)\n",
    "        print(\"Perimeter of triangle is :\")\n",
    "        for ju in self.h:\n",
    "            self.o = self.o+ju\n",
    "        print(self.o)\n",
    "        print(\"Area of triangle is :\")\n",
    "        self.po = self.o/2\n",
    "        self.lp = self.po\n",
    "        for j in self.h:\n",
    "            self.po = self.po*(self.lp-j)\n",
    "        are = math.sqrt(self.po)\n",
    "        print(are)\n",
    "        return self.start()\n",
    "    \n",
    "    def cir(self):\n",
    "        r = int(input(\"Enter radius of circle\"))\n",
    "        print(\"Perimeter of circle is :\",(44*r)/7)\n",
    "        print(\"Area of circle is :\",(22*r*r)/7)\n",
    "        return self.start()\n",
    "                     \n",
    "    def start(self):\n",
    "        print(\"Enter 1 for Rectangle \",'\\n',\"Enter 2` for Square \",'\\n',\"Enter 3 for Triangel \",'\\n',\"Enter 4 for circle \",'\\n',\"Any key to Exit\")\n",
    "        hy = int(input())\n",
    "        if int(hy) == 1:\n",
    "            return self.rect()\n",
    "        elif int(hy) == 2:\n",
    "            return self.squ()\n",
    "        elif int(hy) == 3:\n",
    "            return self.tri()\n",
    "        elif int(hy) == 4:\n",
    "            return self.cir()\n",
    "        else:\n",
    "            print(\"Exit\")\n",
    "gy = shape()\n",
    "gy.start()"
   ]
  },
  {
   "cell_type": "code",
   "execution_count": 38,
   "id": "a79f6b6d-8b2b-4b43-b469-3b0c741300ef",
   "metadata": {},
   "outputs": [
    {
     "name": "stdin",
     "output_type": "stream",
     "text": [
      "Enter 1 to add  student details  or any number to stop adding  1\n",
      "Enter student name: Sun\n",
      "Enter the student grade : 100\n",
      "Enter 1 to add  student details  or any number to stop adding  1\n",
      "Enter student name: Moon\n",
      "Enter the student grade : 98\n",
      "Enter 1 to add  student details  or any number to stop adding  1\n",
      "Enter student name: Star\n",
      "Enter the student grade : 95\n",
      "Enter 1 to add  student details  or any number to stop adding  5\n"
     ]
    },
    {
     "name": "stdout",
     "output_type": "stream",
     "text": [
      "Student available :\n",
      "Sun . Grade = 100\n",
      "Moon . Grade = 98\n",
      "Star . Grade = 95\n",
      "Average  is :  97.66666666666667\n"
     ]
    },
    {
     "name": "stdin",
     "output_type": "stream",
     "text": [
      "Enter 1 for add student details or 2 for remove or any key to exit 1\n",
      "Enter student name  Rock\n",
      "Enter grade 98\n"
     ]
    },
    {
     "name": "stdout",
     "output_type": "stream",
     "text": [
      "Student available :\n",
      "Sun . Grade = 100\n",
      "Moon . Grade = 98\n",
      "Star . Grade = 95\n",
      "Rock . Grade = 98\n",
      "Average  is :  97.75\n"
     ]
    },
    {
     "name": "stdin",
     "output_type": "stream",
     "text": [
      "Enter 1 for add student details or 2 for remove or any key to exit 2\n",
      "Enter student to remove Moon\n"
     ]
    },
    {
     "name": "stdout",
     "output_type": "stream",
     "text": [
      "Student available :\n",
      "Sun . Grade = 100\n",
      "Star . Grade = 95\n",
      "Rock . Grade = 98\n",
      "Average  is :  97.66666666666667\n"
     ]
    },
    {
     "name": "stdin",
     "output_type": "stream",
     "text": [
      "Enter 1 for add student details or 2 for remove or any key to exit 9\n"
     ]
    },
    {
     "name": "stdout",
     "output_type": "stream",
     "text": [
      "EXIT\n"
     ]
    }
   ],
   "source": [
    "#Problem 7: Student Management Create a class representing a student with attributes like student ID, name, and grades. Implement methods to calculate the average grade and display student details.\n",
    "class student:\n",
    "    def __init__(self):\n",
    "        self.h = {}\n",
    "     \n",
    "    def add1(self,student_name,student_grade):\n",
    "        self.student_name = student_name\n",
    "        self.student_grade = student_grade\n",
    "        self.h[self.student_name] = self.student_grade\n",
    "        return self.start()\n",
    "    \n",
    "    def start(self):\n",
    "        y = int(input(\"Enter 1 to add  student details  or any number to stop adding \"))\n",
    "        if y == 1:\n",
    "            i = input(\"Enter student name:\")\n",
    "            n = input(\"Enter the student grade :\")\n",
    "            if i in self.h :\n",
    "                print(\"Student  already exist\")\n",
    "                return self.start()\n",
    "            else:\n",
    "                return self.add1(i,n)\n",
    "        else:\n",
    "            pass\n",
    "        \n",
    "    def remove(self,k):\n",
    "        self.h.pop(k,None)\n",
    "        return self.avail()\n",
    "    \n",
    "    def ad(self,kp,po):\n",
    "        self.h[kp] = po\n",
    "        return self.avail()\n",
    "    \n",
    "    def avail(self):\n",
    "        self.pi = 0\n",
    "        print(\"Student available :\")\n",
    "        for i in self.h:\n",
    "            print(f\"{i} . Grade = {self.h[i]}\")\n",
    "        for g in self.h:\n",
    "            self.pi = int(self.h[g])+self.pi\n",
    "        print(\"Average  is : \",self.pi/len(self.h))\n",
    "        gh = input(\"Enter 1 for add student details or 2 for remove or any key to exit\")\n",
    "        if int(gh) == 1:\n",
    "            hj = input(\"Enter student name \")\n",
    "            lk = int(input(\"Enter grade\"))\n",
    "            if hj in self.h:\n",
    "                print(\"Wrong input\")\n",
    "                return self.avail()\n",
    "            else:\n",
    "                return self.ad(hj,lk)\n",
    "        elif int(gh) == 2:\n",
    "            hg = input(\"Enter student to remove\")\n",
    "            if hg in self.h:\n",
    "                return self.remove(hg)\n",
    "            else:\n",
    "                print(\"Wrong input\")\n",
    "                return self.avail()\n",
    "                \n",
    "        else:\n",
    "            print(\"EXIT\")\n",
    "kl = student()\n",
    "kl.start()\n",
    "kl.avail()"
   ]
  },
  {
   "cell_type": "code",
   "execution_count": 45,
   "id": "d9718615-7016-4a02-97a1-0eaaf54a9681",
   "metadata": {},
   "outputs": [
    {
     "name": "stdin",
     "output_type": "stream",
     "text": [
      "Enter 1 for send email or any key to exit 1\n",
      "Enter sender name : kamal\n",
      "Enter sender email : kamal6@gmail.com\n",
      "Enter receiver  name: sonu\n",
      "Enter receiver email : son789@gmail.com\n",
      "Enter body : hello dear\n",
      "Enter 1 for  send and any key for nor send email 1\n"
     ]
    },
    {
     "name": "stdout",
     "output_type": "stream",
     "text": [
      "Emails Details:\n",
      "sender_name : kamal\n",
      "sender_email  : kamal6@gmail.com\n",
      "receiver_name : sonu\n",
      "receiver_email : son789@gmail.com\n",
      "body : hello dear\n",
      "Status : Sent\n"
     ]
    },
    {
     "name": "stdin",
     "output_type": "stream",
     "text": [
      "Enter 1 for send email or any key to exit 1\n",
      "Enter sender name : raj\n",
      "Enter sender email : raj89@gmail.com\n",
      "Enter receiver  name: karan\n",
      "Enter receiver email : karan793@gmail.com\n",
      "Enter body : send me document\n",
      "Enter 1 for  send and any key for nor send email 2\n"
     ]
    },
    {
     "name": "stdout",
     "output_type": "stream",
     "text": [
      "Emails Details:\n",
      "sender_name , raj\n",
      "sender_email  , raj89@gmail.com\n",
      "receiver_name , karan\n",
      "receiver_email , karan793@gmail.com\n",
      "body , send me document\n",
      "Status : Not sent\n"
     ]
    },
    {
     "name": "stdin",
     "output_type": "stream",
     "text": [
      "Enter 1 for send email or any key to exit 2\n"
     ]
    },
    {
     "data": {
      "text/plain": [
       "'EXIT'"
      ]
     },
     "execution_count": 45,
     "metadata": {},
     "output_type": "execute_result"
    }
   ],
   "source": [
    "#Problem 8: Email Management Create a class representing an email with attributes like sender, recipient, and subject. Implement methods to send an email and display email details.\n",
    "class Email:\n",
    "    def start(self):\n",
    "        t = input(\"Enter 1 for send email or any key to exit\")\n",
    "        if int(t) == 1:\n",
    "            return self.email_det()\n",
    "        else:\n",
    "            return \"EXIT\"\n",
    "    def email_det(self):\n",
    "        self.jp = {}\n",
    "        kl = input(\"Enter sender name :\")\n",
    "        self.jp['sender_name'] = kl\n",
    "        jh = input(\"Enter sender email :\")\n",
    "        self.jp['sender_email '] = jh\n",
    "        ki = input(\"Enter receiver  name:\")\n",
    "        self.jp['receiver_name'] = ki\n",
    "        gy = input(\"Enter receiver email :\")\n",
    "        self.jp['receiver_email'] = gy\n",
    "        jy = input(\"Enter body :\")\n",
    "        self.jp['body'] = jy\n",
    "        db = input(\"Enter 1 for  send and any key for nor send email\")\n",
    "        if int(db) == 1:\n",
    "            print(\"Emails Details:\")\n",
    "            for hu in self.jp:\n",
    "                print(f\"{hu} : {self.jp[hu]}\")\n",
    "            print(\"Status : Sent\")\n",
    "        else:\n",
    "            print(\"Emails Details:\")\n",
    "            for hu in self.jp:\n",
    "                print(f\"{hu} , {self.jp[hu]}\")\n",
    "            print(\"Status : Not sent\")\n",
    "        return self.start()\n",
    "        \n",
    "hr = Email()\n",
    "hr.start()"
   ]
  },
  {
   "cell_type": "code",
   "execution_count": 2,
   "id": "9b899517-dcdf-42f4-b2dc-77e39abb9c0f",
   "metadata": {},
   "outputs": [
    {
     "name": "stdout",
     "output_type": "stream",
     "text": [
      "Posts by john_doe:\n",
      "\n",
      "Post 1:\n",
      "Content: Hello, everyone! What's up?\n",
      "Likes: 0\n",
      "Comments:\n",
      "\n",
      "Post 2:\n",
      "Content: Just had a fantastic day at the beach!\n",
      "Likes: 0\n",
      "Comments:\n",
      "\n",
      "Post 3:\n",
      "Content: Coding all night. #ProgrammerLife\n",
      "Likes: 0\n",
      "Comments:\n",
      "Posts containing 'beach':\n",
      "\n",
      "Matching Post 1:\n",
      "Content: Just had a fantastic day at the beach!\n",
      "Likes: 0\n",
      "Comments:\n"
     ]
    }
   ],
   "source": [
    "#Problem 9: Social Media Profile Create a class representing a social media profile with attributes like username and posts. Implement methods to add posts, display posts, and search for posts by keyword.\n",
    "class SocialMediaProfile:\n",
    "    def __init__(self, username):\n",
    "        self.username = username\n",
    "        self.posts = []\n",
    "\n",
    "    def add_post(self, post_content):\n",
    "        post = {\"content\": post_content, \"likes\": 0, \"comments\": []}\n",
    "        self.posts.append(post)\n",
    "\n",
    "    def display_posts(self):\n",
    "        print(f\"Posts by {self.username}:\")\n",
    "        for index, post in enumerate(self.posts, start=1):\n",
    "            print(f\"\\nPost {index}:\")\n",
    "            print(f\"Content: {post['content']}\")\n",
    "            print(f\"Likes: {post['likes']}\")\n",
    "            print(\"Comments:\")\n",
    "            for comment in post['comments']:\n",
    "                print(f\"  - {comment}\")\n",
    "                \n",
    "    def search_posts(self, keyword):\n",
    "        matching_posts = [post for post in self.posts if keyword.lower() in post['content'].lower()]\n",
    "        if matching_posts:\n",
    "            print(f\"Posts containing '{keyword}':\")\n",
    "            for index, post in enumerate(matching_posts, start=1):\n",
    "                print(f\"\\nMatching Post {index}:\")\n",
    "                print(f\"Content: {post['content']}\")\n",
    "                print(f\"Likes: {post['likes']}\")\n",
    "                print(\"Comments:\")\n",
    "                for comment in post['comments']:\n",
    "                    print(f\"  - {comment}\")\n",
    "        else:\n",
    "            print(f\"No posts found containing '{keyword}'.\")\n",
    "\n",
    "\n",
    "my_profile = SocialMediaProfile(username=\"john_doe\")\n",
    "\n",
    "    \n",
    "my_profile.add_post(\"Hello, everyone! What's up?\")\n",
    "my_profile.add_post(\"Just had a fantastic day at the beach!\")\n",
    "my_profile.add_post(\"Coding all night. #ProgrammerLife\")\n",
    "\n",
    "my_profile.display_posts()\n",
    "\n",
    "my_profile.search_posts(keyword=\"beach\")\n"
   ]
  },
  {
   "cell_type": "code",
   "execution_count": 3,
   "id": "bcc5f74e-a6e0-4270-b9ec-8c77bb569070",
   "metadata": {},
   "outputs": [
    {
     "name": "stdin",
     "output_type": "stream",
     "text": [
      "Enter 1 to enter task details or any number to finsh : 1\n",
      "Enter task : Book reading\n",
      "Enter year : 2023\n",
      "Enter month : 12\n",
      "Enter day : 2\n",
      "Enter 1 to mark task is done  or any key to task is not done : 1\n",
      "Enter 1 to enter task details or any number to finsh : 1\n",
      "Enter task : Project \n",
      "Enter year : 2024\n",
      "Enter month : 1\n",
      "Enter day : 6\n",
      "Enter 1 to mark task is done  or any key to task is not done : 2\n",
      "Enter 1 to enter task details or any number to finsh : 1\n",
      "Enter task : Sending mail\n",
      "Enter year : 2023\n",
      "Enter month : 12\n",
      "Enter day : 8\n",
      "Enter 1 to mark task is done  or any key to task is not done : 1\n",
      "Enter 1 to enter task details or any number to finsh : 2\n"
     ]
    },
    {
     "name": "stdout",
     "output_type": "stream",
     "text": [
      "Completed task\n",
      "2 -1 -2023 -Book reading :Done :8 -1 -2023 -Sending mail :Done :\n",
      "\n",
      "Incompleted task\n",
      "6 -2 -2024 -Project  :Not Done :"
     ]
    }
   ],
   "source": [
    "#Problem 10: ToDo List Create a class representing a ToDo list with attributes like tasks and due dates. Implement methods to add tasks, mark tasks as completed, and display pending tasks.\n",
    "class ToDo:\n",
    "    def __init__(self):\n",
    "        self.task = []\n",
    "        \n",
    "    def details(self):\n",
    "        self.k = []\n",
    "        t = input(\"Enter task :\")\n",
    "        y = int(input(\"Enter year :\"))\n",
    "        m = int(input(\"Enter month :\"))\n",
    "        d = int(input(\"Enter day :\"))\n",
    "        m = int(input(\"Enter 1 to mark task is done  or any key to task is not done :\"))\n",
    "        self.k.append(d)\n",
    "        self.k.append(m)\n",
    "        self.k.append(y)\n",
    "        self.k.append(t)\n",
    "        if m == 1:\n",
    "            self.k.append(\"Done\")\n",
    "        else:\n",
    "            self.k.append(\"Not Done\")\n",
    "        self.task.append(self.k)\n",
    "        return self.add_details()\n",
    "        \n",
    "    def add_details(self):\n",
    "        y = int(input(\"Enter 1 to enter task details or any number to finsh :\"))\n",
    "        if y == 1:\n",
    "            self.details()\n",
    "        else:\n",
    "            return self.disp()\n",
    "    def disp(self):\n",
    "        print(\"Completed task\")\n",
    "        for i in self.task:\n",
    "            if \"Done\" in i:\n",
    "                for j in i:\n",
    "                    if isinstance(j,int) == True:\n",
    "                        print(j,\"-\",end = \"\")\n",
    "                    else:\n",
    "                        print(j,\":\",end = \"\")\n",
    "                print('\\n')\n",
    "            else:\n",
    "                pass\n",
    "        print('\\n')\n",
    "        print(\"Incompleted task\")\n",
    "        for i in self.task:\n",
    "            if \"Done\" in i:\n",
    "                pass\n",
    "            else:\n",
    "                for j in i:\n",
    "                    if isinstance(j,int) == True:\n",
    "                        print(j,\"-\",end = \"\")\n",
    "                    else:\n",
    "                        print(j,\":\",end = \"\")\n",
    "        return \"Exit\"\n",
    "    \n",
    "k2 = ToDo()\n",
    "k2.add_details()"
   ]
  },
  {
   "cell_type": "code",
   "execution_count": 16,
   "id": "a2bf6a45-7c4c-4164-a88b-dd535427e481",
   "metadata": {},
   "outputs": [
    {
     "name": "stdout",
     "output_type": "stream",
     "text": [
      "No\n"
     ]
    }
   ],
   "source": [
    "k = [1,2,3,\"Dne\"]\n",
    "if \"Done\" in k:\n",
    "    print(\"yes\")\n",
    "else:\n",
    "    print(\"No\")"
   ]
  },
  {
   "cell_type": "code",
   "execution_count": null,
   "id": "512aacee-3eaa-4aa2-8962-2249536264a8",
   "metadata": {},
   "outputs": [],
   "source": []
  }
 ],
 "metadata": {
  "kernelspec": {
   "display_name": "Python 3 (ipykernel)",
   "language": "python",
   "name": "python3"
  },
  "language_info": {
   "codemirror_mode": {
    "name": "ipython",
    "version": 3
   },
   "file_extension": ".py",
   "mimetype": "text/x-python",
   "name": "python",
   "nbconvert_exporter": "python",
   "pygments_lexer": "ipython3",
   "version": "3.10.8"
  }
 },
 "nbformat": 4,
 "nbformat_minor": 5
}
