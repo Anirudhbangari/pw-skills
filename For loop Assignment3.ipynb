{
 "cells": [
  {
   "cell_type": "code",
   "execution_count": 1,
   "id": "22eb667d-87ab-4301-b500-3e898b7a901b",
   "metadata": {},
   "outputs": [],
   "source": [
    "#For Loop\n",
    "#ssignment Questions\n"
   ]
  },
  {
   "cell_type": "code",
   "execution_count": 3,
   "id": "02a035c0-06d5-4f66-b399-5207ce082c55",
   "metadata": {},
   "outputs": [
    {
     "name": "stdout",
     "output_type": "stream",
     "text": [
      "1 2 3 4 5 6 7 8 9 10 "
     ]
    }
   ],
   "source": [
    "#Basic Level:\n",
    "#1. Write a Python program to print the numbers from 1 to 10 using a `for` loop.\n",
    "for i in range(1,11):\n",
    "    print(i,end = \" \")"
   ]
  },
  {
   "cell_type": "code",
   "execution_count": 4,
   "id": "250b2794-c874-47eb-9461-5a2e5b5035d1",
   "metadata": {},
   "outputs": [
    {
     "name": "stdout",
     "output_type": "stream",
     "text": [
      "List is :  [1, 2, 3, 4, 5, 6, 7, 8, 45, 12]\n",
      "Sum of all the number in list : 93\n"
     ]
    }
   ],
   "source": [
    "#2. Create a program that calculates the sum of all numbers in a list using a `for` loop.\n",
    "l = [1,2,3,4,5,6,7,8,45,12]\n",
    "print(\"List is : \",l)\n",
    "p = 0\n",
    "for i in l:\n",
    "    p = p+i\n",
    "print(\"Sum of all the number in list :\",p)"
   ]
  },
  {
   "cell_type": "code",
   "execution_count": 24,
   "id": "2a3bd34f-20aa-41b7-bde3-05f361dcf205",
   "metadata": {},
   "outputs": [
    {
     "name": "stdin",
     "output_type": "stream",
     "text": [
      "Enter the string : jreasioehagruiohr werha\n"
     ]
    },
    {
     "name": "stdout",
     "output_type": "stream",
     "text": [
      "After reversing order : ahrew rhoiurgaheoisaerj\n"
     ]
    }
   ],
   "source": [
    "#3. Write a program to print the characters of a string in reverse order using a `for` loop.\n",
    "p = str(input(\"Enter the string :\"))\n",
    "h = []\n",
    "y = len(p)\n",
    "for i in p[::-1]:\n",
    "    h.append(i)\n",
    "po = \"\".join(h)\n",
    "print(\"After reversing order :\",po)"
   ]
  },
  {
   "cell_type": "code",
   "execution_count": 11,
   "id": "96095966-36d4-48a0-92f4-c18ae07fb1b2",
   "metadata": {},
   "outputs": [
    {
     "name": "stdin",
     "output_type": "stream",
     "text": [
      "Enter a number : 8\n"
     ]
    },
    {
     "name": "stdout",
     "output_type": "stream",
     "text": [
      "factorial of given number is : 40320\n"
     ]
    }
   ],
   "source": [
    "#4. Develop a program that finds the factorial of a given number using a `for` loop.\n",
    "yu = int(input(\"Enter a number :\"))\n",
    "hj = 1\n",
    "for i in range(1,yu+1):\n",
    "    hj = i*hj\n",
    "print(\"factorial of given number is :\",hj)"
   ]
  },
  {
   "cell_type": "code",
   "execution_count": 2,
   "id": "df0126ef-68c4-44d2-83d3-f3cf51a01ee1",
   "metadata": {},
   "outputs": [
    {
     "name": "stdin",
     "output_type": "stream",
     "text": [
      "Enter a number : 7\n"
     ]
    },
    {
     "name": "stdout",
     "output_type": "stream",
     "text": [
      "7   *   1   =   7\n",
      "7   *   2   =   14\n",
      "7   *   3   =   21\n",
      "7   *   4   =   28\n",
      "7   *   5   =   35\n",
      "7   *   6   =   42\n",
      "7   *   7   =   49\n",
      "7   *   8   =   56\n",
      "7   *   9   =   63\n",
      "7   *   10   =   70\n"
     ]
    }
   ],
   "source": [
    "#5. Create a program to print the multiplication table of a given number using a `for` loop.\n",
    "yu = int(input(\"Enter a number :\"))\n",
    "for i in range(1,11):\n",
    "    hj = i*yu\n",
    "    print(yu,\" \",\"*\",\" \",i,\" \",\"=\",\" \",hj)"
   ]
  },
  {
   "cell_type": "code",
   "execution_count": 7,
   "id": "e0e91465-3270-4244-92ff-b65463e5a8f5",
   "metadata": {},
   "outputs": [
    {
     "name": "stdout",
     "output_type": "stream",
     "text": [
      "List is : [45, 25, 36, 29, 92, 86, 54, 75, 94, 85, 62, 53, 94, 73, 89]\n",
      "Count of even number is : 7\n",
      "Count of odd number is : 8\n"
     ]
    }
   ],
   "source": [
    "#6. Write a program that counts the number of even and odd numbers in a list using a `for` loop.\n",
    "kl =  [45,25,36,29,92,86,54,75,94,85,62,53,94,73,89]\n",
    "print(\"List is :\",kl)\n",
    "count = 0\n",
    "nh = 0\n",
    "for i in kl:\n",
    "    if i%2 == 0:\n",
    "        count += 1\n",
    "    else:\n",
    "        nh += 1\n",
    "print(\"Count of even number is :\",count)\n",
    "print(\"Count of odd number is :\",nh)"
   ]
  },
  {
   "cell_type": "code",
   "execution_count": 5,
   "id": "01742fa9-b896-4484-8815-d8d1099e3a6b",
   "metadata": {},
   "outputs": [
    {
     "name": "stdout",
     "output_type": "stream",
     "text": [
      "Squares of numbers from 1 to 5 : 1 4 9 16 25 "
     ]
    }
   ],
   "source": [
    "#7. Develop a program that prints the squares of numbers from 1 to 5 using a `for` loop.\n",
    "print(\"Squares of numbers from 1 to 5 :\",end =\" \")\n",
    "for i in range(1,6):\n",
    "    print(i*i,end = \" \")\n",
    "    "
   ]
  },
  {
   "cell_type": "code",
   "execution_count": 6,
   "id": "b5d7d9cb-602b-46bd-9d79-12fed1b2bad2",
   "metadata": {},
   "outputs": [
    {
     "name": "stdin",
     "output_type": "stream",
     "text": [
      "Enter a string : kjsadhgfiugf\n"
     ]
    },
    {
     "name": "stdout",
     "output_type": "stream",
     "text": [
      "Length of given string is : 12\n"
     ]
    }
   ],
   "source": [
    "#8. Create a program to find the length of a string without using the `len()` function.\n",
    "re = str(input(\"Enter a string :\"))\n",
    "re = list(re)\n",
    "count = 0\n",
    "for i in re:\n",
    "    count += 1\n",
    "print(\"Length of given string is :\",count)"
   ]
  },
  {
   "cell_type": "code",
   "execution_count": 1,
   "id": "ed0f4556-21ee-417b-997a-f20887f11b5c",
   "metadata": {},
   "outputs": [
    {
     "name": "stdout",
     "output_type": "stream",
     "text": [
      "List is : [45, 25, 36, 29, 92, 86, 54, 75, 94, 85, 62, 53, 94, 73, 89]\n",
      "Average of given list is : 66.13333333333334\n"
     ]
    }
   ],
   "source": [
    "#9. Write a program that calculates the average of a list of numbers using a `for` loop.\n",
    "kl =  [45,25,36,29,92,86,54,75,94,85,62,53,94,73,89]\n",
    "print(\"List is :\",kl)\n",
    "count = 0\n",
    "gh = 0\n",
    "for i in kl:\n",
    "    count += 1\n",
    "    gh = gh+i\n",
    "print(\"Average of given list is :\", gh/count)"
   ]
  },
  {
   "cell_type": "code",
   "execution_count": 10,
   "id": "d54b57d3-78e7-4602-9d73-f271e452eb99",
   "metadata": {},
   "outputs": [
    {
     "name": "stdin",
     "output_type": "stream",
     "text": [
      "Enter the number to print fibonacci number upto : 8\n"
     ]
    },
    {
     "name": "stdout",
     "output_type": "stream",
     "text": [
      "0 1 1 2 3 5 8 13 "
     ]
    }
   ],
   "source": [
    "#10. Develop a program that prints the first `n` Fibonacci numbers using a `for` loop.\n",
    "ji = int(input(\"Enter the number to print fibonacci number upto :\"))\n",
    "hj = 1\n",
    "jo = 0\n",
    "for i in range(0,ji):\n",
    "    print(jo,end = \" \")\n",
    "    pi = jo\n",
    "    jo = jo+hj\n",
    "    hj = pi\n",
    "\n",
    "    \n",
    "    "
   ]
  },
  {
   "cell_type": "code",
   "execution_count": 12,
   "id": "8913e6bd-9d08-4fb0-967b-2094d34c2db8",
   "metadata": {},
   "outputs": [
    {
     "name": "stdout",
     "output_type": "stream",
     "text": [
      "List is : [45, 25, 36, 29, 92, 86, 54, 75, 94, 85, 62, 53, 94, 73, 89]\n",
      "List contain duplicate value.\n"
     ]
    }
   ],
   "source": [
    "#Intermediate Level:\n",
    "#11. Write a program to check if a given list contains any duplicates using a `for` loop.\n",
    "kl =  [45,25,36,29,92,86,54,75,94,85,62,53,94,73,89]\n",
    "print(\"List is :\",kl)\n",
    "for i in kl:\n",
    "    if i in kl:\n",
    "        print(\"List contain duplicate value.\")\n",
    "        break\n",
    "    else:\n",
    "        print(\"List not contain duplicate value.\")"
   ]
  },
  {
   "cell_type": "code",
   "execution_count": 2,
   "id": "45cd6267-66e8-4dd2-a872-e006054968bf",
   "metadata": {},
   "outputs": [
    {
     "name": "stdin",
     "output_type": "stream",
     "text": [
      "Enter a number to print prime number upto range : 100\n"
     ]
    },
    {
     "name": "stdout",
     "output_type": "stream",
     "text": [
      " prime number are : 2 3 5 7 11 13 17 19 23 29 31 37 41 43 47 53 59 61 67 71 73 79 83 89 97 "
     ]
    }
   ],
   "source": [
    "#12. Create a program that prints the prime numbers in a given range using a `for` loop.\n",
    "from math import sqrt\n",
    "wq =[2,3,4,5,6,7,8,9]\n",
    "rty = int(input(\"Enter a number to print prime number upto range :\"))\n",
    "print(\" prime number are :\",end = \" \")\n",
    "def pt(r):\n",
    "    count = 0\n",
    "    if r < 4 or r == 5 or r == 7:\n",
    "        pass\n",
    "    else:\n",
    "        if (round(sqrt(r),1)*round(sqrt(r),1)) == r:\n",
    "            count = 1\n",
    "        else:\n",
    "            for lo in wq:\n",
    "                if r%lo == 0:\n",
    "                    count = 1\n",
    "                    break\n",
    "    return count\n",
    "for i in range(2,rty+1):\n",
    "    if pt(i) == 0:\n",
    "        print(i,end =\" \")"
   ]
  },
  {
   "cell_type": "code",
   "execution_count": null,
   "id": "c6f40a57-0e72-4f00-b11b-6acfcf895b39",
   "metadata": {},
   "outputs": [
    {
     "name": "stdin",
     "output_type": "stream",
     "text": [
      "Enter a strring : ahgyufetoio wewwe w aa \n"
     ]
    },
    {
     "name": "stdout",
     "output_type": "stream",
     "text": [
      "Total number of vowels are =  10\n"
     ]
    }
   ],
   "source": [
    "#13. Develop a program that counts the number of vowels in a string using a `for` loop.\n",
    "kp = str(input(\"Enter a strring :\"))\n",
    "ty = ['A','E','I','O','U']\n",
    "kp = kp.upper()\n",
    "kp = list(kp)\n",
    "count = 0\n",
    "for i in kp:\n",
    "    if i in ty:\n",
    "        count += 1\n",
    "print(\"Total number of vowels are = \",count)        "
   ]
  },
  {
   "cell_type": "code",
   "execution_count": 5,
   "id": "ea7dd974-66ac-40a2-ac47-b201f330827d",
   "metadata": {},
   "outputs": [
    {
     "name": "stdout",
     "output_type": "stream",
     "text": [
      "Maximum number in  list :  80\n"
     ]
    }
   ],
   "source": [
    "#14. Write a program to find the maximum element in a 2D list using a nested `for` loop.\n",
    "poi = [[10,20],[80,49],56,78]\n",
    "jh = []\n",
    "for i in poi:\n",
    "    if isinstance(i, list):\n",
    "         for t in i:\n",
    "            jh.append(t)\n",
    "    else:\n",
    "        jh.append(i)\n",
    "print(\"Maximum number in  list : \",max(jh))      "
   ]
  },
  {
   "cell_type": "code",
   "execution_count": 7,
   "id": "7be8f64f-3704-46b0-8b48-963857144f30",
   "metadata": {},
   "outputs": [
    {
     "name": "stdout",
     "output_type": "stream",
     "text": [
      "List of country : ['India', 'US', 'France', 'Germany', 'India', 'Japan', 'Sri lanka']\n",
      "After removing India from the list ,list is : ['US', 'France', 'Germany', 'Japan', 'Sri lanka']\n"
     ]
    }
   ],
   "source": [
    "#15. Create a program that removes all occurrences of a specific element from a list using a `for` loop.\n",
    "country = ['India','US','France','Germany','India','Japan','Sri lanka']\n",
    "print(\"List of country :\",country)\n",
    "jh = []\n",
    "for i in country:\n",
    "    if i == 'India':\n",
    "        pass\n",
    "    else:\n",
    "        jh.append(i)\n",
    "print(\"After removing India from the list ,list is :\",jh)\n",
    "    "
   ]
  },
  {
   "cell_type": "code",
   "execution_count": 2,
   "id": "bc73b973-7979-4988-b967-f641ceb40814",
   "metadata": {},
   "outputs": [
    {
     "name": "stdout",
     "output_type": "stream",
     "text": [
      "1 * 1 = 1\n",
      "1 * 2 = 2\n",
      "1 * 3 = 3\n",
      "1 * 4 = 4\n",
      "1 * 5 = 5\n",
      "1 * 6 = 6\n",
      "1 * 7 = 7\n",
      "1 * 8 = 8\n",
      "1 * 9 = 9\n",
      "1 * 10 = 10\n",
      " \n",
      "2 * 1 = 2\n",
      "2 * 2 = 4\n",
      "2 * 3 = 6\n",
      "2 * 4 = 8\n",
      "2 * 5 = 10\n",
      "2 * 6 = 12\n",
      "2 * 7 = 14\n",
      "2 * 8 = 16\n",
      "2 * 9 = 18\n",
      "2 * 10 = 20\n",
      " \n",
      "3 * 1 = 3\n",
      "3 * 2 = 6\n",
      "3 * 3 = 9\n",
      "3 * 4 = 12\n",
      "3 * 5 = 15\n",
      "3 * 6 = 18\n",
      "3 * 7 = 21\n",
      "3 * 8 = 24\n",
      "3 * 9 = 27\n",
      "3 * 10 = 30\n",
      " \n",
      "4 * 1 = 4\n",
      "4 * 2 = 8\n",
      "4 * 3 = 12\n",
      "4 * 4 = 16\n",
      "4 * 5 = 20\n",
      "4 * 6 = 24\n",
      "4 * 7 = 28\n",
      "4 * 8 = 32\n",
      "4 * 9 = 36\n",
      "4 * 10 = 40\n",
      " \n",
      "5 * 1 = 5\n",
      "5 * 2 = 10\n",
      "5 * 3 = 15\n",
      "5 * 4 = 20\n",
      "5 * 5 = 25\n",
      "5 * 6 = 30\n",
      "5 * 7 = 35\n",
      "5 * 8 = 40\n",
      "5 * 9 = 45\n",
      "5 * 10 = 50\n",
      " \n"
     ]
    }
   ],
   "source": [
    "#16. Develop a program that generates a multiplication table for numbers from 1 to 5 using a nested `for` loop.\n",
    "for i in range(1,6):\n",
    "    for k in range(1,11):\n",
    "        print(i,\"*\",k,\"=\",i*k)\n",
    "    print( \" \")    "
   ]
  },
  {
   "cell_type": "code",
   "execution_count": 14,
   "id": "f49638c7-2b3d-4bc6-bae7-2c3c264fc475",
   "metadata": {},
   "outputs": [
    {
     "name": "stdout",
     "output_type": "stream",
     "text": [
      "list of fahrenheit temperature is : [1, 2, 3, 45, 65, 48, 23]\n",
      "After converting to fahrenheit temperature to Celsius list is : [-17, -16, -16, 7, 18, 8, -5]\n"
     ]
    }
   ],
   "source": [
    "#17. Write a program that converts a list of Fahrenheit temperatures to Celsius using a `for` loop.\n",
    "uy = [1,2,3,45,65,48,23]\n",
    "print(\"list of fahrenheit temperature is :\",uy)\n",
    "pi = []\n",
    "for i in uy:\n",
    "    c = (i - 32) * 5/9\n",
    "    c = int(c)\n",
    "    pi.append(c)\n",
    "print(\"After converting to fahrenheit temperature to Celsius list is :\",pi)"
   ]
  },
  {
   "cell_type": "code",
   "execution_count": 18,
   "id": "fcfc4ad2-022e-4a5f-811e-d605cb45a63f",
   "metadata": {},
   "outputs": [
    {
     "name": "stdout",
     "output_type": "stream",
     "text": [
      "List 1 is : [1, 2, 3, 45, 65, 48, 23, 86, 54]\n",
      "List 2 is : [45, 25, 36, 29, 92, 86, 54, 75, 94, 85, 62, 53, 94, 73, 89]\n",
      "Common element is : 45 86 54 "
     ]
    }
   ],
   "source": [
    "#18. Create a program to print the common elements from two lists using a `for` loop.\n",
    "uy = [1,2,3,45,65,48,23,86,54]\n",
    "kl =  [45,25,36,29,92,86,54,75,94,85,62,53,94,73,89]\n",
    "print(\"List 1 is :\",uy)\n",
    "print(\"List 2 is :\",kl)\n",
    "jk = []\n",
    "print(\"Common element is :\",end = \" \")\n",
    "for i in uy:\n",
    "    for o in kl:\n",
    "        if i == o:\n",
    "            print(i,end = \" \")\n",
    "        else:\n",
    "            pass"
   ]
  },
  {
   "cell_type": "code",
   "execution_count": 10,
   "id": "9750653b-ed35-477f-9e97-0ffd1be73289",
   "metadata": {},
   "outputs": [
    {
     "name": "stdin",
     "output_type": "stream",
     "text": [
      "Enter a number upto where right angled triangle pattern to print: 7\n"
     ]
    },
    {
     "name": "stdout",
     "output_type": "stream",
     "text": [
      "* \n",
      "\n",
      "* * \n",
      "\n",
      "* * * \n",
      "\n",
      "* * * * \n",
      "\n",
      "* * * * * \n",
      "\n",
      "* * * * * * \n",
      "\n",
      "* * * * * * * \n",
      "\n"
     ]
    }
   ],
   "source": [
    "#19. Develop a program that prints the pattern of right-angled triangles using a `for` loop. Use ‘*’ to draw the pattern\n",
    "ut = int(input(\"Enter a number upto where right angled triangle pattern to print:\"))\n",
    "for i in range(1,ut+1):\n",
    "    for p in range(1,i+1):\n",
    "            print(\"*\",end = \" \")\n",
    "    print('\\n')"
   ]
  },
  {
   "cell_type": "code",
   "execution_count": 7,
   "id": "bd6c33e4-1f74-4e58-a340-b7f99d1bab5a",
   "metadata": {},
   "outputs": [
    {
     "name": "stdin",
     "output_type": "stream",
     "text": [
      "Enteer the first number : 150\n",
      "Enteer the second  number : 750\n"
     ]
    },
    {
     "name": "stdout",
     "output_type": "stream",
     "text": [
      "The greatest common divisor (GCD) of two numbers is : 150\n"
     ]
    }
   ],
   "source": [
    "#20. Write a program to find the greatest common divisor (GCD) of two numbers using a `for` loop.\n",
    "rt = int(input(\"Enteer the first number :\"))\n",
    "v  = int(input(\"Enteer the second  number :\"))\n",
    "j = []\n",
    "jp = []\n",
    "for i in range(1,rt+1):\n",
    "    if rt%i == 0:\n",
    "        j.append(i)\n",
    "for ik in range(1,v+1):\n",
    "    if v%ik == 0:\n",
    "        jp.append(ik)\n",
    "j = set(j)\n",
    "jp = set(jp)\n",
    "ju = j.intersection(jp)\n",
    "print(\"The greatest common divisor (GCD) of two numbers is :\",max(ju))"
   ]
  },
  {
   "cell_type": "code",
   "execution_count": null,
   "id": "46fa52e5-63b9-4cc4-aabb-feaa9288169f",
   "metadata": {},
   "outputs": [
    {
     "name": "stdout",
     "output_type": "stream",
     "text": [
      "List is : [45, 25, 36, 29, 92, 86, 54, 75, 94, 85, 62, 53, 94, 73, 89]\n",
      "The sum of the digits of numbers in a list : [9, 7, 9, 11, 11, 14, 9, 12, 13, 13, 8, 8, 13, 10, 17]\n"
     ]
    }
   ],
   "source": [
    "#Advanced Level:\n",
    "#21. Create a program that calculates the sum of the digits of numbers in a list using a list comprehension.\n",
    "from functools import reduce\n",
    "kl =  [45,25,36,29,92,86,54,75,94,85,62,53,94,73,89]\n",
    "print(\"List is :\",kl)\n",
    "hj = [reduce(lambda x,y:int(x) + int(y),list(str(i))) for i in kl]\n",
    "#use reduce for sum for all digit of i\n",
    "print(\"The sum of the digits of numbers in a list :\",hj)"
   ]
  },
  {
   "cell_type": "code",
   "execution_count": 4,
   "id": "c87ed81c-5ad1-4b5b-a040-97a36454924e",
   "metadata": {},
   "outputs": [
    {
     "name": "stdin",
     "output_type": "stream",
     "text": [
      "Enter a number: 52\n"
     ]
    },
    {
     "name": "stdout",
     "output_type": "stream",
     "text": [
      " The prime factors of a given number : [1, 2, 4, 13, 26, 52]\n"
     ]
    }
   ],
   "source": [
    "#22. Write a program to find the prime factors of a given number using a `for` loop and list comprehension.\n",
    "et = int(input(\"Enter a number:\"))\n",
    "lo = [i for i in range(1,et+1) if et%i == 0]\n",
    "print(\" The prime factors of a given number :\",lo)"
   ]
  },
  {
   "cell_type": "code",
   "execution_count": 14,
   "id": "4537edf4-3b8e-479d-9549-9dc76c5df1c0",
   "metadata": {},
   "outputs": [
    {
     "name": "stdin",
     "output_type": "stream",
     "text": [
      "Enter a string : my name is john wick\n"
     ]
    },
    {
     "name": "stdout",
     "output_type": "stream",
     "text": [
      "Unique element from string no duplicate element is here : ['y', 'a', 'e', 's', 'j', 'o', 'h', 'w', 'c', 'k']\n"
     ]
    }
   ],
   "source": [
    "#23. Develop a program that extracts unique elements from a list and stores them in a new list using a list comprehension.\n",
    "gh = str(input(\"Enter a string :\"))\n",
    "gh = list(gh)\n",
    "\"\".join(gh)\n",
    "gh = list(gh)\n",
    "gh = [i for i in gh if gh.count(i) == 1]\n",
    "print(\"Unique element from string no duplicate element is here :\",gh)"
   ]
  },
  {
   "cell_type": "code",
   "execution_count": 13,
   "id": "bd75b376-20e3-4ca5-bb95-9c2aa91f200c",
   "metadata": {},
   "outputs": [
    {
     "name": "stdin",
     "output_type": "stream",
     "text": [
      "Enter a number upto find all palindromic number : 100\n"
     ]
    },
    {
     "name": "stdout",
     "output_type": "stream",
     "text": [
      "Palindromic numbers up to 100 [1, 2, 3, 4, 5, 6, 7, 8, 9, 11, 22, 33, 44, 55, 66, 77, 88, 99]\n"
     ]
    }
   ],
   "source": [
    "#24. Create a program that generates a list of all palindromic numbers up to a specified limit using a list comprehension.\n",
    "hj = int(input(\"Enter a number upto find all palindromic number :\"))\n",
    "pt = [i  for i in range(1,hj+1) if list(str(i))[::-1] == list(str(i)) ]\n",
    "print(f\"Palindromic numbers up to {hj}\",pt)"
   ]
  },
  {
   "cell_type": "code",
   "execution_count": 18,
   "id": "5825187f-571e-4ace-9536-035bba0ca07d",
   "metadata": {},
   "outputs": [
    {
     "name": "stdout",
     "output_type": "stream",
     "text": [
      "List is : [[1, 2], [7, 8, 9], [3, 4]]\n",
      "Flatten a nested list is : [1, 2, 7, 8, 9, 3, 4]\n"
     ]
    }
   ],
   "source": [
    "#25. Write a program to flatten a nested list using list comprehension.\n",
    "pr = [[1,2],[7,8,9],[3,4]]\n",
    "print(\"List is :\",pr)\n",
    "kp = [k for i in pr for k in i] \n",
    "print(\"Flatten a nested list is :\",kp)"
   ]
  },
  {
   "cell_type": "code",
   "execution_count": 19,
   "id": "ffc2ab61-bc9d-42c3-a1a5-1f3ab36de62e",
   "metadata": {},
   "outputs": [
    {
     "name": "stdin",
     "output_type": "stream",
     "text": [
      "Enter a value upto sum required of even and odd numbers : 50\n"
     ]
    },
    {
     "name": "stdout",
     "output_type": "stream",
     "text": [
      "sum of even number : 650 and sum of odd number : 625\n"
     ]
    }
   ],
   "source": [
    "#26. Develop a program that computes the sum of even and odd numbers in a list separately using list comprehension.\n",
    "hj = int(input(\"Enter a value upto sum required of even and odd numbers :\")) \n",
    "rt = [i for i in range(1,51)]\n",
    "sum_even = sum([i for i in rt if i%2 == 0])\n",
    "sum_odd =  sum([i for i in rt if i%2 != 0])\n",
    "print(f\"sum of even number : {sum_even} and sum of odd number : {sum_odd}\")"
   ]
  },
  {
   "cell_type": "code",
   "execution_count": 7,
   "id": "d6ed3227-efec-44b9-92a5-5f739a188188",
   "metadata": {},
   "outputs": [
    {
     "name": "stdout",
     "output_type": "stream",
     "text": [
      "Square of all the odd number between 1 to 10 : [1, 9, 25, 49, 81]\n"
     ]
    }
   ],
   "source": [
    "#27. Create a program that generates a list of squares of odd numbers between 1 and 10 using list comprehension.\n",
    "gh = [i*i for i in range(1,11) if i%2 != 0]\n",
    "print(\"Square of all the odd number between 1 to 10 :\",gh)"
   ]
  },
  {
   "cell_type": "code",
   "execution_count": 14,
   "id": "5048bb09-9d5d-4cc6-8846-81cab8102d91",
   "metadata": {},
   "outputs": [
    {
     "name": "stdout",
     "output_type": "stream",
     "text": [
      "List 1 is : [1, 2, 3, 4, 5, 6, 7, 8, 9, 10, 11, 12, 13, 14, 15]\n",
      "List 2 is : [45, 25, 36, 29, 92, 86, 54, 75, 94, 85, 62, 53, 94, 73, 89]\n",
      "Dictionary is : {1: 89, 2: 89, 3: 89, 4: 89, 5: 89, 6: 89, 7: 89, 8: 89, 9: 89, 10: 89, 11: 89, 12: 89, 13: 89, 14: 89, 15: 89}\n"
     ]
    }
   ],
   "source": [
    "#28. Write a program that combines two lists into a dictionary using list comprehension.\n",
    "uy = [1,2,3,4,5,6,7,8,9,10,11,12,13,14,15]\n",
    "kl =  [45,25,36,29,92,86,54,75,94,85,62,53,94,73,89]\n",
    "print(\"List 1 is :\",uy)\n",
    "print(\"List 2 is :\",kl)\n",
    "jh = {key : value for key in uy for value in kl}\n",
    "print(\"Dictionary is :\",jh)"
   ]
  },
  {
   "cell_type": "code",
   "execution_count": 89,
   "id": "2ed600a4-a4af-4962-87e2-63f6c72f1304",
   "metadata": {},
   "outputs": [
    {
     "name": "stdin",
     "output_type": "stream",
     "text": [
      "Enter a string : akjsdhue ioa\n"
     ]
    },
    {
     "data": {
      "text/plain": [
       "['a', 'u', 'e', 'i', 'o', 'a']"
      ]
     },
     "execution_count": 89,
     "metadata": {},
     "output_type": "execute_result"
    }
   ],
   "source": [
    "#29. Develop a program that extracts the vowels from a string and stores them in a list using list comprehension.\n",
    "uy = ['A','E','I','O','U','a','e','i','o','u']\n",
    "rt = str(input(\"Enter a string :\"))\n",
    "yt = [i for i in rt if i  in uy]\n",
    "yt"
   ]
  },
  {
   "cell_type": "code",
   "execution_count": 1,
   "id": "300afc7a-c25e-434b-b031-265398f016d9",
   "metadata": {},
   "outputs": [
    {
     "name": "stdin",
     "output_type": "stream",
     "text": [
      "Enter a string : ijhasioh123 aoje235 59u\n"
     ]
    },
    {
     "name": "stdout",
     "output_type": "stream",
     "text": [
      "All non-numeric characters from a list of string : ['1', '2', '3', '2', '3', '5', '5', '9']\n"
     ]
    }
   ],
   "source": [
    "#30. Create a program that removes all non-numeric characters from a list of strings using list comprehension.\n",
    "rt = str(input(\"Enter a string :\"))\n",
    "jh = [i for i in rt if i.isdigit() == True]\n",
    "print(\"All non-numeric characters from a list of string :\",jh)"
   ]
  },
  {
   "cell_type": "code",
   "execution_count": 13,
   "id": "31ff2033-6d02-4b00-95b6-ca155eb35691",
   "metadata": {},
   "outputs": [
    {
     "name": "stdin",
     "output_type": "stream",
     "text": [
      "Enter a number upto to print prime number : 50\n"
     ]
    },
    {
     "name": "stdout",
     "output_type": "stream",
     "text": [
      "List of prime numbers using the Sieve of Eratosthenes algorithm is : [2, 3, 5, 7, 11, 13, 17, 19, 23, 29, 31, 37, 41, 43, 47]\n"
     ]
    }
   ],
   "source": [
    "#Challenge Level:\n",
    "#31. Write a program to generate a list of prime numbers using the Sieve of Eratosthenes algorithm and list comprehension.\n",
    "gh = int(input(\"Enter a number upto to print prime number :\"))\n",
    "iy = [i for i in range(2,gh+1)]\n",
    "kl = [i for i in  iy if i*i < gh]\n",
    "for i in kl:\n",
    "    for  u in iy:\n",
    "        if u%i == 0:\n",
    "            iy.remove(u)              \n",
    "for i in kl:            \n",
    "    if i <= 3:\n",
    "        pass\n",
    "    elif i%2 == 0 or i%3 == 0:\n",
    "        kl.remove(i)\n",
    "    else:\n",
    "        pass\n",
    "kl = set(kl)\n",
    "jk = set(jk)\n",
    "kp = kl.union(iy)\n",
    "kp = list(kp)\n",
    "kp.sort()\n",
    "print(\"List of prime numbers using the Sieve of Eratosthenes algorithm is :\",kp)"
   ]
  },
  {
   "cell_type": "code",
   "execution_count": 90,
   "id": "fb010632-0f9d-49e9-8523-9599dcfc214a",
   "metadata": {},
   "outputs": [
    {
     "name": "stdin",
     "output_type": "stream",
     "text": [
      "Enter a number upto print pythagorean triplets : 20\n"
     ]
    },
    {
     "name": "stdout",
     "output_type": "stream",
     "text": [
      "List of all Pythagorean triplets up to : 20 [[3, 4, 5], [4, 3.0, 5.0], [5, 12, 13], [6, 8.0, 10.0], [7, 24, 25], [8, 15.0, 17.0], [9, 40, 41], [10, 24.0, 26.0], [11, 60, 61], [12, 35.0, 37.0], [13, 84, 85], [14, 48.0, 50.0], [15, 112, 113], [16, 63.0, 65.0], [17, 144, 145], [18, 80.0, 82.0], [19, 180, 181], [20, 99.0, 101.0]]\n"
     ]
    }
   ],
   "source": [
    "#32. Create a program that generates a list of all Pythagorean triplets up to a specified limit using list comprehension.\n",
    "def tt(p):\n",
    "    hj =[]\n",
    "    b = p\n",
    "    h = (((p*p)-1)//2)\n",
    "    hp = (((p*p)+1)//2)\n",
    "    if p > 2:\n",
    "        if (b*b + h*h) == hp*hp :\n",
    "            hj.append(b)\n",
    "            hj.append(h)\n",
    "            hj.append(hp)\n",
    "        elif ((p*p) + ((p/2)*(p/2)-1)*((p/2)*(p/2)-1)  == ((p/2)*(p/2)+1)*((p/2)*(p/2)+1)):\n",
    "            hj.append(p)\n",
    "            hj.append(((p/2)*(p/2)-1))\n",
    "            hj.append(((p/2)*(p/2)+1))\n",
    "        else:\n",
    "            pass\n",
    "        return hj\n",
    "    else:\n",
    "        pass\n",
    "  \n",
    "hg = int(input(\"Enter a number upto print pythagorean triplets :\"))\n",
    "kl = [tt(i)  for i in range(1,hg+1) if tt(i) != None]\n",
    "print(f\"List of all Pythagorean triplets up to : {hg}\",kl)"
   ]
  },
  {
   "cell_type": "code",
   "execution_count": 24,
   "id": "55a39f43-1461-4905-b19a-75fb38f58a2b",
   "metadata": {},
   "outputs": [
    {
     "name": "stdout",
     "output_type": "stream",
     "text": [
      "List 1 is : [1, 2, 3, 4]\n",
      "List 2 is : [45, 25, 49, 75]\n",
      "list of all possible combinations of two lists is : [(1, 45), (2, 45), (3, 45), (4, 45), (1, 25), (2, 25), (3, 25), (4, 25), (1, 49), (2, 49), (3, 49), (4, 49), (1, 75), (2, 75), (3, 75), (4, 75)]\n"
     ]
    }
   ],
   "source": [
    "#33. Develop a program that generates a list of all possible combinations of two lists using list comprehension.\n",
    "uy = [1,2,3,4]\n",
    "kl =  [45,25,49,75]\n",
    "print(\"List 1 is :\",uy)\n",
    "print(\"List 2 is :\",kl)\n",
    "hy = [(i,h) for h in kl for i in uy ] \n",
    "print(\"list of all possible combinations of two lists is :\",hy)"
   ]
  },
  {
   "cell_type": "code",
   "execution_count": 88,
   "id": "2f8bd70f-3bfc-438e-9a28-a408b42e9a07",
   "metadata": {},
   "outputs": [
    {
     "name": "stdout",
     "output_type": "stream",
     "text": [
      "List is : [45, 25, 36, 29, 92, 86, 54, 75, 94, 85, 62, 53, 94, 73, 89, 73, 73, 45, 45, 45]\n",
      "Mean is : [63.65]\n",
      "Median is : [73.5]\n",
      "Mode is : 45\n"
     ]
    }
   ],
   "source": [
    "#34. Write a program that calculates the mean, median, and mode of a list of numbers using list comprehension.\n",
    "import functools\n",
    "fg = [45,25,36,29,92,86,54,75,94,85,62,53,94,73,89,73,73,45,45,45]\n",
    "print(\"List is :\",fg)\n",
    "mean = [functools.reduce(lambda g,h: g+h ,fg)/len(fg)]\n",
    "median = [(fg[(len(fg)//2)]+fg[(len(fg)//2-1)])/2 if len(fg)%2 == 0 else fg[(len(fg)//2)]]\n",
    "dfg = {}    \n",
    "mode = {fg.count(kt):kt for kt in fg if not kt in dfg }\n",
    "print(\"Mean is :\",mean)\n",
    "print(\"Median is :\",median)\n",
    "print(\"Mode is :\",mode[max(mode)])"
   ]
  },
  {
   "cell_type": "code",
   "execution_count": 39,
   "id": "02e5030b-4aff-472c-bca2-360be70c3ee0",
   "metadata": {},
   "outputs": [
    {
     "name": "stdin",
     "output_type": "stream",
     "text": [
      "Enter a number upto generates Pascal's triangle : 8\n"
     ]
    },
    {
     "name": "stdout",
     "output_type": "stream",
     "text": [
      "\n",
      "\n",
      "\n",
      "\n",
      "1 \n",
      "\n",
      "1 1 \n",
      "\n",
      "1 2 1 \n",
      "\n",
      "1 3 3 1 \n",
      "\n",
      "1 4 6 4 1 \n",
      "\n",
      "1 5 10 10 5 1 \n",
      "\n",
      "1 6 15 20 15 6 1 "
     ]
    }
   ],
   "source": [
    "#35. Create a program that generates Pascal's triangle up to a specified number of rows using list comprehension.\n",
    "tw = int(input(\"Enter a number upto generates Pascal's triangle :\"))\n",
    "bn = [[1 for ih in range(1,i)] for i in range(1,tw+1)] \n",
    "fnm = []\n",
    "for n in bn:\n",
    "    k = []\n",
    "    for mn in range(len(n)):\n",
    "        if mn == 0 or mn == len(n)-1:\n",
    "            k.append(1)\n",
    "        else:\n",
    "            if len(fnm) != 0:\n",
    "                fd = fnm[(bn.index(n)-1)][mn] + fnm[(bn.index(n)-1)][mn-1]\n",
    "                k.append(fd)\n",
    "    fnm.append(k) \n",
    "for i in fnm:\n",
    "    print('\\n')\n",
    "    for dv in i:\n",
    "         print(dv,end = \" \")"
   ]
  },
  {
   "cell_type": "code",
   "execution_count": 91,
   "id": "e696706f-8510-4b07-930c-fcaa87e6493b",
   "metadata": {},
   "outputs": [
    {
     "name": "stdout",
     "output_type": "stream",
     "text": [
      "Factorial of number 1 to 5 : [1, 2, 6, 24, 120] \n",
      " Sum of digit are : [1, 2, 6, 6, 3]\n"
     ]
    }
   ],
   "source": [
    "#36. Develop a program that calculates the sum of the digits of a factorial of numbers from 1 to 5 using list comprehension.\n",
    "def fact(n):\n",
    "    if n>1:\n",
    "        n = n*fact(n-1)\n",
    "    return n\n",
    "def sm(f):\n",
    "    g = 0\n",
    "    f = list(f)\n",
    "    for i in f:\n",
    "        i = int(i)\n",
    "        g = g+i\n",
    "    return g\n",
    "we = [fact(i) for i in range(1,6)]\n",
    "jp = [sm(str(i)) for i in we]\n",
    "print(\"Factorial of number 1 to 5 :\",we,'\\n','Sum of digit are :',jp) "
   ]
  },
  {
   "cell_type": "code",
   "execution_count": 5,
   "id": "f5e27264-4696-4110-9c0c-140d3741398b",
   "metadata": {},
   "outputs": [
    {
     "name": "stdin",
     "output_type": "stream",
     "text": [
      "Enter a sentence : jfhuwhur iughwsuifguigyiu uifh fiuhuiy uiiyhviuyyhhuigyfyi7utg7\n"
     ]
    },
    {
     "name": "stdout",
     "output_type": "stream",
     "text": [
      "The longest word in a sentence is : uiiyhviuyyhhuigyfyi7utg7\n"
     ]
    }
   ],
   "source": [
    "#37. Write a program that finds the longest word in a sentence using list comprehension.\n",
    "kl = str(input(\"Enter a sentence :\"))\n",
    "kl = kl.split()\n",
    "l = 0\n",
    "hg = [len(i)  for i in kl]\n",
    "pg = hg.index(max(hg))\n",
    "print(\"The longest word in a sentence is :\",kl[pg])"
   ]
  },
  {
   "cell_type": "code",
   "execution_count": 10,
   "id": "01bfa80c-aa7d-4bc1-96ef-b0139cc4d9c3",
   "metadata": {},
   "outputs": [
    {
     "name": "stdin",
     "output_type": "stream",
     "text": [
      "Enter a sentence : aeiou ae aeio \n"
     ]
    },
    {
     "name": "stdout",
     "output_type": "stream",
     "text": [
      "List of string is : ['aeiou', 'ae', 'aeio']\n",
      "After filters a list of strings to include only those with more than three vowels : ['aeiou', 'aeio']\n"
     ]
    }
   ],
   "source": [
    "#38. Create a program that filters a list of strings to include only those with more than three vowels using list comprehension.\n",
    "ht = ['A','E','I','O','U','a','e','i','o','u']\n",
    "re = str(input(\"Enter a sentence :\"))\n",
    "re = re.split()\n",
    "print(\"List of string is :\",re)\n",
    "def khy(v):\n",
    "    v = list(v)\n",
    "    count = 0\n",
    "    for i in v:\n",
    "        if i in ht:\n",
    "            count += 1\n",
    "        else:\n",
    "            pass\n",
    "    return count    \n",
    "st = [i for i in re if khy(i) > 3]\n",
    "print(\"After filters a list of strings to include only those with more than three vowels :\",st)"
   ]
  },
  {
   "cell_type": "code",
   "execution_count": 12,
   "id": "adf05e41-a13c-47f8-9d5b-94cb8578c994",
   "metadata": {},
   "outputs": [
    {
     "name": "stdout",
     "output_type": "stream",
     "text": [
      "Sum of digit are : [1, 2, 3, 4, 5, 6, 7, 8, 9, 1, 2, 3, 4, 5, 6, 7, 8, 9, 10, 2, 3, 4, 5, 6, 7, 8, 9, 10, 11, 3, 4, 5, 6, 7, 8, 9, 10, 11, 12, 4, 5, 6, 7, 8, 9, 10, 11, 12, 13, 5, 6, 7, 8, 9, 10, 11, 12, 13, 14, 6, 7, 8, 9, 10, 11, 12, 13, 14, 15, 7, 8, 9, 10, 11, 12, 13, 14, 15, 16, 8, 9, 10, 11, 12, 13, 14, 15, 16, 17, 9, 10, 11, 12, 13, 14, 15, 16, 17, 18, 1, 2, 3, 4, 5, 6, 7, 8, 9, 10, 2, 3, 4, 5, 6, 7, 8, 9, 10, 11, 3, 4, 5, 6, 7, 8, 9, 10, 11, 12, 4, 5, 6, 7, 8, 9, 10, 11, 12, 13, 5, 6, 7, 8, 9, 10, 11, 12, 13, 14, 6, 7, 8, 9, 10, 11, 12, 13, 14, 15, 7, 8, 9, 10, 11, 12, 13, 14, 15, 16, 8, 9, 10, 11, 12, 13, 14, 15, 16, 17, 9, 10, 11, 12, 13, 14, 15, 16, 17, 18, 10, 11, 12, 13, 14, 15, 16, 17, 18, 19, 2, 3, 4, 5, 6, 7, 8, 9, 10, 11, 3, 4, 5, 6, 7, 8, 9, 10, 11, 12, 4, 5, 6, 7, 8, 9, 10, 11, 12, 13, 5, 6, 7, 8, 9, 10, 11, 12, 13, 14, 6, 7, 8, 9, 10, 11, 12, 13, 14, 15, 7, 8, 9, 10, 11, 12, 13, 14, 15, 16, 8, 9, 10, 11, 12, 13, 14, 15, 16, 17, 9, 10, 11, 12, 13, 14, 15, 16, 17, 18, 10, 11, 12, 13, 14, 15, 16, 17, 18, 19, 11, 12, 13, 14, 15, 16, 17, 18, 19, 20, 3, 4, 5, 6, 7, 8, 9, 10, 11, 12, 4, 5, 6, 7, 8, 9, 10, 11, 12, 13, 5, 6, 7, 8, 9, 10, 11, 12, 13, 14, 6, 7, 8, 9, 10, 11, 12, 13, 14, 15, 7, 8, 9, 10, 11, 12, 13, 14, 15, 16, 8, 9, 10, 11, 12, 13, 14, 15, 16, 17, 9, 10, 11, 12, 13, 14, 15, 16, 17, 18, 10, 11, 12, 13, 14, 15, 16, 17, 18, 19, 11, 12, 13, 14, 15, 16, 17, 18, 19, 20, 12, 13, 14, 15, 16, 17, 18, 19, 20, 21, 4, 5, 6, 7, 8, 9, 10, 11, 12, 13, 5, 6, 7, 8, 9, 10, 11, 12, 13, 14, 6, 7, 8, 9, 10, 11, 12, 13, 14, 15, 7, 8, 9, 10, 11, 12, 13, 14, 15, 16, 8, 9, 10, 11, 12, 13, 14, 15, 16, 17, 9, 10, 11, 12, 13, 14, 15, 16, 17, 18, 10, 11, 12, 13, 14, 15, 16, 17, 18, 19, 11, 12, 13, 14, 15, 16, 17, 18, 19, 20, 12, 13, 14, 15, 16, 17, 18, 19, 20, 21, 13, 14, 15, 16, 17, 18, 19, 20, 21, 22, 5, 6, 7, 8, 9, 10, 11, 12, 13, 14, 6, 7, 8, 9, 10, 11, 12, 13, 14, 15, 7, 8, 9, 10, 11, 12, 13, 14, 15, 16, 8, 9, 10, 11, 12, 13, 14, 15, 16, 17, 9, 10, 11, 12, 13, 14, 15, 16, 17, 18, 10, 11, 12, 13, 14, 15, 16, 17, 18, 19, 11, 12, 13, 14, 15, 16, 17, 18, 19, 20, 12, 13, 14, 15, 16, 17, 18, 19, 20, 21, 13, 14, 15, 16, 17, 18, 19, 20, 21, 22, 14, 15, 16, 17, 18, 19, 20, 21, 22, 23, 6, 7, 8, 9, 10, 11, 12, 13, 14, 15, 7, 8, 9, 10, 11, 12, 13, 14, 15, 16, 8, 9, 10, 11, 12, 13, 14, 15, 16, 17, 9, 10, 11, 12, 13, 14, 15, 16, 17, 18, 10, 11, 12, 13, 14, 15, 16, 17, 18, 19, 11, 12, 13, 14, 15, 16, 17, 18, 19, 20, 12, 13, 14, 15, 16, 17, 18, 19, 20, 21, 13, 14, 15, 16, 17, 18, 19, 20, 21, 22, 14, 15, 16, 17, 18, 19, 20, 21, 22, 23, 15, 16, 17, 18, 19, 20, 21, 22, 23, 24, 7, 8, 9, 10, 11, 12, 13, 14, 15, 16, 8, 9, 10, 11, 12, 13, 14, 15, 16, 17, 9, 10, 11, 12, 13, 14, 15, 16, 17, 18, 10, 11, 12, 13, 14, 15, 16, 17, 18, 19, 11, 12, 13, 14, 15, 16, 17, 18, 19, 20, 12, 13, 14, 15, 16, 17, 18, 19, 20, 21, 13, 14, 15, 16, 17, 18, 19, 20, 21, 22, 14, 15, 16, 17, 18, 19, 20, 21, 22, 23, 15, 16, 17, 18, 19, 20, 21, 22, 23, 24, 16, 17, 18, 19, 20, 21, 22, 23, 24, 25, 8, 9, 10, 11, 12, 13, 14, 15, 16, 17, 9, 10, 11, 12, 13, 14, 15, 16, 17, 18, 10, 11, 12, 13, 14, 15, 16, 17, 18, 19, 11, 12, 13, 14, 15, 16, 17, 18, 19, 20, 12, 13, 14, 15, 16, 17, 18, 19, 20, 21, 13, 14, 15, 16, 17, 18, 19, 20, 21, 22, 14, 15, 16, 17, 18, 19, 20, 21, 22, 23, 15, 16, 17, 18, 19, 20, 21, 22, 23, 24, 16, 17, 18, 19, 20, 21, 22, 23, 24, 25, 17, 18, 19, 20, 21, 22, 23, 24, 25, 26, 9, 10, 11, 12, 13, 14, 15, 16, 17, 18, 10, 11, 12, 13, 14, 15, 16, 17, 18, 19, 11, 12, 13, 14, 15, 16, 17, 18, 19, 20, 12, 13, 14, 15, 16, 17, 18, 19, 20, 21, 13, 14, 15, 16, 17, 18, 19, 20, 21, 22, 14, 15, 16, 17, 18, 19, 20, 21, 22, 23, 15, 16, 17, 18, 19, 20, 21, 22, 23, 24, 16, 17, 18, 19, 20, 21, 22, 23, 24, 25, 17, 18, 19, 20, 21, 22, 23, 24, 25, 26, 18, 19, 20, 21, 22, 23, 24, 25, 26, 27, 1]\n"
     ]
    }
   ],
   "source": [
    "#39. Develop a program that calculates the sum of the digits of numbers from 1 to 1000 using list comprehension.\n",
    "def sm(f):\n",
    "    g = 0\n",
    "    f = list(f)\n",
    "    for i in f:\n",
    "        i = int(i)\n",
    "        g = g+i\n",
    "    return g\n",
    "jp = [sm(str(i)) for i in range(1,1001)]\n",
    "print('Sum of digit are :',jp)"
   ]
  },
  {
   "cell_type": "code",
   "execution_count": 17,
   "id": "5fe67312-a28f-4614-b910-14e4ed3adc84",
   "metadata": {},
   "outputs": [
    {
     "name": "stdin",
     "output_type": "stream",
     "text": [
      "Enter a number upto find all palindromic number : 2000\n"
     ]
    },
    {
     "name": "stdout",
     "output_type": "stream",
     "text": [
      "Palindromic prime numbers up to 2000 [2, 3, 5, 7, 11, 101, 131, 151, 181, 191, 313, 323, 353, 373, 383, 727, 737, 757, 767, 787, 797, 919, 929, 949, 979, 989, 1111, 1331, 1441, 1661, 1991]\n"
     ]
    }
   ],
   "source": [
    "#40. Write a program that generates a list of prime palindromic numbers using list comprehension.\n",
    "from math import sqrt\n",
    "wq = [2,3,4,5,6,7,8,9]\n",
    "hj = int(input(\"Enter a number upto find all palindromic number :\"))\n",
    "def pt(r):\n",
    "    count = 0\n",
    "    if r < 4 or r == 5 or r == 7:\n",
    "        pass\n",
    "    else:\n",
    "        if (round(sqrt(r),1)*round(sqrt(r),1)) == r:\n",
    "            count = 1\n",
    "        else:\n",
    "            for lo in wq:\n",
    "                if r%lo == 0:\n",
    "                    count = 1\n",
    "                    break\n",
    "    return count           \n",
    "pt = [i   for i in range(2,hj+1) if list(str(i))[::-1] == list(str(i)) and pt(i) == 0]\n",
    "print(f\"Palindromic prime numbers up to {hj}\",pt)"
   ]
  }
 ],
 "metadata": {
  "kernelspec": {
   "display_name": "Python 3 (ipykernel)",
   "language": "python",
   "name": "python3"
  },
  "language_info": {
   "codemirror_mode": {
    "name": "ipython",
    "version": 3
   },
   "file_extension": ".py",
   "mimetype": "text/x-python",
   "name": "python",
   "nbconvert_exporter": "python",
   "pygments_lexer": "ipython3",
   "version": "3.10.8"
  }
 },
 "nbformat": 4,
 "nbformat_minor": 5
}
