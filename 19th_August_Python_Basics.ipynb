{
 "cells": [
  {
   "cell_type": "code",
   "execution_count": 1,
   "id": "9eeee2cd-23f3-4059-a04f-8328b7066fd8",
   "metadata": {},
   "outputs": [
    {
     "name": "stdin",
     "output_type": "stream",
     "text": [
      "Enter the value ahs hks\n"
     ]
    },
    {
     "data": {
      "text/plain": [
       "7"
      ]
     },
     "execution_count": 1,
     "metadata": {},
     "output_type": "execute_result"
    }
   ],
   "source": [
    "# Write a Python program that takes a string as input and prints the length of the string.\n",
    "a = str(input('Enter the value'))\n",
    "len(a)"
   ]
  },
  {
   "cell_type": "code",
   "execution_count": 3,
   "id": "56496ec4-bee5-465d-9f4d-6f4a76a7d83a",
   "metadata": {},
   "outputs": [
    {
     "name": "stdin",
     "output_type": "stream",
     "text": [
      "Enter the value jha iuqo \n"
     ]
    },
    {
     "name": "stdout",
     "output_type": "stream",
     "text": [
      "Number of vowels count : \n",
      "4\n"
     ]
    }
   ],
   "source": [
    "# Create a program that takes a sentence from the user and counts the number of vowels (a, e, i, o, u) in the string.\n",
    "i = str(input('Enter the value'))\n",
    "print('Number of vowels count : ')\n",
    "count = i.count('a',0,)+i.count('e',0,)+i.count('i',0,)+i.count('o',0,)+i.count('u',0,)\n",
    "# count add the value return by count function of 'a','e','i','o','u'\n",
    "print(count)\n"
   ]
  },
  {
   "cell_type": "code",
   "execution_count": 1,
   "id": "fd22bf3e-5a87-4049-80cd-51b6c2f4b5e8",
   "metadata": {},
   "outputs": [
    {
     "data": {
      "text/plain": [
       "'klaw tsuj'"
      ]
     },
     "execution_count": 1,
     "metadata": {},
     "output_type": "execute_result"
    }
   ],
   "source": [
    "#Given a string, reverse the order of characters using string slicing and print the reversed string.\n",
    "string = 'just walk'\n",
    "string[::-1]\n"
   ]
  },
  {
   "cell_type": "code",
   "execution_count": 4,
   "id": "edc125c1-4338-4476-a03d-4f6bf2879446",
   "metadata": {},
   "outputs": [
    {
     "name": "stdin",
     "output_type": "stream",
     "text": [
      "Enter the value kjak \n"
     ]
    },
    {
     "name": "stdout",
     "output_type": "stream",
     "text": [
      " Given string is palindrome :\n"
     ]
    },
    {
     "data": {
      "text/plain": [
       "False"
      ]
     },
     "execution_count": 4,
     "metadata": {},
     "output_type": "execute_result"
    }
   ],
   "source": [
    "#Write a program that takes a string as input and checks if it is a palindrome\n",
    "g = str(input('Enter the value'))\n",
    "u = g[::-1]\n",
    "print(\" Given string is palindrome :\"  )\n",
    "g == u"
   ]
  },
  {
   "cell_type": "code",
   "execution_count": 6,
   "id": "281ebb57-4824-4e45-8f70-d37b49ec3aec",
   "metadata": {},
   "outputs": [
    {
     "name": "stdin",
     "output_type": "stream",
     "text": [
      " ja akjhakou\n"
     ]
    },
    {
     "data": {
      "text/plain": [
       "'jaakjhakou'"
      ]
     },
     "execution_count": 6,
     "metadata": {},
     "output_type": "execute_result"
    }
   ],
   "source": [
    "#. Create a program that takes a string as input and removes all the spaces from it. Print the modified string without spaces.\n",
    "gh = str(input())\n",
    "gh.replace(\" \",\"\")"
   ]
  },
  {
   "cell_type": "code",
   "execution_count": null,
   "id": "5ced1c9d-5cc0-4bd4-99f3-38057a90f4fd",
   "metadata": {},
   "outputs": [],
   "source": []
  }
 ],
 "metadata": {
  "kernelspec": {
   "display_name": "Python 3 (ipykernel)",
   "language": "python",
   "name": "python3"
  },
  "language_info": {
   "codemirror_mode": {
    "name": "ipython",
    "version": 3
   },
   "file_extension": ".py",
   "mimetype": "text/x-python",
   "name": "python",
   "nbconvert_exporter": "python",
   "pygments_lexer": "ipython3",
   "version": "3.10.8"
  }
 },
 "nbformat": 4,
 "nbformat_minor": 5
}
