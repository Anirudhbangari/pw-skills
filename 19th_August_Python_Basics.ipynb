{
 "cells": [
  {
   "cell_type": "code",
   "execution_count": null,
   "id": "9eeee2cd-23f3-4059-a04f-8328b7066fd8",
   "metadata": {},
   "outputs": [],
   "source": [
    "# Write a Python program that takes a string as input and prints the length of the string.\n",
    "a = str(input('Enter the value'))\n",
    "len(a)\n",
    "\n"
   ]
  },
  {
   "cell_type": "code",
   "execution_count": null,
   "id": "56496ec4-bee5-465d-9f4d-6f4a76a7d83a",
   "metadata": {},
   "outputs": [],
   "source": [
    "# Create a program that takes a sentence from the user and counts the number of vowels (a, e, i, o, u) in the string.\n",
    "i = str(input('Enter the value'))\n",
    "print('Number of vowels count : ')\n",
    "count = i.count('a',0,)+i.count('e',0,)+i.count('i',0,)+i.count('o',0,)+i.count('u',0,)\n",
    "# count add the value return by count function of 'a','e','i','o','u'\n",
    "print(count)\n"
   ]
  },
  {
   "cell_type": "code",
   "execution_count": 1,
   "id": "fd22bf3e-5a87-4049-80cd-51b6c2f4b5e8",
   "metadata": {},
   "outputs": [
    {
     "data": {
      "text/plain": [
       "'klaw tsuj'"
      ]
     },
     "execution_count": 1,
     "metadata": {},
     "output_type": "execute_result"
    }
   ],
   "source": [
    "#Given a string, reverse the order of characters using string slicing and print the reversed string.\n",
    "string = 'just walk'\n",
    "string[::-1]\n"
   ]
  },
  {
   "cell_type": "code",
   "execution_count": null,
   "id": "edc125c1-4338-4476-a03d-4f6bf2879446",
   "metadata": {},
   "outputs": [],
   "source": [
    "#Write a program that takes a string as input and checks if it is a palindrome\n",
    "g = str(input('Enter the value'))\n",
    "u = g[::-1]\n",
    "print(\" Given string is palindrome :\"  )\n",
    "g == u\n",
    "\n",
    "\n"
   ]
  },
  {
   "cell_type": "code",
   "execution_count": 6,
   "id": "281ebb57-4824-4e45-8f70-d37b49ec3aec",
   "metadata": {},
   "outputs": [
    {
     "name": "stdin",
     "output_type": "stream",
     "text": [
      " fy jh\n"
     ]
    },
    {
     "ename": "TypeError",
     "evalue": "str.zfill() takes exactly one argument (0 given)",
     "output_type": "error",
     "traceback": [
      "\u001b[0;31m---------------------------------------------------------------------------\u001b[0m",
      "\u001b[0;31mTypeError\u001b[0m                                 Traceback (most recent call last)",
      "Cell \u001b[0;32mIn[6], line 3\u001b[0m\n\u001b[1;32m      1\u001b[0m \u001b[38;5;66;03m#. Create a program that takes a string as input and removes all the spaces from it. Print the modified string without spaces.\u001b[39;00m\n\u001b[1;32m      2\u001b[0m gh \u001b[38;5;241m=\u001b[39m \u001b[38;5;28mstr\u001b[39m(\u001b[38;5;28minput\u001b[39m())\n\u001b[0;32m----> 3\u001b[0m \u001b[43mgh\u001b[49m\u001b[38;5;241;43m.\u001b[39;49m\u001b[43mzfill\u001b[49m\u001b[43m(\u001b[49m\u001b[43m)\u001b[49m\n",
      "\u001b[0;31mTypeError\u001b[0m: str.zfill() takes exactly one argument (0 given)"
     ]
    }
   ],
   "source": [
    "#. Create a program that takes a string as input and removes all the spaces from it. Print the modified string without spaces.\n",
    "gh = str(input())\n",
    "gh.replace()\n"
   ]
  },
  {
   "cell_type": "code",
   "execution_count": null,
   "id": "9b6466b9-4705-4041-96d7-0e02cd4be339",
   "metadata": {},
   "outputs": [],
   "source": []
  },
  {
   "cell_type": "code",
   "execution_count": null,
   "id": "b9e06a08-3ec9-48db-9cc6-1b79427e73c1",
   "metadata": {},
   "outputs": [],
   "source": []
  }
 ],
 "metadata": {
  "kernelspec": {
   "display_name": "Python 3 (ipykernel)",
   "language": "python",
   "name": "python3"
  },
  "language_info": {
   "codemirror_mode": {
    "name": "ipython",
    "version": 3
   },
   "file_extension": ".py",
   "mimetype": "text/x-python",
   "name": "python",
   "nbconvert_exporter": "python",
   "pygments_lexer": "ipython3",
   "version": "3.10.8"
  }
 },
 "nbformat": 4,
 "nbformat_minor": 5
}
