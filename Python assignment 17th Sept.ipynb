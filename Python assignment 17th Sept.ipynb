{
 "cells": [
  {
   "cell_type": "code",
   "execution_count": null,
   "id": "656863f9-cbfd-4ef9-b637-4b4e1e65956e",
   "metadata": {},
   "outputs": [],
   "source": [
    "#For Loop :-"
   ]
  },
  {
   "cell_type": "code",
   "execution_count": 1,
   "id": "3ebc5efe-97c0-4772-865d-26f780a59422",
   "metadata": {},
   "outputs": [
    {
     "name": "stdout",
     "output_type": "stream",
     "text": [
      "1 2 3 4 5 6 7 8 9 10 "
     ]
    }
   ],
   "source": [
    "#1.Write a Python program to print numbers from 1 to 10 using a for loop.\n",
    "for i in range(1,11):\n",
    "    print(i, end = \" \")"
   ]
  },
  {
   "cell_type": "code",
   "execution_count": 2,
   "id": "47a7d11f-2dea-418d-89b9-d2a485d603b2",
   "metadata": {},
   "outputs": [
    {
     "name": "stdout",
     "output_type": "stream",
     "text": [
      "For loop example \n",
      "0\n",
      "1\n",
      "2\n",
      "3\n",
      "4\n",
      "While loop example \n",
      "0\n",
      "1\n",
      "2\n",
      "3\n",
      "4\n",
      "5\n",
      "6\n",
      "7\n"
     ]
    }
   ],
   "source": [
    "#2.Explain the difference between a for loop and a while loop in Python.\n",
    "'''For loop in pyhton  used to extract element one by one form the iterable object such as a list, tuple, string, or range.\n",
    "basic syntax of for loop is \n",
    "for variable in sequence/rnage: -> here variable is placeholder for each element extracted one by one from the sequence or range\n",
    "example :'''\n",
    "print(\"For loop example \")\n",
    "for i in range(5):\n",
    "    print(i)\n",
    "''' while loop is used to print code untill given or specific statement is true \n",
    "basic syntax of while is \n",
    "while condition: -> here loop continue untill condition is true \n",
    "example :'''\n",
    "print(\"While loop example \")\n",
    "i = 0\n",
    "while i < 8:\n",
    "    print(i)\n",
    "    i += 1"
   ]
  },
  {
   "cell_type": "code",
   "execution_count": 2,
   "id": "faebd191-fcfd-419b-8585-7249f6da681d",
   "metadata": {},
   "outputs": [
    {
     "name": "stdout",
     "output_type": "stream",
     "text": [
      "4950\n"
     ]
    }
   ],
   "source": [
    "#3.Write a Python program to calculate the sum of all numbers from 1 to 100 using a for loop.\n",
    "u = 0\n",
    "for i in range(1,100):\n",
    "    u = i+u\n",
    "print(u) "
   ]
  },
  {
   "cell_type": "code",
   "execution_count": 3,
   "id": "0163e20b-913c-493f-8d82-73396eca84f1",
   "metadata": {},
   "outputs": [
    {
     "name": "stdout",
     "output_type": "stream",
     "text": [
      "For loop example \n",
      "0\n",
      "1\n",
      "2\n",
      "3\n",
      "4\n"
     ]
    }
   ],
   "source": [
    "#4.How do you iterate through a list using a for loop in Python?\n",
    "'''For loop in pyhton  used to extract element one by one form the iterable object such as a list, tuple, string, or range.\n",
    "basic syntax of for loop is \n",
    "for variable in sequence/rnage: -> here variable is placeholder for each element extracted one by one from the sequence or range\n",
    "example :'''\n",
    "print(\"For loop example \")\n",
    "for i in range(5):\n",
    "    print(i)"
   ]
  },
  {
   "cell_type": "code",
   "execution_count": 3,
   "id": "fefeb0b4-ed12-46dd-ad51-b05bc12c856c",
   "metadata": {},
   "outputs": [
    {
     "name": "stdout",
     "output_type": "stream",
     "text": [
      "List is  [1, 2, 3, 4, 5, 6, 7, 8, 9, 11, 12, 13]\n",
      "Product of all elements in list : 622702080\n"
     ]
    }
   ],
   "source": [
    "#5.Write a Python program to find the product of all elements in a list using a for loop.\n",
    "kl = [1,2,3,4,5,6,7,8,9,11,12,13]\n",
    "u = 1\n",
    "print(\"List is \",kl)\n",
    "for i in kl:\n",
    "    u = i*u\n",
    "print(\"Product of all elements in list :\",u)"
   ]
  },
  {
   "cell_type": "code",
   "execution_count": 4,
   "id": "d4f038c9-2a75-43bb-ad49-de1a96d1cb3f",
   "metadata": {},
   "outputs": [
    {
     "name": "stdout",
     "output_type": "stream",
     "text": [
      "2 4 6 8 10 12 14 16 18 20 "
     ]
    }
   ],
   "source": [
    "#6.Create a Python program that prints all even numbers from 1 to 20 using a for loop.\n",
    "for i in range(1,21):\n",
    "    if i%2 == 0:\n",
    "        print(i,end = \" \")\n",
    "    else:\n",
    "        pass"
   ]
  },
  {
   "cell_type": "code",
   "execution_count": 8,
   "id": "6c42eb6e-71a8-4383-825c-35aede0adcbb",
   "metadata": {},
   "outputs": [
    {
     "name": "stdin",
     "output_type": "stream",
     "text": [
      "Enter a number : 10\n"
     ]
    },
    {
     "name": "stdout",
     "output_type": "stream",
     "text": [
      "Factorial of 10 is 3628800\n"
     ]
    }
   ],
   "source": [
    "#7.Write a Python program that calculates the factorial of a number using a for loop.\n",
    "jk = int(input(\"Enter a number :\"))\n",
    "u = 1\n",
    "for i in range(1,jk+1):\n",
    "    u = i*u\n",
    "print(f\"Factorial of {jk} is {u}\")    "
   ]
  },
  {
   "cell_type": "code",
   "execution_count": 4,
   "id": "1911dcf4-d8b7-4f27-b1ef-f42399a2c76f",
   "metadata": {},
   "outputs": [
    {
     "name": "stdout",
     "output_type": "stream",
     "text": [
      "H\n",
      "i\n",
      "i\n",
      " \n",
      "c\n",
      "h\n",
      "a\n",
      "m\n",
      "p\n"
     ]
    }
   ],
   "source": [
    "#8.How can you iterate through the characters of a string using a for loop in Python?\n",
    "'''For loop in pyhton  used to extract element one by one form the iterable object such as a list, tuple, string, or range.\n",
    "basic syntax of for loop is \n",
    "for variable in sequence/rnage: -> here variable is placeholder for each element extracted one by one from the sequence or range\n",
    "example :'''\n",
    "st = \"Hii champ\"\n",
    "for i in st:\n",
    "    print(i)"
   ]
  },
  {
   "cell_type": "code",
   "execution_count": 9,
   "id": "48d042af-354e-4802-b242-739ebf06fe8d",
   "metadata": {},
   "outputs": [
    {
     "name": "stdout",
     "output_type": "stream",
     "text": [
      "List is  [19, 21, 63, 4, 25, 6, 7, 88, 9, 181, 12, 13]\n",
      "Largest number in list [19, 21, 63, 4, 25, 6, 7, 88, 9, 181, 12, 13] is : 181\n"
     ]
    }
   ],
   "source": [
    "#9.Write a Python program to find the largest number in a list using a for loop.\n",
    "kl = [19,21,63,4,25,6,7,88,9,181,12,13]\n",
    "print(\"List is \",kl)\n",
    "u = 1\n",
    "for i in kl:\n",
    "    if i > u:\n",
    "        u = i\n",
    "    else:\n",
    "        pass\n",
    "print(f\"Largest number in list {kl} is : {u}\")"
   ]
  },
  {
   "cell_type": "code",
   "execution_count": 16,
   "id": "ea09b876-4c0c-47aa-8ae5-8f17907ddbe3",
   "metadata": {},
   "outputs": [
    {
     "name": "stdin",
     "output_type": "stream",
     "text": [
      "Enter the number to print fibonacci number upto : 5\n"
     ]
    },
    {
     "name": "stdout",
     "output_type": "stream",
     "text": [
      "0 1 1 2 3 "
     ]
    }
   ],
   "source": [
    "#10.Create a Python program that prints the Fibonacci sequence up to a specified limit using a for loop.\n",
    "ji = int(input(\"Enter the number to print fibonacci number upto :\"))\n",
    "hj = 1\n",
    "jo = 0\n",
    "for i in range(ji):\n",
    "    print(jo,end = \" \")\n",
    "    pi = jo\n",
    "    jo = jo+hj\n",
    "    hj = pi\n",
    "        "
   ]
  },
  {
   "cell_type": "code",
   "execution_count": 17,
   "id": "51469d62-a954-469e-b0f9-53804aa5bca0",
   "metadata": {},
   "outputs": [
    {
     "name": "stdin",
     "output_type": "stream",
     "text": [
      "Enter a string : shiua ai ur ah hrluioop jkh\n"
     ]
    },
    {
     "name": "stdout",
     "output_type": "stream",
     "text": [
      "Total number of vowels in the given string  11\n"
     ]
    }
   ],
   "source": [
    "#11.Write a Python program to count the number of vowels in a given string using a for loop.\n",
    "st = str(input(\"Enter a string :\"))\n",
    "v = ['a','e','i','o','u']\n",
    "st.lower()\n",
    "count = 0\n",
    "for i in st:\n",
    "    if i in v:\n",
    "        count+= 1\n",
    "    else:\n",
    "        pass\n",
    "print(\"Total number of vowels in the given string \",count)"
   ]
  },
  {
   "cell_type": "code",
   "execution_count": 19,
   "id": "8bd76e80-4041-408e-8489-ed47e0c080c6",
   "metadata": {},
   "outputs": [
    {
     "name": "stdin",
     "output_type": "stream",
     "text": [
      "Enter a number to print multiplication table 9\n"
     ]
    },
    {
     "name": "stdout",
     "output_type": "stream",
     "text": [
      "9 X 1 = 9\n",
      "9 X 2 = 18\n",
      "9 X 3 = 27\n",
      "9 X 4 = 36\n",
      "9 X 5 = 45\n",
      "9 X 6 = 54\n",
      "9 X 7 = 63\n",
      "9 X 8 = 72\n",
      "9 X 9 = 81\n",
      "9 X 10 = 90\n"
     ]
    }
   ],
   "source": [
    "#12.Create a Python program that generates a multiplication table for a given number using a for loop.\n",
    "hg = int(input(\"Enter a number to print multiplication table\"))\n",
    "for i in range(1,11):\n",
    "    print(f\"{hg} X {i} = {hg*i}\")"
   ]
  },
  {
   "cell_type": "code",
   "execution_count": 25,
   "id": "0660efe8-40cb-4ded-9a12-1a6f39e644d2",
   "metadata": {},
   "outputs": [
    {
     "name": "stdout",
     "output_type": "stream",
     "text": [
      "List is  ['a', 'e', 'i', 'o', 'u']\n",
      "After reversing the list : ['u', 'o', 'i', 'e', 'a']\n"
     ]
    }
   ],
   "source": [
    "#13.Write a Python program to reverse a list using a for loop.\n",
    "v = ['a','e','i','o','u']\n",
    "print(\"List is \",v)\n",
    "b = []\n",
    "for i in range(len(v)):\n",
    "    b.append(v[(len(v)-1)-i])\n",
    "print(\"After reversing the list :\",b)"
   ]
  },
  {
   "cell_type": "code",
   "execution_count": 26,
   "id": "acf3ff90-4ef4-4d46-9dad-7c18b6ddacbf",
   "metadata": {},
   "outputs": [
    {
     "name": "stdout",
     "output_type": "stream",
     "text": [
      "List 1 is : [1, 2, 3, 45, 65, 48, 23, 86, 54]\n",
      "List 2 is : [45, 25, 36, 29, 92, 86, 54, 75, 94, 85, 62, 53, 94, 73, 89]\n",
      "Common element is : 45 86 54 "
     ]
    }
   ],
   "source": [
    "#14.Write a Python program to find the common elements between two lists using a for loop.\n",
    "uy = [1,2,3,45,65,48,23,86,54]\n",
    "kl =  [45,25,36,29,92,86,54,75,94,85,62,53,94,73,89]\n",
    "print(\"List 1 is :\",uy)\n",
    "print(\"List 2 is :\",kl)\n",
    "jk = []\n",
    "print(\"Common element is :\",end = \" \")\n",
    "for i in uy:\n",
    "    for o in kl:\n",
    "        if i == o:\n",
    "            print(i,end = \" \")\n",
    "        else:\n",
    "            pass"
   ]
  },
  {
   "cell_type": "code",
   "execution_count": 7,
   "id": "f3c90298-29df-4d7b-b406-3948ca7239be",
   "metadata": {},
   "outputs": [
    {
     "name": "stdout",
     "output_type": "stream",
     "text": [
      "hii\n",
      "jio\n",
      "kiy\n",
      "ttr\n"
     ]
    }
   ],
   "source": [
    "#15.Explain how to use a for loop to iterate through the keys and values of a dictionary in Python.\n",
    "'''For loop in pyhton  used to extract element one by one form the iterable object such as a list, tuple, string, or range.\n",
    "basic syntax of for loop is \n",
    "for variable in sequence/rnage: -> here variable is placeholder for each element extracted one by one from the sequence or range\n",
    "for iterate through the keys and values of a dictionary pass (keys,value) as variable\n",
    "example :'''\n",
    "ki = {0:\"hii\",1:\"jio\",2:\"kiy\",3:\"ttr\"} # i hold key from ki(dictionary)\n",
    "for i in ki:\n",
    "    print(ki[i])"
   ]
  },
  {
   "cell_type": "code",
   "execution_count": 27,
   "id": "333c2ce0-c7bc-428a-a03c-c5f00fd9eb01",
   "metadata": {},
   "outputs": [
    {
     "name": "stdin",
     "output_type": "stream",
     "text": [
      "Enteer the first number : 48\n",
      "Enteer the second  number : 56\n"
     ]
    },
    {
     "name": "stdout",
     "output_type": "stream",
     "text": [
      "The greatest common divisor (GCD) of two numbers is : 8\n"
     ]
    }
   ],
   "source": [
    "#16.Write a Python program to find the GCD (Greatest Common Divisor) of two numbers using a for loop.\n",
    "rt = int(input(\"Enteer the first number :\"))\n",
    "v  = int(input(\"Enteer the second  number :\"))\n",
    "j = []\n",
    "jp = []\n",
    "for i in range(1,rt+1):\n",
    "    if rt%i == 0:\n",
    "        j.append(i)\n",
    "for ik in range(1,v+1):\n",
    "    if v%ik == 0:\n",
    "        jp.append(ik)\n",
    "j = set(j)\n",
    "jp = set(jp)\n",
    "ju = j.intersection(jp)\n",
    "print(\"The greatest common divisor (GCD) of two numbers is :\",max(ju))"
   ]
  },
  {
   "cell_type": "code",
   "execution_count": 28,
   "id": "accd99d1-cd93-47bb-855a-97f265534a4a",
   "metadata": {},
   "outputs": [
    {
     "name": "stdin",
     "output_type": "stream",
     "text": [
      "Enter a string  hjkkjh\n"
     ]
    },
    {
     "name": "stdout",
     "output_type": "stream",
     "text": [
      "Yes string is palindrome \n"
     ]
    }
   ],
   "source": [
    "#17.Create a Python program that checks if a string is a palindrome using a for loop.\n",
    "hp = str(input(\"Enter a string \"))\n",
    "hp = list(hp)\n",
    "ph =[]\n",
    "count = 0\n",
    "for i in range(len(hp)):\n",
    "    ph.append(hp[(len(hp)-1)-i])\n",
    "for j in range(len(hp)):\n",
    "    if hp[j] == ph[j]:\n",
    "        pass\n",
    "    else:\n",
    "        count += 1\n",
    "if count == 0:\n",
    "    print(\"Yes string is palindrome \")\n",
    "else:\n",
    "    print(\"No string is not palindrome \")\n",
    "    "
   ]
  },
  {
   "cell_type": "code",
   "execution_count": 29,
   "id": "3d798663-7dbf-40ba-b050-ed7d101e0459",
   "metadata": {},
   "outputs": [
    {
     "name": "stdout",
     "output_type": "stream",
     "text": [
      "After removing all duplicate from the list : [1, 2, 3, 4, 5, 6, 9, 87, 23, 61]\n"
     ]
    }
   ],
   "source": [
    "#18.Write a Python program to remove duplicates from a list using a for loop.\n",
    "l1 = [1,2,3,4,5,6,9,87,4,5,23,61,1,5,2,3]\n",
    "k = []\n",
    "for i in l1:\n",
    "    if i in k:\n",
    "        pass\n",
    "    else:\n",
    "        k.append(i)\n",
    "print(\"After removing all duplicate from the list :\",k)"
   ]
  },
  {
   "cell_type": "code",
   "execution_count": 32,
   "id": "e239b970-821f-406c-b2a7-2b2768d22c26",
   "metadata": {},
   "outputs": [
    {
     "name": "stdout",
     "output_type": "stream",
     "text": [
      "String is : Someone is knocking on the door\n",
      "Number of  C : 1\n",
      "Number of  D : 1\n",
      "Number of  E : 3\n",
      "Number of  G : 1\n",
      "Number of  H : 1\n",
      "Number of  I : 2\n",
      "Number of  K : 2\n",
      "Number of  M : 1\n",
      "Number of  N : 4\n",
      "Number of  O : 6\n",
      "Number of  R : 1\n",
      "Number of  S : 2\n",
      "Number of  T : 1\n"
     ]
    }
   ],
   "source": [
    "#19.Create a Python program that counts the number of words in a sentence using a for loop.\n",
    "mhj = \"Someone is knocking on the door\"\n",
    "print(\"String is :\",mhj)\n",
    "pu = \"ABCDEFGHIJKLMNOPQRSTUVWXYZ\"\n",
    "mhj = mhj.upper()\n",
    "count = 0\n",
    "for i in pu:\n",
    "    for t in mhj:\n",
    "        if i == t:\n",
    "            count += 1\n",
    "    if count > 0:\n",
    "        print(\"Number of \",i,\":\",count)\n",
    "    else:\n",
    "        pass\n",
    "    count = 0"
   ]
  },
  {
   "cell_type": "code",
   "execution_count": 33,
   "id": "28c68b3c-eb97-4a72-96c6-d0850513fe42",
   "metadata": {},
   "outputs": [
    {
     "name": "stdout",
     "output_type": "stream",
     "text": [
      "Sum of all odd number from 1 to 50 : 625\n"
     ]
    }
   ],
   "source": [
    "#20.Write a Python program to find the sum of all odd numbers from 1 to 50 using a for loop.\n",
    "h = 0\n",
    "for i in range(1,51):\n",
    "    if i%2 == 0:\n",
    "        pass\n",
    "    else:\n",
    "        h = i+h\n",
    "print(\"Sum of all odd number from 1 to 50 :\",h)"
   ]
  },
  {
   "cell_type": "code",
   "execution_count": 34,
   "id": "2431c9d0-8bd7-4164-b2dc-f040599f56e6",
   "metadata": {},
   "outputs": [
    {
     "name": "stdin",
     "output_type": "stream",
     "text": [
      "Enter year : 2025\n"
     ]
    },
    {
     "name": "stdout",
     "output_type": "stream",
     "text": [
      "Year is not leap year\n"
     ]
    }
   ],
   "source": [
    "#21.Write a Python program that checks if a given year is a leap year using a for loop.\n",
    "lp = int(input(\"Enter year :\"))\n",
    "if lp%100 == 0 and lp%400 != 0:\n",
    "     print(\"Year is not leap year\")\n",
    "elif lp%4 == 0:\n",
    "        print(\"Year is leap year \")\n",
    "else:\n",
    "    print(\"Year is not leap year\")"
   ]
  },
  {
   "cell_type": "code",
   "execution_count": 34,
   "id": "fa6ac881-2ce8-4a98-929c-c9adbd3328a9",
   "metadata": {},
   "outputs": [
    {
     "name": "stdin",
     "output_type": "stream",
     "text": [
      "Enter a number : 89\n"
     ]
    },
    {
     "name": "stdout",
     "output_type": "stream",
     "text": [
      "Square root of 89 is : 9.3 approx\n"
     ]
    }
   ],
   "source": [
    "#22.Create a Python program that calculates the square root of a number using a for loop.\n",
    "p = int(input(\"Enter a number :\")) # print square root upto 100 number\n",
    "for i in range(p):\n",
    "    if i*i == p:\n",
    "        print(f\"Square root of {p} is : {i}\")\n",
    "    elif (i*i) - 9 < p and (i*i)+9 > p:\n",
    "        if (i*i) - 5 > p or i*i > p:\n",
    "            if (i-0.5)*(i-0.5) > p:\n",
    "                print(f\"Square root of {p} is : {i-0.7} approx\")\n",
    "            else:\n",
    "                print(f\"Square root of {p} is : {i-0.3} approx\")\n",
    "        else:\n",
    "            if (i+0.5)*(i+0.5) < p:\n",
    "                print(f\"Square root of {p} is : {i-0.3} approx\")\n",
    "            else:\n",
    "                print(f\"Square root of {p} is : {i+0.3} approx\")\n",
    "    else:\n",
    "        pass\n",
    "        "
   ]
  },
  {
   "cell_type": "code",
   "execution_count": 9,
   "id": "0c74d896-91ce-4c0b-9ea0-5727dd710830",
   "metadata": {},
   "outputs": [
    {
     "name": "stdin",
     "output_type": "stream",
     "text": [
      "Enter 1st number : 50\n",
      "Enter 2nd nmber : 120\n"
     ]
    },
    {
     "name": "stdout",
     "output_type": "stream",
     "text": [
      "Lcm of 50 and 120 is :  600\n"
     ]
    }
   ],
   "source": [
    "#23.Write a Python program to find the LCM (Least Common Multiple) of two numbers using a for loop.\n",
    "n1 = int(input(\"Enter 1st number :\"))\n",
    "n2 = int(input(\"Enter 2nd nmber :\"))\n",
    "hj = n1*n2\n",
    "for i in range(max(n1,n2),hj+1):\n",
    "    if i%n1 == 0 and i%n2 == 0:\n",
    "        print(f\"Lcm of {n1} and {n2} is : \",i)\n",
    "        break  "
   ]
  },
  {
   "cell_type": "code",
   "execution_count": 10,
   "id": "4a22b84e-ab32-4c20-b57b-e5ce423dad49",
   "metadata": {},
   "outputs": [],
   "source": [
    "#If else :\n"
   ]
  },
  {
   "cell_type": "code",
   "execution_count": 11,
   "id": "bb2c39bf-4469-452b-9e18-3f2fa9a2cec2",
   "metadata": {},
   "outputs": [
    {
     "name": "stdin",
     "output_type": "stream",
     "text": [
      "Enter a number : -48\n"
     ]
    },
    {
     "name": "stdout",
     "output_type": "stream",
     "text": [
      "Number is Negative\n"
     ]
    }
   ],
   "source": [
    "#1.Write a Python program to check if a number is positive, negative, or zero using an if-else statement.\n",
    "tr = int(input(\"Enter a number :\"))\n",
    "if tr > 0:\n",
    "    print(\"Number is Positive\")\n",
    "elif tr == 0:\n",
    "     print(\"Number is Zero\")\n",
    "else:\n",
    "     print(\"Number is Negative\")"
   ]
  },
  {
   "cell_type": "code",
   "execution_count": 12,
   "id": "ca72b133-75ee-4a0a-9379-cdb552c2f291",
   "metadata": {},
   "outputs": [
    {
     "name": "stdin",
     "output_type": "stream",
     "text": [
      "Enter a number  5868\n"
     ]
    },
    {
     "name": "stdout",
     "output_type": "stream",
     "text": [
      "Number is even :\n"
     ]
    }
   ],
   "source": [
    "#2.Create a Python program that checks if a given number is even or odd using an if-else statement\n",
    "hg = int(input(\"Enter a number \"))\n",
    "if hg%2 == 0:\n",
    "    print(\"Number is even :\")\n",
    "else:\n",
    "    print(\"Number is odd :\")"
   ]
  },
  {
   "cell_type": "code",
   "execution_count": 35,
   "id": "5113ce8d-4d71-4aea-98ea-f92a741533d8",
   "metadata": {},
   "outputs": [
    {
     "name": "stdin",
     "output_type": "stream",
     "text": [
      "Enter a number : 45\n"
     ]
    },
    {
     "name": "stdout",
     "output_type": "stream",
     "text": [
      "Square root of 45 is : 6.7 approx\n"
     ]
    }
   ],
   "source": [
    "#3.How can you use nested if-else statements in Python, and provide an example?\n",
    "'''Nested if-else used to calculate condition inside a condition \n",
    "where if condition place inside another if-else condition \n",
    "basic syntax is \n",
    "if condition :\n",
    "      if condition:\n",
    "      #code to execute  \n",
    "      else:\n",
    "      #code to execute\n",
    "else:\n",
    "#code to execute\n",
    "here is synatx'''\n",
    "# program that calculates the square root of a number using a for loop.\n",
    "p = int(input(\"Enter a number :\")) # print square root upto 100 number\n",
    "for i in range(p):\n",
    "    if i*i == p:\n",
    "        print(f\"Square root of {p} is : {i}\")\n",
    "    elif (i*i) - 9 < p and (i*i)+9 > p:\n",
    "        if (i*i) - 5 > p or i*i > p:\n",
    "            if (i-0.5)*(i-0.5) > p:\n",
    "                print(f\"Square root of {p} is : {i-0.7} approx\")\n",
    "            else:\n",
    "                print(f\"Square root of {p} is : {i-0.3} approx\")\n",
    "        else:\n",
    "            if (i+0.5)*(i+0.5) < p:\n",
    "                print(f\"Square root of {p} is : {i-0.3} approx\")\n",
    "            else:\n",
    "                print(f\"Square root of {p} is : {i+0.3} approx\")\n",
    "    else:\n",
    "        pass\n",
    "        "
   ]
  },
  {
   "cell_type": "code",
   "execution_count": 13,
   "id": "529da0bd-ec75-49ea-97ef-ef620a1a0e47",
   "metadata": {},
   "outputs": [
    {
     "name": "stdin",
     "output_type": "stream",
     "text": [
      "Enter a number1 : 48\n",
      "Enter a number2 : 599\n",
      "Enter a number3 : 899\n"
     ]
    },
    {
     "name": "stdout",
     "output_type": "stream",
     "text": [
      "899 is greater than among three number \n"
     ]
    }
   ],
   "source": [
    "#4.Write a Python program to determine the largest of three numbers using if-else.\n",
    "vb = int(input(\"Enter a number1 :\"))\n",
    "bv = int(input(\"Enter a number2 :\"))\n",
    "ch = int(input(\"Enter a number3 :\"))\n",
    "if vb > bv:\n",
    "    if vb >ch:\n",
    "        print(f\"{vb} is greater than among three number \")\n",
    "else:\n",
    "    if bv >ch:\n",
    "        print(f\"{bv} is greater than among three number \")\n",
    "    else:\n",
    "        print(f\"{ch} is greater than among three number \")"
   ]
  },
  {
   "cell_type": "code",
   "execution_count": 17,
   "id": "99a33829-8b96-4fcb-b1f7-61809541eb65",
   "metadata": {},
   "outputs": [
    {
     "name": "stdin",
     "output_type": "stream",
     "text": [
      "Enter a number  -5.63\n"
     ]
    },
    {
     "name": "stdout",
     "output_type": "stream",
     "text": [
      "Absolute value is : 5.63\n"
     ]
    }
   ],
   "source": [
    "#5.Write a Python program that calculates the absolute value of a number using if-else.\n",
    "hg = float(input(\"Enter a number \"))\n",
    "if hg > 0:\n",
    "    print(\"Absolute value is :\",hg)\n",
    "else:\n",
    "    print(\"Absolute value is :\",hg*(-1))"
   ]
  },
  {
   "cell_type": "code",
   "execution_count": 18,
   "id": "74e84ec4-b866-4f52-abec-438f46c9f7dd",
   "metadata": {},
   "outputs": [
    {
     "name": "stdin",
     "output_type": "stream",
     "text": [
      "Enter a character  p\n"
     ]
    },
    {
     "name": "stdout",
     "output_type": "stream",
     "text": [
      "Given character is consonant\n"
     ]
    }
   ],
   "source": [
    "#6.Create a Python program that checks if a given character is a vowel or consonant using if-else.\n",
    "ju = str(input(\"Enter a character \"))\n",
    "v = ['a','e','i','o','u']\n",
    "ju.lower()\n",
    "if ju in v:\n",
    "    print(\"Given character is vowel\")\n",
    "else:\n",
    "    print(\"Given character is consonant\")"
   ]
  },
  {
   "cell_type": "code",
   "execution_count": 19,
   "id": "7283ce7a-df33-4bc3-876a-5dcb8ac645fb",
   "metadata": {},
   "outputs": [
    {
     "name": "stdin",
     "output_type": "stream",
     "text": [
      "Enter Age : 14\n"
     ]
    },
    {
     "name": "stdout",
     "output_type": "stream",
     "text": [
      "Person is not eligible for vote\n"
     ]
    }
   ],
   "source": [
    "#7.Write a Python program to determine if a user is eligible to vote based on their age using if-else.\n",
    "gr = int(input(\"Enter Age :\"))\n",
    "if gr > 18:\n",
    "    print(\"Person is eligible for vote\")\n",
    "else:\n",
    "    print(\"Person is not eligible for vote\")"
   ]
  },
  {
   "cell_type": "code",
   "execution_count": 20,
   "id": "867a78d1-b130-4fa3-8976-e353854c20bd",
   "metadata": {},
   "outputs": [
    {
     "name": "stdin",
     "output_type": "stream",
     "text": [
      "Enter purchased amount : 789\n"
     ]
    },
    {
     "name": "stdout",
     "output_type": "stream",
     "text": [
      "Discount is 25% \n",
      " price is : 591.75\n"
     ]
    }
   ],
   "source": [
    "#8.Create a Python program that calculates the discount amount based on the purchase amount using if-else.\n",
    "bm = int(input(\"Enter purchased amount :\"))\n",
    "if bm < 400:\n",
    "    print(\"Discount is 5%\",'\\n',\"price is :\",(bm*95)/100)\n",
    "elif bm > 400 and bm < 600:\n",
    "    print(\"Discount is 15%\",'\\n',\"price is :\",(bm*85)/100)\n",
    "elif bm > 600 and bm < 800: \n",
    "    print(\"Discount is 25%\",'\\n',\"price is :\",(bm*75)/100)\n",
    "elif bm > 800 and bm < 950: \n",
    "    print(\"Discount is 35%\",'\\n',\"price is :\",(bm*65)/100)\n",
    "else:\n",
    "    print(\"Discount is 55%\",'\\n',\"price is :\",(bm*45)/100)"
   ]
  },
  {
   "cell_type": "code",
   "execution_count": 21,
   "id": "d29c50f2-6a6a-40e7-97b2-27a8692d7342",
   "metadata": {},
   "outputs": [
    {
     "name": "stdin",
     "output_type": "stream",
     "text": [
      "Enter a number  568\n"
     ]
    },
    {
     "name": "stdout",
     "output_type": "stream",
     "text": [
      "568 in range 200 to 800:\n"
     ]
    }
   ],
   "source": [
    "#9.Write a Python program to check if a number is within a specified range using if-else.\n",
    "hy = int(input(\"Enter a number \"))\n",
    "if hy > 0 and hy <= 200:\n",
    "    print(f\"{hy} in range 0 to 200:\")\n",
    "elif hy > 200 and hy <= 800:\n",
    "    print(f\"{hy} in range 200 to 800:\")\n",
    "elif hy > 800 and hy <= 2000:\n",
    "    print(f\"{hy} in range 800 to 2000\")\n",
    "else:\n",
    "    print(\"{hy} is out of range\")\n",
    "    ''' check upto range 2000 number'''"
   ]
  },
  {
   "cell_type": "code",
   "execution_count": 22,
   "id": "450c683e-556d-456c-a5d4-18ae54a0a492",
   "metadata": {},
   "outputs": [
    {
     "name": "stdin",
     "output_type": "stream",
     "text": [
      "Enter a score of student: 89\n"
     ]
    },
    {
     "name": "stdout",
     "output_type": "stream",
     "text": [
      "Grade is 'A'\n"
     ]
    }
   ],
   "source": [
    "#10.Create a Python program that determines the grade of a student based on their score using if-else.\n",
    "bm = int(input(\"Enter a score of student:\"))\n",
    "if bm < 40:\n",
    "    print(\"Grade is 'D'\")\n",
    "elif bm > 40 and bm < 60:\n",
    "    print(\"Grade is 'C'\")\n",
    "elif bm > 60 and bm < 80: \n",
    "    print(\"Grade is 'B'\")\n",
    "elif bm > 80 and bm < 95: \n",
    "    print(\"Grade is 'A'\")\n",
    "else:\n",
    "    print(\"Grade is 'A++'\")"
   ]
  },
  {
   "cell_type": "code",
   "execution_count": 24,
   "id": "85390959-2869-4cf6-99a5-fc6ff61f6d42",
   "metadata": {},
   "outputs": [
    {
     "name": "stdin",
     "output_type": "stream",
     "text": [
      "Enter a string  \n"
     ]
    },
    {
     "name": "stdout",
     "output_type": "stream",
     "text": [
      "String is empty\n"
     ]
    }
   ],
   "source": [
    "#11.Write a Python program to check if a string is empty or not using if-else.\n",
    "u = \"abcdefghijklmnopqrstuvwxyz\"\n",
    "hg = str(input(\"Enter a string\"))\n",
    "hg.lower()\n",
    "count = 0\n",
    "for i in hg:\n",
    "    if i in u:\n",
    "        count += 1\n",
    "    else:\n",
    "        pass\n",
    "if count == 0:\n",
    "    print(\"String is empty\")\n",
    "else:\n",
    "    print(\"String is not empty\")"
   ]
  },
  {
   "cell_type": "code",
   "execution_count": 1,
   "id": "75f1bc72-56fa-446a-8c1b-884a2ff1d2c9",
   "metadata": {},
   "outputs": [
    {
     "name": "stdin",
     "output_type": "stream",
     "text": [
      "Enter a side 1 of triangle : 45\n",
      "Enter a side 2 of triangle : 78\n",
      "Enter a side 3 of triangle : 45\n"
     ]
    },
    {
     "name": "stdout",
     "output_type": "stream",
     "text": [
      "Triangle is isosceles triangle:\n"
     ]
    }
   ],
   "source": [
    "#12.Create a Python program that identifies the type of a triangle (e.g., equilateral, isosceles, or scalene) based on input values using if-else.\n",
    "vb = int(input(\"Enter a side 1 of triangle :\"))\n",
    "bv = int(input(\"Enter a side 2 of triangle :\"))\n",
    "ch = int(input(\"Enter a side 3 of triangle :\"))\n",
    "if vb == bv and bv == ch:\n",
    "    print(\"Triangle is equilateral triangle:\")\n",
    "elif vb == bv or bv == ch or ch == vb:\n",
    "    print(\"Triangle is isosceles triangle:\")\n",
    "else:\n",
    "    print(\"Triangle is scalene triangle:\")"
   ]
  },
  {
   "cell_type": "code",
   "execution_count": 2,
   "id": "675c0ff5-016a-44ed-a21c-d33872a28ece",
   "metadata": {},
   "outputs": [
    {
     "name": "stdin",
     "output_type": "stream",
     "text": [
      "Enter a day number from '1 to 7' : 3\n"
     ]
    },
    {
     "name": "stdout",
     "output_type": "stream",
     "text": [
      "Day is : Wednesday\n"
     ]
    }
   ],
   "source": [
    "#13.Write a Python program to determine the day of the week based on a user-provided number using if-else\n",
    "hg = {1:'Monday',2:'Tuesday',3:'Wednesday',4:'Thrusday',5:'Friday',6:'saturday',7:'Sunday'}\n",
    "dy = int(input(f\"Enter a day number from '1 to 7' :\"))\n",
    "print(\"Day is :\",hg[dy])"
   ]
  },
  {
   "cell_type": "code",
   "execution_count": 3,
   "id": "7ce9ffc6-5f72-4d7f-9c59-df278ed1640e",
   "metadata": {},
   "outputs": [
    {
     "name": "stdin",
     "output_type": "stream",
     "text": [
      "Enter year : 2000\n"
     ]
    },
    {
     "name": "stdout",
     "output_type": "stream",
     "text": [
      "Year is leap year\n"
     ]
    }
   ],
   "source": [
    "#14.Create a Python program that checks if a given year is a leap year using both if-else and a function.\n",
    "lp = int(input(\"Enter year :\"))\n",
    "if lp%100 == 0 and lp%400 != 0:\n",
    "     print(\"Year is not leap year\")\n",
    "elif lp%4 == 0:\n",
    "    print(\"Year is leap year\")\n",
    "else:\n",
    "    print(\"Year is not leap year\")"
   ]
  },
  {
   "cell_type": "code",
   "execution_count": 41,
   "id": "18bd70c9-15ed-4b41-a581-75f37b5e1a50",
   "metadata": {},
   "outputs": [
    {
     "name": "stdout",
     "output_type": "stream",
     "text": [
      "AssertionError: Cannot divide by zero\n"
     ]
    }
   ],
   "source": [
    "#15.How do you use the \"assert\" statement in Python to add debugging checks within if-else blocks?\n",
    "'''\n",
    "assert statement is to debugging  checks in code  and It evaluates an expression and raises an AssertionError if expression is false \n",
    "then it carry on the further code/statement\n",
    "'''\n",
    "try:\n",
    "    n = 10\n",
    "    d = 0\n",
    "    assert d != 0, \"Cannot divide by zero\"\n",
    "    result = n / d\n",
    "    print(f\"The result of the division is: {result}\")\n",
    "except AssertionError as e:\n",
    "    print(f\"AssertionError: {e}\")\n"
   ]
  },
  {
   "cell_type": "code",
   "execution_count": 6,
   "id": "bf6925fc-8abd-4e53-bd01-9a900cbf3d44",
   "metadata": {},
   "outputs": [
    {
     "name": "stdin",
     "output_type": "stream",
     "text": [
      "Enter Age : 78\n"
     ]
    },
    {
     "name": "stdout",
     "output_type": "stream",
     "text": [
      "Senior citizen discount is 35%\n"
     ]
    }
   ],
   "source": [
    "#16.Create a Python program that determines the eligibility of a person for a senior citizen discount based on age using if-else.\n",
    "bm = int(input(\"Enter Age :\"))\n",
    "if bm < 50:\n",
    "    print(\"Not eliglible for senior citizen discount\")\n",
    "if bm > 50 and bm < 60:\n",
    "    print(\" Senior citizen discount is 5%\")\n",
    "elif bm > 60 and bm < 65:\n",
    "    print(\"Senior citizen discount is 15%\")\n",
    "elif bm > 65 and bm < 70: \n",
    "    print(\"Senior citizen discount is 25%\")\n",
    "elif bm > 75 and bm < 80: \n",
    "    print(\"Senior citizen discount is 35%\")\n",
    "else:\n",
    "    print(\"Senior citizen discount is 55%\")"
   ]
  },
  {
   "cell_type": "code",
   "execution_count": 9,
   "id": "c6b701ef-71fa-4a3b-a933-83d5877be90f",
   "metadata": {},
   "outputs": [
    {
     "name": "stdin",
     "output_type": "stream",
     "text": [
      "Enter the value: 9\n"
     ]
    },
    {
     "name": "stdout",
     "output_type": "stream",
     "text": [
      "9 is neither lowercase nor uppercase\n"
     ]
    }
   ],
   "source": [
    "#17.Write a Python program to categorize a given character as uppercase, lowercase, or neither using if-els\n",
    "u = \"abcdefghijklmnopqrstuvwxyz\"\n",
    "v = u.upper()\n",
    "gt = input(\"Enter the value:\")\n",
    "if gt in v:\n",
    "    print(f\"{gt} is uppercase :\")\n",
    "elif gt in u:\n",
    "    print(f\"{gt} is lowercase :\")\n",
    "else:\n",
    "    print(f\"{gt} is neither lowercase nor uppercase\")"
   ]
  },
  {
   "cell_type": "code",
   "execution_count": 2,
   "id": "9887aeeb-c4b0-4875-ba1b-b7fe5fef3c4c",
   "metadata": {},
   "outputs": [
    {
     "name": "stdout",
     "output_type": "stream",
     "text": [
      "Quadratic Equation Solver \n",
      " The quadratic equation is in the form: ax^2 + bx + c = 0\n"
     ]
    },
    {
     "name": "stdin",
     "output_type": "stream",
     "text": [
      "Enter the coefficient a: 4\n",
      "Enter the coefficient a: 5\n",
      "Enter the coefficient a: 6\n"
     ]
    },
    {
     "name": "stdout",
     "output_type": "stream",
     "text": [
      "The roots of the quadratic equation are: (-0.625+1.0532687216470449j) and  (-0.625-1.0532687216470449j)\n"
     ]
    }
   ],
   "source": [
    "#18.Write a Python program to determine the roots of a quadratic equation using if-else.\n",
    "import cmath\n",
    "print(\"Quadratic Equation Solver\",\"\\n\",\"The quadratic equation is in the form: ax^2 + bx + c = 0\")\n",
    "a = int(input(\"Enter the coefficient a:\"))\n",
    "b = int(input(\"Enter the coefficient a:\"))\n",
    "c = int(input(\"Enter the coefficient a:\"))\n",
    "if a == 0:\n",
    "    print(\"Square root is :\",-c/b)\n",
    "elif b == 0:\n",
    "    print(\"Square root is :\",cmath.sqrt(-c/a))\n",
    "else:\n",
    "    rt1 = (-b + cmath.sqrt(((b**2)-(4*a*c))))/(2*a)\n",
    "    rt2 = (-b - cmath.sqrt(((b**2)-(4*a*c))))/(2*a)\n",
    "    print(\"The roots of the quadratic equation are:\",rt1,\"and \",rt2)"
   ]
  },
  {
   "cell_type": "code",
   "execution_count": 1,
   "id": "4ad19174-441d-43a2-b31f-aa7eb6df2f04",
   "metadata": {},
   "outputs": [
    {
     "name": "stdin",
     "output_type": "stream",
     "text": [
      "Enter year : 2024\n"
     ]
    },
    {
     "name": "stdout",
     "output_type": "stream",
     "text": [
      "Year is leap year and not century\n"
     ]
    }
   ],
   "source": [
    "#19.Create a Python program that checks if a given year is a century year or not using if-else.\n",
    "lp = int(input(\"Enter year :\"))\n",
    "if lp%100 == 0 and lp%400 != 0:\n",
    "     print(\"Year is not leap year\")\n",
    "elif lp%4 == 0:\n",
    "    if lp%100 == 0:\n",
    "        print(\"Year is leap year and  century\")\n",
    "    else:\n",
    "        print(\"Year is leap year and not century\")\n",
    "else:\n",
    "    print(\"Year is not leap year\")"
   ]
  },
  {
   "cell_type": "code",
   "execution_count": 8,
   "id": "d5b8135b-cf1f-4f4d-9d2e-2c904acc3e78",
   "metadata": {},
   "outputs": [
    {
     "name": "stdin",
     "output_type": "stream",
     "text": [
      "Enter a number 25\n"
     ]
    },
    {
     "name": "stdout",
     "output_type": "stream",
     "text": [
      "It is a perfect square \n"
     ]
    }
   ],
   "source": [
    "#20.Write a Python program to determine if a given number is a perfect square using if-else.\n",
    "k = int(input(\"Enter a number\"))\n",
    "l= round(k**0.5)\n",
    "if l*l == k:\n",
    "    print(\"It is a perfect square \")\n",
    "else:\n",
    "    print(\"It is not a perfect square\")"
   ]
  },
  {
   "cell_type": "code",
   "execution_count": 56,
   "id": "1a8f4487-e825-40d5-a03b-ef48f047ca36",
   "metadata": {},
   "outputs": [
    {
     "name": "stdout",
     "output_type": "stream",
     "text": [
      "1\n",
      "2\n",
      "3\n",
      "4\n",
      "5\n",
      "Here break the loop \n"
     ]
    }
   ],
   "source": [
    "#21.Explain the purpose of the \"continue\" and \"break\" statements within if-else loops.\n",
    "''' Continue and break used to control flow in loops \n",
    "Continue is used to ignore the condition and the further code and iteration \n",
    "Break is used to break/out/exit the loop prematurely '''\n",
    "'''example of continue'''\n",
    "\n",
    "for l in range(2):\n",
    "    continue\n",
    "    print(l)\n",
    "'''example of break'''\n",
    "for i in range(1,9):\n",
    "    if i>5:\n",
    "        print(\"Here break the loop \")\n",
    "        break\n",
    "    else:\n",
    "        print(i)\n",
    "        "
   ]
  },
  {
   "cell_type": "code",
   "execution_count": 2,
   "id": "8ef32f1e-787a-4c39-92c0-8947094ecfb4",
   "metadata": {},
   "outputs": [
    {
     "name": "stdin",
     "output_type": "stream",
     "text": [
      "Enter height of person in meter : 1.7\n",
      "Enter weight of person in kg : 90\n"
     ]
    },
    {
     "name": "stdout",
     "output_type": "stream",
     "text": [
      "Person fall obese in category \n"
     ]
    }
   ],
   "source": [
    "#22.Create a Python program that calculates the BMI (Body Mass Index) of a person based on their weight and height using if-else.\n",
    "h = float(input(\"Enter height of person in meter :\"))\n",
    "w  = float(input(\"Enter weight of person in kg :\"))\n",
    "bmi = w/(h*h)\n",
    "if bmi >= 30:\n",
    "    print(\"Person fall obese in category \")\n",
    "elif bmi <= 29.9 and bmi >= 25:\n",
    "    print(\"Person fall in overweight category \")\n",
    "elif bmi <= 24.9 and bmi >= 18.5:\n",
    "    print(\"Person fall in normal weight category \")\n",
    "else:\n",
    "    print(\"Person fall in underweight category \")"
   ]
  },
  {
   "cell_type": "code",
   "execution_count": 57,
   "id": "9c5b2b2d-2fa9-47f9-a104-dd669bbfd382",
   "metadata": {},
   "outputs": [
    {
     "name": "stdout",
     "output_type": "stream",
     "text": [
      "Example of 'filter()' function with if-else statements to filter even elements from a list \n",
      "List is : [1, 2, 3, 4, 5, 6, 7, 8, 9, 10, 12, 14, 16, 11, 2, 12]\n",
      "Even element from the list is : [2, 4, 6, 8, 10, 12, 14, 16, 2, 12]\n"
     ]
    }
   ],
   "source": [
    "#23.How can you use the \"filter()\" function with if-else statements to filter elements from a list?\n",
    "print(\"Example of 'filter()' function with if-else statements to filter even elements from a list \")\n",
    "ly = [1,2,3,4,5,6,7,8,9,10,12,14,16,11,2,12]\n",
    "print(\"List is :\",ly)\n",
    "def hi(k):\n",
    "    if k%2 == 0:\n",
    "        return k\n",
    "    else:\n",
    "        pass\n",
    "hy = filter(hi,ly)\n",
    "print(\"Even element from the list is :\",list(hy))"
   ]
  },
  {
   "cell_type": "code",
   "execution_count": 13,
   "id": "56e655cb-e7db-4788-9418-52ce81c2ac16",
   "metadata": {},
   "outputs": [
    {
     "name": "stdin",
     "output_type": "stream",
     "text": [
      "Enter a number : 79\n"
     ]
    },
    {
     "name": "stdout",
     "output_type": "stream",
     "text": [
      "It is prime number\n"
     ]
    }
   ],
   "source": [
    "#24.Write a Python program to determine if a given number is prime or not using if-else.\n",
    "from math import sqrt\n",
    "wq =[2,3,4,5,6,7,8,9]\n",
    "r = int(input(\"Enter a number :\"))\n",
    "count = 0\n",
    "if r < 4 or r == 5 or r == 7:\n",
    "     pass\n",
    "else:\n",
    "    if (round(sqrt(r),1)*round(sqrt(r),1)) == r:\n",
    "        count += 1\n",
    "    else:\n",
    "        for lo in wq:\n",
    "            if r%lo == 0:\n",
    "                count += 1\n",
    "                break\n",
    "if count == 0:\n",
    "    print(\"It is prime number\")\n",
    "else:\n",
    "    print(\"It is not a prime number\")"
   ]
  },
  {
   "cell_type": "code",
   "execution_count": null,
   "id": "a7645a6b-28d8-4866-99aa-b7b2f37bd7b9",
   "metadata": {},
   "outputs": [],
   "source": [
    "#Map :-\n"
   ]
  },
  {
   "cell_type": "code",
   "execution_count": 58,
   "id": "fe4b750b-100b-4bef-abf2-01acd29f1725",
   "metadata": {},
   "outputs": [
    {
     "name": "stdout",
     "output_type": "stream",
     "text": [
      "program that uses the `map()` function to square each element of a list of numbers.\n",
      "[4, 9, 36, 64, 81, 3136]\n"
     ]
    }
   ],
   "source": [
    "#1.Explain the purpose of the `map()` function in Python and provide an example of how it can be used to apply a function to each element of an iterable.\n",
    "''' Map is a function used to apply a specific function to every element of iterable (such as a list, tuple, or string) and return \n",
    "iterate \n",
    "basic synatx is \n",
    "map(function, iterable, ...)\n",
    "example '''\n",
    "print(\"program that uses the `map()` function to square each element of a list of numbers.\")\n",
    "lt = [2,3,6,8,9,56]\n",
    "g = map(lambda x : x*x ,lt)\n",
    "print(list(g))"
   ]
  },
  {
   "cell_type": "code",
   "execution_count": 9,
   "id": "c9d2639b-144a-4586-99be-cdd843d42916",
   "metadata": {},
   "outputs": [
    {
     "name": "stdout",
     "output_type": "stream",
     "text": [
      "[4, 9, 36, 64, 81, 3136]\n"
     ]
    }
   ],
   "source": [
    "#2.Write a Python program that uses the `map()` function to square each element of a list of numbers.\n",
    "lt = [2,3,6,8,9,56]\n",
    "g = map(lambda x : x*x ,lt)\n",
    "print(list(g))"
   ]
  },
  {
   "cell_type": "code",
   "execution_count": null,
   "id": "ef29c94b-a189-4aec-a320-a5de91dcad3a",
   "metadata": {},
   "outputs": [],
   "source": [
    "#3.How does the `map()` function differ from a list comprehension in Python, and when would you choose one over the other?\n",
    "''' Map is a function used to apply a specific function to every element of iterable (such as a list, tuple, or string) and return \n",
    "iterate \n",
    "basic synatx is \n",
    "map(function, iterable, ...)\n",
    "List comprehension is used to create a new list after apply specfic logic or function \n",
    "basic synatx is \n",
    "[expression for item in iterable if condition]\n",
    "******choose one over the other******\n",
    "map ->.When a function is already define and its is complex multiple logic\n",
    "list comprehension -> when logic is simpler and want to concise the code \n",
    "'''"
   ]
  },
  {
   "cell_type": "code",
   "execution_count": 11,
   "id": "4eb35584-add0-4f6d-9554-94c0413754c8",
   "metadata": {},
   "outputs": [
    {
     "name": "stdout",
     "output_type": "stream",
     "text": [
      "['ARUN', 'EYERN', 'ILO', 'OWL', 'UMER', 'JOKER', 'KITE']\n"
     ]
    }
   ],
   "source": [
    "#4.Create a Python program that uses the `map()` function to convert a list of names to uppercase.\n",
    "k = ['arun','eyern','ilo','owl','umer','joker','kite']\n",
    "h = map(lambda x : x.upper() ,k)\n",
    "print(list(h))"
   ]
  },
  {
   "cell_type": "code",
   "execution_count": 12,
   "id": "43da98b6-4fb0-489f-8602-33e89f9cb41c",
   "metadata": {},
   "outputs": [
    {
     "name": "stdout",
     "output_type": "stream",
     "text": [
      "[4, 5, 3, 3, 4, 5, 4]\n"
     ]
    }
   ],
   "source": [
    "#5.Write a Python program that uses the `map()` function to calculate the length of each word in a list of strings.\n",
    "k = ['arun','eyern','ilo','owl','umer','joker','kite']\n",
    "h = map(lambda x : len(x) ,k)\n",
    "print(list(h))"
   ]
  },
  {
   "cell_type": "code",
   "execution_count": 62,
   "id": "4e3afced-f3d4-4fc5-8461-017589e254b8",
   "metadata": {},
   "outputs": [
    {
     "name": "stdout",
     "output_type": "stream",
     "text": [
      "List is 1 [4, 5, 3, 3, 4, 54]\n",
      "List is 2 [5, 6, 9, 8, 2, 36]\n",
      "After adding both list element : [9, 11, 12, 11, 6, 90]\n"
     ]
    }
   ],
   "source": [
    "#6.How can you use the `map()` function to apply a custom function to elements of multiple lists simultaneously in Python?\n",
    "lk = [4,5,3,3,4,54]\n",
    "print(\"List is 1\",lk)\n",
    "kl = [5,6,9,8,2,36]\n",
    "print(\"List is 2\",kl)\n",
    "def g(i,o):\n",
    "    return o+i\n",
    "jh = map(g,lk,kl)\n",
    "print(\"After adding both list element :\",list(jh))"
   ]
  },
  {
   "cell_type": "code",
   "execution_count": 14,
   "id": "2172f072-fd6d-43b4-957f-63ad48d4455f",
   "metadata": {},
   "outputs": [
    {
     "name": "stdout",
     "output_type": "stream",
     "text": [
      "List of Celsius temperature is : [-17, -16, -16, 7, 18, 8, -5]\n",
      "After converting  list of temperatures from Celsius to Fahrenhei is : [1, 3, 3, 44, 64, 46, 23]\n"
     ]
    }
   ],
   "source": [
    "#7.Create a Python program that uses `map()` to convert a list of temperatures from Celsius to Fahrenheit.\n",
    "uy = [-17, -16, -16, 7, 18, 8, -5]\n",
    "print(\"List of Celsius temperature is :\",uy)\n",
    "pi = []\n",
    "for i in uy:\n",
    "    c = (i*9/5) +32\n",
    "    c = int(c)\n",
    "    pi.append(c)\n",
    "print(\"After converting  list of temperatures from Celsius to Fahrenhei is :\",pi)"
   ]
  },
  {
   "cell_type": "code",
   "execution_count": 64,
   "id": "6b19d0ac-10ef-4752-8ab0-10e46b3f0e7a",
   "metadata": {},
   "outputs": [
    {
     "name": "stdout",
     "output_type": "stream",
     "text": [
      "List is  [4.6, 5.2, 5.6, 8.5, 6.9]\n",
      "After round each element of list is : [5, 5, 6, 8, 7]\n"
     ]
    }
   ],
   "source": [
    "#8.Write a Python program that uses the `map()` function to round each element of a list of floating-point numbers to the nearest integer.\n",
    "lo = [4.6,5.2,5.6,8.5,6.9]\n",
    "print(\"List is \",lo)\n",
    "def u(o):\n",
    "    if round(o) == o:\n",
    "        return o\n",
    "    elif o-round(o) == 0.5:\n",
    "        return round(o)\n",
    "    elif o-round(o) >0.5:\n",
    "        return round(o)+1\n",
    "    else:\n",
    "        return round(o)\n",
    "k = map(u,lo)\n",
    "print(\"After round each element of list is :\",list(k))"
   ]
  },
  {
   "cell_type": "code",
   "execution_count": null,
   "id": "ee781c4a-a619-4512-87a4-78b9287433cf",
   "metadata": {},
   "outputs": [],
   "source": [
    "#Reduce :-\n"
   ]
  },
  {
   "cell_type": "code",
   "execution_count": 66,
   "id": "36edd186-a861-4a7d-b05d-89f4dd9aace8",
   "metadata": {},
   "outputs": [
    {
     "name": "stdout",
     "output_type": "stream",
     "text": [
      "List is  [2, 3, 6, 8, 9, 56]\n",
      "Return the product of all element of list :  145152\n"
     ]
    }
   ],
   "source": [
    "#1.What is the `reduce()` function in Python, and what module should you import to use it? Provide an example of its basic usage.\n",
    "''' Reduce function is built in function .It is used to perform specific function given and return a single value and take two \n",
    "argument from the iterable items such as a list, tuple, or string.\n",
    "***Functools module used to import for use reduce function**\n",
    "'''\n",
    "import functools \n",
    "lt = [2,3,6,8,9,56]\n",
    "print(\"List is \",lt)\n",
    "g = functools.reduce(lambda x,y:x*y ,lt)\n",
    "print(\"Return the product of all element of list : \",g)"
   ]
  },
  {
   "cell_type": "code",
   "execution_count": 18,
   "id": "b0c1062b-b62a-4725-8866-84cad084c4a8",
   "metadata": {},
   "outputs": [
    {
     "name": "stdout",
     "output_type": "stream",
     "text": [
      "145152\n"
     ]
    }
   ],
   "source": [
    "#2.Write a Python program that uses the `reduce()` function to find the product of all elements in a list.\n",
    "import functools \n",
    "lt = [2,3,6,8,9,56]\n",
    "g = functools.reduce(lambda x,y:x*y ,lt)\n",
    "print(g)"
   ]
  },
  {
   "cell_type": "code",
   "execution_count": 20,
   "id": "9d2124a4-6394-4c32-8e0d-0552df698594",
   "metadata": {},
   "outputs": [
    {
     "name": "stdout",
     "output_type": "stream",
     "text": [
      "56\n"
     ]
    }
   ],
   "source": [
    "#3.Create a Python program that uses `reduce()` to find the maximum element in a list of numbers\n",
    "import functools \n",
    "lt = [2,3,6,8,9,56]\n",
    "g = functools.reduce(lambda x,y:x if x>y else y ,lt)\n",
    "print(g)"
   ]
  },
  {
   "cell_type": "code",
   "execution_count": 77,
   "id": "fe8d6c22-978c-4b4f-b47b-4ee45766a1f2",
   "metadata": {},
   "outputs": [
    {
     "name": "stdout",
     "output_type": "stream",
     "text": [
      "After concatenate :  hiichamp\n"
     ]
    }
   ],
   "source": [
    "#4.How can you use the `reduce()` function to concatenate a list of strings into a single string?\n",
    "import functools \n",
    "u = ['h','i','i','c','h','a','m','p']\n",
    "def kl(n,m):\n",
    "    return n + m\n",
    "ho = functools.reduce(kl,u)\n",
    "print(\"After concatenate : \",ho)"
   ]
  },
  {
   "cell_type": "code",
   "execution_count": 25,
   "id": "cf5fcd6b-595a-4e08-a80c-de8c2fc1de2e",
   "metadata": {},
   "outputs": [
    {
     "name": "stdin",
     "output_type": "stream",
     "text": [
      "Enter a number : 6\n"
     ]
    },
    {
     "name": "stdout",
     "output_type": "stream",
     "text": [
      "Factorial  of a number : 720\n"
     ]
    }
   ],
   "source": [
    "#5.Write a Python program that calculates the factorial of a number using the `reduce()` function.\n",
    "import functools \n",
    "k = int(input(\"Enter a number :\"))\n",
    "g = functools.reduce(lambda x,y:x*y ,range(1,k+1))\n",
    "print(\"Factorial  of a number :\",g)"
   ]
  },
  {
   "cell_type": "code",
   "execution_count": 3,
   "id": "c4db9c66-3aca-4976-bd62-4f44c261c684",
   "metadata": {},
   "outputs": [
    {
     "name": "stdout",
     "output_type": "stream",
     "text": [
      "GCD of a list [6, 12, 24, 48, 72] is : 6\n"
     ]
    }
   ],
   "source": [
    "#6.Create a Python program that uses `reduce()` to find the GCD (Greatest Common Divisor) of a list of numbers.\n",
    "import functools \n",
    "import math\n",
    "kl = [6,12,24,48,72]\n",
    "hj = functools.reduce(math.gcd,kl)\n",
    "print(f\"GCD of a list {kl} is : {hj}\") "
   ]
  },
  {
   "cell_type": "code",
   "execution_count": 6,
   "id": "befea5b0-779f-4590-9e02-8521640dbe67",
   "metadata": {},
   "outputs": [
    {
     "name": "stdin",
     "output_type": "stream",
     "text": [
      "Enter a number  789\n"
     ]
    },
    {
     "name": "stdout",
     "output_type": "stream",
     "text": [
      "Sum of the digits of 789 = 24\n"
     ]
    }
   ],
   "source": [
    "#7.Write a Python program that uses the `reduce()` function to find the sum of the digits of a given number.\n",
    "hj = int(input(\"Enter a number \"))\n",
    "kl = reduce(lambda x,y:int(x)+int(y) ,list(str(hj)))\n",
    "print(f\"Sum of the digits of {hj} = {kl}\")"
   ]
  },
  {
   "cell_type": "code",
   "execution_count": null,
   "id": "d79a863c-93af-48d4-b7fa-75c722adbdb7",
   "metadata": {},
   "outputs": [],
   "source": [
    "#Filter :-"
   ]
  },
  {
   "cell_type": "code",
   "execution_count": 79,
   "id": "c3cad39a-6b11-4819-a122-bbdc00b4c050",
   "metadata": {},
   "outputs": [
    {
     "name": "stdout",
     "output_type": "stream",
     "text": [
      "even numbers from a list \n",
      "List is  [2, 36, 25, 59, 67, 48, 92, 34, 26, 84]\n",
      "After filtering even number : [2, 36, 48, 92, 34, 26, 84]\n"
     ]
    }
   ],
   "source": [
    "#1.Explain the purpose of the `filter()` function in Python and provide an example of how it can be used to filter elements from an iterable.\n",
    "''' Filter  function is used to filter iterable such as list,string,tuple with the help of passing fuction \n",
    "example filter the even number from the list '''\n",
    "jk = [2,36,25,59,67,48,92,34,26,84]\n",
    "print(\"even numbers from a list \")\n",
    "print(\"List is \",jk)\n",
    "def ev(k):\n",
    "    if k%2 == 0:\n",
    "        return True\n",
    "    else:\n",
    "        return False\n",
    "jh = filter(ev,jk)\n",
    "print(\"After filtering even number :\",list(jh))"
   ]
  },
  {
   "cell_type": "code",
   "execution_count": 9,
   "id": "21cab5f8-c3ed-48dc-8274-46f32828aef5",
   "metadata": {},
   "outputs": [
    {
     "name": "stdout",
     "output_type": "stream",
     "text": [
      "List is  [2, 36, 25, 59, 67, 48, 92, 34, 26, 84]\n",
      "After filtering even number : [2, 36, 48, 92, 34, 26, 84]\n"
     ]
    }
   ],
   "source": [
    "#2.Write a Python program that uses the `filter()` function to select even numbers from a list of integers.\n",
    "jk = [2,36,25,59,67,48,92,34,26,84]\n",
    "print(\"List is \",jk)\n",
    "def ev(k):\n",
    "    if k%2 == 0:\n",
    "        return True\n",
    "    else:\n",
    "        return False\n",
    "jh = filter(ev,jk)\n",
    "print(\"After filtering even number :\",list(jh))"
   ]
  },
  {
   "cell_type": "code",
   "execution_count": 11,
   "id": "37474254-d8b8-4fa5-9a03-7abd8f906c3c",
   "metadata": {},
   "outputs": [
    {
     "name": "stdout",
     "output_type": "stream",
     "text": [
      "List is  ['start', 'end', 'play', 'so', 'gain', 'sun', 'soon']\n",
      "Word start with 's' or 's' from list ['start', 'end', 'play', 'so', 'gain', 'sun', 'soon'] is :  ['start', 'so', 'sun', 'soon']\n"
     ]
    }
   ],
   "source": [
    "#3.Create a Python program that uses the `filter()` function to select names that start with a specific letter from a list of strings.\n",
    "l = ['start','end','play','so','gain','sun','soon']\n",
    "print(\"List is \",l)\n",
    "def hj(h):\n",
    "    j = h.lower()\n",
    "    if j[0] == 's':\n",
    "        return True\n",
    "    else:\n",
    "        return False\n",
    "hl = filter(hj,l)\n",
    "print(f\"Word start with 's' or 's' from list {l} is : \",list(hl))  "
   ]
  },
  {
   "cell_type": "code",
   "execution_count": 4,
   "id": "276e13d4-401e-4f2c-ac7c-45c5bf3d1c8e",
   "metadata": {},
   "outputs": [
    {
     "name": "stdout",
     "output_type": "stream",
     "text": [
      "After filtering prime number from the list [1, 2, 3, 78, 49, 56, 9, 8, 71, 21, 17, 111, 29] is : \n",
      " [1, 2, 3, 71, 17, 29]\n"
     ]
    }
   ],
   "source": [
    "#4.Write a Python program that uses the `filter()` function to select prime numbers from a list of integers.\n",
    "from math import sqrt\n",
    "wq =[2,3,4,5,6,7,8,9]\n",
    "def pr(r):\n",
    "    count = 0\n",
    "    if r < 4 or r == 5 or r == 7:\n",
    "        pass\n",
    "    else:\n",
    "        if (round(sqrt(r),1)*round(sqrt(r),1)) == r:\n",
    "            count += 1\n",
    "        else:\n",
    "            for lo in wq:\n",
    "                if r%lo == 0:\n",
    "                    count += 1\n",
    "                    break\n",
    "    if count == 0:\n",
    "        return True\n",
    "    else:\n",
    "        return False\n",
    "lk = [1,2,3,78,49,56,9,8,71,21,17,111,29]\n",
    "gi  = filter(pr,lk)\n",
    "print(f\"After filtering prime number from the list {lk} is :\",'\\n',list(gi)) "
   ]
  },
  {
   "cell_type": "code",
   "execution_count": 85,
   "id": "dd8f34cc-4b7f-409a-a11c-197a5e507eaa",
   "metadata": {},
   "outputs": [
    {
     "name": "stdout",
     "output_type": "stream",
     "text": [
      "List is :  [12, None, 45, 15, 263, None, 47, None, 59, 89, None]\n",
      "After removing None item/values from  list : [12, 45, 15, 263, 47, 59, 89]\n"
     ]
    }
   ],
   "source": [
    "#5.How can you use the `filter()` function to remove None values from a list in Python?\n",
    "jh = [12,None,45,15,263,None,47,None,59,89,None]\n",
    "print(\"List is : \",jh)\n",
    "def gu(l):\n",
    "    if l == None:\n",
    "        pass\n",
    "    else:\n",
    "        return l \n",
    "jo = filter(gu,jh)\n",
    "print(\"After removing None item/values from  list :\",list(jo))"
   ]
  },
  {
   "cell_type": "code",
   "execution_count": 7,
   "id": "ed9fc422-8a98-449b-ad09-9940b105d6fa",
   "metadata": {},
   "outputs": [
    {
     "name": "stdout",
     "output_type": "stream",
     "text": [
      "List is  ['start', 'end', 'play', 'so', 'gain', 'sun', 'soon', 'is']\n",
      "Word length greater than 2 from list ['start', 'end', 'play', 'so', 'gain', 'sun', 'soon', 'is'] is :  \n",
      " ['start', 'end', 'play', 'gain', 'sun', 'soon']\n"
     ]
    }
   ],
   "source": [
    "#6.Create a Python program that uses `filter()` to select words longer than a certain length from a list of strings.\n",
    "l = ['start','end','play','so','gain','sun','soon','is']\n",
    "print(\"List is \",l)\n",
    "def hj(h):\n",
    "    if len(h) > 2:\n",
    "        return True\n",
    "    else:\n",
    "        return False\n",
    "hl = filter(hj,l)\n",
    "print(f\"Word length greater than 2 from list {l} is : \",'\\n',list(hl)) "
   ]
  },
  {
   "cell_type": "code",
   "execution_count": 10,
   "id": "a537d895-eb96-4833-a163-536501c6d02e",
   "metadata": {},
   "outputs": [
    {
     "name": "stdout",
     "output_type": "stream",
     "text": [
      "Elements greater than '20' from the list [10, 25, 5, 30, 15, 8, 59, 4, 23, 68] is :  [25, 30, 59, 23, 68]\n"
     ]
    }
   ],
   "source": [
    "#7.Write a Python program that uses the `filter()` function to select elements greater than a specified threshold from a list of values.\n",
    "gy = [10, 25, 5, 30, 15, 8,59,4,23,68]\n",
    "def th(x):\n",
    "    if x > 20:\n",
    "        return True\n",
    "    else:\n",
    "        return False\n",
    "ju = filter(th,gy)\n",
    "print(f\"Elements greater than '20' from the list {gy} is : \",list(ju))"
   ]
  },
  {
   "cell_type": "code",
   "execution_count": 11,
   "id": "d483a1d0-a4e8-4629-94c9-accd41aac2db",
   "metadata": {},
   "outputs": [],
   "source": [
    "#Recursion:-"
   ]
  },
  {
   "cell_type": "code",
   "execution_count": 87,
   "id": "38ad3db2-b74e-431c-8d00-c45925aa5bc3",
   "metadata": {},
   "outputs": [
    {
     "name": "stdout",
     "output_type": "stream",
     "text": [
      "Example program to calculate the factorial of a number using recursion.\n"
     ]
    },
    {
     "name": "stdin",
     "output_type": "stream",
     "text": [
      "Enter a number 5\n"
     ]
    },
    {
     "name": "stdout",
     "output_type": "stream",
     "text": [
      "Factorial of 5 is : 120\n"
     ]
    },
    {
     "data": {
      "text/plain": [
       "' In iteration achieve with the help of loop in specific flow whereas recursion call the itself untill a specific condition\\n'"
      ]
     },
     "execution_count": 87,
     "metadata": {},
     "output_type": "execute_result"
    }
   ],
   "source": [
    "#1.Explain the concept of recursion in Python. How does it differ from iteration?\n",
    "'''Recursion is used to call a function inside itself untill all the condition statisfy'''\n",
    "print(\"Example program to calculate the factorial of a number using recursion.\")\n",
    "jh = int(input(\"Enter a number\"))\n",
    "def fact(jh):\n",
    "    if jh < 0 or jh == 1:\n",
    "        return 1\n",
    "    else:\n",
    "        return jh*fact(jh-1)\n",
    "print(f\"Factorial of {jh} is : {fact(jh)}\")\n",
    "''' In iteration achieve with the help of loop in specific flow whereas recursion call the itself untill a specific condition\n",
    "'''\n"
   ]
  },
  {
   "cell_type": "code",
   "execution_count": 18,
   "id": "0c97a961-537e-4296-9d9e-7284e8ad49bc",
   "metadata": {},
   "outputs": [
    {
     "name": "stdin",
     "output_type": "stream",
     "text": [
      "Enter a number 7\n"
     ]
    },
    {
     "name": "stdout",
     "output_type": "stream",
     "text": [
      "Factorial of 7 is : 5040\n"
     ]
    }
   ],
   "source": [
    "#2.Write a Python program to calculate the factorial of a number using recursion.\n",
    "jh = int(input(\"Enter a number\"))\n",
    "def fact(jh):\n",
    "    if jh < 0 or jh == 1:\n",
    "        return 1\n",
    "    else:\n",
    "        return jh*fact(jh-1)\n",
    "print(f\"Factorial of {jh} is : {fact(jh)}\")"
   ]
  },
  {
   "cell_type": "code",
   "execution_count": 28,
   "id": "33dbe363-931f-42bb-9647-0872ea2f125e",
   "metadata": {},
   "outputs": [
    {
     "name": "stdin",
     "output_type": "stream",
     "text": [
      "Enter a number  10\n"
     ]
    },
    {
     "name": "stdout",
     "output_type": "stream",
     "text": [
      "10 number fibonacci number is : 34\n"
     ]
    }
   ],
   "source": [
    "#3.Create a recursive Python function to find the nth Fibonacci number.\n",
    "fb = int(input(\"Enter a number \"))\n",
    "def fib(i):\n",
    "    if i == 0 or i == 1:\n",
    "        return i\n",
    "    elif i <0:\n",
    "        pass\n",
    "    else:\n",
    "        return fib(i-1) +fib(i-2)\n",
    "print(f\"{fb} number fibonacci number is : {fib(fb-1)}\")   "
   ]
  },
  {
   "cell_type": "code",
   "execution_count": 43,
   "id": "7d808633-1654-477a-bc89-2b253e540c8f",
   "metadata": {},
   "outputs": [
    {
     "name": "stdout",
     "output_type": "stream",
     "text": [
      "List is : [10, 25, 5, 30, 15, 8, 59, 4, 23, 68]\n",
      "Sum of all element of the list [10, 25, 5, 30, 15, 8, 59, 4, 23, 68] is 237\n"
     ]
    }
   ],
   "source": [
    "#4.Write a recursive Python function to calculate the sum of all elements in a list.\n",
    "gy = [10, 25, 5, 30, 15, 8,59,4,23,68]\n",
    "print(\"List is :\",gy)\n",
    "def s(p,m):\n",
    "    if m == 0:\n",
    "        return 0\n",
    "    else:\n",
    "        return p[m] + s(p,m-1)\n",
    "jk = len(gy) - 1\n",
    "print(f\"Sum of all element of the list {gy} is {s(gy,jk)}\")"
   ]
  },
  {
   "cell_type": "code",
   "execution_count": null,
   "id": "0ea1dbdd-bf22-4018-82cb-2242bb5f3248",
   "metadata": {},
   "outputs": [],
   "source": [
    "#5.How can you prevent a recursive function from running indefinitely, causing a stack overflow error?\n",
    "'''Preventing a recursive function from running indefinitely and causing a stack overflow error is crucial for robust program execution. \n",
    "To avoid this issue, you need to ensure that your recursive function has a well-defined termination condition, commonly known as the base case.\n",
    "The base case is a condition under which the function stops making recursive calls and returns a result.'''"
   ]
  },
  {
   "cell_type": "code",
   "execution_count": null,
   "id": "2ddb6030-f727-413e-9cb1-989a5f09c754",
   "metadata": {},
   "outputs": [
    {
     "name": "stdin",
     "output_type": "stream",
     "text": [
      "Enter the first number:  25\n"
     ]
    }
   ],
   "source": [
    "#6.Create a recursive Python function to find the greatest common divisor (GCD) of two numbers using the Euclidean algorithm.\n",
    "def ge(a, b):\n",
    "    if b == 0:\n",
    "        return a\n",
    "    else:\n",
    "        return ge(b, a % b)\n",
    "n1 = int(input(\"Enter the first number: \"))\n",
    "n2 = int(input(\"Enter the second number: \"))\n",
    "rest = ge(n1, n2)\n",
    "print(f\"The GCD of {n1} and {n2} is: {res}\")"
   ]
  },
  {
   "cell_type": "code",
   "execution_count": 48,
   "id": "679d203c-6e35-4c10-bb29-4d3a67dbe051",
   "metadata": {},
   "outputs": [
    {
     "name": "stdin",
     "output_type": "stream",
     "text": [
      "Enter a string : jhsguygdf ufg\n"
     ]
    },
    {
     "name": "stdout",
     "output_type": "stream",
     "text": [
      "After reversing the string : gfu fdgyugshj\n"
     ]
    }
   ],
   "source": [
    "#7.Write a recursive Python function to reverse a string.\n",
    "kh = str(input(\"Enter a string :\"))\n",
    "def re(j,k):\n",
    "    if j == 0:\n",
    "        return k[j]\n",
    "    else:\n",
    "        return k[j]+re(j-1,k)\n",
    "l = len(kh)-1\n",
    "print(\"After reversing the string :\",re(l,kh))"
   ]
  },
  {
   "cell_type": "code",
   "execution_count": 51,
   "id": "81a17f27-81f3-4ddb-993d-091f32da90e8",
   "metadata": {},
   "outputs": [
    {
     "name": "stdin",
     "output_type": "stream",
     "text": [
      "Enter a number : 3\n",
      "Enter the power : 5\n"
     ]
    },
    {
     "name": "stdout",
     "output_type": "stream",
     "text": [
      " Number is 3^5 is : 243\n"
     ]
    }
   ],
   "source": [
    "#8.Create a recursive Python function to calculate the power of a number (x^n).\n",
    "x = int(input(\"Enter a number :\"))\n",
    "pw = int(input(\"Enter the power :\"))\n",
    "print(f\" Number is {x}^{pw} is :\",end = \" \")\n",
    "def p(v,m):\n",
    "    if m== 0:\n",
    "        return 1\n",
    "    else:\n",
    "        return v*p(v,m-1)\n",
    "print(p(x,pw))\n",
    "    "
   ]
  },
  {
   "cell_type": "code",
   "execution_count": 5,
   "id": "40374478-9516-4c32-88c6-39764447bd28",
   "metadata": {},
   "outputs": [
    {
     "name": "stdin",
     "output_type": "stream",
     "text": [
      "Enter a string abc\n"
     ]
    },
    {
     "name": "stdout",
     "output_type": "stream",
     "text": [
      "All the permutation of string abc is :\n",
      "cab\n",
      "\n",
      "cba\n",
      "\n",
      "\n",
      "\n",
      "bac\n",
      "\n",
      "\n",
      "\n",
      "bca\n",
      "\n",
      "\n",
      "\n",
      "abc\n",
      "\n",
      "acb\n",
      "\n"
     ]
    }
   ],
   "source": [
    "#9.Write a recursive Python function to find all permutations of a given string.\n",
    "hy =  str(input(\"Enter a string\"))\n",
    "c = 0\n",
    "print(f\"All the permutation of string {hy} is :\")\n",
    "def p(j,c):\n",
    "    if c < 0:\n",
    "        return None\n",
    "    else:\n",
    "        for k in hy:\n",
    "            if j[c] == k:\n",
    "                pass\n",
    "            else:\n",
    "                print(j[c],end = \"\")\n",
    "                print(k,end = \"\")\n",
    "            for i in hy:\n",
    "                if i == j[c] or j[c] == k:\n",
    "                    pass\n",
    "                elif i == k:\n",
    "                    pass\n",
    "                else:\n",
    "                    print(i,end = \"\")\n",
    "            print('\\n')\n",
    "    c -= 1\n",
    "    return p(j,c)\n",
    "po =len(hy)-1\n",
    "p(hy,po)   \n",
    "    "
   ]
  },
  {
   "cell_type": "code",
   "execution_count": 55,
   "id": "b5c37666-8a87-4eb4-83f1-debe1580727d",
   "metadata": {},
   "outputs": [
    {
     "name": "stdin",
     "output_type": "stream",
     "text": [
      "Enter a string : lkjhgghjkl\n"
     ]
    },
    {
     "name": "stdout",
     "output_type": "stream",
     "text": [
      "It is palindrome :\n"
     ]
    }
   ],
   "source": [
    "#10.Write a recursive Python function to check if a string is a palindrome.\n",
    "kh = str(input(\"Enter a string :\"))\n",
    "def re(j,k):\n",
    "    if j == 0:\n",
    "        return k[j]\n",
    "    else:\n",
    "        return k[j]+re(j-1,k)\n",
    "l = len(kh)-1\n",
    "if re(l,kh) == kh:\n",
    "    print(\"It is palindrome :\")\n",
    "else:\n",
    "    print(\"It is not a palindrome : \")\n",
    "    "
   ]
  },
  {
   "cell_type": "code",
   "execution_count": 71,
   "id": "4abbd43a-6291-4dbb-a275-d60efa1c6f0f",
   "metadata": {},
   "outputs": [
    {
     "name": "stdout",
     "output_type": "stream",
     "text": [
      "All the combination of list [1, 2, 3, 4, 45, 25, 49, 75] : \n",
      " [[75, 1], [75, 2], [75, 3], [75, 4], [75, 45], [75, 25], [75, 49], [75, 75], [49, 1], [49, 2], [49, 3], [49, 4], [49, 45], [49, 25], [49, 49], [49, 75], [25, 1], [25, 2], [25, 3], [25, 4], [25, 45], [25, 25], [25, 49], [25, 75], [45, 1], [45, 2], [45, 3], [45, 4], [45, 45], [45, 25], [45, 49], [45, 75], [4, 1], [4, 2], [4, 3], [4, 4], [4, 45], [4, 25], [4, 49], [4, 75], [3, 1], [3, 2], [3, 3], [3, 4], [3, 45], [3, 25], [3, 49], [3, 75], [2, 1], [2, 2], [2, 3], [2, 4], [2, 45], [2, 25], [2, 49], [2, 75]]\n"
     ]
    }
   ],
   "source": [
    "#11.Create a recursive Python function to generate all possible combinations of a list of elements\n",
    "uy = [1,2,3,4,45,25,49,75]\n",
    "def cm(o,g,lp):\n",
    "    if o == 0:\n",
    "        return g[0]\n",
    "    else:\n",
    "        for i in g:\n",
    "            k = []\n",
    "            k.append(g[o])\n",
    "            k.append(i)\n",
    "            lp.append(k)\n",
    "        cm(o-1,g,lp)\n",
    "    return lp       \n",
    "g = []\n",
    "print(f\"All the combination of list {uy} :\",'\\n',cm(len(uy)-1,uy,g))"
   ]
  },
  {
   "cell_type": "code",
   "execution_count": null,
   "id": "71bf2747-f631-429a-b627-77a87c5152cb",
   "metadata": {},
   "outputs": [],
   "source": [
    "#Basics of Functions:"
   ]
  },
  {
   "cell_type": "code",
   "execution_count": null,
   "id": "433b8bf7-e393-4ac4-880d-bf2042b396e4",
   "metadata": {},
   "outputs": [],
   "source": [
    "#1.What is a function in Python, and why is it used?\n",
    "'''\n",
    "Function is named block of code whic perform a specfic task set inside it \n",
    "basic syntax of function is :\n",
    "def fuction_name(argument):-> def is keyword to define a function\n",
    "    ----code--\n",
    "    ----\n",
    "    return value -> return keyword is used to return the value at the end\n",
    "*** It is used for reusability of code \n",
    "    ''''"
   ]
  },
  {
   "cell_type": "code",
   "execution_count": 88,
   "id": "5061ea53-f69d-4e29-8328-b3fa958a3699",
   "metadata": {},
   "outputs": [
    {
     "name": "stdin",
     "output_type": "stream",
     "text": [
      "Enter a number : 4\n",
      "Enter second number : 5\n"
     ]
    },
    {
     "name": "stdout",
     "output_type": "stream",
     "text": [
      "Sum of the two number 4 and 5 is : 9\n"
     ]
    }
   ],
   "source": [
    "#2.How do you define a function in Python? Provide an example.\n",
    "''' def keyword is use to define the function in python\n",
    "example:'''\n",
    "gh = int(input(\"Enter a number :\"))\n",
    "ju = int(input(\"Enter second number :\"))\n",
    "def d(k,l):  #function is define which return the two number\n",
    "    return k+l\n",
    "print(f\"Sum of the two number {gh} and {ju} is : {d(gh,ju)}\")"
   ]
  },
  {
   "cell_type": "code",
   "execution_count": 89,
   "id": "380692fc-c61f-4cc1-8f12-6e6860955ad3",
   "metadata": {},
   "outputs": [
    {
     "name": "stdin",
     "output_type": "stream",
     "text": [
      "Enter a number : 2\n",
      "Enter second number : 25\n"
     ]
    },
    {
     "name": "stdout",
     "output_type": "stream",
     "text": [
      "Product of the two number 2 and 25 is : 50\n"
     ]
    }
   ],
   "source": [
    "#3.Explain the difference between a function definition and a function call.\n",
    "''' Function definition is define the fuction it structure and intialization \n",
    "code inside the function\n",
    "**function call is calling the function to used the function \n",
    "basic syntax of function is :\n",
    "def fuction_name(argument):-> def is keyword to define a function\n",
    "    ----code--\n",
    "    ----\n",
    "    return value -> return keyword is used to return the value at the end\n",
    "function_name(argument) -> Calling the function '''\n",
    "gh = int(input(\"Enter a number :\"))\n",
    "ju = int(input(\"Enter second number :\"))\n",
    "def d(k,l):\n",
    "    return k*l\n",
    "print(f\"Product of the two number {gh} and {ju} is : {d(gh,ju)}\") #Here calling a function and print the result"
   ]
  },
  {
   "cell_type": "code",
   "execution_count": 63,
   "id": "c08a2023-7826-4ff5-a847-61d52120cf40",
   "metadata": {},
   "outputs": [
    {
     "name": "stdin",
     "output_type": "stream",
     "text": [
      "Enter a number : 45\n",
      "Enter second number : 89\n"
     ]
    },
    {
     "name": "stdout",
     "output_type": "stream",
     "text": [
      "Sum of the two number 45 and 89 is : 134\n"
     ]
    }
   ],
   "source": [
    "#4.Write a Python program that defines a function to calculate the sum of two numbers and then calls the function.\n",
    "gh = int(input(\"Enter a number :\"))\n",
    "ju = int(input(\"Enter second number :\"))\n",
    "def d(k,l):\n",
    "    return k+l\n",
    "print(f\"Sum of the two number {gh} and {ju} is : {d(gh,ju)}\")"
   ]
  },
  {
   "cell_type": "code",
   "execution_count": 90,
   "id": "b2a9fd54-732e-4485-a608-f898dc1783e5",
   "metadata": {},
   "outputs": [
    {
     "data": {
      "text/plain": [
       "\"\\nA function signature is a concise and specific representation of a function that typically includes essential information about the function's interface.\\nIt serves as a declaration or definition of the function and communicates key aspects of how the function should be used.\\n\\n***It includes ->\\n1.Function Name:\\n2.Return Type:\\n3.Parameters/Arguments:\\n4.Parameter Modes (Optional):\\n5.Exception Handling (Optional): \\netc\\n\""
      ]
     },
     "execution_count": 90,
     "metadata": {},
     "output_type": "execute_result"
    }
   ],
   "source": [
    "#5.What is a function signature, and what information does it typically include?\n",
    "'''\n",
    "A function signature is a concise and specific representation of a function that typically includes essential information about the function's interface.\n",
    "It serves as a declaration or definition of the function and communicates key aspects of how the function should be used.\n",
    "\n",
    "***It includes ->\n",
    "1.Function Name:\n",
    "2.Return Type:\n",
    "3.Parameters/Arguments:\n",
    "4.Parameter Modes (Optional):\n",
    "5.Exception Handling (Optional): \n",
    "etc\n",
    "'''"
   ]
  },
  {
   "cell_type": "code",
   "execution_count": 65,
   "id": "b96e5b98-803a-460a-a028-b1f0c230b76a",
   "metadata": {},
   "outputs": [
    {
     "name": "stdin",
     "output_type": "stream",
     "text": [
      "Enter a number : 45\n",
      "Enter second number : 2\n"
     ]
    },
    {
     "name": "stdout",
     "output_type": "stream",
     "text": [
      "Product of the two number 45 and 2 is : 90\n"
     ]
    }
   ],
   "source": [
    "#6.Create a Python function that takes two arguments and returns their product.\n",
    "gh = int(input(\"Enter a number :\"))\n",
    "ju = int(input(\"Enter second number :\"))\n",
    "def d(k,l):\n",
    "    return k*l\n",
    "print(f\"Product of the two number {gh} and {ju} is : {d(gh,ju)}\")"
   ]
  },
  {
   "cell_type": "code",
   "execution_count": null,
   "id": "d37ed1dc-0b82-483a-a38f-6021f2513749",
   "metadata": {},
   "outputs": [],
   "source": [
    "#Function Parameters and Arguments:"
   ]
  },
  {
   "cell_type": "code",
   "execution_count": 91,
   "id": "ce6262d8-f903-4b75-9f6c-8b1cdae9b72b",
   "metadata": {},
   "outputs": [
    {
     "name": "stdout",
     "output_type": "stream",
     "text": [
      "function divide two number 10 and 2 passing default argument : 5.0\n"
     ]
    }
   ],
   "source": [
    "#1.Explain the concepts of formal parameters and actual arguments in Python function\n",
    "''' Formal parameters are placeholder or argument pass when fuction is define \n",
    "Actual parameters are are argument pass when the fuction is called\n",
    "synatax of formal parameters...\n",
    "def ki(v,b) -> here ki is function and v,b is argument pass as formal parameter used to inside the function\n",
    "def(3,8) -> here 3,8 is argument pass in the function def which intialize to v,b\n",
    "example'''\n",
    "def f(a , b ): #define  a function with formal argument a,b\n",
    "    print(f\"function divide two number {a} and {b} passing default argument :\",a/b)\n",
    "f(10,2) #calling a function with actual argument 10,2"
   ]
  },
  {
   "cell_type": "code",
   "execution_count": 66,
   "id": "4adc9e7d-8c07-4945-9a07-52bac6f26d26",
   "metadata": {},
   "outputs": [
    {
     "name": "stdout",
     "output_type": "stream",
     "text": [
      "function divide two number 52 and 2 passing default argument : 26.0\n"
     ]
    }
   ],
   "source": [
    "#2.Write a Python program that defines a function with default argument values.\n",
    "def f(a = 52, b = 2):\n",
    "    print(f\"function divide two number {a} and {b} passing default argument :\",a/b)\n",
    "f()"
   ]
  },
  {
   "cell_type": "code",
   "execution_count": 1,
   "id": "992cd454-7105-41c6-8147-8096435a7a7e",
   "metadata": {},
   "outputs": [
    {
     "name": "stdout",
     "output_type": "stream",
     "text": [
      "Hello, Alice!\n",
      "Hi, Bob!\n",
      "Hello, Charlie!!!\n",
      "Hey, David.\n"
     ]
    }
   ],
   "source": [
    "#3.How do you use keyword arguments in Python function calls? Provide an example.\n",
    "'''In Python, you can use keyword arguments in function calls to explicitly specify the values for individual parameters by matching the parameter names.\n",
    "This allows you to provide arguments out of order and makes the function call more readable.\n",
    "Keyword arguments are particularly useful when a function has many parameters, and you want to avoid relying on the order of arguments.\n",
    "'''\n",
    "def greet(name, greeting=\"Hello\", punctuation=\"!\"):\n",
    "    \"\"\"\n",
    "    Greets a person with a customizable greeting and punctuation.\n",
    "    \n",
    "    Parameters:\n",
    "    - name: The name of the person.\n",
    "    - greeting: The greeting to use (default is \"Hello\").\n",
    "    - punctuation: The punctuation to use at the end of the greeting (default is \"!\").\n",
    "    \"\"\"\n",
    "    full_greeting = f\"{greeting}, {name}{punctuation}\"\n",
    "    return full_greeting\n",
    "\n",
    "# Example function calls with different combinations of arguments\n",
    "print(greet(\"Alice\"))  # Uses default values for greeting and punctuation\n",
    "print(greet(\"Bob\", greeting=\"Hi\"))  # Overrides the default greeting\n",
    "print(greet(\"Charlie\", punctuation=\"!!!\"))  # Overrides the default punctuation\n",
    "print(greet(\"David\", greeting=\"Hey\", punctuation=\".\"))\n",
    "  # Overrides both the default greeting and punctuation\n"
   ]
  },
  {
   "cell_type": "code",
   "execution_count": 67,
   "id": "30b9f2f3-4b28-46b6-b44e-2571381c127d",
   "metadata": {},
   "outputs": [
    {
     "name": "stdin",
     "output_type": "stream",
     "text": [
      "Enter a number : 78\n",
      "Enter second number : 36\n"
     ]
    },
    {
     "name": "stdout",
     "output_type": "stream",
     "text": [
      "Sum of the two number 78 and 36 is : 114\n"
     ]
    }
   ],
   "source": [
    "#4.Create a Python function that accepts a variable number of arguments and calculates their sum.\n",
    "gh = int(input(\"Enter a number :\"))\n",
    "ju = int(input(\"Enter second number :\"))\n",
    "def d(k,l):\n",
    "    return k+l\n",
    "print(f\"Sum of the two number {gh} and {ju} is : {d(gh,ju)}\")"
   ]
  },
  {
   "cell_type": "code",
   "execution_count": null,
   "id": "d88b018e-6067-4f1b-8571-6cbad01de83b",
   "metadata": {},
   "outputs": [],
   "source": [
    "#5.What is the purpose of the `*args` and `**kwargs` syntax in function parameter lists?\n",
    "''' *args is used to accept any number of argument in the function\n",
    "synatx is -> def fg(*args)\n",
    "**kwargs is used to accept any number of keyword argument and collect it from the dictionary \n",
    "synatx is -. def gh(**kwargs)\n",
    "'''\n"
   ]
  },
  {
   "cell_type": "code",
   "execution_count": null,
   "id": "b1a0cb25-8976-4610-ad8d-c6aa565b2e44",
   "metadata": {},
   "outputs": [],
   "source": [
    "#Return Values and Scoping:\n",
    "\n"
   ]
  },
  {
   "cell_type": "code",
   "execution_count": 92,
   "id": "489b87e4-17ef-472c-9247-3a2bc33a4fa8",
   "metadata": {},
   "outputs": [
    {
     "name": "stdin",
     "output_type": "stream",
     "text": [
      "Enter a number : 5\n",
      "Enter second number : 26\n"
     ]
    },
    {
     "name": "stdout",
     "output_type": "stream",
     "text": [
      "Product of the two number 5 and 26 is : 130\n"
     ]
    }
   ],
   "source": [
    "#1.Describe the role of the `return` statement in Python functions and provide examples.\n",
    "'''Return is used to return the specific value at the end of the fuction \n",
    "syntax;\n",
    "def fuction_name(argument):-> def is keyword to define a function\n",
    "    ----code--\n",
    "    ----\n",
    "    return value -> return keyword is used to return the value at the end'''\n",
    "gh = int(input(\"Enter a number :\"))\n",
    "ju = int(input(\"Enter second number :\"))\n",
    "def d(k,l):\n",
    "    return k*l # return the product of the two number\n",
    "print(f\"Product of the two number {gh} and {ju} is : {d(gh,ju)}\")"
   ]
  },
  {
   "cell_type": "code",
   "execution_count": null,
   "id": "377a3868-7fef-4610-8b3a-1bb6146b2b41",
   "metadata": {},
   "outputs": [],
   "source": [
    "#2.Explain the concept of variable scope in Python, including local and global variables.\n",
    "'''\n",
    "Variable scope in Python refers to the region or context in which a variable is defined and can be accessed.\n",
    "Python has two main types of variable scope: local scope and global scope.\n",
    "**Local scope : It define inside a fuction it hold the value untill function is not getting end\n",
    "**Global scope : It define outside any function it hold the value all the time \n",
    "'''"
   ]
  },
  {
   "cell_type": "code",
   "execution_count": 93,
   "id": "9206e218-db34-4059-a0bb-bba4f16b141a",
   "metadata": {},
   "outputs": [
    {
     "name": "stdin",
     "output_type": "stream",
     "text": [
      "Enter a number  20\n"
     ]
    },
    {
     "data": {
      "text/plain": [
       "2.0"
      ]
     },
     "execution_count": 93,
     "metadata": {},
     "output_type": "execute_result"
    }
   ],
   "source": [
    "#3.Write a Python program that demonstrates the use of global variables within functions.\n",
    "ji = 10\n",
    "k = int(input('Enter a number '))\n",
    "def g(k):\n",
    "    return k/ji #here ji not define inside the function so it is a global \n",
    "g(k)"
   ]
  },
  {
   "cell_type": "code",
   "execution_count": 69,
   "id": "86e94479-b59a-4b84-9d9f-d1a396e331ea",
   "metadata": {},
   "outputs": [
    {
     "name": "stdin",
     "output_type": "stream",
     "text": [
      "Enter a number 6\n"
     ]
    },
    {
     "name": "stdout",
     "output_type": "stream",
     "text": [
      "Factorial of 6 is : 720\n"
     ]
    }
   ],
   "source": [
    "#4.Create a Python function that calculates the factorial of a number and returns it.\n",
    "jh = int(input(\"Enter a number\"))\n",
    "def fact(jh):\n",
    "    if jh < 0 or jh == 1:\n",
    "        return 1\n",
    "    else:\n",
    "        return jh*fact(jh-1)\n",
    "print(f\"Factorial of {jh} is : {fact(jh)}\")"
   ]
  },
  {
   "cell_type": "code",
   "execution_count": 99,
   "id": "2f1b53cc-c3f5-410a-b6b2-23bf0db403f9",
   "metadata": {},
   "outputs": [
    {
     "name": "stdin",
     "output_type": "stream",
     "text": [
      "Enter a number  5\n"
     ]
    },
    {
     "name": "stdout",
     "output_type": "stream",
     "text": [
      "0.5\n"
     ]
    },
    {
     "name": "stdin",
     "output_type": "stream",
     "text": [
      "Enter a number  6\n"
     ]
    },
    {
     "name": "stdout",
     "output_type": "stream",
     "text": [
      "0.6\n"
     ]
    }
   ],
   "source": [
    "#5.How can you access variables defined outside a function from within the function?\n",
    "''' With help of global keyword and without any keyword \n",
    "example of without any keyword '''\n",
    "ji = 10\n",
    "k = int(input('Enter a number '))\n",
    "def g(k):\n",
    "    return k/ji #here ji not define inside the function l \n",
    "print(g(k))\n",
    "'''with the global keyword'''\n",
    "kp = int(input('Enter a number '))\n",
    "def gh(k):\n",
    "    global ji \n",
    "    return k/ji #here ji not define inside the function l \n",
    "print(gh(kp))"
   ]
  },
  {
   "cell_type": "code",
   "execution_count": null,
   "id": "f7ca5744-2b47-488e-ae2c-c568ee9d07d2",
   "metadata": {},
   "outputs": [],
   "source": [
    "#Lambda Functions and Higher-Order Functions:"
   ]
  },
  {
   "cell_type": "code",
   "execution_count": null,
   "id": "95781e11-0b37-4627-a5b8-a7d369ce245d",
   "metadata": {},
   "outputs": [],
   "source": [
    "#1.What are lambda functions in Python, and when are they typically used?\n",
    "'''A lambda function is a concise way to create small, anonymous functions.\n",
    "Lambda functions are defined using the 'lambda' keyword, followed by the parameters, a colon, and the expression to be evaluated.\n",
    "The syntax is as follows: lambda parameters: expression\n",
    "**8 They used  for\n",
    "->For concise programing\n",
    "->Two write a concise function\n",
    "->Callback Functions\n",
    "'''\n"
   ]
  },
  {
   "cell_type": "code",
   "execution_count": 103,
   "id": "4f96823a-e52b-48c9-b933-93dcbd833450",
   "metadata": {},
   "outputs": [
    {
     "name": "stdout",
     "output_type": "stream",
     "text": [
      "Original list of tuples:\n",
      "Sorted list based on the second element: [(4, 1), (3, 2), (1, 5), (2, 8)]\n"
     ]
    }
   ],
   "source": [
    "#2.Write a Python program that uses lambda functions to sort a list of tuples based on the second element.\n",
    "ui =  [(1, 5), (3, 2), (2, 8), (4, 1)]\n",
    "print(\"Original list of tuples:\")\n",
    "jh = sorted(ui,key = lambda x : x[1])\n",
    "print(\"Sorted list based on the second element:\",jh)"
   ]
  },
  {
   "cell_type": "code",
   "execution_count": 104,
   "id": "7355fd94-32b2-48f0-a516-a1f9fca53688",
   "metadata": {},
   "outputs": [
    {
     "name": "stdout",
     "output_type": "stream",
     "text": [
      "even numbers from a list \n",
      "List is  [2, 36, 25, 59, 67, 48, 92, 34, 26, 84]\n",
      "After filtering even number : [2, 36, 48, 92, 34, 26, 84]\n"
     ]
    }
   ],
   "source": [
    "#3.How does the `filter()` function work in Python, and when would you use it?\n",
    "''' Filter  function is used to filter iterable such as list,string,tuple with the help of passing fuction \n",
    "example filter the even number from the list '''\n",
    "jk = [2,36,25,59,67,48,92,34,26,84]\n",
    "print(\"even numbers from a list \")\n",
    "print(\"List is \",jk)\n",
    "def ev(k):\n",
    "    if k%2 == 0:\n",
    "        return True\n",
    "    else:\n",
    "        return False\n",
    "jh = filter(ev,jk)\n",
    "print(\"After filtering even number :\",list(jh))"
   ]
  },
  {
   "cell_type": "code",
   "execution_count": 76,
   "id": "7404483e-2d04-411c-9104-3d9e1d4eb56d",
   "metadata": {},
   "outputs": [
    {
     "name": "stdout",
     "output_type": "stream",
     "text": [
      "Product of all the element of  [1, 2, 3, 4, 45, 25, 49, 75] = 99225000\n"
     ]
    }
   ],
   "source": [
    "#4.Create a Python program that uses the `reduce()` function to find the product of all elements in a list.\n",
    "import functools\n",
    "uy = [1,2,3,4,45,25,49,75]\n",
    "kl = functools.reduce(lambda x,y:x*y ,uy)\n",
    "print(f\"Product of all the element of  {uy} = {kl}\")"
   ]
  },
  {
   "cell_type": "code",
   "execution_count": null,
   "id": "5326a2c5-4e12-4764-b379-9bddf23265ef",
   "metadata": {},
   "outputs": [],
   "source": [
    "#Function Documentation and Best Practices:\n"
   ]
  },
  {
   "cell_type": "code",
   "execution_count": null,
   "id": "d14b83c6-94ff-4308-a038-7560f57f3fc6",
   "metadata": {},
   "outputs": [],
   "source": [
    "#1.Explain the purpose of docstrings in Python functions and how to write them.\n",
    "'''\n",
    "Docstrings in Python serve as documentation strings that provide information about a function, method, module, or class. \n",
    "They are used to describe the purpose, usage, parameters, and return values of the code, making it easier for developers to understand and use the code effectively.\n",
    "Docstrings can be accessed programmatically using tools like help() or __doc__.\n",
    "Docstrings are enclosed in triple double-quotes (\"\"\"-------\"\"\")\n",
    "Types of Docstrings:\n",
    "1.Function Docstrings: Describes the purpose, parameters, and return value of a function.\n",
    "2.Module Docstrings: Describes the purpose and contents of a module.\n",
    "3.Class Docstrings: Describes the purpose, attributes, and methods of a class.\n",
    "'''"
   ]
  },
  {
   "cell_type": "code",
   "execution_count": 106,
   "id": "d35b33c4-fe9f-40c0-be88-c2e8a2b215eb",
   "metadata": {},
   "outputs": [
    {
     "data": {
      "text/plain": [
       "'\\naming functions and variables in Python follows certain conventions and guidelines to enhance code readability, maintainability, and consistency.\\nAdhering to these best practices contributes to a more understandable and standardized codebase\\n'"
      ]
     },
     "execution_count": 106,
     "metadata": {},
     "output_type": "execute_result"
    }
   ],
   "source": [
    "#2.Describe some best practices for naming functions and variables in Python, including naming conventions and guidelines.\n",
    "'''\n",
    "Naming functions and variables in Python follows certain conventions and guidelines to enhance code readability, maintainability, and consistency.\n",
    "Adhering to these best practices contributes to a more understandable and standardized codebase\n",
    "****Functions:\n",
    "1.Use Descriptive Names:\n",
    "Choose names that convey the purpose or action of the function.\n",
    "Avoid single-letter names unless the function is very short and its purpose is obvious.\n",
    "\n",
    "2.Follow Snake Case:\n",
    "Use lowercase letters with underscores to separate words (snake_case). For example: calculate_average, process_data.\n",
    "\n",
    "3.Be Concise:\n",
    "Keep function names reasonably short while maintaining clarity. Aim for a balance between clarity and brevity.\n",
    "\n",
    "4.Verb-Noun Naming:\n",
    "Start the function name with a verb that describes the action it performs, followed by a noun representing the object or target. For example: calculate_score, process_data.\n",
    "\n",
    "5.Avoid Ambiguity:\n",
    "Ensure the function name clearly indicates what the function does without ambiguity.\n",
    "\n",
    "****Variables:\n",
    "1.Use Descriptive Names:\n",
    "Choose variable names that are meaningful and describe the data they hold.\n",
    "Avoid single-letter names unless they represent a well-known convention (e.g., i for an index in a loop).\n",
    "\n",
    "2.Follow Snake Case:\n",
    "Use lowercase letters with underscores to separate words (snake_case). For example: user_input, total_amount.\n",
    "\n",
    "3.Be Explicit:\n",
    "Make variable names explicit, so it's easy to understand their purpose. Avoid generic names like temp or data.\n",
    "\n",
    "4.Constants in Uppercase:\n",
    "If you have constants, use uppercase letters with underscores to separate words (CONSTANT_NAME). For example: MAX_VALUE, PI.\n",
    "\n",
    "5.Use Meaningful Abbreviations:\n",
    "If using abbreviations, ensure they are widely understood and don't sacrifice clarity. Avoid cryptic abbreviations.\n",
    "\n",
    "'''"
   ]
  },
  {
   "cell_type": "code",
   "execution_count": null,
   "id": "3e8e9314-d0ad-41c8-908e-5929a0be6562",
   "metadata": {},
   "outputs": [],
   "source": []
  }
 ],
 "metadata": {
  "kernelspec": {
   "display_name": "Python 3 (ipykernel)",
   "language": "python",
   "name": "python3"
  },
  "language_info": {
   "codemirror_mode": {
    "name": "ipython",
    "version": 3
   },
   "file_extension": ".py",
   "mimetype": "text/x-python",
   "name": "python",
   "nbconvert_exporter": "python",
   "pygments_lexer": "ipython3",
   "version": "3.10.8"
  }
 },
 "nbformat": 4,
 "nbformat_minor": 5
}
