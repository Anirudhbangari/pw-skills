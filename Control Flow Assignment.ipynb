{
 "cells": [
  {
   "cell_type": "code",
   "execution_count": 7,
   "id": "22eb667d-87ab-4301-b500-3e898b7a901b",
   "metadata": {},
   "outputs": [],
   "source": [
    "#Control Flow\n",
    "#Basic If-Else Statements:"
   ]
  },
  {
   "cell_type": "code",
   "execution_count": 10,
   "id": "163104eb-f49d-4981-bc9d-ac4b82a052ca",
   "metadata": {},
   "outputs": [
    {
     "name": "stdin",
     "output_type": "stream",
     "text": [
      "Enter a number : -98\n"
     ]
    },
    {
     "name": "stdout",
     "output_type": "stream",
     "text": [
      "Number is Negative\n"
     ]
    }
   ],
   "source": [
    "#1. Write a Python program to check if a given number is positive or negative.\n",
    "tr = int(input(\"Enter a number :\"))\n",
    "if tr > 0:\n",
    "    print(\"Number is Positive\")\n",
    "elif tr == 0:\n",
    "     print(\"Number is Zero\")\n",
    "else:\n",
    "     print(\"Number is Negative\")\n",
    "    "
   ]
  },
  {
   "cell_type": "code",
   "execution_count": 6,
   "id": "7872a500-9718-411c-ae37-f8d9daa5be54",
   "metadata": {},
   "outputs": [
    {
     "name": "stdin",
     "output_type": "stream",
     "text": [
      "Enter Age : 19\n"
     ]
    },
    {
     "name": "stdout",
     "output_type": "stream",
     "text": [
      "Person is eligible for vote\n"
     ]
    }
   ],
   "source": [
    "#2. Create a program that determines if a person is eligible to vote based on their age.\n",
    "gr = int(input(\"Enter Age :\"))\n",
    "if gr > 18:\n",
    "    print(\"Person is eligible for vote\")\n",
    "else:\n",
    "    print(\"Person is not eligible for vote\")"
   ]
  },
  {
   "cell_type": "code",
   "execution_count": 7,
   "id": "d41f42b1-d400-433b-b2e7-b09041dbd5f3",
   "metadata": {},
   "outputs": [
    {
     "name": "stdin",
     "output_type": "stream",
     "text": [
      "Enter a number1 : 45\n",
      "Enter a number2 : 78\n"
     ]
    },
    {
     "name": "stdout",
     "output_type": "stream",
     "text": [
      "78 is greater than 45 \n"
     ]
    }
   ],
   "source": [
    "#3. Develop a program to find the maximum of two numbers using if-else statements.\n",
    "vb = int(input(\"Enter a number1 :\"))\n",
    "bv = int(input(\"Enter a number2 :\"))\n",
    "if vb > bv:\n",
    "    print(f\"{vb} is greater than {bv} \")\n",
    "else:\n",
    "    print(f\"{bv} is greater than {vb} \")"
   ]
  },
  {
   "cell_type": "code",
   "execution_count": 14,
   "id": "29797680-c904-4274-87aa-2b0ec28dc5a6",
   "metadata": {},
   "outputs": [
    {
     "name": "stdin",
     "output_type": "stream",
     "text": [
      "Enter year : 1800\n"
     ]
    },
    {
     "name": "stdout",
     "output_type": "stream",
     "text": [
      "Year is not leap year\n"
     ]
    }
   ],
   "source": [
    "#4. Write a Python script to classify a given year as a leap year or not.\n",
    "lp = int(input(\"Enter year :\"))\n",
    "if lp%100 == 0 and lp%400 != 0:\n",
    "     print(\"Year is not leap year\")\n",
    "elif lp%4 == 0:\n",
    "    print(\"Year is leap year\")\n",
    "else:\n",
    "    print(\"Year is not leap year\")"
   ]
  },
  {
   "cell_type": "code",
   "execution_count": 7,
   "id": "8d9e4d1a-28e2-4d3a-aecd-af813994ca5a",
   "metadata": {},
   "outputs": [
    {
     "name": "stdin",
     "output_type": "stream",
     "text": [
      "Enter a character : p\n"
     ]
    },
    {
     "name": "stdout",
     "output_type": "stream",
     "text": [
      "Given character is not vowel :\n"
     ]
    }
   ],
   "source": [
    "#5. Create a program that checks whether a character is a vowel or a consonant.\n",
    "hj = ['A','E','I','O','U']\n",
    "v = str(input(\"Enter a character :\"))\n",
    "if v.upper() in hj:\n",
    "    print(\"Given character is vowel :\")\n",
    "else:\n",
    "    print(\"Given character is not vowel :\")"
   ]
  },
  {
   "cell_type": "code",
   "execution_count": 9,
   "id": "61c5b3a0-966f-4995-99ba-9d90176b3b10",
   "metadata": {},
   "outputs": [
    {
     "name": "stdin",
     "output_type": "stream",
     "text": [
      "Enter a number : 78\n"
     ]
    },
    {
     "name": "stdout",
     "output_type": "stream",
     "text": [
      "Given number is even:\n"
     ]
    }
   ],
   "source": [
    "#6. Implement a program to determine whether a given number is even or odd.\n",
    "b = int(input(\"Enter a number :\"))\n",
    "if b == 0:\n",
    "     print(\"Number is Zero\")\n",
    "elif b%2 == 0:\n",
    "    print(\"Given number is even:\")\n",
    "else:\n",
    "    print(\"Given number is odd:\")"
   ]
  },
  {
   "cell_type": "code",
   "execution_count": 2,
   "id": "d688003c-2322-4647-8cfa-e9971c3ef4c6",
   "metadata": {},
   "outputs": [
    {
     "name": "stdout",
     "output_type": "stream",
     "text": [
      "The absolute value of -89.36 is 89.36\n"
     ]
    }
   ],
   "source": [
    "#7. Write a Python function to calculate the absolute value of a number without using the `abs()` function.\n",
    "num = -89.36\n",
    "print(f\"The absolute value of {num} is {abs(num)}\")"
   ]
  },
  {
   "cell_type": "code",
   "execution_count": 8,
   "id": "ebd8804c-382d-45d7-b0de-a371bd23d60a",
   "metadata": {},
   "outputs": [
    {
     "name": "stdin",
     "output_type": "stream",
     "text": [
      "Enter a number1 : 4\n",
      "Enter a number2 : 78\n",
      "Enter a number3 : 100\n"
     ]
    },
    {
     "name": "stdout",
     "output_type": "stream",
     "text": [
      "100 is greater than among three number \n"
     ]
    }
   ],
   "source": [
    "#8. Develop a program that determines the largest of three given numbers using if-else statements.\n",
    "vb = int(input(\"Enter a number1 :\"))\n",
    "bv = int(input(\"Enter a number2 :\"))\n",
    "ch = int(input(\"Enter a number3 :\"))\n",
    "if vb > bv:\n",
    "    if vb >ch:\n",
    "        print(f\"{vb} is greater than among three number \")\n",
    "else:\n",
    "    if bv >ch:\n",
    "        print(f\"{bv} is greater than among three number \")\n",
    "    else:\n",
    "        print(f\"{ch} is greater than among three number \")"
   ]
  },
  {
   "cell_type": "code",
   "execution_count": 10,
   "id": "7dabb6f1-d756-4ef5-abe5-a4d53ea2af0a",
   "metadata": {},
   "outputs": [
    {
     "name": "stdin",
     "output_type": "stream",
     "text": [
      "Enter a string: ghhg\n"
     ]
    },
    {
     "name": "stdout",
     "output_type": "stream",
     "text": [
      "String is palindrome :\n"
     ]
    }
   ],
   "source": [
    "#9. Create a program that checks if a given string is a palindrome.\n",
    "gm = str(input(\"Enter a string:\"))\n",
    "if gm == gm[::-1]:\n",
    "    print(\"String is palindrome :\")\n",
    "else:\n",
    "    print(\"String is not palindrome :\")"
   ]
  },
  {
   "cell_type": "code",
   "execution_count": 13,
   "id": "48241eeb-281c-4f3f-a3d4-b9e3c1a3d4da",
   "metadata": {},
   "outputs": [
    {
     "name": "stdin",
     "output_type": "stream",
     "text": [
      "Enter a score of student: 96\n"
     ]
    },
    {
     "name": "stdout",
     "output_type": "stream",
     "text": [
      "Grade is 'A++'\n"
     ]
    }
   ],
   "source": [
    "#10. Write a Python program to calculate the grade based on a student's score.\n",
    "bm = int(input(\"Enter a score of student:\"))\n",
    "if bm < 40:\n",
    "    print(\"Grade is 'D'\")\n",
    "elif bm > 40 and bm < 60:\n",
    "    print(\"Grade is 'C'\")\n",
    "elif bm > 60 and bm < 80: \n",
    "    print(\"Grade is 'B'\")\n",
    "elif bm > 80 and bm < 95: \n",
    "    print(\"Grade is 'A'\")\n",
    "else:\n",
    "    print(\"Grade is 'A++'\")"
   ]
  },
  {
   "cell_type": "code",
   "execution_count": 16,
   "id": "4a907cb3-aed2-4811-8613-35c5df698393",
   "metadata": {},
   "outputs": [],
   "source": [
    "#Nested If-Else Statements:"
   ]
  },
  {
   "cell_type": "code",
   "execution_count": 17,
   "id": "f6cb0461-744b-4cf0-a6b3-4c1090ae3d9d",
   "metadata": {},
   "outputs": [
    {
     "name": "stdin",
     "output_type": "stream",
     "text": [
      "Enter a number1 : 3\n",
      "Enter a number2 : 8\n",
      "Enter a number3 : 89\n"
     ]
    },
    {
     "name": "stdout",
     "output_type": "stream",
     "text": [
      "89 is greater than among three number \n"
     ]
    }
   ],
   "source": [
    "#11. Write a program to find the largest among three numbers using nested if-else statements.\n",
    "vb = int(input(\"Enter a number1 :\"))\n",
    "bv = int(input(\"Enter a number2 :\"))\n",
    "ch = int(input(\"Enter a number3 :\"))\n",
    "if vb > bv:\n",
    "    if vb >ch:\n",
    "        print(f\"{vb} is greater than among three number \")\n",
    "else:\n",
    "    if bv >ch:\n",
    "        print(f\"{bv} is greater than among three number \")\n",
    "    else:\n",
    "        print(f\"{ch} is greater than among three number \")"
   ]
  },
  {
   "cell_type": "code",
   "execution_count": 19,
   "id": "df0634dd-e4cb-4b06-a88a-603669a78629",
   "metadata": {},
   "outputs": [
    {
     "name": "stdin",
     "output_type": "stream",
     "text": [
      "Enter a side 1 of triangle : 78\n",
      "Enter a side 2 of triangle : 78\n",
      "Enter a side 3 of triangle : 5\n"
     ]
    },
    {
     "name": "stdout",
     "output_type": "stream",
     "text": [
      "Triangle is isosceles triangle:\n"
     ]
    }
   ],
   "source": [
    "#12. Implement a program to determine if a triangle is equilateral, isosceles, or scalene.\n",
    "vb = int(input(\"Enter a side 1 of triangle :\"))\n",
    "bv = int(input(\"Enter a side 2 of triangle :\"))\n",
    "ch = int(input(\"Enter a side 3 of triangle :\"))\n",
    "if vb == bv and bv == ch:\n",
    "    print(\"Triangle is equilateral triangle:\")\n",
    "elif vb == bv or bv == ch:\n",
    "    print(\"Triangle is isosceles triangle:\")\n",
    "else:\n",
    "    print(\"Triangle is scalene triangle:\")"
   ]
  },
  {
   "cell_type": "code",
   "execution_count": 21,
   "id": "ccef207b-84e8-4508-aa95-0fa6757566a1",
   "metadata": {},
   "outputs": [
    {
     "name": "stdin",
     "output_type": "stream",
     "text": [
      "Enter year : 2000\n"
     ]
    },
    {
     "name": "stdout",
     "output_type": "stream",
     "text": [
      "Year is leap year and  century\n"
     ]
    }
   ],
   "source": [
    "#13. Develop a program that checks if a year is a leap year and also if it is a century year.\n",
    "lp = int(input(\"Enter year :\"))\n",
    "if lp%100 == 0 and lp%400 != 0:\n",
    "     print(\"Year is not leap year\")\n",
    "elif lp%4 == 0:\n",
    "    if lp%100 == 0:\n",
    "        print(\"Year is leap year and  century\")\n",
    "    else:\n",
    "        print(\"Year is leap year and not century\")\n",
    "else:\n",
    "    print(\"Year is not leap year\")"
   ]
  },
  {
   "cell_type": "code",
   "execution_count": 22,
   "id": "280699b3-8885-4a8c-8407-30ad1ca863f0",
   "metadata": {},
   "outputs": [
    {
     "name": "stdin",
     "output_type": "stream",
     "text": [
      "Enter a number : -85\n"
     ]
    },
    {
     "name": "stdout",
     "output_type": "stream",
     "text": [
      "Number is Negative\n"
     ]
    }
   ],
   "source": [
    "#14. Write a Python script to determine if a number is positive, negative, or zero.\n",
    "tr = int(input(\"Enter a number :\"))\n",
    "if tr > 0:\n",
    "    print(\"Number is Positive\")\n",
    "elif tr == 0:\n",
    "     print(\"Number is Zero\")\n",
    "else:\n",
    "     print(\"Number is Negative\")"
   ]
  },
  {
   "cell_type": "code",
   "execution_count": 27,
   "id": "3772ff67-ed0a-437a-a09f-585f7fe8d340",
   "metadata": {},
   "outputs": [
    {
     "name": "stdin",
     "output_type": "stream",
     "text": [
      "Enter age: 18\n"
     ]
    },
    {
     "name": "stdout",
     "output_type": "stream",
     "text": [
      "Person is a teenager :\n"
     ]
    }
   ],
   "source": [
    "#15. Create a program to check if a person is a teenager (between 13 and 19 years old).\n",
    "jk = int(input(\"Enter age:\"))\n",
    "if jk > 12 and jk < 20:\n",
    "    print(\"Person is a teenager :\")\n",
    "else:\n",
    "    print(\"Person is not a teenager :\")"
   ]
  },
  {
   "cell_type": "code",
   "execution_count": 28,
   "id": "bfb57345-8766-4162-a661-c409ba2c0f96",
   "metadata": {},
   "outputs": [
    {
     "name": "stdin",
     "output_type": "stream",
     "text": [
      "Enter a angle 1 of triangle : 40\n",
      "Enter a angle 2 of triangle : 50\n",
      "Enter a angle 3 of triangle : 90\n"
     ]
    },
    {
     "name": "stdout",
     "output_type": "stream",
     "text": [
      "Triangle is right angle triangle:\n"
     ]
    }
   ],
   "source": [
    "#16. Develop a program that determines the type of angle based on its measure (acute, obtuse, or right).\n",
    "vb = int(input(\"Enter a angle 1 of triangle :\"))\n",
    "bv = int(input(\"Enter a angle 2 of triangle :\"))\n",
    "ch = int(input(\"Enter a angle 3 of triangle :\"))\n",
    "if vb+bv+ch == 180:\n",
    "    if vb == 90 or bv == 90 or ch == 90:\n",
    "        print(\"Triangle is right angle triangle:\")\n",
    "    elif vb > 90 or bv > 90 or ch > 90:\n",
    "        print(\"Triangle is obtuse angle triangle:\")\n",
    "    else:\n",
    "        print(\"Triangle is acute angle triangle:\")\n",
    "else:\n",
    "    print(\"Not enter correct value\")"
   ]
  },
  {
   "cell_type": "code",
   "execution_count": 1,
   "id": "982817b3-35fd-43d3-ac99-08b550fe3ac1",
   "metadata": {},
   "outputs": [
    {
     "name": "stdout",
     "output_type": "stream",
     "text": [
      "Quadratic Equation Solver \n",
      " The quadratic equation is in the form: ax^2 + bx + c = 0\n"
     ]
    },
    {
     "name": "stdin",
     "output_type": "stream",
     "text": [
      "Enter the coefficient a: 5\n",
      "Enter the coefficient a: 8\n",
      "Enter the coefficient a: 9\n"
     ]
    },
    {
     "name": "stdout",
     "output_type": "stream",
     "text": [
      "The roots of the quadratic equation are: (-0.8+1.0770329614269007j) and  (-0.8-1.0770329614269007j)\n"
     ]
    }
   ],
   "source": [
    "#17. Write a Python program to calculate the roots of a quadratic equation.\n",
    "import cmath\n",
    "print(\"Quadratic Equation Solver\",\"\\n\",\"The quadratic equation is in the form: ax^2 + bx + c = 0\")\n",
    "a = int(input(\"Enter the coefficient a:\"))\n",
    "b = int(input(\"Enter the coefficient a:\"))\n",
    "c = int(input(\"Enter the coefficient a:\"))\n",
    "rt1 = (-b + cmath.sqrt(((b**2)-(4*a*c))))/(2*a)\n",
    "rt2 = (-b - cmath.sqrt(((b**2)-(4*a*c))))/(2*a)\n",
    "print(\"The roots of the quadratic equation are:\",rt1,\"and \",rt2)"
   ]
  },
  {
   "cell_type": "code",
   "execution_count": 12,
   "id": "0a89efdf-bc34-4bf9-8f61-7713ae747b0b",
   "metadata": {},
   "outputs": [
    {
     "name": "stdin",
     "output_type": "stream",
     "text": [
      "Enter a day number from '1 to 7' : 5\n"
     ]
    },
    {
     "name": "stdout",
     "output_type": "stream",
     "text": [
      "Day is : Friday\n"
     ]
    }
   ],
   "source": [
    "#18.Implement a program to determine the day of the week based on a user-provided number (1 for Monday, 2 for Tuesday, etc.).\n",
    "hg = {1:'Monday',2:'Tuesday',3:'Wednesday',4:'Thrusday',5:'Friday',6:'saturday',7:'Sunday'}\n",
    "dy = int(input(f\"Enter a day number from '1 to 7' :\"))\n",
    "print(\"Day is :\",hg[dy])"
   ]
  },
  {
   "cell_type": "code",
   "execution_count": 36,
   "id": "00a0a145-1ce0-44f9-bb0c-23b030d8f018",
   "metadata": {},
   "outputs": [
    {
     "name": "stdin",
     "output_type": "stream",
     "text": [
      "Enter year : 2000\n"
     ]
    },
    {
     "name": "stdout",
     "output_type": "stream",
     "text": [
      "Year is leap year and  evenly divsible by 400\n"
     ]
    }
   ],
   "source": [
    "#19. Create a program that determines if a year is a leap year and also if it is evenly divisible by 400.\n",
    "lp = int(input(\"Enter year :\"))\n",
    "if lp%100 == 0 and lp%400 != 0:\n",
    "     print(\"Year is not leap year\")\n",
    "elif lp%4 == 0:\n",
    "    if lp%400 == 0:\n",
    "        print(\"Year is leap year and  evenly divsible by 400\")\n",
    "    else:\n",
    "        print(\"Year is leap year and not evenly divsible by 400\")\n",
    "else:\n",
    "    print(\"Year is not leap year\")"
   ]
  },
  {
   "cell_type": "code",
   "execution_count": 37,
   "id": "32ec0716-5ff7-440d-8a78-ddc4a2440221",
   "metadata": {},
   "outputs": [
    {
     "name": "stdin",
     "output_type": "stream",
     "text": [
      "Enter a number to print prime number upto range : 40\n"
     ]
    },
    {
     "name": "stdout",
     "output_type": "stream",
     "text": [
      " prime number are : Prime number list : [2, 3, 5, 7, 11, 13, 17, 19, 23, 29, 31, 37]\n"
     ]
    }
   ],
   "source": [
    "#20. Develop a program that checks if a given number is prime or not using nested if-else statements.\n",
    "from math import sqrt\n",
    "y = []\n",
    "wq =[2,3,4,5,6,7,8,9]\n",
    "rty = int(input(\"Enter a number to print prime number upto range :\"))\n",
    "print(\" prime number are :\",end = \" \")\n",
    "def pt(r):\n",
    "    count = 0\n",
    "    if r < 4 or r == 5 or r == 7:\n",
    "        pass\n",
    "    else:\n",
    "        if (round(sqrt(r),1)*round(sqrt(r),1)) == r:\n",
    "            count = 1\n",
    "        else:\n",
    "            for lo in wq:\n",
    "                if r%lo == 0:\n",
    "                    count = 1\n",
    "                    break\n",
    "    return count\n",
    "for i in range(2,rty+1):\n",
    "    if pt(i) == 0:\n",
    "        y.append(i)\n",
    "print(\"Prime number list :\",y) "
   ]
  },
  {
   "cell_type": "code",
   "execution_count": null,
   "id": "fef66943-039f-418b-8d88-45d99c722dc7",
   "metadata": {},
   "outputs": [],
   "source": [
    "#Elif Statements:\n"
   ]
  },
  {
   "cell_type": "code",
   "execution_count": 38,
   "id": "414f182e-55a2-4d26-b285-92cd5c4f0f0e",
   "metadata": {},
   "outputs": [
    {
     "name": "stdin",
     "output_type": "stream",
     "text": [
      "Enter a score of student: 85\n"
     ]
    },
    {
     "name": "stdout",
     "output_type": "stream",
     "text": [
      "Grade is 'A'\n"
     ]
    }
   ],
   "source": [
    "#21. Write a Python program to assign grades based on different ranges of scores using elif statements.\n",
    "bm = int(input(\"Enter a score of student:\"))\n",
    "if bm < 40:\n",
    "    print(\"Grade is 'D'\")\n",
    "elif bm > 40 and bm < 60:\n",
    "    print(\"Grade is 'C'\")\n",
    "elif bm > 60 and bm < 80: \n",
    "    print(\"Grade is 'B'\")\n",
    "elif bm > 80 and bm < 95: \n",
    "    print(\"Grade is 'A'\")\n",
    "else:\n",
    "    print(\"Grade is 'A++'\")"
   ]
  },
  {
   "cell_type": "code",
   "execution_count": 40,
   "id": "28787ea9-f283-4df9-847a-6a8f0ee0408a",
   "metadata": {},
   "outputs": [
    {
     "name": "stdin",
     "output_type": "stream",
     "text": [
      "Enter a angle 1 of triangle : 110\n",
      "Enter a angle 2 of triangle : 40\n",
      "Enter a angle 3 of triangle : 30\n"
     ]
    },
    {
     "name": "stdout",
     "output_type": "stream",
     "text": [
      "Triangle is obtuse angle triangle:\n"
     ]
    }
   ],
   "source": [
    "#22. Implement a program to determine the type of a triangle based on its angles.\n",
    "vb = int(input(\"Enter a angle 1 of triangle :\"))\n",
    "bv = int(input(\"Enter a angle 2 of triangle :\"))\n",
    "ch = int(input(\"Enter a angle 3 of triangle :\"))\n",
    "if vb+bv+ch == 180:\n",
    "    if vb == 90 or bv == 90 or ch == 90:\n",
    "        print(\"Triangle is right angle triangle:\")\n",
    "    elif vb > 90 or bv > 90 or ch > 90:\n",
    "        print(\"Triangle is obtuse angle triangle:\")\n",
    "    else:\n",
    "        print(\"Triangle is acute angle triangle:\")\n",
    "else:\n",
    "    print(\"Not enter correct value\")\n",
    "    "
   ]
  },
  {
   "cell_type": "code",
   "execution_count": 25,
   "id": "37171d57-25dc-4c06-b44a-7d2176667230",
   "metadata": {},
   "outputs": [
    {
     "name": "stdin",
     "output_type": "stream",
     "text": [
      "Enter height of person in meter : 1.9\n",
      "Enter weight of person in kg : 90\n"
     ]
    },
    {
     "name": "stdout",
     "output_type": "stream",
     "text": [
      "Person fall in underweight category \n"
     ]
    }
   ],
   "source": [
    "#23. Develop a program to categorize a given person's BMI into underweight, normal, overweight, or obese using elif statements.\n",
    "h = float(input(\"Enter height of person in meter :\"))\n",
    "w  = float(input(\"Enter weight of person in kg :\"))\n",
    "bmi = w/(h*h)\n",
    "if bmi >= 30:\n",
    "    print(\"Person fall obese in category \")\n",
    "elif bmi <= 29.9 and bmi >= 25:\n",
    "    print(\"Person fall in overweight category \")\n",
    "elif bmi <= 24.9 and bmi >= 18.5:\n",
    "    print(\"Person fall in normal weight category \")\n",
    "else:\n",
    "    print(\"Person fall in underweight category \")"
   ]
  },
  {
   "cell_type": "code",
   "execution_count": 41,
   "id": "69cdc7b9-da6f-4493-8f33-50b1d2a303f1",
   "metadata": {},
   "outputs": [
    {
     "name": "stdin",
     "output_type": "stream",
     "text": [
      "Enter a number : 12\n"
     ]
    },
    {
     "name": "stdout",
     "output_type": "stream",
     "text": [
      "Number is Positive\n"
     ]
    }
   ],
   "source": [
    "#24. Create a program that determines whether a given number is positive, negative, or zero using elif statements.\n",
    "tr = int(input(\"Enter a number :\"))\n",
    "if tr > 0:\n",
    "    print(\"Number is Positive\")\n",
    "elif tr == 0:\n",
    "     print(\"Number is Zero\")\n",
    "else:\n",
    "     print(\"Number is Negative\")"
   ]
  },
  {
   "cell_type": "code",
   "execution_count": 43,
   "id": "cee8cddc-fe96-4a75-90b7-e2aa1ee74b42",
   "metadata": {},
   "outputs": [
    {
     "name": "stdin",
     "output_type": "stream",
     "text": [
      "Enter a character : @\n"
     ]
    },
    {
     "name": "stdout",
     "output_type": "stream",
     "text": [
      "Character is special case :\n"
     ]
    }
   ],
   "source": [
    "#25. Write a Python script to determine the type of a character (uppercase, lowercase, or special) using elif statements.\n",
    "ry = str(input(\"Enter a character :\"))\n",
    "if ry.isalpha() == True:\n",
    "    if ry.upper() == ry:\n",
    "        print(\"Character is upper case :\")\n",
    "    else:\n",
    "        print(\"Character is lower case :\")\n",
    "else:\n",
    "    if ry.isdigit() == True:\n",
    "         print(\"Character is digit :\")\n",
    "    else:\n",
    "        print(\"Character is special case :\")"
   ]
  },
  {
   "cell_type": "code",
   "execution_count": 47,
   "id": "04105db0-e46d-43d9-9be7-fa25efbe2c04",
   "metadata": {},
   "outputs": [
    {
     "name": "stdin",
     "output_type": "stream",
     "text": [
      "Enter purchased amount : 8000\n"
     ]
    },
    {
     "name": "stdout",
     "output_type": "stream",
     "text": [
      "Discount is 55% \n",
      " price is : 3600.0\n"
     ]
    }
   ],
   "source": [
    "#26. Implement a program to calculate the discounted price based on different purchase amounts using elif statements.\n",
    "bm = int(input(\"Enter purchased amount :\"))\n",
    "if bm < 400:\n",
    "    print(\"Discount is 5%\",'\\n',\"price is :\",(bm*95)/100)\n",
    "elif bm > 400 and bm < 600:\n",
    "    print(\"Discount is 15%\",'\\n',\"price is :\",(bm*85)/100)\n",
    "elif bm > 600 and bm < 800: \n",
    "    print(\"Discount is 25%\",'\\n',\"price is :\",(bm*75)/100)\n",
    "elif bm > 800 and bm < 950: \n",
    "    print(\"Discount is 35%\",'\\n',\"price is :\",(bm*65)/100)\n",
    "else:\n",
    "    print(\"Discount is 55%\",'\\n',\"price is :\",(bm*45)/100)"
   ]
  },
  {
   "cell_type": "code",
   "execution_count": 4,
   "id": "1b94236a-b8c0-4d1a-a14a-ca01e46a7557",
   "metadata": {},
   "outputs": [
    {
     "name": "stdin",
     "output_type": "stream",
     "text": [
      "Enter consumpution of electricity in units : 800\n"
     ]
    },
    {
     "name": "stdout",
     "output_type": "stream",
     "text": [
      "Bill is : 2400\n"
     ]
    }
   ],
   "source": [
    "#27. Develop a program to calculate the electricity bill based on different consumption slabs using elif statements.\n",
    "bm = int(input(\"Enter consumpution of electricity in units :\"))\n",
    "if bm < 400:\n",
    "    print(\"Bill is :\",(bm*2)+100)\n",
    "elif bm > 400 and bm < 600:\n",
    "    print(\"Bill is :\",(bm*2)+200)\n",
    "elif bm > 600 and bm < 800: \n",
    "    print(\"Bill is :\",(bm*2)+300)\n",
    "elif bm > 800 and bm < 950: \n",
    "    print(\"Bill is :\",(bm*2)+400)\n",
    "else:\n",
    "    print(\"Bill is :\",(bm*2)+800)"
   ]
  },
  {
   "cell_type": "code",
   "execution_count": 4,
   "id": "8601b350-9dad-4caf-9222-ee235f2621a3",
   "metadata": {},
   "outputs": [
    {
     "name": "stdout",
     "output_type": "stream",
     "text": [
      "Quadrilateral Type Determination\n",
      "Enter the angles and sides of the quadrilateral:\n"
     ]
    },
    {
     "name": "stdin",
     "output_type": "stream",
     "text": [
      "Enter the first angle: 90\n",
      "Enter the second angle: 90\n",
      "Enter the third angle: 90\n",
      "Enter the fourth angle: 90\n",
      "Enter the length of the first side: 25\n",
      "Enter the length of the second side: 36\n",
      "Enter the length of the third side: 25\n",
      "Enter the length of the fourth side: 36\n"
     ]
    },
    {
     "name": "stdout",
     "output_type": "stream",
     "text": [
      "It is a Rectangle or It is a parallelogram:\n"
     ]
    }
   ],
   "source": [
    "#28. Create a program to determine the type of quadrilateral based on its angles and sides using elif statements.\n",
    "print(\"Quadrilateral Type Determination\")\n",
    "print(\"Enter the angles and sides of the quadrilateral:\")\n",
    "a1 = int(input(\"Enter the first angle:\"))\n",
    "a2 = int(input(\"Enter the second angle:\"))\n",
    "a3 = int(input(\"Enter the third angle:\"))\n",
    "a4 = int(input(\"Enter the fourth angle:\"))\n",
    "if a1+a2+a3+a4 == 360:\n",
    "    s1 = int(input(\"Enter the length of the first side:\"))\n",
    "    s2 = int(input(\"Enter the length of the second side:\"))\n",
    "    s3 = int(input(\"Enter the length of the third side:\"))\n",
    "    s4 = int(input(\"Enter the length of the fourth side:\"))\n",
    "    if s1> 0 and s2 > 0 and s3 > 0 and s4 > 0:\n",
    "        if s1 == s2 and s2 == s3 and s3 == 4:\n",
    "            if a1 == a2 and a2 == a3 and a3 == a4:\n",
    "                print(\"It is square \")\n",
    "            elif a1 == a3 and a2 == a4:\n",
    "                print(\"It is a Rombus\")\n",
    "            else:\n",
    "                print(\"Wrong angle or wron side given\")\n",
    "        elif s1 == s3 and s2 == s4:\n",
    "            if a1 == 90 and a2 == 90 and a3 == 90 and a4== 90:\n",
    "                print(\"It is a Rectangle or It is a parallelogram:\")\n",
    "            elif a1 ==a3 and a2 == a4:\n",
    "                print(\"It is a parallelogram:\")\n",
    "            else:\n",
    "                print(\"It is a quadrilateral\")\n",
    "        else:\n",
    "            if a1 == 90 and a2 == 90 and a3 == 90 and a4== 90:\n",
    "                    print(\"Wrong angle or wron side given\")\n",
    "                    print(\"It is not a quadrilateral:\")\n",
    "            else:\n",
    "                print(\"It is a quadrilateral\")\n",
    "            \n",
    "    else:\n",
    "        print(\"It is not a quadrilateral:\")\n",
    "else:\n",
    "    print(\"It is not a quadrilateral: because sum of angle are not 360\")"
   ]
  },
  {
   "cell_type": "code",
   "execution_count": 5,
   "id": "2ece1d14-1c81-4989-b8df-afdbb23c8dd0",
   "metadata": {},
   "outputs": [
    {
     "name": "stdin",
     "output_type": "stream",
     "text": [
      "Enter a month number from ' 1 To 12' 10\n"
     ]
    },
    {
     "name": "stdout",
     "output_type": "stream",
     "text": [
      "Season is : Autum\n"
     ]
    }
   ],
   "source": [
    "#29. Write a Python script to determine the season based on a user-provided month using elif statements.\n",
    "hg = {1:'Winter',2:'Winter',3:'Spring',4:'Summer',5:'\"Summer',6:'Rainy',7:'Summer',8:'Summer',9:'Rainy',10:'Autum',11:'Winter',12:'Winter'}\n",
    "dy = int(input(f\"Enter a month number from ' 1 To 12'\"))\n",
    "print(\"Season is :\",hg[dy])"
   ]
  },
  {
   "cell_type": "code",
   "execution_count": 9,
   "id": "ef890852-9280-4224-96b2-d3b4f1cf6267",
   "metadata": {},
   "outputs": [
    {
     "name": "stdin",
     "output_type": "stream",
     "text": [
      "Enter year : 2024\n",
      "Month number : 11\n"
     ]
    },
    {
     "name": "stdout",
     "output_type": "stream",
     "text": [
      "Year is leap year and days in month 30 \n"
     ]
    }
   ],
   "source": [
    "#30. Implement a program to determine the type of a year (leap or common) and month (30 or 31 days) using elif statements.\n",
    "lp = int(input(\"Enter year :\"))\n",
    "hg = {1:'31',2:'',3:'31',4:'30',5:'31',6:'30',7:'31',8:'31',9:'30',10:'31',11:'30',12:'30'}\n",
    "mt = int(input(\"Month number :\"))\n",
    "if lp%100 == 0 and lp%400 != 0 and mt < 13:\n",
    "     print(\"Year is not leap year\")\n",
    "elif lp%4 == 0 and mt < 13:\n",
    "    if mt == 2:\n",
    "        print(\"Year is leap year and days in month '28' \")\n",
    "    else:\n",
    "        print(f\"Year is leap year and days in month {hg[mt]} \")\n",
    "else:\n",
    "    if mt < 13:\n",
    "        print(\"Year is not leap year\")\n",
    "    else:\n",
    "         print(\"Month is not in range \")"
   ]
  },
  {
   "cell_type": "code",
   "execution_count": null,
   "id": "cd41a134-b24a-4f51-a2a9-1b00a9acf06d",
   "metadata": {},
   "outputs": [],
   "source": [
    "#Basic Level:\n"
   ]
  },
  {
   "cell_type": "code",
   "execution_count": 11,
   "id": "5baaaf0c-91eb-4c7b-8533-b96219a36d28",
   "metadata": {},
   "outputs": [
    {
     "name": "stdin",
     "output_type": "stream",
     "text": [
      "Enter a number : 78\n"
     ]
    },
    {
     "name": "stdout",
     "output_type": "stream",
     "text": [
      "Number is Positive\n"
     ]
    }
   ],
   "source": [
    "#1. Write a Python program that checks if a given number is positive, negative, or zero.\n",
    "tr = int(input(\"Enter a number :\"))\n",
    "if tr > 0:\n",
    "    print(\"Number is Positive\")\n",
    "elif tr == 0:\n",
    "     print(\"Number is Zero\")\n",
    "else:\n",
    "     print(\"Number is Negative\")"
   ]
  },
  {
   "cell_type": "code",
   "execution_count": 12,
   "id": "923d258c-7f5c-413d-906c-0533a3df72b9",
   "metadata": {},
   "outputs": [
    {
     "name": "stdin",
     "output_type": "stream",
     "text": [
      "Enter Age : 5\n"
     ]
    },
    {
     "name": "stdout",
     "output_type": "stream",
     "text": [
      "Person is not eligible for vote\n"
     ]
    }
   ],
   "source": [
    "#2. Create a program to determine if a person is eligible to vote based on their age.\n",
    "gr = int(input(\"Enter Age :\"))\n",
    "if gr > 18:\n",
    "    print(\"Person is eligible for vote\")\n",
    "else:\n",
    "    print(\"Person is not eligible for vote\")"
   ]
  },
  {
   "cell_type": "code",
   "execution_count": 1,
   "id": "402b68df-d665-4677-a217-44256160fed7",
   "metadata": {},
   "outputs": [
    {
     "name": "stdin",
     "output_type": "stream",
     "text": [
      "Enter a number1 : 25\n",
      "Enter a number2 : 78\n"
     ]
    },
    {
     "name": "stdout",
     "output_type": "stream",
     "text": [
      "78 is greater than 25 \n"
     ]
    }
   ],
   "source": [
    "# 3. Write a program to find the maximum of two given numbers using conditional statements.\n",
    "vb = int(input(\"Enter a number1 :\"))\n",
    "bv = int(input(\"Enter a number2 :\"))\n",
    "if vb > bv:\n",
    "    print(f\"{vb} is greater than {bv} \")\n",
    "else:\n",
    "    print(f\"{bv} is greater than {vb} \")"
   ]
  },
  {
   "cell_type": "code",
   "execution_count": 2,
   "id": "af1b5514-8c1b-4f13-be95-7b07acd45626",
   "metadata": {},
   "outputs": [
    {
     "name": "stdin",
     "output_type": "stream",
     "text": [
      "Enter a score of student: 78\n"
     ]
    },
    {
     "name": "stdout",
     "output_type": "stream",
     "text": [
      "Grade is 'B'\n"
     ]
    }
   ],
   "source": [
    "#4. Develop a program that calculates the grade of a student based on their exam score.\n",
    "bm = int(input(\"Enter a score of student:\"))\n",
    "if bm < 40:\n",
    "    print(\"Grade is 'D'\")\n",
    "elif bm > 40 and bm < 60:\n",
    "    print(\"Grade is 'C'\")\n",
    "elif bm > 60 and bm < 80: \n",
    "    print(\"Grade is 'B'\")\n",
    "elif bm > 80 and bm < 95: \n",
    "    print(\"Grade is 'A'\")\n",
    "else:\n",
    "    print(\"Grade is 'A++'\")"
   ]
  },
  {
   "cell_type": "code",
   "execution_count": 3,
   "id": "e1b67f6e-471d-4343-b42b-78943602d67f",
   "metadata": {},
   "outputs": [
    {
     "name": "stdin",
     "output_type": "stream",
     "text": [
      "Enter year : 2025\n"
     ]
    },
    {
     "name": "stdout",
     "output_type": "stream",
     "text": [
      "Year is not leap year\n"
     ]
    }
   ],
   "source": [
    "#5. Create a program that checks if a year is a leap year or not.\n",
    "lp = int(input(\"Enter year :\"))\n",
    "if lp%100 == 0 and lp%400 != 0:\n",
    "     print(\"Year is not leap year\")\n",
    "elif lp%4 == 0:\n",
    "    if lp%100 == 0:\n",
    "        print(\"Year is leap year and  century\")\n",
    "    else:\n",
    "        print(\"Year is leap year and not century\")\n",
    "else:\n",
    "    print(\"Year is not leap year\")"
   ]
  },
  {
   "cell_type": "code",
   "execution_count": 1,
   "id": "73cd8226-552b-4491-a27b-d9506b9477aa",
   "metadata": {},
   "outputs": [
    {
     "name": "stdin",
     "output_type": "stream",
     "text": [
      "Enter a side 1 of triangle : 45\n",
      "Enter a side 2 of triangle : 45\n",
      "Enter a side 3 of triangle : 54\n"
     ]
    },
    {
     "name": "stdout",
     "output_type": "stream",
     "text": [
      "Triangle is isosceles triangle:\n"
     ]
    }
   ],
   "source": [
    "# 6. Write a program to classify a triangle based on its sides' lengths.\n",
    "vb = int(input(\"Enter a side 1 of triangle :\"))\n",
    "bv = int(input(\"Enter a side 2 of triangle :\"))\n",
    "ch = int(input(\"Enter a side 3 of triangle :\"))\n",
    "if vb == bv and bv == ch:\n",
    "    print(\"Triangle is equilateral triangle:\")\n",
    "elif vb == bv or bv == ch:\n",
    "    print(\"Triangle is isosceles triangle:\")\n",
    "else:\n",
    "    print(\"Triangle is scalene triangle:\")"
   ]
  },
  {
   "cell_type": "code",
   "execution_count": 1,
   "id": "825aee84-a4dc-4f13-9543-86779393f6d0",
   "metadata": {},
   "outputs": [
    {
     "name": "stdin",
     "output_type": "stream",
     "text": [
      "Enter a number1 : 78\n",
      "Enter a number2 : 89\n",
      "Enter a number3 : 54\n"
     ]
    },
    {
     "name": "stdout",
     "output_type": "stream",
     "text": [
      "89 is greater than among three number \n"
     ]
    }
   ],
   "source": [
    "#7. Build a program that determines the largest of three given numbers.\n",
    "vb = int(input(\"Enter a number1 :\"))\n",
    "bv = int(input(\"Enter a number2 :\"))\n",
    "ch = int(input(\"Enter a number3 :\"))\n",
    "if vb > bv:\n",
    "    if vb >ch:\n",
    "        print(f\"{vb} is greater than among three number \")\n",
    "else:\n",
    "    if bv >ch:\n",
    "        print(f\"{bv} is greater than among three number \")\n",
    "    else:\n",
    "        print(f\"{ch} is greater than among three number \")"
   ]
  },
  {
   "cell_type": "code",
   "execution_count": 5,
   "id": "f8250366-c5f3-4585-9cfe-49818667c9a6",
   "metadata": {},
   "outputs": [
    {
     "name": "stdin",
     "output_type": "stream",
     "text": [
      "Enter a character : \n"
     ]
    },
    {
     "name": "stdout",
     "output_type": "stream",
     "text": [
      "Given character is consonant :\n"
     ]
    }
   ],
   "source": [
    "#8. Develop a program that checks whether a character is a vowel or a consonant.\n",
    "hj = ['A','E','I','O','U']\n",
    "v = str(input(\"Enter a character :\"))\n",
    "if v.upper() in hj:\n",
    "    print(\"Given character is vowel :\")\n",
    "else:\n",
    "    print(\"Given character is consonant :\")"
   ]
  },
  {
   "cell_type": "code",
   "execution_count": 8,
   "id": "dcef5b2d-402a-4449-b710-34a8b125e3fb",
   "metadata": {},
   "outputs": [
    {
     "name": "stdin",
     "output_type": "stream",
     "text": [
      "Enter purchased amount : 850\n"
     ]
    },
    {
     "name": "stdout",
     "output_type": "stream",
     "text": [
      "Discount is 35% \n",
      " price is : 552.5\n"
     ]
    }
   ],
   "source": [
    "#9. Create a program to calculate the total cost of a shopping cart based on discounts.\n",
    "bm = int(input(\"Enter purchased amount :\"))\n",
    "if bm < 400:\n",
    "    print(\"Discount is 5%\",'\\n',\"price is :\",(bm*95)/100)\n",
    "elif bm > 400 and bm < 600:\n",
    "    print(\"Discount is 15%\",'\\n',\"price is :\",(bm*85)/100)\n",
    "elif bm > 600 and bm < 800: \n",
    "    print(\"Discount is 25%\",'\\n',\"price is :\",(bm*75)/100)\n",
    "elif bm > 800 and bm < 950: \n",
    "    print(\"Discount is 35%\",'\\n',\"price is :\",(bm*65)/100)\n",
    "else:\n",
    "    print(\"Discount is 55%\",'\\n',\"price is :\",(bm*45)/100)"
   ]
  },
  {
   "cell_type": "code",
   "execution_count": 10,
   "id": "a7271253-2be0-421b-b55e-600f91bbaa4a",
   "metadata": {},
   "outputs": [
    {
     "name": "stdin",
     "output_type": "stream",
     "text": [
      "Enter a number : 9\n"
     ]
    },
    {
     "name": "stdout",
     "output_type": "stream",
     "text": [
      "Given number is odd:\n"
     ]
    }
   ],
   "source": [
    "#10. Write a program that checks if a given number is even or odd.\n",
    "b = int(input(\"Enter a number :\"))\n",
    "if b == 0:\n",
    "     print(\"Number is Zero\")\n",
    "elif b%2 == 0:\n",
    "    print(\"Given number is even:\")\n",
    "else:\n",
    "    print(\"Given number is odd:\")"
   ]
  },
  {
   "cell_type": "code",
   "execution_count": 20,
   "id": "54de4090-5e4f-47c0-95e6-4f34ec5b4141",
   "metadata": {},
   "outputs": [],
   "source": [
    "#Intermediate Level:"
   ]
  },
  {
   "cell_type": "code",
   "execution_count": 2,
   "id": "ca91897d-27ff-4411-aa5b-69f2be96760b",
   "metadata": {},
   "outputs": [
    {
     "name": "stdout",
     "output_type": "stream",
     "text": [
      "Quadratic Equation Solver \n",
      " The quadratic equation is in the form: ax^2 + bx + c = 0\n"
     ]
    },
    {
     "name": "stdin",
     "output_type": "stream",
     "text": [
      "Enter the coefficient a: 8\n",
      "Enter the coefficient a: 6\n",
      "Enter the coefficient a: 3\n"
     ]
    },
    {
     "name": "stdout",
     "output_type": "stream",
     "text": [
      "The roots of the quadratic equation are: (-0.375+0.4841229182759271j) and  (-0.375-0.4841229182759271j)\n"
     ]
    }
   ],
   "source": [
    "#11. Write a program that calculates the roots of a quadratic equation .\n",
    "import cmath\n",
    "print(\"Quadratic Equation Solver\",\"\\n\",\"The quadratic equation is in the form: ax^2 + bx + c = 0\")\n",
    "a = int(input(\"Enter the coefficient a:\"))\n",
    "b = int(input(\"Enter the coefficient a:\"))\n",
    "c = int(input(\"Enter the coefficient a:\"))\n",
    "rt1 = (-b + cmath.sqrt(((b**2)-(4*a*c))))/(2*a)\n",
    "rt2 = (-b - cmath.sqrt(((b**2)-(4*a*c))))/(2*a)\n",
    "print(\"The roots of the quadratic equation are:\",rt1,\"and \",rt2)"
   ]
  },
  {
   "cell_type": "code",
   "execution_count": 13,
   "id": "f136927b-a672-47a3-9c08-59324169fc41",
   "metadata": {},
   "outputs": [
    {
     "name": "stdin",
     "output_type": "stream",
     "text": [
      "Enter a day number from '1 to 7' : 4\n"
     ]
    },
    {
     "name": "stdout",
     "output_type": "stream",
     "text": [
      "Day is : Thrusday\n"
     ]
    }
   ],
   "source": [
    "#12. Create a program that determines the day of the week based on the day number (1-7).\n",
    "hg = {1:'Monday',2:'Tuesday',3:'Wednesday',4:'Thrusday',5:'Friday',6:'saturday',7:'Sunday'}\n",
    "dy = int(input(f\"Enter a day number from '1 to 7' :\"))\n",
    "print(\"Day is :\",hg[dy])"
   ]
  },
  {
   "cell_type": "code",
   "execution_count": 14,
   "id": "17d6dd95-4d37-4608-ab76-a15fc90eca88",
   "metadata": {},
   "outputs": [
    {
     "name": "stdin",
     "output_type": "stream",
     "text": [
      "Enter a value 5\n"
     ]
    },
    {
     "name": "stdout",
     "output_type": "stream",
     "text": [
      "Factorial is : 120\n"
     ]
    }
   ],
   "source": [
    "#13. Develop a program that calculates the factorial of a given number using recursion.\n",
    "def fact(i):\n",
    "    if i == 1:\n",
    "        pass\n",
    "    else:\n",
    "        i = i*fact(i-1)\n",
    "    return i\n",
    "vh = int(input(\"Enter a value\"))\n",
    "print(\"Factorial is :\",fact(vh))"
   ]
  },
  {
   "cell_type": "code",
   "execution_count": 14,
   "id": "1cd73e57-e17b-43ad-87b6-2351df8b02e7",
   "metadata": {},
   "outputs": [
    {
     "name": "stdin",
     "output_type": "stream",
     "text": [
      "Enter a number1 : 45\n",
      "Enter a number2 : 100\n",
      "Enter a number3 : 896\n"
     ]
    },
    {
     "name": "stdout",
     "output_type": "stream",
     "text": [
      "896 is greater than among three number \n"
     ]
    }
   ],
   "source": [
    "#14.Write a program to find the largest among three numbers without using the `max()` function.\n",
    "vb = int(input(\"Enter a number1 :\"))\n",
    "bv = int(input(\"Enter a number2 :\"))\n",
    "ch = int(input(\"Enter a number3 :\"))\n",
    "if vb > bv:\n",
    "    if vb >ch:\n",
    "        print(f\"{vb} is greater than among three number \")\n",
    "else:\n",
    "    if bv >ch:\n",
    "        print(f\"{bv} is greater than among three number \")\n",
    "    else:\n",
    "        print(f\"{ch} is greater than among three number \")"
   ]
  },
  {
   "cell_type": "code",
   "execution_count": 1,
   "id": "b6c11e05-338b-4596-a010-e014a5edf25f",
   "metadata": {},
   "outputs": [
    {
     "name": "stdout",
     "output_type": "stream",
     "text": [
      "==== ATM Transaction Menu ==== \n",
      " 1. Check Balance \n",
      " 2. Deposit Money \n",
      " 3. Withdraw Money \n",
      " 4. Exit\n"
     ]
    },
    {
     "name": "stdin",
     "output_type": "stream",
     "text": [
      "Enter your choice (1-4): 1\n"
     ]
    },
    {
     "name": "stdout",
     "output_type": "stream",
     "text": [
      "Your current balance is : ₹ 78000\n",
      "==== ATM Transaction Menu ==== \n",
      " 1. Check Balance \n",
      " 2. Deposit Money \n",
      " 3. Withdraw Money \n",
      " 4. Exit\n"
     ]
    },
    {
     "name": "stdin",
     "output_type": "stream",
     "text": [
      "Enter your choice (1-4): 2\n",
      "Enter the amount to deposit: ₹ 545484484\n"
     ]
    },
    {
     "name": "stdout",
     "output_type": "stream",
     "text": [
      "Deposit successful. Your new balance is: ₹ 545562484\n",
      "==== ATM Transaction Menu ==== \n",
      " 1. Check Balance \n",
      " 2. Deposit Money \n",
      " 3. Withdraw Money \n",
      " 4. Exit\n"
     ]
    },
    {
     "name": "stdin",
     "output_type": "stream",
     "text": [
      "Enter your choice (1-4): 3\n",
      "Enter the amount to withdraw: 45484\n"
     ]
    },
    {
     "name": "stdout",
     "output_type": "stream",
     "text": [
      "Withdrawal successful. Your new balance is : ₹ 545517000\n",
      "==== ATM Transaction Menu ==== \n",
      " 1. Check Balance \n",
      " 2. Deposit Money \n",
      " 3. Withdraw Money \n",
      " 4. Exit\n"
     ]
    },
    {
     "name": "stdin",
     "output_type": "stream",
     "text": [
      "Enter your choice (1-4): 1\n"
     ]
    },
    {
     "name": "stdout",
     "output_type": "stream",
     "text": [
      "Your current balance is : ₹ 545517000\n",
      "==== ATM Transaction Menu ==== \n",
      " 1. Check Balance \n",
      " 2. Deposit Money \n",
      " 3. Withdraw Money \n",
      " 4. Exit\n"
     ]
    },
    {
     "name": "stdin",
     "output_type": "stream",
     "text": [
      "Enter your choice (1-4): 4\n"
     ]
    },
    {
     "name": "stdout",
     "output_type": "stream",
     "text": [
      "Thank you for using the ATM. \n",
      "Goodbye!\n"
     ]
    }
   ],
   "source": [
    "#15. Create a program that simulates a basic ATM transaction menu.\n",
    "def men(b2):\n",
    "    print(\"==== ATM Transaction Menu ====\",'\\n','1. Check Balance','\\n','2. Deposit Money','\\n','3. Withdraw Money','\\n','4. Exit')\n",
    "    ch = input(\"Enter your choice (1-4):\")    \n",
    "    if int(ch) == 1:\n",
    "        print(\"Your current balance is : ₹\",b2)\n",
    "        men(b2)\n",
    "    elif int(ch) == 2:\n",
    "        nh =  int(input(\"Enter the amount to deposit: ₹\"))\n",
    "        l1 = nh + b2\n",
    "        print(\"Deposit successful. Your new balance is: ₹\",l1)\n",
    "        b2 = l1\n",
    "        men(b2)\n",
    "    elif int(ch) == 3:\n",
    "        w = int(input(\"Enter the amount to withdraw:\"))\n",
    "        if b2 > w:\n",
    "            b = b2 - w\n",
    "            print(\"Withdrawal successful. Your new balance is : ₹\",b)\n",
    "            b2 = b\n",
    "            men(b2)\n",
    "    elif int(ch) == 4:\n",
    "        print(\"Thank you for using the ATM. \")\n",
    "    else:\n",
    "        print(\"Wrong choice\")\n",
    "    return ('Goodbye!')\n",
    "m = 78000\n",
    "print(men(m))"
   ]
  },
  {
   "cell_type": "code",
   "execution_count": 1,
   "id": "d69539dd-b0b8-4ca3-b469-0e1a01a66812",
   "metadata": {},
   "outputs": [
    {
     "name": "stdin",
     "output_type": "stream",
     "text": [
      "Enter a string: kllk\n"
     ]
    },
    {
     "name": "stdout",
     "output_type": "stream",
     "text": [
      "String is palindrome :\n"
     ]
    }
   ],
   "source": [
    "#16. Build a program that checks if a given string is a palindrome or not.\n",
    "gm = str(input(\"Enter a string:\"))\n",
    "if gm == gm[::-1]:\n",
    "    print(\"String is palindrome :\")\n",
    "else:\n",
    "    print(\"String is not palindrome :\")"
   ]
  },
  {
   "cell_type": "code",
   "execution_count": 9,
   "id": "0035dd1f-fb08-4224-b1fb-702c4dff9a45",
   "metadata": {},
   "outputs": [
    {
     "name": "stdout",
     "output_type": "stream",
     "text": [
      "List is : [1, 2, 3, 56, 89, 45, 56, 35, 98, 48, 75]\n",
      "Average of a list of numbers, excluding the smallest and largest values : 45.44444444444444\n"
     ]
    }
   ],
   "source": [
    "#17. Write a program that calculates the average of a list of numbers, excluding the smallest and largest values.\n",
    "fg = [1,2,3,56,89,45,56,35,98,48,75]\n",
    "print(\"List is :\",fg)\n",
    "fg.remove(max(fg))\n",
    "fg.remove(min(fg))\n",
    "g = sum(fg)\n",
    "print(\"Average of a list of numbers, excluding the smallest and largest values :\",g/len(fg))"
   ]
  },
  {
   "cell_type": "code",
   "execution_count": 10,
   "id": "c6441d2e-cf65-4d83-8581-75c44474b0d7",
   "metadata": {},
   "outputs": [
    {
     "name": "stdin",
     "output_type": "stream",
     "text": [
      "Enter temperature in celsius : 78\n"
     ]
    },
    {
     "name": "stdout",
     "output_type": "stream",
     "text": [
      "Temperature in Fahrenheit : 172.4\n"
     ]
    }
   ],
   "source": [
    "#18. Develop a program that converts a given temperature from Celsius to Fahrenheit.\n",
    "vbk = int(input(\"Enter temperature in celsius :\"))\n",
    "kl = (vbk*(9/5))+32\n",
    "print(\"Temperature in Fahrenheit :\",kl)"
   ]
  },
  {
   "cell_type": "code",
   "execution_count": 12,
   "id": "fd4772f1-495e-4d4a-9d25-a88108d823e3",
   "metadata": {},
   "outputs": [
    {
     "name": "stdout",
     "output_type": "stream",
     "text": [
      "Calculator menu: \n",
      " 1. Add \n",
      " 2. Subtract \n",
      " 3. Multiply \n",
      " 4. Divide\n"
     ]
    },
    {
     "name": "stdin",
     "output_type": "stream",
     "text": [
      "Enter your choice: 2\n",
      "Enter number: 45\n",
      "Enter number: 2\n"
     ]
    },
    {
     "name": "stdout",
     "output_type": "stream",
     "text": [
      "Substraction is : 43\n"
     ]
    }
   ],
   "source": [
    "#19. Create a program that simulates a basic calculator for addition, subtraction, multiplication, and division.\n",
    "print(\"Calculator menu:\",'\\n',\"1. Add\",'\\n',\"2. Subtract\",'\\n',\"3. Multiply\",'\\n',\"4. Divide\")\n",
    "op = int(input(\"Enter your choice:\"))\n",
    "if op == 1:\n",
    "    op1 = int(input(\"Enter number:\"))\n",
    "    op2 = int(input(\"Enter number:\"))\n",
    "    print(\"Addition is :\",op1+op2)\n",
    "elif op == 2:\n",
    "    op1 = int(input(\"Enter number:\"))\n",
    "    op2 = int(input(\"Enter number:\"))\n",
    "    print(\"Substraction is :\",op1-op2)\n",
    "elif op == 3:\n",
    "    op1 = int(input(\"Enter number:\"))\n",
    "    op2 = int(input(\"Enter number:\"))\n",
    "    print(\"Multiplication is :\",op1+op2)\n",
    "elif op == 4:\n",
    "    op1 = int(input(\"Enter number:\"))\n",
    "    op2 = int(input(\"Enter number:\"))\n",
    "    print(\"Division is :\",op1/op2)\n",
    "else:\n",
    "    print(\"Wrong choice\")\n"
   ]
  },
  {
   "cell_type": "code",
   "execution_count": 22,
   "id": "3327c1ab-099d-4c81-aa21-67c551af8031",
   "metadata": {},
   "outputs": [
    {
     "name": "stdout",
     "output_type": "stream",
     "text": [
      "Solve a cubic equation using Cardano's formula.\n",
      "Equation is : x^3 - 27x + 54 = 0\n",
      "Depressed equation which is 1(x)^2 + -6.0(x) + 9.0 = 0.0\n",
      "Root of equation x^3 - 27x + 54 = 0 is :-6.0, 3.0,3.0\n"
     ]
    }
   ],
   "source": [
    "20. Write a program that determines the roots of a cubic equation using the Cardano formula.\n",
    "import math \n",
    "print(\"Solve a cubic equation using Cardano's formula.\")\n",
    "print(\"Equation is : x^3 - 27x + 54 = 0\")\n",
    "a = 1\n",
    "b = -27\n",
    "c = 54\n",
    "'''  x^3 - 27x + 54 --- (1)\n",
    "let x = u +v\n",
    "cubing both side x^3 = u^3 + v^3 +3uv(u=v)\n",
    "                  -> x^3 = u^3 + v^3 +3uv(x)\n",
    "                  -> x^3  - 3uvx +(u^3 + v^3) = 0 ----(2)\n",
    "                  compare equation (1) & (2)\n",
    "                  uv = 9\n",
    "                  u^3 + v^3 = 54\n",
    "'''\n",
    "uv = b/(-3)\n",
    "uv = uv**3\n",
    "'''Now make  quadratic equation has root ar u^3 and v^3\n",
    "   t^2 -(u^3 + v^3)t - (uv)^3 = 0\n",
    "'''\n",
    "rt1 = (-c + math.sqrt(((c**2)-(4*a*uv))))//(2*a)\n",
    "rt2 = (-c - math.sqrt(((c**2)-(4*a*uv))))//(2*a)\n",
    "rt1 = rt1 ** 1/3 #gives cube root of rt1 and rt2 \n",
    "rt1 = rt1**1/3   #gives cube root of rt1 and rt2 \n",
    "rt2 = rt2 ** 1/3  #gives cube root of rt1 and rt2 \n",
    "rt2 = rt2**1/3    #gives cube root of rt1 and rt2 \n",
    "one_root = rt1+rt2\n",
    "'''\n",
    "sythetic divison in cubic equation x^3 + 0x^2 - 27x + 5 = 0 \n",
    "'''\n",
    "z = 0 # because x^2 cofficient is zero\n",
    "s1 = one_root*a + z\n",
    "s2 = s1*one_root*a + b\n",
    "s3 = s2*one_root*a + c\n",
    "''' Depressed equation which is a(x)^2 + s1(x) + s2 = s3 '''\n",
    "print(f\"Depressed equation which is {a}(x)^2 + {s1}(x) + {s2} = {s3}\") \n",
    "rt22 = (-s1 + math.sqrt(((s1**2)-(4*a*s2))))//(2*a)\n",
    "rt23 = (-s1 - math.sqrt(((s1**2)-(4*a*s2))))//(2*a)\n",
    "print(f\"Root of equation x^3 - 27x + 54 = 0 is :{one_root}, {rt22},{rt23}\")"
   ]
  },
  {
   "cell_type": "code",
   "execution_count": null,
   "id": "532d6b91-8d42-442e-b660-60878a025025",
   "metadata": {},
   "outputs": [],
   "source": [
    "#Advanced Level:\n"
   ]
  },
  {
   "cell_type": "code",
   "execution_count": 10,
   "id": "ead98b66-f98c-4c51-ba75-f3c1d1b6ffa4",
   "metadata": {},
   "outputs": [
    {
     "name": "stdin",
     "output_type": "stream",
     "text": [
      "Enter your annual income: ₹ 800000\n"
     ]
    },
    {
     "name": "stdout",
     "output_type": "stream",
     "text": [
      "Tax : ₹ 96000.0 \n",
      " Fall under ₹700000 and ₹1100000 income bracket\n",
      "\n"
     ]
    }
   ],
   "source": [
    "#21. Create a program that calculates the income tax based on the user's income and tax brackets.\n",
    "def income_tax(p):\n",
    "    if p < 300000:\n",
    "        print(\"Tax : 0\",'\\n',\"Because income is less than ₹300000\")\n",
    "    elif p > 300000 and p < 700000:\n",
    "        print(\"Tax :\",'₹',(p*7)/100,'\\n',\"Fall under ₹300000 and ₹700000 incom bracket\")\n",
    "    elif p > 700000 and p < 1100000:\n",
    "        print(\"Tax :\",'₹',(p*12)/100,'\\n',\"Fall under ₹700000 and ₹1100000 income bracket\")\n",
    "    elif p > 1100000 and p < 2000000:\n",
    "        print(\"Tax :\",'₹',(p*15)/100,'\\n',\"Fall under ₹1100000 and ₹2000000 income bracket\")\n",
    "    elif p > 2000000 and p < 4000000:\n",
    "        print(\"Tax :\",'₹',(p*25)/100,'\\n',\"Fall under ₹2000000 and ₹4000000 income bracket\")\n",
    "    else:\n",
    "        print(\"Tax :\",'₹',(p*35)/100,'\\n',\"Fall under more ₹4000000 income bracket\")\n",
    "    return(\"\")\n",
    "i = int(input(\"Enter your annual income: ₹\"))\n",
    "print(income_tax(i))\n"
   ]
  },
  {
   "cell_type": "code",
   "execution_count": 6,
   "id": "76ac9c7e-5692-49ef-b221-f8ef0f02f0ba",
   "metadata": {},
   "outputs": [
    {
     "name": "stdin",
     "output_type": "stream",
     "text": [
      "To Star the game press 1: 1\n",
      " 1 for rock:: 2 for paper :: 3 for scissors  =  2\n"
     ]
    },
    {
     "name": "stdout",
     "output_type": "stream",
     "text": [
      "Your choice : paper\n",
      "Computer choice : paper  = Draw\n"
     ]
    },
    {
     "name": "stdin",
     "output_type": "stream",
     "text": [
      "Want to furthur enter 1  or enter any numberkey for quit : 1\n",
      " 1 for rock:: 2 for paper :: 3 for scissors  =  3\n"
     ]
    },
    {
     "name": "stdout",
     "output_type": "stream",
     "text": [
      "Your choice : scissors\n",
      "Computer choice : paper = Win\n"
     ]
    },
    {
     "name": "stdin",
     "output_type": "stream",
     "text": [
      "Want to furthur enter 1  or enter any number key for quit : 1\n",
      " 1 for rock:: 2 for paper :: 3 for scissors  =  3\n"
     ]
    },
    {
     "name": "stdout",
     "output_type": "stream",
     "text": [
      "Your choice : scissors\n",
      "Computer choice : rock = Loss\n"
     ]
    },
    {
     "name": "stdin",
     "output_type": "stream",
     "text": [
      "Want to furthur enter 1  or enter any number key for quit : 1\n",
      " 1 for rock:: 2 for paper :: 3 for scissors  =  3\n"
     ]
    },
    {
     "name": "stdout",
     "output_type": "stream",
     "text": [
      "Your choice : scissors\n",
      "Computer choice : scissors  = Draw\n"
     ]
    },
    {
     "name": "stdin",
     "output_type": "stream",
     "text": [
      "Want to furthur enter 1  or enter any numberkey for quit : 5\n"
     ]
    },
    {
     "name": "stdout",
     "output_type": "stream",
     "text": [
      "End\n"
     ]
    }
   ],
   "source": [
    "# 22. Write a program that simulates a rock-paper-scissors game against the computer.\n",
    "import random\n",
    "kp = ['rock','paper','scissors']\n",
    "kp1 = {1:'rock',2:'paper',3:'scissors'}\n",
    "y = int(input(\"To Star the game press 1:\"))\n",
    "def inp():\n",
    "    d = 0\n",
    "    d = input(\" 1 for rock:: 2 for paper :: 3 for scissors  = \")\n",
    "    if int(d) == 1 or int(d) == 2 or int(d) == 3:\n",
    "        game(d)\n",
    "    else:\n",
    "        print(\"Wrong number\")\n",
    "        hj = input(\"Want to furthur enter 1  or enter any key for quit :\")\n",
    "        if int(hj) == 1:\n",
    "            inp()\n",
    "        else:\n",
    "            print(\"End\")\n",
    "def game(df):\n",
    "    if int(df) == 1 or int(df) == 2 or int(df) == 3:\n",
    "        lp =  random.choice(kp)\n",
    "        if lp == kp1[int(df)]:\n",
    "            print(\"Your choice :\",kp1[int(df)])\n",
    "            print(\"Computer choice :\",lp,\" = Draw\")\n",
    "            hj = input(\"Want to furthur enter 1  or enter any numberkey for quit :\")\n",
    "            if int(hj) == 1:\n",
    "                inp()\n",
    "            else:\n",
    "                print(\"End\")\n",
    "        elif kp1[int(df)] == 'scissors' and lp == 'paper':\n",
    "            print(\"Your choice :\",kp1[int(df)])\n",
    "            print(\"Computer choice :\",lp,\"= Win\")\n",
    "            hj = input(\"Want to furthur enter 1  or enter any number key for quit :\")\n",
    "            if int(hj) == 1:\n",
    "                inp()\n",
    "            else:\n",
    "                print(\"End\")\n",
    "        elif kp1[int(df)] == 'scissors' and lp == 'rock':\n",
    "            print(\"Your choice :\",kp1[int(df)])\n",
    "            print(\"Computer choice :\",lp,\"= Loss\")\n",
    "            hj = input(\"Want to furthur enter 1  or enter any number key for quit :\")\n",
    "            if int(hj) == 1:\n",
    "                inp()\n",
    "            else:\n",
    "                print(\"End\")\n",
    "        elif kp1[int(df)] == 'rock' and lp == 'paper':\n",
    "            print(\"Your choice :\",kp1[int(df)])\n",
    "            print(\"Computer choice :\",lp,\"= loss\")\n",
    "            hj = input(\"Want to furthur enter 1  or enter any number key for quit :\")\n",
    "            if int(hj) == 1:\n",
    "                inp()\n",
    "            else:\n",
    "                print(\"End\")\n",
    "        elif kp1[int(df)] == 'rock' and lp == 'scissors':\n",
    "            print(\"Your choice :\",kp1[int(df)])\n",
    "            print(\"Computer choice :\",lp,\"= Win\")\n",
    "            hj = input(\"Want to furthur enter 1  or enter any number key for quit :\")\n",
    "            if int(hj) == 1:\n",
    "                inp()\n",
    "            else:\n",
    "                print(\"End\")\n",
    "        elif kp1[int(df)] == 'paper' and lp == 'scissors':\n",
    "            print(\"Your choice :\",kp1[int(df)])\n",
    "            print(\"Computer choice :\",lp,\" = Loss\")\n",
    "            hj =  input(\"Want to furthur enter 1  or enter anynumber key for quit :\")\n",
    "            if int(hj) == 1:\n",
    "                inp()\n",
    "            else:\n",
    "                print(\"End\")\n",
    "        elif kp1[int(df)] == 'paper' and lp == 'rock':\n",
    "            print(\"Your choice :\",kp1[int(df)])\n",
    "            print(\"Computer choice :\",lp,\" = Win\")\n",
    "            hj = input(\"Want to furthur enter 1  or enter any number key for quit :\")\n",
    "            if int(hj) == 1:\n",
    "                inp()\n",
    "            else:\n",
    "                print(\"End\")\n",
    "    else:\n",
    "        print('Wrong input ')\n",
    "        hj = input(\"Want to furthur enter 1  or enter any number key for quit :\")\n",
    "        if int(hj) == 1:\n",
    "            inp()\n",
    "        else:\n",
    "            print(\"End\")\n",
    "if y == 1:\n",
    "    inp()\n",
    "else:\n",
    "    print(\"End\")"
   ]
  },
  {
   "cell_type": "code",
   "execution_count": 5,
   "id": "f15147e2-1082-457c-926e-9f41d7bd5d05",
   "metadata": {},
   "outputs": [
    {
     "name": "stdin",
     "output_type": "stream",
     "text": [
      "Enter the range of password 12\n",
      "Enter 1 for strong password and any key for medium security password : 1\n"
     ]
    },
    {
     "name": "stdout",
     "output_type": "stream",
     "text": [
      "Password is : 1XS=|kh2<2M)"
     ]
    }
   ],
   "source": [
    "#23. Develop a program that generates a random password based on user preferences (length, complexity).\n",
    "import random\n",
    "po = 'abcdefghijklmnopqrstuvwxyz'\n",
    "k1 = {1,2,3,4,5,6,7,8,9,0}\n",
    "pl = po.upper()\n",
    "po = set(po)\n",
    "pl = set(pl)\n",
    "uy = \"() ` ~ ! @ # $ % ^ & * - + = | \\ { } [ ] : ; \"\" '' < > , . ? / _\"\n",
    "uy = set(uy)\n",
    "po  = po.union(pl)\n",
    "po = po.union(k1)\n",
    "hn = po.union(uy)\n",
    "po = list(po)\n",
    "hn = list(hn)\n",
    "qwe = int(input(\"Enter the range of password\"))\n",
    "ytr = int(input(\"Enter 1 for strong password and any key for medium security password :\"))\n",
    "print(\"Password is :\",end = \" \")\n",
    "if ytr == 1:\n",
    "    for i in range(1,qwe+1):\n",
    "         print(random.choice(hn),end =\"\")\n",
    "else:\n",
    "    for i in range(1,qwe+1):\n",
    "            print(random.choice(po),end =\"\")"
   ]
  },
  {
   "cell_type": "code",
   "execution_count": 5,
   "id": "4f32bc9f-56b6-4a33-82f3-eee91bac68bc",
   "metadata": {},
   "outputs": [
    {
     "name": "stdin",
     "output_type": "stream",
     "text": [
      "Enter 1 for enter in the game : 1\n"
     ]
    },
    {
     "name": "stdout",
     "output_type": "stream",
     "text": [
      "Welcome in the game......\n",
      "Demon king kinapped the princess......\n"
     ]
    },
    {
     "name": "stdin",
     "output_type": "stream",
     "text": [
      " if you want to rescue the princess 'yes' or 'no' : yes\n"
     ]
    },
    {
     "name": "stdout",
     "output_type": "stream",
     "text": [
      "Entering in the demon king castle......\n",
      "In the gate whole army is there:\n"
     ]
    },
    {
     "name": "stdin",
     "output_type": "stream",
     "text": [
      "Enter '1' for direct jump for fight or other key for hold and entering from back door  5\n"
     ]
    },
    {
     "name": "stdout",
     "output_type": "stream",
     "text": [
      "In the castle arsenal there is weapons and magical portion :\n"
     ]
    },
    {
     "name": "stdin",
     "output_type": "stream",
     "text": [
      "Enter 1 for taking arms..,2 for magical portion ...,3 for both...any key for not taking nothing... 3\n"
     ]
    },
    {
     "name": "stdout",
     "output_type": "stream",
     "text": [
      "Demon comming toward you ...Ready for fight\n",
      "Demon king arriving towards  the door \n"
     ]
    },
    {
     "name": "stdin",
     "output_type": "stream",
     "text": [
      "You have chance to run ... you wanna fight (yes or no) yes\n"
     ]
    },
    {
     "name": "stdout",
     "output_type": "stream",
     "text": [
      "Fight begin ...\n",
      "After deadly battle you won :: \n",
      "Congratulaion you won the game \n"
     ]
    }
   ],
   "source": [
    "#24.Create a program that implements a simple text-based adventure game with branching scenarios.\n",
    "import time\n",
    "def lost_game():\n",
    "    print(\"Oh ! no you lost the game :\")\n",
    "def game_story():\n",
    "    print(\"Entering in the demon king castle......\")\n",
    "    time.sleep(2)\n",
    "    print(\"In the gate whole army is there:\")\n",
    "    time.sleep(2)\n",
    "    hj = int(input(\"Enter '1' for direct jump for fight or other key for hold and entering from back door \"))\n",
    "    if hj == 1:\n",
    "        lost_game()\n",
    "    else:\n",
    "        print(\"In the castle arsenal there is weapons and magical portion :\")\n",
    "        time.sleep(1)\n",
    "        yu = int(input(\"Enter 1 for taking arms..,2 for magical portion ...,3 for both...any key for not taking nothing...\"))\n",
    "        if yu ==3:\n",
    "            print(\"Demon comming toward you ...Ready for fight\")\n",
    "            time.sleep(3)\n",
    "            print(\"Demon king arriving towards  the door \")\n",
    "            hj1 = str(input(\"You have chance to run ... you wanna fight (yes or no)\"))\n",
    "            if hj1.lower() == 'yes':\n",
    "                print(\"Fight begin ...\")\n",
    "                time.sleep(5)\n",
    "                print(\"After deadly battle you won :: \")\n",
    "                time.sleep(1)\n",
    "                print(\"Congratulaion you won the game \")\n",
    "            else:\n",
    "                lost_game()\n",
    "        elif yu == 1:\n",
    "            print(\"Demon comming toward you ...Ready for fight\")\n",
    "            time.sleep(3)\n",
    "            print(\"Demon king arriving towards  the door \")\n",
    "            hj1 = str(input(\"You have chance to run ... you wanna fight (yes or no\"))\n",
    "            if hj1.lower() == 'yes':\n",
    "                print(\"Fight begin ...\")\n",
    "                time.sleep(5)\n",
    "                print(\"After deadly battle you lost because you stamina is low :: \")\n",
    "                time.sleep(1)\n",
    "                lost_game()\n",
    "        elif yu == 2:\n",
    "            print(\"Demon comming toward you ...Ready for fight\")\n",
    "            time.sleep(3)\n",
    "            print(\"Demon king arriving towards  the door \")\n",
    "            hj1 = str(input(\"You have chance to run ... you wanna fight (yes or no\"))\n",
    "            if hj1.lower() == 'yes':\n",
    "                print(\"Fight begin ...\")\n",
    "                time.sleep(5)\n",
    "                print(\"After deadly battle you lost because demon king summons his weapon and defeat you:: \")\n",
    "                time.sleep(1)\n",
    "                lost_game()\n",
    "        else:\n",
    "            print(\"Demon comming toward you ...Ready for fight\")\n",
    "            time.sleep(3)\n",
    "            print(\"Demon king arriving towards  the door \")\n",
    "            hj1 = str(input(\"You have chance to run ... you wanna fight (yes or no\"))\n",
    "            if hj1.lower() == yes:\n",
    "                print(\"Fight begin ...\")\n",
    "                time.sleep(5)\n",
    "                print(\"After deadly battle you lost because of low stamina and demon king summons his weapon and defeat you :: \")\n",
    "                time.sleep(1)\n",
    "                lost_game()\n",
    "            \n",
    "tr = int(input(\"Enter 1 for enter in the game :\"))\n",
    "if tr == 1:\n",
    "    print(\"Welcome in the game......\")\n",
    "    time.sleep(2)\n",
    "    print(\"Demon king kinapped the princess......\")\n",
    "    time.sleep(3)\n",
    "    choice1 = str(input(\" if you want to rescue the princess 'yes' or 'no' :\" ))\n",
    "    if choice1.lower() == 'yes':\n",
    "        game_story()\n",
    "    else:\n",
    "        lost_game()\n",
    "else:\n",
    "    print(\"Game is End\")"
   ]
  },
  {
   "cell_type": "code",
   "execution_count": 14,
   "id": "89609578-8d10-48a1-8615-c72395d8cd57",
   "metadata": {},
   "outputs": [
    {
     "name": "stdout",
     "output_type": "stream",
     "text": [
      "Solve a linear equation ax + b = 0 for x. \n",
      " a: Coefficient of x. \n",
      " b: Constant term.\n",
      "Case 1 : 0x +0 = 0 : Infinite solutions (identity equation)\n",
      "Case 2 : 0x +2 = 0 : No solution (contradiction)\n",
      "Case 3: 4x +2 = 0 : The solution is x is -0.5\n"
     ]
    }
   ],
   "source": [
    "#25. Build a program that solves a linear equation for x, considering different cases.\n",
    "print(\"Solve a linear equation ax + b = 0 for x.\",'\\n',\"a: Coefficient of x.\",'\\n',\"b: Constant term.\")\n",
    "a = 0\n",
    "b = 0\n",
    "print(f\"Case 1 : {a}x +{b} = 0 : Infinite solutions (identity equation)\")\n",
    "b = 2\n",
    "print(f\"Case 2 : {a}x +{b} = 0 : No solution (contradiction)\")\n",
    "a = 4\n",
    "print(f\"Case 3: {a}x +{b} = 0 : The solution is x is\", -b /a)"
   ]
  },
  {
   "cell_type": "code",
   "execution_count": 8,
   "id": "b53a0d45-de46-4892-b3b2-e2e0c0b64f7c",
   "metadata": {},
   "outputs": [
    {
     "name": "stdin",
     "output_type": "stream",
     "text": [
      "Enter 1 to start the quiz : 1\n"
     ]
    },
    {
     "name": "stdout",
     "output_type": "stream",
     "text": [
      "Welcome to quiz game :\n",
      "What is the capital of India ? \n",
      " 1.Delhi \n",
      " 2.UP \n",
      " 3.Goa \n",
      " 4.Haryana\n"
     ]
    },
    {
     "name": "stdin",
     "output_type": "stream",
     "text": [
      "Enter the number of your choice: 1\n"
     ]
    },
    {
     "name": "stdout",
     "output_type": "stream",
     "text": [
      "Who was the first Prime Minister of India? \n",
      " 1.Indira Gandhi \n",
      " 2.Narendra Modi \n",
      " 3.Jawaharlal Nehru \n",
      " 4.Rajiv Gandhi\n"
     ]
    },
    {
     "name": "stdin",
     "output_type": "stream",
     "text": [
      "Enter the number of your choice: 2\n"
     ]
    },
    {
     "name": "stdout",
     "output_type": "stream",
     "text": [
      "Which state is also known as the “Fruit Bowl” of India? \n",
      " 1.Jammu and Kashmir \n",
      " 2.UP \n",
      " 3.Himachal Pradesh \n",
      " 4.Haryana\n"
     ]
    },
    {
     "name": "stdin",
     "output_type": "stream",
     "text": [
      "Enter the number of your choice: 3\n"
     ]
    },
    {
     "name": "stdout",
     "output_type": "stream",
     "text": [
      "What is the largest mammal on Earth? \n",
      " 1.Giraffe \n",
      " 2.Blue WhaleBlue Whale \n",
      " 3.Lion \n",
      " 4.Elephant\n"
     ]
    },
    {
     "name": "stdin",
     "output_type": "stream",
     "text": [
      "Enter the number of your choice: 2\n"
     ]
    },
    {
     "name": "stdout",
     "output_type": "stream",
     "text": [
      "India is a federal union comprising twenty-eight states and how many union territories? \n",
      " 1.6 \n",
      " 2.7 \n",
      " 3.8 \n",
      " 4.9\n"
     ]
    },
    {
     "name": "stdin",
     "output_type": "stream",
     "text": [
      "Enter the number of your choice: 8\n"
     ]
    },
    {
     "name": "stdout",
     "output_type": "stream",
     "text": [
      "Your Score is : 3\n"
     ]
    }
   ],
   "source": [
    "#26. Write a program that simulates a basic quiz game with multiple-choice questions and scoring.\n",
    "import time\n",
    "def quiz_game():\n",
    "    count = 0\n",
    "    print(\"Welcome to quiz game :\")\n",
    "    time.sleep(2)\n",
    "    print(\"What is the capital of India ?\",'\\n',\"1.Delhi\",'\\n',\"2.UP\",'\\n',\"3.Goa\",'\\n',\"4.Haryana\",)\n",
    "    hb = int(input(\"Enter the number of your choice:\"))\n",
    "    if hb == 1:\n",
    "        count += 1\n",
    "    else:\n",
    "        pass\n",
    "    time.sleep(2)\n",
    "    print(\"Who was the first Prime Minister of India?\",'\\n',\"1.Indira Gandhi\",'\\n',\"2.Narendra Modi\",'\\n',\"3.Jawaharlal Nehru\",'\\n',\"4.Rajiv Gandhi\",)\n",
    "    hb1 = int(input(\"Enter the number of your choice:\"))\n",
    "    if hb1 == 3:\n",
    "        count += 1\n",
    "    else:\n",
    "        pass\n",
    "    time.sleep(2)\n",
    "    print(\"Which state is also known as the “Fruit Bowl” of India?\",'\\n',\"1.Jammu and Kashmir\",'\\n',\"2.UP\",'\\n',\"3.Himachal Pradesh\",'\\n',\"4.Haryana\",)\n",
    "    hb2 = int(input(\"Enter the number of your choice:\"))\n",
    "    if hb2 == 3:\n",
    "        count += 1\n",
    "    time.sleep(2)\n",
    "    print(\"What is the largest mammal on Earth?\",'\\n',\"1.Giraffe\",'\\n',\"2.Blue WhaleBlue Whale\",'\\n',\"3.Lion\",'\\n',\"4.Elephant\",)\n",
    "    hb3 = int(input(\"Enter the number of your choice:\"))\n",
    "    if hb3 == 2:\n",
    "        count += 1\n",
    "    else:\n",
    "        pass\n",
    "    time.sleep(2)\n",
    "    print(\"India is a federal union comprising twenty-eight states and how many union territories?\",'\\n',\"1.6\",'\\n',\"2.7\",'\\n',\"3.8\",'\\n',\"4.9\",)\n",
    "    hb4 = int(input(\"Enter the number of your choice:\"))\n",
    "    if hb4 == 3:\n",
    "        count += 1\n",
    "    else:\n",
    "        pass\n",
    "    print(\"Your Score is :\",count)\n",
    "st = int(input(\"Enter 1 to start the quiz :\"))\n",
    "if st == 1:\n",
    "    quiz_game()\n",
    "else:\n",
    "    print(\"End\")"
   ]
  },
  {
   "cell_type": "code",
   "execution_count": 19,
   "id": "2c79e770-b743-4a90-ac41-db44f2012ce8",
   "metadata": {},
   "outputs": [
    {
     "name": "stdin",
     "output_type": "stream",
     "text": [
      "Enter year: 2023\n"
     ]
    },
    {
     "name": "stdout",
     "output_type": "stream",
     "text": [
      "Given year is not a prime number:\n"
     ]
    }
   ],
   "source": [
    "#27. Develop a program that determines whether a given year is a prime number or not.\n",
    "from math import sqrt\n",
    "wq =[2,3,4,5,6,7,8,9]\n",
    "rty = int(input(\"Enter year:\"))\n",
    "def pt(r):\n",
    "    count = 0\n",
    "    if r < 4 or r == 5 or r == 7:\n",
    "        pass\n",
    "    else:\n",
    "        if (round(sqrt(r),1)*round(sqrt(r),1)) == r:\n",
    "            count = 1\n",
    "        else:\n",
    "            for lo in wq:\n",
    "                if r%lo == 0:\n",
    "                    count = 1\n",
    "                    break\n",
    "if pt(rty) == 0:\n",
    "    print(\"Given year is a prime number:\")\n",
    "else:\n",
    "     print(\"Given year is not a prime number:\")"
   ]
  },
  {
   "cell_type": "code",
   "execution_count": 23,
   "id": "02f66db5-dcc1-4ff4-845e-292286317c51",
   "metadata": {},
   "outputs": [
    {
     "name": "stdin",
     "output_type": "stream",
     "text": [
      "Enter a number1 : 45\n",
      "Enter a number2 : 2\n",
      "Enter a number3 : 90\n"
     ]
    },
    {
     "name": "stdout",
     "output_type": "stream",
     "text": [
      "2 45 90 "
     ]
    }
   ],
   "source": [
    "#28. Create a program that sorts three numbers in ascending order using conditional statements.\n",
    "vb = int(input(\"Enter a number1 :\"))\n",
    "bv = int(input(\"Enter a number2 :\"))\n",
    "ch = int(input(\"Enter a number3 :\"))\n",
    "if vb < bv:\n",
    "    if vb < ch :\n",
    "        print(vb,end = \" \")\n",
    "        if ch < bv :\n",
    "            print(ch,end = \" \")\n",
    "            print(bv,end = \" \")\n",
    "        else:\n",
    "            print(bv,end = \" \")\n",
    "            print(ch,end = \" \") \n",
    "else:\n",
    "    if bv < ch :\n",
    "        print(bv,end = \" \")\n",
    "        if ch < vb :\n",
    "            print(ch,end = \" \")\n",
    "            print(vb,end = \" \")\n",
    "        else:\n",
    "            print(vb,end = \" \")\n",
    "            print(ch,end = \" \")\n",
    "           \n",
    "    else:\n",
    "        print(ch,end = \" \")\n",
    "        print(bv,end = \" \")\n",
    "        print(vb,end = \" \")"
   ]
  },
  {
   "cell_type": "code",
   "execution_count": 4,
   "id": "9bd96be5-478c-4448-a21d-c2c638439000",
   "metadata": {},
   "outputs": [
    {
     "name": "stdout",
     "output_type": "stream",
     "text": [
      "Using besection method to solve quatric equation \n",
      "Equation is : 5 X^4   +   9 X^3   +   3 X^2  +   5 X   +   2  =   0\n",
      "Root is = -0.999969482421875 \n"
     ]
    }
   ],
   "source": [
    "#29. Build a program that determines the roots of a quartic equation using numerical methods.\n",
    "print(\"Using besection method to solve quatric equation \")\n",
    "print(\"Equation is : 5 X^4   +   9 X^3   +   3 X^2  +   5 X   +   2  =   0\")\n",
    "h = 10\n",
    "i = 0\n",
    "k = 0\n",
    "def op(g,m):\n",
    "    h = (g+m)/2\n",
    "    if  5*(h**4) + 9*(h**3) + 5*(h**2) + 5*h + 2 > 0:\n",
    "        op(g,h)\n",
    "    else:\n",
    "        op(h,g)\n",
    "    return h\n",
    "while i == 0:\n",
    "    if 5*(h**4) + 9*(h**3) + 5*(h**2) + 5*h + 2 < 0:\n",
    "        i += 1\n",
    "        hl = h+1\n",
    "    else:\n",
    "        h = h-1\n",
    "while k == 0:\n",
    "    h2 = (h+hl)/2\n",
    "    if round(5*(h2**4) + 9*(h2**3) + 5*(h2**2) + 5*h2 + 2,4) == round(5*(h**4) + 9*(h**3) + 5*(h**2) + 5*h + 2,4) or round(5*(hl**4) + 9*(hl**3) + 5*(hl**2) + 5*hl + 2,4) == round(5*(h2**4) + 9*(h2**3) + 5*(h2**2) + 5*h2 + 2,4):\n",
    "        k += 1\n",
    "    elif  5*(h2**4) + 9*(h2**3) + 5*(h2**2) + 5*h2 + 2 > 0:\n",
    "        h = h2\n",
    "    elif  5*(h2**4) + 9*(h2**3) + 5*(h2**2) + 5*h2 + 2 < 0:\n",
    "        hl = h2\n",
    "    else:\n",
    "        pass\n",
    "print(f\"Root is = {h2} \")"
   ]
  },
  {
   "cell_type": "code",
   "execution_count": 27,
   "id": "d1d069fd-da75-4ff0-b4d7-66202c677b7c",
   "metadata": {},
   "outputs": [
    {
     "name": "stdin",
     "output_type": "stream",
     "text": [
      "Enter height of person in meter : 1.7\n",
      "Enter weight of person in kg : 120\n"
     ]
    },
    {
     "name": "stdout",
     "output_type": "stream",
     "text": [
      "Person fall in obese category \n",
      "Recommendation : It is recommended to consult with a healthcare professional to discuss a suitable weight loss plan.\n"
     ]
    }
   ],
   "source": [
    "#30. Write a program that calculates the BMI (Body Mass Index) and provides health recommendations basedon the user's input.\n",
    "h = float(input(\"Enter height of person in meter :\"))\n",
    "w  = float(input(\"Enter weight of person in kg :\"))\n",
    "bmi = w/(h*h)\n",
    "if bmi >= 30:\n",
    "    print(\"Person fall in obese category \")\n",
    "    print(\"Recommendation : It is recommended to consult with a healthcare professional to discuss a suitable weight loss plan.\")\n",
    "elif bmi <= 29.9 and bmi >= 25:\n",
    "    print(\"Person fall in overweight category \")\n",
    "    print(\"Recommendation : Consider incorporating regular exercise and a balanced diet to maintain a healthy weight.\")\n",
    "elif bmi <= 24.9 and bmi >= 18.5:\n",
    "    print(\"Person fall in normal weight category \")\n",
    "    print(\"Recommendation : Congratulations! Your weight is within the normal range. Keep up the good work with a healthy lifestyle.\")\n",
    "else:\n",
    "    print(\"Person fall in underweight category \")\n",
    "    print(\"Recommendation : You may want to consult with a healthcare professional to discuss a balanced diet and exercise plan.\")"
   ]
  },
  {
   "cell_type": "code",
   "execution_count": null,
   "id": "9e2d6a67-e6d6-4a7b-b00a-c2943d151634",
   "metadata": {},
   "outputs": [],
   "source": [
    "#Challenge Level:\n"
   ]
  },
  {
   "cell_type": "code",
   "execution_count": null,
   "id": "18d0bbda-ec4f-406c-a670-5157d21f90cd",
   "metadata": {},
   "outputs": [
    {
     "name": "stdin",
     "output_type": "stream",
     "text": [
      "Enter a password jfdhQUUIO!@#454\n"
     ]
    },
    {
     "name": "stdout",
     "output_type": "stream",
     "text": [
      "Password size is good and  complexity : Strong password\n"
     ]
    }
   ],
   "source": [
    "#31. Create a program that validates a password based on complexity rules (length, characters, etc.).\n",
    "po = 'abcdefghijklmnopqrstuvwxyz'\n",
    "kp = [1,2,3,4,5,6,7,8,9,0]\n",
    "pl = po.upper()\n",
    "pl = list(pl)\n",
    "uy = \"()`~!@#$%^&*-+=|\\{}[]:;\"\"''<>,.?/_ \"\n",
    "uy = list(uy)\n",
    "po = list(po)\n",
    "def password_complexcity_rule(u):\n",
    "    count = 0\n",
    "    lw = 0\n",
    "    up = 0\n",
    "    nb = 0\n",
    "    if len(u) < 8:\n",
    "        print(\"Password size is less than 8 and \",end = \" \")\n",
    "        for i in py:\n",
    "            if i in uy:\n",
    "                count += 1\n",
    "            elif i in po:\n",
    "                lw += 1\n",
    "            elif i in pl:\n",
    "                up += 1\n",
    "            elif int(i) in kp:\n",
    "                nb += 1\n",
    "            else:\n",
    "                pass\n",
    "        if count > 0 and up > 0 and lw > 0 and nb > 0:\n",
    "            print(\"complexity : Strong password\")\n",
    "        elif up > 0 and lw > 0 and nb > 0 or count > 0:\n",
    "            print(\"Complexity : Medium \")\n",
    "        else:\n",
    "            print(\"Complexity : Week\")    \n",
    "    else:\n",
    "        print(\"Password size is good and \",end = \" \")\n",
    "        for i in py:\n",
    "            if i in uy:\n",
    "                count += 1\n",
    "            elif i in po:\n",
    "                lw += 1\n",
    "            elif i in pl:\n",
    "                up += 1\n",
    "            elif int(i) in kp:\n",
    "                nb += 1\n",
    "            else:\n",
    "                pass\n",
    "    if count > 0 and up > 0 and lw > 0 and nb > 0:\n",
    "        print(\"complexity : Strong password\")\n",
    "    elif up > 0 and lw > 0 and nb > 0 or count > 0:\n",
    "        print(\"Complexity : Medium \")\n",
    "    else:\n",
    "        print(\"Complexity : Week\")\n",
    "kl = input(\"Enter a password\") \n",
    "py = list(kl)\n",
    "password_complexcity_rule(py)    "
   ]
  },
  {
   "cell_type": "code",
   "execution_count": 3,
   "id": "47988eaf-0d82-4253-98ed-403f61766040",
   "metadata": {},
   "outputs": [
    {
     "name": "stdin",
     "output_type": "stream",
     "text": [
      "Enter number of rows: 2\n",
      "Enter number of column: 3\n",
      "Enter number for matrix 1 (1,1): 6\n",
      "Enter number for matrix 1 (1,2): 9\n",
      "Enter number for matrix 1 (1,3): 5\n",
      "Enter number for matrix 1 (2,1): 4\n",
      "Enter number for matrix 1 (2,2): 1\n",
      "Enter number for matrix 1 (2,3): 2\n",
      "Enter number for  martix 2 (1,1): 6\n",
      "Enter number for  martix 2 (1,2): 3\n",
      "Enter number for  martix 2 (1,3): 6\n",
      "Enter number for  martix 2 (2,1): 2\n",
      "Enter number for  martix 2 (2,2): 6\n",
      "Enter number for  martix 2 (2,3): 3\n"
     ]
    },
    {
     "name": "stdout",
     "output_type": "stream",
     "text": [
      "Matrix 1 is :\n",
      "[6, 9, 5]\n",
      "[4, 1, 2]\n",
      "Matrix 2 is :\n",
      "[6, 3, 6]\n",
      "[2, 6, 3]\n"
     ]
    },
    {
     "name": "stdin",
     "output_type": "stream",
     "text": [
      "Enter 1 for perform addition and any key for substraction 3\n"
     ]
    },
    {
     "name": "stdout",
     "output_type": "stream",
     "text": [
      "After matrix subtraction:\n",
      "[0, 6, -1]\n",
      "[2, -5, -1]\n"
     ]
    }
   ],
   "source": [
    "#32. Develop a program that performs matrix addition and subtraction based on user input.\n",
    "r = int(input(\"Enter number of rows:\"))\n",
    "c = int(input(\"Enter number of column:\"))\n",
    "ro = []\n",
    "su = []\n",
    "sub = []\n",
    "for i in range(1,r+1):\n",
    "    co = []\n",
    "    for j in range(1,c+1):\n",
    "        b = int(input(f\"Enter number for matrix 1 ({i},{j}):\"))\n",
    "        co.append(b)\n",
    "    ro.append(co)\n",
    "ro1 = []\n",
    "for i in range(1,r+1):\n",
    "    co1 = []\n",
    "    for j in range(1,c+1):\n",
    "        b = int(input(f\"Enter number for  martix 2 ({i},{j}):\"))\n",
    "        co1.append(b)\n",
    "    ro1.append(co1)\n",
    "print(\"Matrix 1 is :\")\n",
    "for i in ro:\n",
    "    print(i)\n",
    "print(\"Matrix 2 is :\")\n",
    "for i in ro1:\n",
    "    print(i)\n",
    "def suk():\n",
    "    for g in ro:\n",
    "        ho = []\n",
    "        for i in range(len(g)):\n",
    "            d = ro[ro.index(g)][i]+ro1[ro.index(g)][i]\n",
    "            ho.append(d)\n",
    "        su.append(ho) \n",
    "    for g in su:\n",
    "        print(g)\n",
    "def sb():    \n",
    "    for g in ro:\n",
    "        ho = []\n",
    "        for i in range(len(g)):\n",
    "            d = ro[ro.index(g)][i]-ro1[ro.index(g)][i]\n",
    "            ho.append(d)\n",
    "        sub.append(ho)\n",
    "    for t in sub:\n",
    "        print(t)\n",
    "hj = int(input(\"Enter 1 for perform addition and any key for substraction\"))\n",
    "if hj == 1:\n",
    "    print(\"After matrix addition:\")\n",
    "    suk()\n",
    "else:\n",
    "    print(\"After matrix subtraction:\")\n",
    "    sb()\n"
   ]
  },
  {
   "cell_type": "code",
   "execution_count": 1,
   "id": "0ad86db4-10f0-45b2-ab8c-ebbf254e9109",
   "metadata": {},
   "outputs": [
    {
     "name": "stdin",
     "output_type": "stream",
     "text": [
      "Enter the first number : 360\n",
      "Enter the second number : 50\n"
     ]
    },
    {
     "name": "stdout",
     "output_type": "stream",
     "text": [
      "reatest common divisor(GCD) of 360 and 50 is: 10\n"
     ]
    }
   ],
   "source": [
    "#33. Write a program that calculates the greatest common divisor (GCD) of two numbers using the Euclidean algorithm.\n",
    "kp = int(input(\"Enter the first number :\"))\n",
    "ht = int(input(\"Enter the second number :\"))\n",
    "def eu(v,b,kl,pl):\n",
    "    if v != 1 or b != 0:\n",
    "        kl = v%b\n",
    "        f= v//b\n",
    "        if kl == 0 or kl+f == b :\n",
    "            b = b\n",
    "        else:\n",
    "            eu(f,b,pl,pl)\n",
    "    else:\n",
    "        pass\n",
    "    return b\n",
    "k = 0\n",
    "pl = 0\n",
    "if kp >= ht:\n",
    "    r = kp%ht\n",
    "    q = kp//ht\n",
    "    if r == 0:\n",
    "        print(f\"reatest common divisor(GCD) of {kp} and {ht} is:\",ht)\n",
    "    else:\n",
    "        res= eu(q,r,k,pl)\n",
    "        print(f\"reatest common divisor(GCD) of {kp} and {ht} is:\",res)\n",
    "else:\n",
    "    r = ht%kp\n",
    "    q = ht//kp\n",
    "    if r == 0:\n",
    "        print(f\"reatest common divisor(GCD) of {kp} and {ht} is:\",kp)\n",
    "    else:\n",
    "        res= eu(q,r,k,pl)\n",
    "        print(f\"reatest common divisor(GCD) of {kp} and {ht} is:\",res)"
   ]
  },
  {
   "cell_type": "code",
   "execution_count": null,
   "id": "5c411863-3d76-480d-a420-b220c074d118",
   "metadata": {},
   "outputs": [
    {
     "name": "stdin",
     "output_type": "stream",
     "text": [
      "Enter number of rows: 2\n",
      "Enter number of column: 3\n",
      "Enter number for matrix 1 (1,1): 5\n",
      "Enter number for matrix 1 (1,2): 6\n",
      "Enter number for matrix 1 (1,3): 9\n",
      "Enter number for matrix 1 (2,1): 8\n",
      "Enter number for matrix 1 (2,2): 9\n",
      "Enter number for matrix 1 (2,3): 4\n",
      "Enter number of rows: 3\n",
      "Enter number of column: 2\n",
      "Enter number for  martix 2 (1,1): 5\n",
      "Enter number for  martix 2 (1,2): 6\n",
      "Enter number for  martix 2 (2,1): 9\n",
      "Enter number for  martix 2 (2,2): 4\n",
      "Enter number for  martix 2 (3,1): 5\n",
      "Enter number for  martix 2 (3,2): 6\n"
     ]
    },
    {
     "name": "stdout",
     "output_type": "stream",
     "text": [
      "Matrix 1 is :\n",
      "[5, 6, 9]\n",
      "[8, 9, 4]\n",
      "Matrix 2 is :\n",
      "[5, 6]\n",
      "[9, 4]\n",
      "[5, 6]\n",
      "Multiplicaion of two matrix is :\n",
      "[25, 54, 45]\n",
      "[48, 36, 24]\n"
     ]
    }
   ],
   "source": [
    "#34. Build a program that performs matrix multiplication using nested loops and conditional statements.\n",
    "r = int(input(\"Enter number of rows:\"))\n",
    "c = int(input(\"Enter number of column:\"))\n",
    "ro = []\n",
    "su = []\n",
    "sub = []\n",
    "for i in range(1,r+1):\n",
    "    co = []\n",
    "    for j in range(1,c+1):\n",
    "        b = int(input(f\"Enter number for matrix 1 ({i},{j}):\"))\n",
    "        co.append(b)\n",
    "    ro.append(co)\n",
    "ro1 = []\n",
    "r1 = int(input(\"Enter number of rows:\"))\n",
    "c2 = int(input(\"Enter number of column:\"))\n",
    "for i in range(1,r1+1):\n",
    "    co1 = []\n",
    "    for j in range(1,c2+1):\n",
    "        b = int(input(f\"Enter number for  martix 2 ({i},{j}):\"))\n",
    "        co1.append(b)\n",
    "    ro1.append(co1)\n",
    "print(\"Matrix 1 is :\")\n",
    "for i in ro:\n",
    "    print(i)\n",
    "print(\"Matrix 2 is :\")\n",
    "mul = []\n",
    "count = 0\n",
    "for i in ro1:\n",
    "    print(i)\n",
    "for kl in ro:\n",
    "    j = [kl[m]*ro1[m][count] for m in range(len(kl)) ]\n",
    "    mul.append(j)\n",
    "    count += 1\n",
    "print(\"Multiplicaion of two matrix is :\")\n",
    "for i in mul:\n",
    "    print(i)\n",
    "        "
   ]
  },
  {
   "cell_type": "code",
   "execution_count": 3,
   "id": "681277b4-432e-4c82-94be-dd6194b192c7",
   "metadata": {},
   "outputs": [
    {
     "name": "stdout",
     "output_type": "stream",
     "text": [
      "Welcome to Tic-Tac-Toe!\n",
      "_ | _ | _ | \n",
      "\n",
      "_ | _ | _ | \n",
      "\n",
      "_ | _ | _ | \n",
      "\n"
     ]
    },
    {
     "name": "stdin",
     "output_type": "stream",
     "text": [
      "Chose o for  O and 1 for X: 1\n",
      "Enter row number: 1\n",
      "Enter column number: 1\n"
     ]
    },
    {
     "name": "stdout",
     "output_type": "stream",
     "text": [
      "Computer choice \n",
      "X | _ | _ | \n",
      "\n",
      "_ | O | _ | \n",
      "\n",
      "_ | _ | _ | \n",
      "\n"
     ]
    },
    {
     "name": "stdin",
     "output_type": "stream",
     "text": [
      "Enter row number: 1\n",
      "Enter column number: 3\n"
     ]
    },
    {
     "name": "stdout",
     "output_type": "stream",
     "text": [
      "Computer choice \n",
      "X | _ | X | \n",
      "\n",
      "_ | O | O | \n",
      "\n",
      "_ | _ | _ | \n",
      "\n"
     ]
    },
    {
     "name": "stdin",
     "output_type": "stream",
     "text": [
      "Enter row number: 2\n",
      "Enter column number: 1\n"
     ]
    },
    {
     "name": "stdout",
     "output_type": "stream",
     "text": [
      "Computer choice \n",
      "X | O | X | \n",
      "\n",
      "X | O | O | \n",
      "\n",
      "_ | _ | _ | \n",
      "\n"
     ]
    },
    {
     "name": "stdin",
     "output_type": "stream",
     "text": [
      "Enter row number: 3\n",
      "Enter column number: 1\n"
     ]
    },
    {
     "name": "stdout",
     "output_type": "stream",
     "text": [
      "Computer choice \n",
      "X | O | X | \n",
      "\n",
      "X | O | O | \n",
      "\n",
      "X | O | _ | \n",
      "\n",
      "Win\n",
      "END\n"
     ]
    },
    {
     "ename": "SystemExit",
     "evalue": "",
     "output_type": "error",
     "traceback": [
      "An exception has occurred, use %tb to see the full traceback.\n",
      "\u001b[0;31mSystemExit\u001b[0m\n"
     ]
    },
    {
     "name": "stderr",
     "output_type": "stream",
     "text": [
      "/opt/conda/lib/python3.10/site-packages/IPython/core/interactiveshell.py:3441: UserWarning: To exit: use 'exit', 'quit', or Ctrl-D.\n",
      "  warn(\"To exit: use 'exit', 'quit', or Ctrl-D.\", stacklevel=1)\n"
     ]
    }
   ],
   "source": [
    "#35. Create a program that simulates a basic text-based tic-tac-toe game against the computer.\n",
    "#Use system exit function if win or lose or draw\n",
    "import random\n",
    "import sys\n",
    "kp = 2\n",
    "def ext():\n",
    "    print(\"END\")\n",
    "    sys.exit()\n",
    "def decom(hy,py,ch):\n",
    "    for i in py:\n",
    "        for tp in i:\n",
    "            if tp == '_':\n",
    "                cmp(hy,py,ch)\n",
    "            else:\n",
    "                pass\n",
    "    print(\"Draw\")\n",
    "def win(v,m,ch):\n",
    "    count = 0\n",
    "    if ch == 1:\n",
    "        if m[0][0] == m[0][1] and m[0][1] == m[0][2] :\n",
    "                if m[0][0] == 'X':\n",
    "                    print(\"Win\")\n",
    "                    ext()                    #Use system exit function if win or lose or draw\n",
    "                elif m[0][0] == 'O':\n",
    "                    print(\"Lose\")\n",
    "                    ext()                    #Use system exit function if win or lose or draw\n",
    "                else: \n",
    "                    pass\n",
    "        elif m[1][0] == m[1][1] and m[1][0] == m[1][2] :\n",
    "                if m[1][0] == 'X':\n",
    "                    print(\"Win\")\n",
    "                    ext()                    #Use system exit function if win or lose or draw\n",
    "                elif m[1][0] == 'O':\n",
    "                    print(\"Lose\")\n",
    "                    ext()                         #Use system exit function if win or lose or draw\n",
    "                else: \n",
    "                    pass\n",
    "        elif m[2][0] == m[2][1] and m[2][0] == m[2][2] :\n",
    "                if m[2][0] == 'X':\n",
    "                    print(\"Win\")\n",
    "                    ext()                           #Use system exit function if win or lose or draw\n",
    "                elif m[2][0] == 'O':\n",
    "                    print(\"Lose\")\n",
    "                    ext()                              #Use system exit function if win or lose or draw\n",
    "                else:\n",
    "                    pass\n",
    "        elif m[0][0] == m[1][0] and m[2][0] == m[1][0] :\n",
    "                if m[0][0] == 'X':\n",
    "                    print(\"Win\")\n",
    "                    ext()                                  #Use system exit function if win or lose or draw\n",
    "                elif m[0][0] == 'O':\n",
    "                    print(\"Lose\")\n",
    "                    ext()                                    #Use system exit function if win or lose or draw\n",
    "                else:\n",
    "                    pass\n",
    "        elif m[0][1] == m[1][1] and m[2][1] == m[1][1] :\n",
    "                if m[0][1] == 'X':\n",
    "                    print(\"Win\")\n",
    "                    ext()                                  #Use system exit function if win or lose or draw\n",
    "                elif m[0][1] == 'O':\n",
    "                    print(\"Lose\")\n",
    "                    ext()                                     #Use system exit function if win or lose or draw\n",
    "                else:\n",
    "                    pass\n",
    "        elif m[0][2] == m[1][2] and m[2][2] == m[1][2] :\n",
    "                if m[0][2] == 'X':\n",
    "                    print(\"Win\")\n",
    "                    ext()                                         #Use system exit function if win or lose or draw\n",
    "                elif m[0][2] == 'O':\n",
    "                    print(\"Lose\")\n",
    "                    ext()                                            #Use system exit function if win or lose or draw\n",
    "                else:\n",
    "                    pass\n",
    "        elif m[0][0] == m[1][1] and m[1][1]== m[2][2]:\n",
    "                if m[0][0] == 'X':\n",
    "                    print(\"Win\")\n",
    "                    ext()                                               #Use system exit function if win or lose or draw\n",
    "                elif m[0][0] == 'O':\n",
    "                    print(\"Lose\")\n",
    "                    ext()                                            #Use system exit function if win or lose or draw\n",
    "                else:\n",
    "                    pass\n",
    "        elif m[0][2] == m[1][1] and m[2][0]== m[0][2]:\n",
    "                if m[0][2] == 'X':\n",
    "                    print(\"Win\")\n",
    "                    ext()                                         #Use system exit function if win or lose or draw\n",
    "                elif m[0][2] == 'O':\n",
    "                    print(\"Lose\")\n",
    "                    ext()                                          #Use system exit function if win or lose or draw\n",
    "                else:\n",
    "                    pass\n",
    "        else:\n",
    "            for i in m:\n",
    "                for y in i:\n",
    "                    if  y == 'X' or y == 'O':\n",
    "                        count += 1\n",
    "                    else:\n",
    "                        pass\n",
    "    elif ch == 0:\n",
    "        if m[0][0] == m[0][1] and m[0][1] == m[0][2] :\n",
    "                if m[0][0] == 'O':\n",
    "                    print(\"Win\")\n",
    "                    ext()                                                   #Use system exit function if win or lose or draw\n",
    "                elif m[0][0] == 'X':\n",
    "                    print(\"Lose\")\n",
    "                    ext()                                            #Use system exit function if win or lose or draw\n",
    "                else:\n",
    "                    pass\n",
    "        elif m[1][0] == m[1][1] and m[1][0] == m[1][2] :\n",
    "                if m[1][0] == 'O':\n",
    "                    print(\"Win\")\n",
    "                    ext()                                             #Use system exit function if win or lose or draw\n",
    "                elif m[1][0] == 'X':\n",
    "                    print(\"Lose\")\n",
    "                    ext()                                             #Use system exit function if win or lose or draw\n",
    "                else:\n",
    "                    pass\n",
    "        elif m[2][0] == m[2][1] and m[2][0] == m[2][2] :\n",
    "                if m[2][0] == 'O':\n",
    "                    print(\"Win\") \n",
    "                    ext()                                           #Use system exit function if win or lose or draw\n",
    "                elif m[2][0] == 'X':\n",
    "                    print(\"Lose\")\n",
    "                    ext()                                             #Use system exit function if win or lose or draw\n",
    "                else:\n",
    "                    pass\n",
    "        elif m[0][0] == m[1][0] and m[2][0] == m[1][0] :\n",
    "                if m[0][0] == 'O':\n",
    "                    print(\"Win\") \n",
    "                    ext()                                            #Use system exit function if win or lose or draw\n",
    "                elif m[0][0] == 'X':\n",
    "                    print(\"Lose\")\n",
    "                    ext()                                         #Use system exit function if win or lose or draw\n",
    "                else:\n",
    "                    pass\n",
    "        elif m[0][1] == m[1][1] and m[2][1] == m[1][1] :\n",
    "                if m[0][1] == 'O':\n",
    "                    print(\"Win\")\n",
    "                    ext()                                           #Use system exit function if win or lose or draw\n",
    "                elif m[0][1] == 'X':\n",
    "                    print(\"Lose\")\n",
    "                    ext()\n",
    "                else:\n",
    "                    pass\n",
    "        elif m[0][2] == m[1][2] and m[2][2] == m[1][2] :\n",
    "                if m[0][2] == 'O':\n",
    "                    print(\"Win\")                                    #Use system exit function if win or lose or draw\n",
    "                    ext()\n",
    "                elif m[0][2] == 'X':\n",
    "                    print(\"Lose\")\n",
    "                    ext()                                            #Use system exit function if win or lose or draw\n",
    "                else:\n",
    "                    pass\n",
    "        elif m[0][0] == m[1][1] and m[1][1]== m[2][2]:\n",
    "                if m[0][0] == 'O':\n",
    "                    print(\"Win\")\n",
    "                    ext()\n",
    "                elif m[0][0] == 'X':\n",
    "                    print(\"Lose\")\n",
    "                    ext()                                         #Use system exit function if win or lose or draw\n",
    "                else:\n",
    "                    pass\n",
    "        elif m[0][2] == m[1][1] and m[2][0]== m[0][2]:\n",
    "                if m[0][2] == 'O':\n",
    "                    print(\"Win\")\n",
    "                    ext()\n",
    "                elif m[0][2] == 'X':                                     #Use system exit function if win or lose or draw\n",
    "                    print(\"Lose\")\n",
    "                    ext()\n",
    "                else:\n",
    "                    pass\n",
    "        else:\n",
    "            for i in m:\n",
    "                for y in i:\n",
    "                    if  y == 'X' or y == 'O':\n",
    "                        count += 1\n",
    "                    else:\n",
    "                        pass                \n",
    "    else:\n",
    "        if count > 8:\n",
    "            print(\"Draw\")\n",
    "        else:\n",
    "            cmp(v,m,ch)    \n",
    "def cho(v,hk,ch):\n",
    "    win(v,hk,ch)\n",
    "    r = int(input(\"Enter row number:\"))\n",
    "    c = int(input(\"Enter column number:\"))\n",
    "    if hk[r-1][c-1] == '_':\n",
    "        hk[r-1][c-1] = v\n",
    "        cmp(v,hk,ch)\n",
    "    else:\n",
    "        print(\"wrong choice\")\n",
    "        cho(v,hk,ch)    \n",
    "def cmp(u,gm,ch):\n",
    "    if u == 'X':\n",
    "        v1 = random.randint(0,2)\n",
    "        v2 = random.randint(0,2)\n",
    "        if gm[v1][v2] == '_':\n",
    "            print(\"Computer choice \")\n",
    "            gm[v1][v2] = 'O'\n",
    "            for t in gm:\n",
    "                for hy in t:\n",
    "                    print(hy,\"|\",end = \" \")\n",
    "                print('\\n')\n",
    "            cho(u,gm,ch)\n",
    "        else:\n",
    "            decom(u,gm,ch)\n",
    "    else:\n",
    "        v1 = random.randint(0,2)\n",
    "        v2 = random.randint(0,2)\n",
    "        if gm[v1][v2] == '_':\n",
    "            print(\"Computer choice \")\n",
    "            gm[v1][v2] = 'X'\n",
    "            for t in gm:\n",
    "                for hy in t:\n",
    "                    print(hy,\"|\",end = \" \")\n",
    "                print('\\n')\n",
    "            cho(u,gm,ch)\n",
    "        else:\n",
    "            decom(u,gm,ch)\n",
    "gm = [] \n",
    "for i in range(3):\n",
    "    hg = []\n",
    "    for k in range(3):\n",
    "        hg.append('_')\n",
    "    gm.append(hg)\n",
    "print(\"Welcome to Tic-Tac-Toe!\")\n",
    "for i in range(3):\n",
    "    for k in range(3):                                        #Use system exit function if win or lose or draw\n",
    "        print(gm[i][k],'|',end = \" \")\n",
    "    print('\\n')\n",
    "ch = int(input(\"Chose o for  O and 1 for X:\"))                         #Use system exit function if win or lose or draw\n",
    "if ch == 1:\n",
    "    cho('X',gm,ch)\n",
    "else:                                                                   #Use system exit function if win or lose or draw\n",
    "    cho('O',gm,ch)"
   ]
  },
  {
   "cell_type": "code",
   "execution_count": 14,
   "id": "36319691-2206-421f-bcf1-83859d7ed97b",
   "metadata": {},
   "outputs": [
    {
     "name": "stdin",
     "output_type": "stream",
     "text": [
      "Enter the number upto where generates Fibonacci numbers(greater than 2) : 5\n"
     ]
    },
    {
     "name": "stdout",
     "output_type": "stream",
     "text": [
      "0 1 1 2 3 "
     ]
    }
   ],
   "source": [
    "#36. Write a program that generates Fibonacci numbers up to a specified term using iterative methods.\n",
    "n = int(input(\"Enter the number upto where generates Fibonacci numbers(greater than 2) :\"))\n",
    "kl = [0,1]\n",
    "for i in range(2,n):\n",
    "    h = kl[i-1]+kl[-2]\n",
    "    kl.append(h)\n",
    "for j in kl:\n",
    "    print(j,end = \" \")\n",
    "    "
   ]
  },
  {
   "cell_type": "code",
   "execution_count": 31,
   "id": "12e69a48-a393-4d50-aa5b-ec3213eafa00",
   "metadata": {},
   "outputs": [
    {
     "name": "stdin",
     "output_type": "stream",
     "text": [
      "Enter the term to find  fibonacci number : 4\n"
     ]
    },
    {
     "name": "stdout",
     "output_type": "stream",
     "text": [
      "The 4th term of the Fibonacci sequence is: 2\n"
     ]
    }
   ],
   "source": [
    "#37. Develop a program that calculates the nth term of the Fibonacci sequence using memoization.\n",
    "def fibonacci(n):\n",
    "    memo={}\n",
    "    if n <= 0:\n",
    "        return \"Invalid input. n should be a positive integer.\"\n",
    "    elif n == 1:\n",
    "        return 0\n",
    "    elif n == 2:\n",
    "        return 1\n",
    "    elif n in memo:\n",
    "        return memo[n]\n",
    "    else:\n",
    "        value  = fibonacci(n - 1) + fibonacci(n - 2)\n",
    "        memo[n] = value\n",
    "    return value\n",
    "yu = int(input(\"Enter the term to find  fibonacci number :\"))\n",
    "result = fibonacci(yu)\n",
    "print(f\"The {yu}th term of the Fibonacci sequence is: {result}\")"
   ]
  },
  {
   "cell_type": "code",
   "execution_count": 1,
   "id": "71e4b722-741f-4c9d-bbd3-40117e8e67d8",
   "metadata": {},
   "outputs": [
    {
     "name": "stdin",
     "output_type": "stream",
     "text": [
      "Enter year : 2023\n",
      "Enter month : 6\n"
     ]
    },
    {
     "name": "stdout",
     "output_type": "stream",
     "text": [
      "Mon Tue Wed Thr Fri Sat Sun \n",
      "\n",
      "            01  02  03  04  \n",
      "\n",
      "05  06  07  08  09  10  11  \n",
      "\n",
      "12  13  14  15  16  17  18  \n",
      "\n",
      "19  20  21  22  23  24  25  \n",
      "\n",
      "26  27  28  29  30          \n",
      "\n"
     ]
    }
   ],
   "source": [
    "#38. Create a program that generates a calendar for a given month and year using conditional statements.\n",
    "import calendar\n",
    "#cal = calendar.monthcalendar(year, month)\n",
    "yr = int(input(\"Enter year :\"))\n",
    "mt = int(input(\"Enter month :\"))\n",
    "jh = calendar.monthcalendar(yr, mt)\n",
    "we = ['Mon','Tue','Wed','Thr','Fri','Sat','Sun']\n",
    "for i in we:\n",
    "    print(i,end =\" \")\n",
    "    quit()\n",
    "print('\\n')\n",
    "for t in jh:\n",
    "    for g in t:\n",
    "        if g == 0:\n",
    "            print(\"  \",end = \"  \")\n",
    "        elif g < 10:\n",
    "            print(f\"0{g}\",end = \"  \")\n",
    "        else:\n",
    "            print(g,end = \"  \")\n",
    "    print(\"\\n\")"
   ]
  },
  {
   "cell_type": "code",
   "execution_count": 7,
   "id": "ad6326eb-703d-48d5-a23c-44681bb42420",
   "metadata": {},
   "outputs": [
    {
     "name": "stdout",
     "output_type": "stream",
     "text": [
      "Welcome to game\n",
      "Once all cards are drawn, whoever has a total closer to 21  wins\n",
      "If anyone cross total 21 will lose!\n",
      "A = ACE(Values according to your choice = 2 or 11 \n",
      " J = jpker ,K = King, Q = Queen  = all value 10\n"
     ]
    },
    {
     "name": "stdin",
     "output_type": "stream",
     "text": [
      "Enter 1 to start the game: 1\n",
      "Enter bid amount : ₹ 8658\n"
     ]
    },
    {
     "name": "stdout",
     "output_type": "stream",
     "text": [
      "Your card is : 2\n",
      "Computer card : A\n",
      "Computer choose : 11\n",
      "Your total : 2\n",
      "Computer total : 11\n",
      "Your card is : A\n"
     ]
    },
    {
     "name": "stdin",
     "output_type": "stream",
     "text": [
      "Choose number 1 or 11 : 11\n"
     ]
    },
    {
     "name": "stdout",
     "output_type": "stream",
     "text": [
      "Computer card : A\n",
      "Computer choose : 1\n",
      "Your total : 13\n",
      "Computer total : 12\n",
      "Your card is : 8\n",
      "Computer card : 2\n",
      "Your total : 21\n",
      "Computer total : 14\n",
      "You Win\n",
      "Amount win : 8658 \n",
      "End\n"
     ]
    }
   ],
   "source": [
    "#39. Build a program that simulates a basic text-based blackjack game against the computer.\n",
    "import time\n",
    "import random\n",
    "print(\"Welcome to game\")\n",
    "p1 = 0\n",
    "c1 = 0\n",
    "print(\"Once all cards are drawn, whoever has a total to 21  wins\")\n",
    "print(\"If anyone cross total 21 will lose!\")\n",
    "df = ['A',2,3,4,5,6,7,8,9,10,'J','K','Q']\n",
    "df1 = ['A',2,6,'J','K','Q',7,7,8,3,4,5,9,10]\n",
    "print(\"A = ACE(Values according to your choice = 2 or 11\",'\\n',\"J = jpker ,K = King, Q = Queen  = all value 10\")\n",
    "st = int(input(\"Enter 1 to start the game:\"))\n",
    "def gm(p1,c1,bd):\n",
    "    pl1 = 0\n",
    "    cm1 = 0\n",
    "    pl = random.choice(df)\n",
    "    time.sleep(2)\n",
    "    cm = random.choice(df1)\n",
    "    if pl == 'J' or pl == 'K' or pl == 'Q':\n",
    "        print(\"Your card is :\",pl)\n",
    "        pl1 = 10\n",
    "    elif pl == 'A':\n",
    "        print(\"Your card is :\",pl)\n",
    "        cj = int(input(\"Choose number 1 or 11 :\"))\n",
    "        if cj == 1:\n",
    "            pl1 = 1\n",
    "        elif cj == 11:\n",
    "            pl1 = 11\n",
    "        else:\n",
    "            print(\"Wrong number\")\n",
    "    else:\n",
    "        print(\"Your card is :\",pl)\n",
    "        pl1 = int(pl)\n",
    "        pass\n",
    "    if cm == 'J' or cm == 'K' or cm == 'Q':\n",
    "        print(\"Computer card :\",cm)\n",
    "        cm = 10\n",
    "    elif cm == 'A':\n",
    "        print(\"Computer card :\",cm)\n",
    "        if c1 + 11 > 21:\n",
    "            cm1 = 1\n",
    "            print(\"Computer choose : 1\")\n",
    "        else:\n",
    "            cm1 = 11\n",
    "            print(\"Computer choose : 11\")\n",
    "    else:\n",
    "        print(\"Computer card :\",cm)\n",
    "        cm1 = int(cm)\n",
    "        pass\n",
    "    c19 = cm1+c1\n",
    "    p19 = pl1+p1\n",
    "    print(\"Your total :\",p19)\n",
    "    print(\"Computer total :\",c19)\n",
    "    if p19 == 21:\n",
    "        jk = bd + 0\n",
    "        print(\"You Win\")\n",
    "        print(f\"Amount win : {jk} \")\n",
    "    elif c19 == 21:\n",
    "        print(\"Computer Win\")\n",
    "    elif p19 > 21:\n",
    "        print(\"You lose !\")\n",
    "    elif c19 > 21:\n",
    "        jk = bd + 0\n",
    "        print('Computer lose !')\n",
    "        print(\"You win !\")\n",
    "        print(f\"Amount win : {jk} \")\n",
    "    else:\n",
    "        gm(p19,c19,bd)\n",
    "    return(\"End\")\n",
    "if st == 1:\n",
    "    bd = int(input(\"Enter bid amount : ₹\"))\n",
    "    l = gm(p1,c1,bd)\n",
    "    print(l)\n",
    "    \n",
    "    \n",
    "else:\n",
    "    print(\"End\")"
   ]
  },
  {
   "cell_type": "code",
   "execution_count": 3,
   "id": "4a0eeddd-e08e-40dd-ae18-75f381c35406",
   "metadata": {},
   "outputs": [
    {
     "name": "stdin",
     "output_type": "stream",
     "text": [
      "Enter a number : 86\n"
     ]
    },
    {
     "name": "stdout",
     "output_type": "stream",
     "text": [
      "Prime factor of given number are: 1, 2, 43, 86, "
     ]
    }
   ],
   "source": [
    "#40. Write a program that generates the prime factors of a given number using trial division.\n",
    "gh = int(input(\"Enter a number :\"))\n",
    "pr = []\n",
    "for i in range(1,gh+1):\n",
    "    if gh%i == 0:\n",
    "        pr.append(i)\n",
    "    else:\n",
    "        pass\n",
    "print(\"Prime factor of given number are:\", end = \" \")\n",
    "for g in pr:\n",
    "    print(f\"{g},\",end = \" \")"
   ]
  }
 ],
 "metadata": {
  "kernelspec": {
   "display_name": "Python 3 (ipykernel)",
   "language": "python",
   "name": "python3"
  },
  "language_info": {
   "codemirror_mode": {
    "name": "ipython",
    "version": 3
   },
   "file_extension": ".py",
   "mimetype": "text/x-python",
   "name": "python",
   "nbconvert_exporter": "python",
   "pygments_lexer": "ipython3",
   "version": "3.10.8"
  }
 },
 "nbformat": 4,
 "nbformat_minor": 5
}
