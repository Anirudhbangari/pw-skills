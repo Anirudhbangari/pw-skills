{
 "cells": [
  {
   "cell_type": "code",
   "execution_count": null,
   "id": "355c16ad-3e71-4ace-ad3c-1a246bd1dadd",
   "metadata": {},
   "outputs": [],
   "source": [
    "# TOPIC: String Based Assignment Problem"
   ]
  },
  {
   "cell_type": "code",
   "execution_count": 25,
   "id": "b302b29b-6fa3-4c9b-86f3-616b99a28797",
   "metadata": {},
   "outputs": [
    {
     "name": "stdin",
     "output_type": "stream",
     "text": [
      "Enter the value ksjhs \n"
     ]
    },
    {
     "name": "stdout",
     "output_type": "stream",
     "text": [
      "Intial order is : ksjhs \n",
      "Reverse order is :  shjsk\n"
     ]
    }
   ],
   "source": [
    "#1. Write a program to reverse a string.\n",
    "a = str(input('Enter the value'))\n",
    "print(\"Intial order is :\",a)\n",
    "print(\"Reverse order is :\",a[::-1])"
   ]
  },
  {
   "cell_type": "code",
   "execution_count": 87,
   "id": "e1236267-4dd8-40bb-95c9-ae03c3cc84d7",
   "metadata": {},
   "outputs": [
    {
     "name": "stdin",
     "output_type": "stream",
     "text": [
      "Enter the value ghjhg\n"
     ]
    },
    {
     "name": "stdout",
     "output_type": "stream",
     "text": [
      " Given string is palindrome :\n"
     ]
    }
   ],
   "source": [
    "#2. Check if a string is a palindrome.\n",
    "h = str(input('Enter the value'))\n",
    "j = h[::-1]\n",
    "if j == h:\n",
    "    print(\" Given string is palindrome :\"  )\n",
    "else:\n",
    "    print(\" Given string is not palindrome :\"  )"
   ]
  },
  {
   "cell_type": "code",
   "execution_count": 4,
   "id": "67c84115-d8c2-43c2-bb5c-3fc43b0ca588",
   "metadata": {},
   "outputs": [
    {
     "data": {
      "text/plain": [
       "'HUMAN LIFE'"
      ]
     },
     "execution_count": 4,
     "metadata": {},
     "output_type": "execute_result"
    }
   ],
   "source": [
    "#3. Convert a string to uppercase.\n",
    "gh = 'human life'\n",
    "gh.upper()\n"
   ]
  },
  {
   "cell_type": "code",
   "execution_count": 5,
   "id": "fab245c0-c0b0-4d06-8457-275e36d282b3",
   "metadata": {},
   "outputs": [
    {
     "data": {
      "text/plain": [
       "'fast racing'"
      ]
     },
     "execution_count": 5,
     "metadata": {},
     "output_type": "execute_result"
    }
   ],
   "source": [
    "#4. Convert a string to lowercase.\n",
    "ty = 'FAST RACING'\n",
    "ty.lower()\n"
   ]
  },
  {
   "cell_type": "code",
   "execution_count": 7,
   "id": "e89b10ee-f1b4-4627-9a95-5dc7822c7b40",
   "metadata": {},
   "outputs": [
    {
     "name": "stdin",
     "output_type": "stream",
     "text": [
      "Enter the value: a eio aiw aw\n"
     ]
    },
    {
     "name": "stdout",
     "output_type": "stream",
     "text": [
      "Number of vowels count : \n",
      "7\n"
     ]
    }
   ],
   "source": [
    "#5.Count the number of vowels in a string.\n",
    "j = str(input('Enter the value:'))\n",
    "print('Number of vowels count : ')\n",
    "count = j.count('a',0,)+j.count('e',0,)+j.count('i',0,)+j.count('o',0,)+j.count('u',0,)\n",
    "# count add the value return by count function of 'a','e','i','o','u'\n",
    "print(count)"
   ]
  },
  {
   "cell_type": "code",
   "execution_count": 6,
   "id": "3ddad472-775c-437c-affb-0fefa5a9cbf4",
   "metadata": {},
   "outputs": [
    {
     "name": "stdin",
     "output_type": "stream",
     "text": [
      "Enter the value : india will win world cup\n"
     ]
    },
    {
     "name": "stdout",
     "output_type": "stream",
     "text": [
      "Number of consonants count : \n",
      "13\n"
     ]
    }
   ],
   "source": [
    "#6. Count the number of consonants in a string.\n",
    "gh = str(input('Enter the value :'))\n",
    "print('Number of consonants count : ')\n",
    "count = gh.count('a',0,)+gh.count('e',0,)+gh.count('i',0,)+gh.count('o',0,)+gh.count('u',0,)\n",
    "jk = gh.replace(\" \",\"\")\n",
    "l = len(jk)\n",
    "print(l-count)\n",
    "               "
   ]
  },
  {
   "cell_type": "code",
   "execution_count": 54,
   "id": "377bc9a5-637d-44ce-8573-fff098c24a83",
   "metadata": {},
   "outputs": [
    {
     "name": "stdin",
     "output_type": "stream",
     "text": [
      " kjio eioiuoei \n"
     ]
    },
    {
     "data": {
      "text/plain": [
       "'kjioeioiuoei'"
      ]
     },
     "execution_count": 54,
     "metadata": {},
     "output_type": "execute_result"
    }
   ],
   "source": [
    "#7. Remove all whitespaces from a string.\n",
    "wh = str(input())\n",
    "wh.replace(\" \",\"\")"
   ]
  },
  {
   "cell_type": "code",
   "execution_count": 2,
   "id": "07b88ac2-5eab-473b-9c9f-2bdf39cd7aad",
   "metadata": {},
   "outputs": [
    {
     "name": "stdout",
     "output_type": "stream",
     "text": [
      "Length of string : 12\n"
     ]
    }
   ],
   "source": [
    "#8. Find the length of a string without using the `len()` function.\n",
    "rty = 'world is one'\n",
    "pi = list(rty)\n",
    "count = 0\n",
    "for i in pi:\n",
    "    count += 1\n",
    "print(\"Length of string :\",count)\n",
    "    "
   ]
  },
  {
   "cell_type": "code",
   "execution_count": 11,
   "id": "e92fd925-5d51-4d0b-bb38-b3fc216eea06",
   "metadata": {},
   "outputs": [
    {
     "name": "stdin",
     "output_type": "stream",
     "text": [
      "Enter the value world is one\n"
     ]
    },
    {
     "name": "stdout",
     "output_type": "stream",
     "text": [
      "Word 'world' is present in sentence is : \n"
     ]
    },
    {
     "data": {
      "text/plain": [
       "True"
      ]
     },
     "execution_count": 11,
     "metadata": {},
     "output_type": "execute_result"
    }
   ],
   "source": [
    "#9.Check if a string contains a specific word.\n",
    "rt = str(input(\"Enter the value\"))\n",
    "print(\"Word 'world' is present in sentence is : \")\n",
    "bool(rt.count(\"world\"))"
   ]
  },
  {
   "cell_type": "code",
   "execution_count": 13,
   "id": "756e02ef-1aee-4f62-a387-3aeadc2dc47f",
   "metadata": {},
   "outputs": [
    {
     "data": {
      "text/plain": [
       "'Welcome team'"
      ]
     },
     "execution_count": 13,
     "metadata": {},
     "output_type": "execute_result"
    }
   ],
   "source": [
    "#10. Replace a word in a string with another word.\n",
    "pt = \"Hello team\"\n",
    "pt.replace(\"Hello\",\"Welcome\")"
   ]
  },
  {
   "cell_type": "code",
   "execution_count": 15,
   "id": "72e5c094-cfa2-4435-abf7-3cbcdc9f6ba8",
   "metadata": {},
   "outputs": [
    {
     "name": "stdin",
     "output_type": "stream",
     "text": [
      "Enter the value hello world,hello team\n"
     ]
    },
    {
     "name": "stdout",
     "output_type": "stream",
     "text": [
      " Number of the occurrences of hello\n"
     ]
    },
    {
     "data": {
      "text/plain": [
       "2"
      ]
     },
     "execution_count": 15,
     "metadata": {},
     "output_type": "execute_result"
    }
   ],
   "source": [
    "#11. Count the occurrences of a word in a string.\n",
    "poi = str(input(\"Enter the value\"))\n",
    "print(\" Number of the occurrences of hello\")\n",
    "poi.count(\"hello\")"
   ]
  },
  {
   "cell_type": "code",
   "execution_count": 7,
   "id": "462ec193-9500-4dc2-8d65-6e37b50bd43b",
   "metadata": {},
   "outputs": [
    {
     "name": "stdin",
     "output_type": "stream",
     "text": [
      "Enter the value : lkd you hsujh\n"
     ]
    },
    {
     "name": "stdout",
     "output_type": "stream",
     "text": [
      "first occurence of word 'you' is :  2\n"
     ]
    }
   ],
   "source": [
    "#12. Find the first occurrence of a word in a string.\n",
    "ok = str(input(\"Enter the value :\"))\n",
    "ui = ok.split()\n",
    "iuy = ui.index('you')\n",
    "print(\"first occurence of word 'you' is : \",iuy+1)\n",
    "\n"
   ]
  },
  {
   "cell_type": "code",
   "execution_count": 15,
   "id": "68fe52aa-2daa-40e5-a426-3ba1af1802a9",
   "metadata": {},
   "outputs": [
    {
     "name": "stdin",
     "output_type": "stream",
     "text": [
      "Enter a string : world is great is not\n"
     ]
    },
    {
     "name": "stdout",
     "output_type": "stream",
     "text": [
      "Last occurrence of word 'is' in string is : 4\n"
     ]
    }
   ],
   "source": [
    "#13. Find the last occurrence of a word in a string.\n",
    "kl = str(input(\"Enter a string :\"))\n",
    "kl = kl.split()\n",
    "hj = 'is'\n",
    "mp = []\n",
    "for i in kl:\n",
    "    if kl[kl.index(i)-1] == hj:\n",
    "        mp.append(kl.index(i))\n",
    "mp.sort()\n",
    "print(\"Last occurrence of word 'is' in string is :\",max(mp))\n",
    "    "
   ]
  },
  {
   "cell_type": "code",
   "execution_count": 4,
   "id": "e84191cd-4de7-4eeb-9a8e-84ee4deb10d4",
   "metadata": {},
   "outputs": [
    {
     "name": "stdin",
     "output_type": "stream",
     "text": [
      "Enter the value ; let go\n"
     ]
    },
    {
     "data": {
      "text/plain": [
       "['let', 'go']"
      ]
     },
     "execution_count": 4,
     "metadata": {},
     "output_type": "execute_result"
    }
   ],
   "source": [
    "#14. Split a string into a list of words.\n",
    "fg = str(input(\"Enter the value ;\"))\n",
    "fg.split()"
   ]
  },
  {
   "cell_type": "code",
   "execution_count": 29,
   "id": "bbddfb56-c9b5-411a-a1f1-d4550d8f8c97",
   "metadata": {},
   "outputs": [
    {
     "name": "stdout",
     "output_type": "stream",
     "text": [
      "true friends\n"
     ]
    }
   ],
   "source": [
    "#15. Join a list of words into a string\n",
    "hj = ['true','friends']\n",
    "syu = \" \".join(hj)\n",
    "print(syu)"
   ]
  },
  {
   "cell_type": "code",
   "execution_count": 32,
   "id": "d70f0770-0d7c-453d-b3e2-0dd874677d09",
   "metadata": {},
   "outputs": [
    {
     "name": "stdin",
     "output_type": "stream",
     "text": [
      "Enter the value ; Time is true\n"
     ]
    },
    {
     "data": {
      "text/plain": [
       "'Time_is_true'"
      ]
     },
     "execution_count": 32,
     "metadata": {},
     "output_type": "execute_result"
    }
   ],
   "source": [
    "#16. Convert a string where words are separated by spaces to one where words are separated by underscores.\n",
    "pg = str(input(\"Enter the value ;\"))\n",
    "pg.replace(' ','_')\n"
   ]
  },
  {
   "cell_type": "code",
   "execution_count": 6,
   "id": "b09e7503-522f-4fc0-82e2-4e58a64cfc11",
   "metadata": {},
   "outputs": [
    {
     "name": "stdin",
     "output_type": "stream",
     "text": [
      "Enter the value ; Hello world\n"
     ]
    },
    {
     "name": "stdout",
     "output_type": "stream",
     "text": [
      "Text start with word 'hello' :\n"
     ]
    },
    {
     "data": {
      "text/plain": [
       "True"
      ]
     },
     "execution_count": 6,
     "metadata": {},
     "output_type": "execute_result"
    }
   ],
   "source": [
    "#17. Check if a string starts with a specific word or phrase.\n",
    "we = str(input(\"Enter the value ;\"))\n",
    "print(\"Text start with word 'hello' :\")\n",
    "we.startswith('Hello')"
   ]
  },
  {
   "cell_type": "code",
   "execution_count": 8,
   "id": "c6f07ac5-fc3a-4123-9f22-ba3f1d6257f7",
   "metadata": {},
   "outputs": [
    {
     "name": "stdin",
     "output_type": "stream",
     "text": [
      "Enter the value ; let's go\n"
     ]
    },
    {
     "name": "stdout",
     "output_type": "stream",
     "text": [
      "Text end with word 'done' :\n"
     ]
    },
    {
     "data": {
      "text/plain": [
       "False"
      ]
     },
     "execution_count": 8,
     "metadata": {},
     "output_type": "execute_result"
    }
   ],
   "source": [
    "#18. Check if a string ends with a specific word or phrase.\n",
    "hj = str(input(\"Enter the value ;\"))\n",
    "print(\"Text end with word 'done' :\")\n",
    "hj.endswith('done')"
   ]
  },
  {
   "cell_type": "code",
   "execution_count": 1,
   "id": "e949c7e4-d886-4534-b936-ec0b7869e3e5",
   "metadata": {},
   "outputs": [
    {
     "data": {
      "text/plain": [
       "'Hello World'"
      ]
     },
     "execution_count": 1,
     "metadata": {},
     "output_type": "execute_result"
    }
   ],
   "source": [
    "#19. Convert a string to title case (e.g., \"hello world\" to \"Hello World\").\n",
    "kl = \"hello world\"\n",
    "kl.title()"
   ]
  },
  {
   "cell_type": "code",
   "execution_count": 37,
   "id": "c0bc8738-a882-4c64-a9d5-4ff23c7529f6",
   "metadata": {},
   "outputs": [
    {
     "name": "stdout",
     "output_type": "stream",
     "text": [
      "largest word in the string is : knocking\n"
     ]
    }
   ],
   "source": [
    "#20. Find the longest word in a string.\n",
    "jh = \" Someone is knocking on the door\"\n",
    "yu = jh.split()\n",
    "py = len(yu[0])\n",
    "okl = yu[0]\n",
    "for i in range(1,5):\n",
    "    if len(yu[i]) > py:\n",
    "        py = len(yu[i])\n",
    "        okl = yu[i]\n",
    "print(\"largest word in the string is :\",okl)"
   ]
  },
  {
   "cell_type": "code",
   "execution_count": 40,
   "id": "225258b3-8b6c-45e8-addb-da54cf6679bb",
   "metadata": {},
   "outputs": [
    {
     "name": "stdout",
     "output_type": "stream",
     "text": [
      "largest word in the string is : is\n"
     ]
    }
   ],
   "source": [
    "#21. Find the shortest word in a string.\n",
    "jh = \" Ram is shyam\"\n",
    "yu = jh.split()\n",
    "py = len(yu[0])\n",
    "okl = yu[0]\n",
    "for i in range(1,3):\n",
    "    if len(yu[i]) < py:\n",
    "        py = len(yu[i])\n",
    "        okl = yu[i]\n",
    "print(\"largest word in the string is :\",okl)"
   ]
  },
  {
   "cell_type": "code",
   "execution_count": 41,
   "id": "47833dc5-2611-444d-a0ec-8b7630901a40",
   "metadata": {},
   "outputs": [
    {
     "name": "stdout",
     "output_type": "stream",
     "text": [
      "Before reversing :  Someone is knocking on the door\n",
      "After reversing : rood eht no gnikconk si enoemoS \n"
     ]
    }
   ],
   "source": [
    "#22. Reverse the order of words in a string.\n",
    "jh1 = \" Someone is knocking on the door\"\n",
    "print(\"Before reversing :\",jh1)\n",
    "print(\"After reversing :\",jh1[::-1])"
   ]
  },
  {
   "cell_type": "code",
   "execution_count": 10,
   "id": "cc458a98-0215-4e9b-894c-bf20ad31a139",
   "metadata": {},
   "outputs": [
    {
     "name": "stdout",
     "output_type": "stream",
     "text": [
      "String is not alphanumeric. \n"
     ]
    }
   ],
   "source": [
    "#23. Check if a string is alphanumeric.\n",
    "jh2 = \" Someone is knocking on the door\"\n",
    "yuo = jh2.isalnum()\n",
    "if yuo:\n",
    "    print(\"String is alphanumeric. \")\n",
    "else:\n",
    "     print(\"String is not alphanumeric. \")"
   ]
  },
  {
   "cell_type": "code",
   "execution_count": 16,
   "id": "5dc58a90-04fb-40a5-92ec-7142f26c1e5f",
   "metadata": {},
   "outputs": [
    {
     "name": "stdout",
     "output_type": "stream",
     "text": [
      "1\n",
      "2\n",
      "3\n",
      "4\n",
      "5\n",
      "6\n"
     ]
    }
   ],
   "source": [
    "#24. Extract all digits from a string.\n",
    "jh3 = \" 123 joke 456 joke\"\n",
    "for i in jh3:\n",
    "    if i.isdigit() == True:\n",
    "        print(i)\n",
    "    else: pass\n",
    "   \n",
    "        "
   ]
  },
  {
   "cell_type": "code",
   "execution_count": 15,
   "id": "9dc145d9-17b8-4794-ad7a-f3ebbf57d30f",
   "metadata": {},
   "outputs": [
    {
     "name": "stdout",
     "output_type": "stream",
     "text": [
      " \n",
      " \n",
      "j\n",
      "o\n",
      "k\n",
      "e\n",
      " \n",
      " \n",
      "j\n",
      "o\n",
      "k\n",
      "e\n"
     ]
    }
   ],
   "source": [
    "#25. Extract all alphabets from a string.\n",
    "jh3 = \" 123 joke 456 joke\"\n",
    "for i in jh3:\n",
    "    if i.isdigit() == True:\n",
    "        pass\n",
    "    else: \n",
    "        print(i)\n",
    "   \n"
   ]
  },
  {
   "cell_type": "code",
   "execution_count": 5,
   "id": "b27c3053-c5ba-44c8-a922-6f92b207a8c4",
   "metadata": {},
   "outputs": [
    {
     "name": "stdin",
     "output_type": "stream",
     "text": [
      "Enter a string : uidru 98UUTRR hjgyt UTYT\\\n"
     ]
    },
    {
     "name": "stdout",
     "output_type": "stream",
     "text": [
      "U\n",
      "U\n",
      "T\n",
      "R\n",
      "R\n",
      "U\n",
      "T\n",
      "Y\n",
      "T\n"
     ]
    }
   ],
   "source": [
    "#26. Count the number of uppercase letters in a string.\n",
    "wh = str(input(\"Enter a string :\"))\n",
    "jkl = list(wh)\n",
    "for i in jkl:\n",
    "    if i.isupper() == True:\n",
    "        print(i)\n",
    "    else:\n",
    "        pass\n",
    "    "
   ]
  },
  {
   "cell_type": "code",
   "execution_count": 11,
   "id": "f36107d6-e1ae-4130-b394-edfe389ace84",
   "metadata": {},
   "outputs": [
    {
     "name": "stdout",
     "output_type": "stream",
     "text": [
      " \n",
      " \n",
      "j\n",
      "o\n",
      "k\n",
      "e\n",
      " \n",
      " \n",
      "j\n",
      "o\n",
      "k\n",
      "e\n"
     ]
    }
   ],
   "source": [
    "#27. Count the number of lowercase letters in a string.\n",
    "jh3 = \" 123 joke 456 joke\"\n",
    "for i in jh3:\n",
    "    if i.isupper() == True or i.isdigit() == True:\n",
    "        pass\n",
    "    else:\n",
    "        print(i)\n",
    "       "
   ]
  },
  {
   "cell_type": "code",
   "execution_count": 12,
   "id": "9e1f4c8e-3281-42fd-9b2e-8bd327ade782",
   "metadata": {},
   "outputs": [
    {
     "data": {
      "text/plain": [
       "' jOKE OF THE dAY'"
      ]
     },
     "execution_count": 12,
     "metadata": {},
     "output_type": "execute_result"
    }
   ],
   "source": [
    "#28. Swap the case of each character in a string.\n",
    "jkl = \" Joke of the Day\"\n",
    "jkl.swapcase()"
   ]
  },
  {
   "cell_type": "code",
   "execution_count": 14,
   "id": "9edbb486-b79b-4d10-aeab-0057caa85abe",
   "metadata": {},
   "outputs": [
    {
     "data": {
      "text/plain": [
       "' Joke of the '"
      ]
     },
     "execution_count": 14,
     "metadata": {},
     "output_type": "execute_result"
    }
   ],
   "source": [
    "#29. Remove a specific word from a string.\n",
    "jkm = \" Joke of the Day\"\n",
    "jkm.replace('Day','')"
   ]
  },
  {
   "cell_type": "code",
   "execution_count": 3,
   "id": "2e1a0d62-db91-436a-a114-383cb934b29a",
   "metadata": {},
   "outputs": [
    {
     "name": "stdin",
     "output_type": "stream",
     "text": [
      " ghfytu123@gmai.com\n"
     ]
    },
    {
     "name": "stdout",
     "output_type": "stream",
     "text": [
      "It is a valid email address\n"
     ]
    }
   ],
   "source": [
    "#30. Check if a string is a valid email address.\n",
    "yui = input()\n",
    "hj = yui.split('@')\n",
    "op = yui.find(\" \")\n",
    "if op <= -1:\n",
    "    if yui.endswith(\".com\"):\n",
    "        if len(hj) <= 1 :\n",
    "            print(\"It is not a valid email address\")\n",
    "        else:\n",
    "            print(\"It is a valid email address\")\n",
    "    else:\n",
    "        print(\"It is not a valid email address\") \n",
    "else:\n",
    "    print(\"Not a valid email address\")\n",
    "   "
   ]
  },
  {
   "cell_type": "code",
   "execution_count": 5,
   "id": "1ddf9a0b-57c1-43c0-8be0-498db6d04877",
   "metadata": {},
   "outputs": [
    {
     "name": "stdin",
     "output_type": "stream",
     "text": [
      " jshjusgh123@gmail.com\n"
     ]
    },
    {
     "name": "stdout",
     "output_type": "stream",
     "text": [
      "Username is :jshjusgh123\n"
     ]
    }
   ],
   "source": [
    "#31. Extract the username from an email address string.\n",
    "yui = input()\n",
    "hj = yui.split('@')\n",
    "op = yui.find(\" \")\n",
    "if op <= -1:\n",
    "    if yui.endswith(\".com\"):\n",
    "        if len(hj) <= 1 :\n",
    "            print(\"It is not a valid email address\")\n",
    "        else:\n",
    "            print(\"Username is :\"+hj[0])\n",
    "    else:\n",
    "        print(\"It is not a valid email address\") \n",
    "else:\n",
    "    print(\"Not a valid email address\")\n",
    "   \n"
   ]
  },
  {
   "cell_type": "code",
   "execution_count": 6,
   "id": "bb1ae9f8-f12e-42c4-9d89-e1e262f4a5b9",
   "metadata": {},
   "outputs": [
    {
     "name": "stdin",
     "output_type": "stream",
     "text": [
      " sjkuhuio!23@gmail.com\n"
     ]
    },
    {
     "name": "stdout",
     "output_type": "stream",
     "text": [
      "Username is :gmail.com\n"
     ]
    }
   ],
   "source": [
    "#32. Extract the domain name from an email address string.\n",
    "yui = input()\n",
    "hj = yui.split('@')\n",
    "op = yui.find(\" \")\n",
    "if op <= -1:\n",
    "    if yui.endswith(\".com\"):\n",
    "        if len(hj) <= 1 :\n",
    "            print(\"It is not a valid email address\")\n",
    "        else:\n",
    "            print(\"Username is :\"+hj[1])\n",
    "    else:\n",
    "        print(\"It is not a valid email address\") \n",
    "else:\n",
    "    print(\"Not a valid email address\")\n",
    "   "
   ]
  },
  {
   "cell_type": "code",
   "execution_count": 28,
   "id": "df10023c-389d-423a-88b6-2292c54a8297",
   "metadata": {},
   "outputs": [
    {
     "data": {
      "text/plain": [
       "'Someone is knocking on the door'"
      ]
     },
     "execution_count": 28,
     "metadata": {},
     "output_type": "execute_result"
    }
   ],
   "source": [
    "#33. Replace multiple spaces in a string with a single space.\n",
    "jh5 = \" Someone   is knocking on    the door\"\n",
    "jkl = jh5.split()\n",
    "' '.join(jkl) "
   ]
  },
  {
   "cell_type": "code",
   "execution_count": 25,
   "id": "8538a2c7-7d39-4bf6-abf5-e34d216dd45e",
   "metadata": {},
   "outputs": [
    {
     "name": "stdin",
     "output_type": "stream",
     "text": [
      " http://sjkhu.vu\n"
     ]
    },
    {
     "name": "stdout",
     "output_type": "stream",
     "text": [
      "Not a valid url address\n"
     ]
    }
   ],
   "source": [
    "#34. Check if a string is a valid URL.\n",
    "#In this program only check for url end with '.com' \n",
    "yui = input()\n",
    "op = yui.find(\" \")\n",
    "if op <= -1:\n",
    "    if yui.endswith(\".com\"):\n",
    "            if yui.startswith(\"https://\") or yui.startswith(\"http://\"):\n",
    "                print(\"It is  a valid url address\")\n",
    "            else:\n",
    "                print(\"It is  not a valid url address\")\n",
    "    else:\n",
    "            print(\"Not a valid url address\")\n",
    "else:\n",
    "    print(\"Not a valid url address\")\n"
   ]
  },
  {
   "cell_type": "code",
   "execution_count": 26,
   "id": "8f5103b8-1083-4822-81aa-97bc4e800cf6",
   "metadata": {},
   "outputs": [
    {
     "name": "stdin",
     "output_type": "stream",
     "text": [
      " kdopi\n"
     ]
    },
    {
     "name": "stdout",
     "output_type": "stream",
     "text": [
      "Not a valid url address\n"
     ]
    }
   ],
   "source": [
    "#35. Extract the protocol (http or https) from a URL string.\n",
    "#In this program only check for url end with '.com' \n",
    "yui = input()\n",
    "op = yui.find(\" \")\n",
    "if op <= -1:\n",
    "    if yui.endswith(\".com\"):\n",
    "            if yui.startswith(\"https://\") or yui.startswith(\"http://\"):\n",
    "                if yui.startswith(\"https\"):\n",
    "                    print(\"The protocol is :\"+\"https\")\n",
    "                else:\n",
    "                    print(\"The protocol is :\"+\"http\")\n",
    "            else:\n",
    "                print(\"It is  not a valid url address\")          \n",
    "    else:\n",
    "            print(\"Not a valid url address\")      \n",
    "else:\n",
    "    print(\"Not a valid url address\")"
   ]
  },
  {
   "cell_type": "code",
   "execution_count": 2,
   "id": "03aef33b-d7aa-4609-9919-92a2e54b3dca",
   "metadata": {},
   "outputs": [
    {
     "name": "stdout",
     "output_type": "stream",
     "text": [
      "String is : Someone is knocking on the door\n",
      "Number of  A : 0\n",
      "Number of  B : 0\n",
      "Number of  C : 1\n",
      "Number of  D : 1\n",
      "Number of  E : 3\n",
      "Number of  F : 0\n",
      "Number of  G : 1\n",
      "Number of  H : 1\n",
      "Number of  I : 2\n",
      "Number of  J : 0\n",
      "Number of  K : 2\n",
      "Number of  L : 0\n",
      "Number of  M : 1\n",
      "Number of  N : 4\n",
      "Number of  O : 6\n",
      "Number of  P : 0\n",
      "Number of  Q : 0\n",
      "Number of  R : 1\n",
      "Number of  S : 2\n",
      "Number of  T : 1\n",
      "Number of  U : 0\n",
      "Number of  V : 0\n",
      "Number of  W : 0\n",
      "Number of  X : 0\n",
      "Number of  Y : 0\n",
      "Number of  Z : 0\n"
     ]
    }
   ],
   "source": [
    "#36. Find the frequency of each character in a string.\n",
    "mhj = \"Someone is knocking on the door\"\n",
    "print(\"String is :\",mhj)\n",
    "pu = \"ABCDEFGHIJKLMNOPQRSTUVWXYZ\"\n",
    "mhj = mhj.upper()\n",
    "count = 0\n",
    "for i in pu:\n",
    "    for t in mhj:\n",
    "        if i == t:\n",
    "            count += 1\n",
    "    print(\"Number of \",i,\":\",count)\n",
    "    count = 0\n",
    "        \n"
   ]
  },
  {
   "cell_type": "code",
   "execution_count": 14,
   "id": "ddf9f164-9bed-4520-b76c-b9fc47eb02bc",
   "metadata": {},
   "outputs": [
    {
     "name": "stdin",
     "output_type": "stream",
     "text": [
      "Enter a string : sdfhuidhs! kcji !\n"
     ]
    },
    {
     "name": "stdout",
     "output_type": "stream",
     "text": [
      "After removing all the punctuation is : sdfhuidhs kcji \n"
     ]
    }
   ],
   "source": [
    "#37. Remove all punctuation from a string.\n",
    "jk = str(input(\"Enter a string :\"))\n",
    "jk = list(jk)\n",
    "lp = []\n",
    "for i in jk:\n",
    "        if i.isalpha() == True or i == \" \":\n",
    "            lp.append(i)\n",
    "        else:\n",
    "            pass\n",
    "lp = \"\".join(lp)\n",
    "print(\"After removing all the punctuation is :\",lp)"
   ]
  },
  {
   "cell_type": "code",
   "execution_count": 44,
   "id": "58f46d71-43a4-4fcb-bd53-078893fbebb0",
   "metadata": {},
   "outputs": [
    {
     "name": "stdout",
     "output_type": "stream",
     "text": [
      "'string 1 is contains only digits : True\n",
      "'string 2 is contains only digits : False\n"
     ]
    }
   ],
   "source": [
    "#38. Check if a string contains only digits\n",
    "fgh = '1238568'\n",
    "hgf = '0123 hjjjjh'\n",
    "print(\"'string 1 is contains only digits :\", fgh.isdigit())\n",
    "print(\"'string 2 is contains only digits :\", hgf.isdigit())"
   ]
  },
  {
   "cell_type": "code",
   "execution_count": 45,
   "id": "8e1b9784-5c65-44ad-9f72-7c8a6d99d7b6",
   "metadata": {},
   "outputs": [
    {
     "name": "stdout",
     "output_type": "stream",
     "text": [
      "'string 1 is contains only alphabets. : True\n",
      "'string 2 is contains only alphabets. : False\n"
     ]
    }
   ],
   "source": [
    "#39. Check if a string contains only alphabets.\n",
    "kjh = \"Hello\"\n",
    "fgh1 = '1238568'\n",
    "print(\"'string 1 is contains only alphabets. :\", kjh.isalpha())\n",
    "print(\"'string 2 is contains only alphabets. :\", fgh1.isalpha())"
   ]
  },
  {
   "cell_type": "code",
   "execution_count": 46,
   "id": "de0a6a12-2940-4318-9220-c7855e0614f0",
   "metadata": {},
   "outputs": [
    {
     "data": {
      "text/plain": [
       "['H', 'e', 'l', 'l', 'o']"
      ]
     },
     "execution_count": 46,
     "metadata": {},
     "output_type": "execute_result"
    }
   ],
   "source": [
    "#40. Convert a string to a list of characters.\n",
    "kjh = \"Hello\"\n",
    "list(kjh)"
   ]
  },
  {
   "cell_type": "code",
   "execution_count": 7,
   "id": "e07b0895-c2b3-4419-b1ad-6aa941cb974a",
   "metadata": {},
   "outputs": [
    {
     "name": "stdin",
     "output_type": "stream",
     "text": [
      "Enter the first word ghjkl\n",
      "Enter the second word lkjhg\n"
     ]
    },
    {
     "name": "stdout",
     "output_type": "stream",
     "text": [
      "Two string are anagrams\n"
     ]
    }
   ],
   "source": [
    "#41. Check if two strings are anagrams.\n",
    "we1 = input(\"Enter the first word\")\n",
    "we2 = input(\"Enter the second word\")\n",
    "we1.upper()\n",
    "we2.upper()\n",
    "fg = list(we1)\n",
    "dg = list(we2)\n",
    "fg.sort()\n",
    "dg.sort()\n",
    "if fg == dg:\n",
    "    print(\"Two string are anagrams\")\n",
    "else:\n",
    "     print(\"Two string are not anagrams\")     \n",
    "\n",
    "\n",
    "\n"
   ]
  },
  {
   "cell_type": "code",
   "execution_count": 15,
   "id": "2551ee28-5c83-4932-af60-724db87a960d",
   "metadata": {},
   "outputs": [
    {
     "name": "stdin",
     "output_type": "stream",
     "text": [
      "Enter the number to use as a key : 4\n",
      "Enter a text to cipher : jdhuuig\n"
     ]
    },
    {
     "name": "stdout",
     "output_type": "stream",
     "text": [
      "After applying Caesar cipher : NHLYYMK\n"
     ]
    }
   ],
   "source": [
    "#42. Encode a string using a Caesar cipher\n",
    "ju = int(input(\"Enter the number to use as a key :\"))\n",
    "jk = \"ABCDEFGHIJKLMNOPQRSTUVWXYZ\"\n",
    "jk = list(jk)\n",
    "iu = str(input(\"Enter a text to cipher :\"))\n",
    "iu = iu.upper()\n",
    "iu = list(iu)\n",
    "lo = []\n",
    "po = 0\n",
    "for i in iu:\n",
    "    po = jk.index(str(i))+4\n",
    "    #using index +n formula to cipher the text\n",
    "    lo.append(jk[po])\n",
    "pl = \"\".join(lo)\n",
    "print(\"After applying Caesar cipher :\",pl)\n",
    "    \n",
    "    "
   ]
  },
  {
   "cell_type": "code",
   "execution_count": 16,
   "id": "ccb4416a-45d9-4382-8b4a-d0132b4e0152",
   "metadata": {},
   "outputs": [
    {
     "name": "stdin",
     "output_type": "stream",
     "text": [
      "Enter the number to use as a key : 4\n",
      "Enter a text to decode : okidou\n"
     ]
    },
    {
     "name": "stdout",
     "output_type": "stream",
     "text": [
      "After applying Caesar cipher : KGEZKQ\n"
     ]
    }
   ],
   "source": [
    "#43. Decode a Caesar cipher encoded string.43.\n",
    "ju = int(input(\"Enter the number to use as a key :\"))\n",
    "jk = \"ABCDEFGHIJKLMNOPQRSTUVWXYZ\"\n",
    "jk = list(jk)\n",
    "iu = str(input(\"Enter a text to decode :\"))\n",
    "iu = iu.upper()\n",
    "iu = list(iu)\n",
    "lo = []\n",
    "po = 0\n",
    "for i in iu:\n",
    "    po = jk.index(str(i))-4\n",
    "    #using index -n formula to Decode cipher  text\n",
    "    lo.append(jk[po])\n",
    "pl = \"\".join(lo)\n",
    "print(\"After applying Caesar cipher :\",pl)\n",
    "    "
   ]
  },
  {
   "cell_type": "code",
   "execution_count": 22,
   "id": "5e9ea2aa-8227-4890-a4c2-08101e693f27",
   "metadata": {},
   "outputs": [
    {
     "name": "stdin",
     "output_type": "stream",
     "text": [
      "Enter a string : hdjhd hdj hj hj hj hJ HJ\n"
     ]
    },
    {
     "name": "stdout",
     "output_type": "stream",
     "text": [
      "The most frequent word in a string : hj\n"
     ]
    }
   ],
   "source": [
    "#44. Find the most frequent word in a string.\n",
    "kl = str(input(\"Enter a string :\"))\n",
    "kl = kl.split()\n",
    "p = 0\n",
    "for i in kl:\n",
    "    jk = kl.count(i)\n",
    "    if jk > p:\n",
    "        p = jk\n",
    "        ko = i\n",
    "print(\"The most frequent word in a string :\",ko)      \n",
    "        \n",
    "        "
   ]
  },
  {
   "cell_type": "code",
   "execution_count": 8,
   "id": "4d5657db-685b-4db9-97c4-32f12bb0f99b",
   "metadata": {},
   "outputs": [
    {
     "name": "stdin",
     "output_type": "stream",
     "text": [
      "Enter the first word hjsdg igshghjgas\n"
     ]
    },
    {
     "name": "stdout",
     "output_type": "stream",
     "text": [
      "d\n",
      "i\n",
      "a\n",
      "s\n",
      "j\n",
      "h\n",
      " \n",
      "g\n"
     ]
    }
   ],
   "source": [
    "#45. Find all unique words in a string.\n",
    "we1 = input(\"Enter the first word\")\n",
    "po = set(we1)\n",
    "for i in po:\n",
    "    print(i)\n",
    "    "
   ]
  },
  {
   "cell_type": "code",
   "execution_count": 24,
   "id": "6a0ac017-ff55-411f-9119-1f08e85b7673",
   "metadata": {},
   "outputs": [
    {
     "name": "stdin",
     "output_type": "stream",
     "text": [
      "Enter a string :  urehi rui\n"
     ]
    },
    {
     "name": "stdout",
     "output_type": "stream",
     "text": [
      "5\n"
     ]
    }
   ],
   "source": [
    "#46. Count the number of syllables in a string.\n",
    "hyu = str(input(\"Enter a string : \"))\n",
    "l = ['a','e','i','o','u']\n",
    "count = 0\n",
    "for i in hyu:\n",
    "    if i in l:\n",
    "        count +=1\n",
    "po = len(hyu)\n",
    "print(count)\n",
    "        "
   ]
  },
  {
   "cell_type": "code",
   "execution_count": 15,
   "id": "bd08ffa0-30bd-4084-9951-8e6ce19ca2e7",
   "metadata": {},
   "outputs": [
    {
     "name": "stdin",
     "output_type": "stream",
     "text": [
      "Enter a string :  jfh duioh@#$\n"
     ]
    },
    {
     "name": "stdout",
     "output_type": "stream",
     "text": [
      "String contain special charcters\n"
     ]
    }
   ],
   "source": [
    "#47. Check if a string contains any special characters.\n",
    "hyu = str(input(\"Enter a string : \"))\n",
    "jhu = hyu.split()\n",
    "hyu = \"\".join(jhu)\n",
    "count = 0\n",
    "for i in hyu:\n",
    "    if i.isdigit() == True or i.isalpha() == True:\n",
    "        pass\n",
    "    else:\n",
    "        count += 1\n",
    "if count > 0:\n",
    "    print(\"String contain special charcters\")\n",
    "else:\n",
    "    print(\"String  cannot contain special charcters\")\n",
    "    "
   ]
  },
  {
   "cell_type": "code",
   "execution_count": 62,
   "id": "71ec2696-e7cf-4a5f-b055-732a57275c67",
   "metadata": {},
   "outputs": [
    {
     "name": "stdout",
     "output_type": "stream",
     "text": [
      "Oringinal string is : I had a bad cold and was in bed for a week. \n",
      "After removing the nth word from a stringis : I had a bad cold and was in for a week.\n"
     ]
    }
   ],
   "source": [
    "#48. Remove the nth word from a string.\n",
    "#remove 9 word from the string\n",
    "oki = \"I had a bad cold and was in bed for a week. \"\n",
    "print(\"Oringinal string is :\",oki)\n",
    "LKO = oki.split()\n",
    "okl = LKO.pop(8)\n",
    "print(\"After removing the nth word from a stringis :\",' '.join(LKO))"
   ]
  },
  {
   "cell_type": "code",
   "execution_count": 64,
   "id": "bcb3dcb4-849d-4e13-b4b5-a72007e75bf6",
   "metadata": {},
   "outputs": [
    {
     "name": "stdout",
     "output_type": "stream",
     "text": [
      "Oringinal string is : I had a bad cold and was in for a week\n",
      "After removing the nth word from a stringis : I had a bad cold and was in bed for a week\n"
     ]
    }
   ],
   "source": [
    "#49. Insert a word at the nth position in a string.\n",
    "# insert a word in 9th position\n",
    "oki = \"I had a bad cold and was in for a week\"\n",
    "print(\"Oringinal string is :\",oki)\n",
    "LKO = oki.split()\n",
    "okl = LKO.insert(8,'bed')\n",
    "print(\"After removing the nth word from a stringis :\",' '.join(LKO))"
   ]
  },
  {
   "cell_type": "code",
   "execution_count": 21,
   "id": "f441f32e-4674-443c-a1da-34306f7f85d2",
   "metadata": {},
   "outputs": [
    {
     "data": {
      "text/plain": [
       "['e',\n",
       " 'r',\n",
       " 'u',\n",
       " 'i',\n",
       " 'd',\n",
       " ',',\n",
       " 'd',\n",
       " 'e',\n",
       " 's',\n",
       " 'c',\n",
       " 'r',\n",
       " 'i',\n",
       " 'p',\n",
       " 't',\n",
       " 'i',\n",
       " 'o',\n",
       " 'n',\n",
       " ' ',\n",
       " 'b',\n",
       " 'a',\n",
       " 't',\n",
       " 'm',\n",
       " 'a',\n",
       " 'n',\n",
       " ',',\n",
       " 'u',\n",
       " 's',\n",
       " 'e',\n",
       " 's',\n",
       " ' ',\n",
       " 't',\n",
       " 'e',\n",
       " 'c',\n",
       " 'h',\n",
       " 'n',\n",
       " 'o',\n",
       " 'l',\n",
       " 'o',\n",
       " 'g',\n",
       " 'y',\n",
       " ' ',\n",
       " 's',\n",
       " 'u',\n",
       " 'p',\n",
       " 'e',\n",
       " 'r',\n",
       " 'm',\n",
       " 'a',\n",
       " 'n',\n",
       " ',',\n",
       " 'f',\n",
       " 'l',\n",
       " 'i',\n",
       " 'e',\n",
       " 's',\n",
       " ' ',\n",
       " 't',\n",
       " 'h',\n",
       " 'r',\n",
       " 'o',\n",
       " 'u',\n",
       " 'g',\n",
       " 'h',\n",
       " ' ',\n",
       " 't',\n",
       " 'h',\n",
       " 'e',\n",
       " ' ',\n",
       " 'a',\n",
       " 'i',\n",
       " 'r',\n",
       " ' ',\n",
       " 's',\n",
       " 'p',\n",
       " 'i',\n",
       " 'd',\n",
       " 'e',\n",
       " 'r',\n",
       " 'm',\n",
       " 'a',\n",
       " 'n',\n",
       " ',',\n",
       " 'u',\n",
       " 's',\n",
       " 'e',\n",
       " 's',\n",
       " ' ',\n",
       " 'a',\n",
       " ' ',\n",
       " 'w',\n",
       " 'e',\n",
       " 'b',\n",
       " ' ',\n",
       " 'g',\n",
       " 'h',\n",
       " 'o',\n",
       " 's',\n",
       " 't',\n",
       " 'r',\n",
       " 'i',\n",
       " 'd',\n",
       " 'e',\n",
       " 'r',\n",
       " ',',\n",
       " ' ',\n",
       " 'r',\n",
       " 'i',\n",
       " 'd',\n",
       " 'e',\n",
       " 's',\n",
       " ' ',\n",
       " 'a',\n",
       " ' ',\n",
       " 'm',\n",
       " 'o',\n",
       " 't',\n",
       " 'o',\n",
       " 'r',\n",
       " 'c',\n",
       " 'y',\n",
       " 'c',\n",
       " 'l',\n",
       " 'e',\n",
       " ' ',\n",
       " 'c',\n",
       " 'n',\n",
       " ',',\n",
       " 'd',\n",
       " 'e',\n",
       " 's',\n",
       " 'c',\n",
       " 'r',\n",
       " 'i',\n",
       " 'p',\n",
       " 't',\n",
       " 'i',\n",
       " 'o',\n",
       " 'n',\n",
       " ' ',\n",
       " 'd',\n",
       " 'a',\n",
       " 'r',\n",
       " 'e',\n",
       " 'd',\n",
       " 'e',\n",
       " 'v',\n",
       " 'i',\n",
       " 'l',\n",
       " ',',\n",
       " 't',\n",
       " 'h',\n",
       " 'i',\n",
       " 's',\n",
       " ' ',\n",
       " 'g',\n",
       " 'r',\n",
       " 'o',\n",
       " 'u',\n",
       " 'p',\n",
       " ' ',\n",
       " 'r',\n",
       " 'e',\n",
       " 'p',\n",
       " 'r',\n",
       " 'e',\n",
       " 's',\n",
       " 'e',\n",
       " 'n',\n",
       " 't',\n",
       " 's',\n",
       " ' ',\n",
       " 'd',\n",
       " 'a',\n",
       " 'r',\n",
       " 'e',\n",
       " 'd',\n",
       " 'e',\n",
       " 'v',\n",
       " 'i',\n",
       " 'l',\n",
       " 's',\n",
       " ' ',\n",
       " 's',\n",
       " 'u',\n",
       " 'p',\n",
       " 'e',\n",
       " 'r',\n",
       " 'h',\n",
       " 'e',\n",
       " 'r',\n",
       " 'o',\n",
       " ',',\n",
       " 't',\n",
       " 'h',\n",
       " 'i',\n",
       " 's',\n",
       " ' ',\n",
       " 'g',\n",
       " 'r',\n",
       " 'o',\n",
       " 'u',\n",
       " 'p',\n",
       " ' ',\n",
       " 'r',\n",
       " 'e',\n",
       " 'p',\n",
       " 'r',\n",
       " 'e',\n",
       " 's',\n",
       " 'e',\n",
       " 'n',\n",
       " 't',\n",
       " 's',\n",
       " ' ',\n",
       " 's',\n",
       " 'u',\n",
       " 'p',\n",
       " 'e',\n",
       " 'r',\n",
       " 'h',\n",
       " 'e',\n",
       " 'r',\n",
       " 'o',\n",
       " 'e',\n",
       " 's']"
      ]
     },
     "execution_count": 21,
     "metadata": {},
     "output_type": "execute_result"
    }
   ],
   "source": [
    "#50. Convert a CSV string to a list of lists.\n",
    "csv_string = \"eruid,description batman,uses technology superman,flies through the air spiderman,uses a web ghostrider, rides a motorcycle cn,description daredevil,this group represents daredevils superhero,this group represents superheroes\"\n",
    "#GROUP_OBJECT_PROFILE#accessgroupGroupProfile\n",
    "\n",
    "ko = list(csv_string)\n",
    "ko\n",
    "\n"
   ]
  },
  {
   "cell_type": "code",
   "execution_count": 66,
   "id": "ec1fe1d0-98fd-43cb-bc12-bb7a9bec3590",
   "metadata": {},
   "outputs": [],
   "source": [
    "                   List Based Practice Problem :\n",
    "\n",
    "\n"
   ]
  },
  {
   "cell_type": "code",
   "execution_count": 28,
   "id": "0f16a3b0-4ddd-47db-8173-88f8c87e0efa",
   "metadata": {},
   "outputs": [
    {
     "name": "stdout",
     "output_type": "stream",
     "text": [
      "[1, 2, 3, 4, 5, 6, 7, 8, 9, 10]\n"
     ]
    }
   ],
   "source": [
    "#1. Create a list with integers from 1 to 10.\n",
    "jhk = [0]*10\n",
    "j = 0\n",
    "for i in range(1,11):\n",
    "    jhk[i-1] = i\n",
    "print(jhk) \n"
   ]
  },
  {
   "cell_type": "code",
   "execution_count": 18,
   "id": "6ff6aa37-62e8-446e-b448-65e2ac02c11b",
   "metadata": {},
   "outputs": [
    {
     "name": "stdout",
     "output_type": "stream",
     "text": [
      "Total length of list : 11\n"
     ]
    }
   ],
   "source": [
    "#2. Find the length of a list without using the `len()` function.\n",
    "hj = [1,2,3,4,5,6,7,8,9,10,11]\n",
    "count = 0\n",
    "for i in hj:\n",
    "    count += 1\n",
    "print(\"Total length of list :\",count)"
   ]
  },
  {
   "cell_type": "code",
   "execution_count": 13,
   "id": "d214cb7b-2c7c-48e7-b7de-b1ba05c71bb9",
   "metadata": {},
   "outputs": [
    {
     "name": "stdout",
     "output_type": "stream",
     "text": [
      "Country before adding : ['India', 'US', 'France']\n",
      "After adding another country: ['India', 'US', 'France', 'Germany']\n"
     ]
    }
   ],
   "source": [
    "#3. Append an element to the end of a list.\n",
    "country = ['India','US','France']\n",
    "print(\"Country before adding :\",country)\n",
    "country.append('Germany')\n",
    "print(\"After adding another country:\", country)"
   ]
  },
  {
   "cell_type": "code",
   "execution_count": 2,
   "id": "b826c201-3051-45a6-85f0-7759a81d516c",
   "metadata": {},
   "outputs": [
    {
     "name": "stdout",
     "output_type": "stream",
     "text": [
      "Country before adding another country in 2nd place: ['India', 'US', 'France']\n",
      "After adding another in 2nd placecountry: ['India', 'Germany', 'US', 'France']\n"
     ]
    }
   ],
   "source": [
    "#4. Insert an element at a specific index in a list.\n",
    "country = ['India','US','France']\n",
    "print(\"Country before adding another country in 2nd place:\",country)\n",
    "country.insert(1,'Germany')\n",
    "print(\"After adding another in 2nd placecountry:\", country)"
   ]
  },
  {
   "cell_type": "code",
   "execution_count": 2,
   "id": "b2e3802c-9b55-40f7-ac31-e3ea981a214a",
   "metadata": {},
   "outputs": [
    {
     "name": "stdout",
     "output_type": "stream",
     "text": [
      "Country before removing: ['India', 'US', 'France', 'Germany']\n",
      "Country after removing 'ÚS' : ['India', 'France', 'Germany']\n"
     ]
    }
   ],
   "source": [
    "#5. Remove an element from a list by its value.\n",
    "country = ['India','US','France','Germany']\n",
    "print(\"Country before removing:\",country)\n",
    "country.remove('US')\n",
    "print(\"Country after removing 'ÚS' :\",country)"
   ]
  },
  {
   "cell_type": "code",
   "execution_count": 4,
   "id": "8b0c0afc-1f7b-4763-b444-ef230401dafe",
   "metadata": {},
   "outputs": [
    {
     "name": "stdout",
     "output_type": "stream",
     "text": [
      "Country before removing: ['India', 'US', 'France', 'Germany']\n",
      "Country after removing index '3' : ['India', 'US', 'France']\n"
     ]
    }
   ],
   "source": [
    "#6. Remove an element from a list by its index.\n",
    "country = ['India','US','France','Germany']\n",
    "print(\"Country before removing:\",country)\n",
    "gh = country.pop(3)\n",
    "print(\"Country after removing index '3' :\",country)"
   ]
  },
  {
   "cell_type": "code",
   "execution_count": 14,
   "id": "66bfd05e-a035-455e-80a1-8a4705598ee3",
   "metadata": {},
   "outputs": [
    {
     "name": "stdin",
     "output_type": "stream",
     "text": [
      " India\n"
     ]
    },
    {
     "name": "stdout",
     "output_type": "stream",
     "text": [
      "Country is present\n"
     ]
    }
   ],
   "source": [
    "#7. Check if an element exists in a list.\n",
    "country = ['India','US','France','Germany']\n",
    "df = input()\n",
    "iuy = country.count(df)\n",
    "if iuy>0:\n",
    "    print(\"Country is present\")\n",
    "else:    \n",
    "    print(\"Country is not present\")"
   ]
  },
  {
   "cell_type": "code",
   "execution_count": 20,
   "id": "3aad6ed7-e473-4f20-8867-755d1ba78a72",
   "metadata": {},
   "outputs": [
    {
     "name": "stdout",
     "output_type": "stream",
     "text": [
      "the index of the first occurrence of an element in a list : 0\n"
     ]
    }
   ],
   "source": [
    "#8. Find the index of the first occurrence of an element in a list.\n",
    "country = ['India','US','France','Germany','India']\n",
    "print(\"the index of the first occurrence of 'Índia' in a list :\",country.index('India',0,))"
   ]
  },
  {
   "cell_type": "code",
   "execution_count": 21,
   "id": "1ff5dcc9-592c-4774-82ab-41a2b45fb4f6",
   "metadata": {},
   "outputs": [
    {
     "name": "stdout",
     "output_type": "stream",
     "text": [
      "the occurrences of 'India' in a list : 2\n"
     ]
    }
   ],
   "source": [
    "#9. Count the occurrences of an element in a list.\n",
    "country = ['India','US','France','Germany','India']\n",
    "print(\"the occurrences of 'India' in a list :\",country.count('India'))"
   ]
  },
  {
   "cell_type": "code",
   "execution_count": 24,
   "id": "3c0efb7c-e30f-450d-b0c7-1c229c79877e",
   "metadata": {},
   "outputs": [
    {
     "name": "stdout",
     "output_type": "stream",
     "text": [
      "Intial order is : ['India', 'US', 'France', 'Germany', 'India']\n",
      "Reverse order is : ['India', 'Germany', 'France', 'US', 'India']\n"
     ]
    }
   ],
   "source": [
    "#10. Reverse the order of elements in a list.\n",
    "country = ['India','US','France','Germany','India']\n",
    "print(\"Intial order is :\",country)\n",
    "print(\"Reverse order is :\", country[::-1])"
   ]
  },
  {
   "cell_type": "code",
   "execution_count": 28,
   "id": "d8316cac-f631-4802-9643-19b0be7ca34d",
   "metadata": {},
   "outputs": [
    {
     "name": "stdout",
     "output_type": "stream",
     "text": [
      "Intial order is : ['India', 'US', 'France', 'Germany', 'India']\n",
      "Ascending order according to alphabetically is : ['France', 'Germany', 'India', 'India', 'US']\n"
     ]
    }
   ],
   "source": [
    "#11. Sort a list in ascending order.\n",
    "country = ['India','US','France','Germany','India']\n",
    "print(\"Intial order is :\",country)\n",
    "po = country.sort()\n",
    "print(\"Ascending order according to alphabetically is :\", country)"
   ]
  },
  {
   "cell_type": "code",
   "execution_count": 29,
   "id": "f63ae952-37c1-41e8-b14d-7be436c13522",
   "metadata": {},
   "outputs": [
    {
     "name": "stdout",
     "output_type": "stream",
     "text": [
      "Intial order is : ['India', 'US', 'France', 'Germany', 'India']\n",
      "Dscending order according to alphabetically is : ['US', 'India', 'India', 'Germany', 'France']\n"
     ]
    }
   ],
   "source": [
    "#12. Sort a list in descending order.\n",
    "country = ['India','US','France','Germany','India']\n",
    "print(\"Intial order is :\",country)\n",
    "po = country.sort()\n",
    "print(\"Dscending order according to alphabetically is :\", country[::-1])"
   ]
  },
  {
   "cell_type": "code",
   "execution_count": 24,
   "id": "bd59f7a1-3735-403c-b9c3-82e23e3c9775",
   "metadata": {},
   "outputs": [
    {
     "name": "stdout",
     "output_type": "stream",
     "text": [
      "[2, 4, 6, 8, 10, 12, 14, 16, 18, 20]\n"
     ]
    }
   ],
   "source": [
    "#13. Create a list of even numbers from 1 to 20.\n",
    "jhk = [0]*10\n",
    "j = 0\n",
    "for i in range(1,21):\n",
    "    if i%2 == 0:\n",
    "        jhk[j] = i\n",
    "        j = j+1\n",
    "    else:\n",
    "        pass\n",
    "print(jhk) \n",
    "\n",
    "    \n"
   ]
  },
  {
   "cell_type": "code",
   "execution_count": 25,
   "id": "073387c3-a800-4b81-a91a-f3a4206fc90a",
   "metadata": {},
   "outputs": [
    {
     "name": "stdout",
     "output_type": "stream",
     "text": [
      "[1, 3, 5, 7, 9, 11, 13, 15, 17, 19]\n"
     ]
    }
   ],
   "source": [
    "#14. Create a list of odd numbers from 1 to 20.\n",
    "jhk = [0]*10\n",
    "j = 0\n",
    "for i in range(1,21):\n",
    "    if i%2 == 0:\n",
    "        pass\n",
    "    else:\n",
    "        jhk[j] = i\n",
    "        j = j+1\n",
    "print(jhk) "
   ]
  },
  {
   "cell_type": "code",
   "execution_count": 35,
   "id": "176b9ba4-b209-454e-ad56-7e2eb4d4da92",
   "metadata": {},
   "outputs": [
    {
     "name": "stdout",
     "output_type": "stream",
     "text": [
      "Sum is : 60\n"
     ]
    }
   ],
   "source": [
    "#15. Find the sum of all elements in a list.\n",
    "cou = [10,20,30]\n",
    "print(\"Sum is :\",sum(cou))"
   ]
  },
  {
   "cell_type": "code",
   "execution_count": 37,
   "id": "093ddb64-0822-440a-b392-d5babd4870bb",
   "metadata": {},
   "outputs": [
    {
     "name": "stdout",
     "output_type": "stream",
     "text": [
      " maximum value in a lis is : 30\n"
     ]
    }
   ],
   "source": [
    "#16. Find the maximum value in a list.\n",
    "cou = [10,20,30]\n",
    "print(\" Maximum value in a lis is :\",max(cou))"
   ]
  },
  {
   "cell_type": "code",
   "execution_count": 38,
   "id": "1fb7908b-53bd-43c3-8582-be4c2a3a246e",
   "metadata": {},
   "outputs": [
    {
     "name": "stdout",
     "output_type": "stream",
     "text": [
      " Minimum value in a lis is : 10\n"
     ]
    }
   ],
   "source": [
    "#17. Find the minimum value in a list.\n",
    "cou = [10,20,30]\n",
    "print(\" Minimum value in a lis is :\",min(cou))"
   ]
  },
  {
   "cell_type": "code",
   "execution_count": 30,
   "id": "c0889ae9-3c31-4328-842d-3bb5ab8b0b41",
   "metadata": {},
   "outputs": [
    {
     "name": "stdout",
     "output_type": "stream",
     "text": [
      "[1, 4, 9, 16, 25, 36, 49, 64, 81, 100]\n"
     ]
    }
   ],
   "source": [
    "#18. Create a list of squares of numbers from 1 to 10.\n",
    "jhk = [0]*10\n",
    "j = 0\n",
    "for i in range(1,11):\n",
    "    jhk[i-1] = i*i\n",
    "print(jhk) \n"
   ]
  },
  {
   "cell_type": "code",
   "execution_count": 34,
   "id": "67ba2d6b-c265-44c2-95af-3c6be6823c80",
   "metadata": {},
   "outputs": [
    {
     "name": "stdout",
     "output_type": "stream",
     "text": [
      "[911, 329, 2, 543, 934, 338, 598, 228, 367, 282]\n"
     ]
    }
   ],
   "source": [
    "#19. Create a list of random numbers.\n",
    "import random\n",
    "jhk = [0]*10\n",
    "j = 0\n",
    "for i in range(1,11):\n",
    "    jhk[i-1] = random.randint(1,1000)\n",
    "print(jhk)\n"
   ]
  },
  {
   "cell_type": "code",
   "execution_count": 44,
   "id": "13f3db13-a0df-415a-8a17-dd4181ca55fe",
   "metadata": {},
   "outputs": [
    {
     "name": "stdout",
     "output_type": "stream",
     "text": [
      "Before removing duplicate : [10, 20, 30, 40, 10, 20, 20, 30, 60, 50]\n",
      "After removing duplicate : [40, 10, 50, 20, 60, 30]\n"
     ]
    }
   ],
   "source": [
    "#20. Remove duplicates from a list.\n",
    "cou = [10,20,30,40,10,20,20,30,60,50]\n",
    "print(\"Before removing duplicate :\", cou)\n",
    "te = set(cou)\n",
    "print(\"After removing duplicate :\", list(te))"
   ]
  },
  {
   "cell_type": "code",
   "execution_count": 48,
   "id": "a44cae04-4303-4a9e-b1c2-fea0a8a90ac7",
   "metadata": {},
   "outputs": [
    {
     "name": "stdout",
     "output_type": "stream",
     "text": [
      "Two list are : [10, 20, 30, 80, 49] [10, 20, 60, 80, 49, 56, 78]\n",
      "The common elements between two lists [80, 49, 10, 20]\n"
     ]
    }
   ],
   "source": [
    "#21. Find the common elements between two lists.\n",
    "cou = [10,20,30,80,49]\n",
    "poi = [10,20,60,80,49,56,78]\n",
    "print(\"Two list are :\",cou,poi)\n",
    "kl = set(cou)\n",
    "ds = set(poi)\n",
    "print(\"The common elements between two lists\",list(kl.intersection(ds)))"
   ]
  },
  {
   "cell_type": "code",
   "execution_count": 20,
   "id": "340a65f9-323a-42e2-b593-9585bb182e5f",
   "metadata": {},
   "outputs": [
    {
     "name": "stdout",
     "output_type": "stream",
     "text": [
      "Two list are : [10, 20, 30, 80, 49] [10, 20, 60, 80, 49, 56, 78]\n",
      "The the different elements between two lists [56, 78, 60, 30]\n"
     ]
    }
   ],
   "source": [
    "#22. Find the difference between two lists.\n",
    "cou = [10,20,30,80,49]\n",
    "poi = [10,20,60,80,49,56,78]\n",
    "print(\"Two list are :\",cou,poi)\n",
    "kl = set(cou)\n",
    "ds = set(poi)\n",
    "jp = kl.difference(ds)\n",
    "we = ds.difference(kl)\n",
    "#taking differnt element from kl with respect to ds,and vice versa .After taking union of 'jp'and 'we' set holding difference value\n",
    "print(\"The the different elements between two lists\",list(jp.union(we)))"
   ]
  },
  {
   "cell_type": "code",
   "execution_count": 52,
   "id": "ef156791-6c97-4cac-913d-f215b1b4c646",
   "metadata": {},
   "outputs": [
    {
     "name": "stdout",
     "output_type": "stream",
     "text": [
      "Two list merge elements [10, 78, 80, 49, 20, 56, 60, 30]\n"
     ]
    }
   ],
   "source": [
    "#23. Merge two lists.\n",
    "cou = [10,20,30,80,49]\n",
    "poi = [10,20,60,80,49,56,78]\n",
    "kl = set(cou)\n",
    "ds = set(poi)\n",
    "print(\"Two list merge elements\",list(kl.union(ds)))"
   ]
  },
  {
   "cell_type": "code",
   "execution_count": 53,
   "id": "09df8c33-0cf8-494c-9427-047697c0388f",
   "metadata": {},
   "outputs": [
    {
     "name": "stdout",
     "output_type": "stream",
     "text": [
      "Multiply all elements in a list by 2 is : [10, 20, 60, 80, 49, 56, 78, 10, 20, 60, 80, 49, 56, 78]\n"
     ]
    }
   ],
   "source": [
    "#24. Multiply all elements in a list by 2.\n",
    "poi = [10,20,60,80,49,56,78]\n",
    "print(\"Multiply all elements in a list by 2 is :\",poi*2)"
   ]
  },
  {
   "cell_type": "code",
   "execution_count": 13,
   "id": "318c4f87-4183-45f8-ba46-cb91a611c47b",
   "metadata": {},
   "outputs": [
    {
     "name": "stdout",
     "output_type": "stream",
     "text": [
      "2 4 6 78 54 26 "
     ]
    }
   ],
   "source": [
    "#25. Filter out all even numbers from a list.\n",
    "ihu = [1,2,3,4,5,6,78,1,31,54,26,95]\n",
    "for i in ihu:\n",
    "    if i%2 == 0:\n",
    "        print(i,end =' ')\n"
   ]
  },
  {
   "cell_type": "code",
   "execution_count": 4,
   "id": "279f208d-f32f-4df9-abb1-feead121bfc0",
   "metadata": {},
   "outputs": [
    {
     "data": {
      "text/plain": [
       "[10, 20, 60, 80, 49, 56, 78]"
      ]
     },
     "execution_count": 4,
     "metadata": {},
     "output_type": "execute_result"
    }
   ],
   "source": [
    "#26. Convert a list of strings to a list of integers\n",
    "huy = ['10', '20', '60', '80', '49', '56', '78']\n",
    "kle = []\n",
    "for i in huy:\n",
    "    kle.append(int(i)) \n",
    "kle  \n"
   ]
  },
  {
   "cell_type": "code",
   "execution_count": 3,
   "id": "a393d0ad-e5a1-43f4-8d52-43f795287724",
   "metadata": {},
   "outputs": [
    {
     "data": {
      "text/plain": [
       "['10', '20', '60', '80', '49', '56', '78']"
      ]
     },
     "execution_count": 3,
     "metadata": {},
     "output_type": "execute_result"
    }
   ],
   "source": [
    "#27. Convert a list of integers to a list of strings.\n",
    "poi = [10,20,60,80,49,56,78]\n",
    "kle = []\n",
    "for i in poi:\n",
    "    kle.append(str(i)) \n",
    "kle    "
   ]
  },
  {
   "cell_type": "code",
   "execution_count": 15,
   "id": "eab37b48-7c94-4ef5-a828-c65acc02b490",
   "metadata": {},
   "outputs": [
    {
     "name": "stdout",
     "output_type": "stream",
     "text": [
      "Flatten list :  [10, 20, 60, 80, 49, 56, 78]\n"
     ]
    }
   ],
   "source": [
    "#28. Flatten a nested list.\n",
    "poi = [[10,20],60,[80,49],56,78]\n",
    "jh = []\n",
    "for i in poi:\n",
    "    if isinstance(i, list):\n",
    "         for t in i:\n",
    "            jh.append(t)\n",
    "    else:\n",
    "        jh.append(i)\n",
    "print(\"Flatten list : \",jh)      "
   ]
  },
  {
   "cell_type": "code",
   "execution_count": 62,
   "id": "3a4519f7-76e0-4e3f-879e-28ce77dee615",
   "metadata": {},
   "outputs": [
    {
     "name": "stdout",
     "output_type": "stream",
     "text": [
      "[0, 1, 1, 2, 3, 5, 8, 13, 21, 0]\n"
     ]
    }
   ],
   "source": [
    "#29. Create a list of the first 10 Fibonacci numbers.\n",
    "jhk = [0]*10\n",
    "jhk[0] = 0\n",
    "jhk[1] = 1\n",
    "#first initalize two number\n",
    "for i in range(2,9):\n",
    "    jhk[i] = jhk[i-1] + jhk[i-2]\n",
    "print(jhk)\n"
   ]
  },
  {
   "cell_type": "code",
   "execution_count": 27,
   "id": "a8153adf-000c-4ce0-b0eb-2f7435d8563d",
   "metadata": {},
   "outputs": [
    {
     "name": "stdout",
     "output_type": "stream",
     "text": [
      "List is not sorted\n"
     ]
    }
   ],
   "source": [
    "#30. Check if a list is sorted.\n",
    "poi = [10,20,60,80,49,56,78]\n",
    "tre = poi.sort()\n",
    "if poi == tre:\n",
    "    print(\"List is sorted\")\n",
    "else:\n",
    "    print(\"List is not sorted\")"
   ]
  },
  {
   "cell_type": "code",
   "execution_count": 6,
   "id": "0bc05fc7-bff2-4b3c-8fbf-39cd2816a4aa",
   "metadata": {},
   "outputs": [
    {
     "name": "stdout",
     "output_type": "stream",
     "text": [
      "List is : [10, 20, 60, 80, 49, 56, 78]\n",
      "Enter the number upto : 7  to rotate the list to the left\n"
     ]
    },
    {
     "name": "stdin",
     "output_type": "stream",
     "text": [
      " 2\n"
     ]
    },
    {
     "name": "stdout",
     "output_type": "stream",
     "text": [
      "List after rotation to the left is : [60, 80, 49, 56, 78, 10, 20]\n"
     ]
    }
   ],
   "source": [
    "#31. Rotate a list to the left by `n` positions.\n",
    "poi = [10,20,60,80,49,56,78]\n",
    "print(\"List is :\",poi)\n",
    "print(\"Enter the number upto :\",len(poi), \" to rotate the list to the left\")\n",
    "a = int(input())\n",
    "if a <=7:\n",
    "    yui = poi[0:a:]\n",
    "    iop = poi[a:(len(poi)+1):]\n",
    "    iop = iop+yui\n",
    "    print(\"List after rotation to the left is :\",iop)\n",
    "    \n",
    "else:\n",
    "    print(\"Number is greater than :\", len(poi))\n",
    "    "
   ]
  },
  {
   "cell_type": "code",
   "execution_count": 7,
   "id": "c70615d4-2f20-448a-b378-f282eef9f8ee",
   "metadata": {},
   "outputs": [
    {
     "name": "stdout",
     "output_type": "stream",
     "text": [
      "List is : [10, 20, 60, 80, 49, 56, 78]\n",
      "Enter the number upto : 7  to rotate the list to the left\n"
     ]
    },
    {
     "name": "stdin",
     "output_type": "stream",
     "text": [
      " 5\n"
     ]
    },
    {
     "name": "stdout",
     "output_type": "stream",
     "text": [
      "List after rotation to the right is : [60, 80, 49, 56, 78, 10, 20]\n"
     ]
    }
   ],
   "source": [
    "#32. Rotate a list to the right by `n` positions.\n",
    "poi = [10,20,60,80,49,56,78]\n",
    "print(\"List is :\",poi)\n",
    "print(\"Enter the number upto :\",len(poi), \" to rotate the list to the left\")\n",
    "a = int(input())\n",
    "if a <=7:\n",
    "    a = len(poi) - a\n",
    "    yui = poi[0:a:]\n",
    "    iop = poi[a:(len(poi)+1):]\n",
    "    iop = iop+yui\n",
    "    print(\"List after rotation to the right is :\",iop)\n",
    "    \n",
    "else:\n",
    "    print(\"Number is greater than :\",len(poi))"
   ]
  },
  {
   "cell_type": "code",
   "execution_count": 4,
   "id": "50587dca-54a1-4ae6-a5e4-ba0390607639",
   "metadata": {},
   "outputs": [
    {
     "name": "stdin",
     "output_type": "stream",
     "text": [
      "Enter a number to print prime number upto range : 50\n"
     ]
    },
    {
     "name": "stdout",
     "output_type": "stream",
     "text": [
      " prime number are : Prime number list : [2, 3, 5, 7, 11, 13, 17, 19, 23, 29, 31, 37, 41, 43, 47]\n"
     ]
    }
   ],
   "source": [
    "#33. Create a list of prime numbers up to 50.\n",
    "from math import sqrt\n",
    "y = []\n",
    "wq =[2,3,4,5,6,7,8,9]\n",
    "rty = int(input(\"Enter a number to print prime number upto range :\"))\n",
    "print(\" prime number are :\",end = \" \")\n",
    "def pt(r):\n",
    "    count = 0\n",
    "    if r < 4 or r == 5 or r == 7:\n",
    "        pass\n",
    "    else:\n",
    "        if (round(sqrt(r),1)*round(sqrt(r),1)) == r:\n",
    "            count = 1\n",
    "        else:\n",
    "            for lo in wq:\n",
    "                if r%lo == 0:\n",
    "                    count = 1\n",
    "                    break\n",
    "    return count\n",
    "for i in range(2,rty+1):\n",
    "    if pt(i) == 0:\n",
    "        y.append(i)\n",
    "print(\"Prime number list :\",y)        "
   ]
  },
  {
   "cell_type": "code",
   "execution_count": 47,
   "id": "17dbb736-aaaf-476f-ab39-7023e3bf8fb5",
   "metadata": {},
   "outputs": [
    {
     "name": "stdout",
     "output_type": "stream",
     "text": [
      "List is : [10, 20, 60, 80, 49, 56, 78]\n",
      "Enter the number upto : 7 to split the list\n"
     ]
    },
    {
     "name": "stdin",
     "output_type": "stream",
     "text": [
      " 2\n"
     ]
    },
    {
     "name": "stdout",
     "output_type": "stream",
     "text": [
      "Split list : [10, 20] [60, 80, 49, 56, 78]\n"
     ]
    }
   ],
   "source": [
    "#34. Split a list into chunks of size `n`.\n",
    "poi = [10,20,60,80,49,56,78]\n",
    "print(\"List is :\",poi)\n",
    "print(\"Enter the number upto :\",len(poi),\"to split the list\")\n",
    "a = int(input())\n",
    "if a <=7:\n",
    "    yui = poi[0:a:]\n",
    "    iop = poi[a:(len(poi)+1):]\n",
    "    print(\"Split list :\",yui,iop)\n",
    "    \n",
    "else:\n",
    "    print(\"Number is greater than :\",len(poi))"
   ]
  },
  {
   "cell_type": "code",
   "execution_count": 55,
   "id": "c82a4546-7c5a-4a08-801e-3487574ff9cf",
   "metadata": {},
   "outputs": [
    {
     "name": "stdout",
     "output_type": "stream",
     "text": [
      "List is : [10, 20, 60, 80, 49, 56, 78]\n",
      "Second largest number is : 78\n"
     ]
    }
   ],
   "source": [
    "#35. Find the second largest number in a list.\n",
    "poi = [10,20,60,80,49,56,78]\n",
    "print(\"List is :\",poi)\n",
    "poi.sort()\n",
    "print(\"Second largest number is :\",poi[-2])"
   ]
  },
  {
   "cell_type": "code",
   "execution_count": 36,
   "id": "ce75122a-abd4-4e0c-9994-0b3b399b1388",
   "metadata": {},
   "outputs": [
    {
     "name": "stdout",
     "output_type": "stream",
     "text": [
      "1 4 9 16 25 36 "
     ]
    }
   ],
   "source": [
    "#36. Replace every element in a list with its square.\n",
    "jkl = [1,2,3,4,5,6]\n",
    "for i in jkl:\n",
    "    print(i*i,end = \" \")\n"
   ]
  },
  {
   "cell_type": "code",
   "execution_count": 8,
   "id": "4034e6b1-d4c6-4f4d-8134-b755f978f9f4",
   "metadata": {},
   "outputs": [
    {
     "name": "stdout",
     "output_type": "stream",
     "text": [
      "{0: 'India', 1: 'US', 2: 'France', 3: 'Germany'}\n"
     ]
    }
   ],
   "source": [
    "#37. Convert a list to a dictionary where list elements become keys and their indices become values.\n",
    "fgh = ['India','US','France','Germany']\n",
    "iuy = {}\n",
    "for index, element in enumerate(fgh):\n",
    "    iuy[index] = element\n",
    "\n",
    "print(iuy)\n"
   ]
  },
  {
   "cell_type": "code",
   "execution_count": 60,
   "id": "826bc85b-567d-4f87-baf8-d5768986d138",
   "metadata": {},
   "outputs": [
    {
     "name": "stdout",
     "output_type": "stream",
     "text": [
      "List is : [10, 20, 49, 56, 60, 78, 80]\n",
      "After shuffle : [80, 20, 78, 49, 10, 56, 60]\n"
     ]
    }
   ],
   "source": [
    "#38. Shuffle the elements of a list randomly.\n",
    "import random\n",
    "poi = [10,20,60,80,49,56,78]\n",
    "poi.sort()\n",
    "print(\"List is :\",poi)\n",
    "random.shuffle(poi)\n",
    "print(\"After shuffle :\",poi)"
   ]
  },
  {
   "cell_type": "code",
   "execution_count": 11,
   "id": "4b947a1c-3b27-4372-af13-3a08b64b4668",
   "metadata": {},
   "outputs": [
    {
     "name": "stdout",
     "output_type": "stream",
     "text": [
      "[1, 2, 6, 24, 120, 720, 5040, 40320, 362880, 3628800]\n"
     ]
    }
   ],
   "source": [
    "#39. Create a list of the first 10 factorial numbers.\n",
    "jo = []\n",
    "p = 1\n",
    "for i in range(1,11):\n",
    "    if i > 1:\n",
    "        while i > 0:\n",
    "            p = p*i\n",
    "            i = i-1\n",
    "        jo.append(p)\n",
    "        \n",
    "    else:\n",
    "        jo.append(i)\n",
    "    p = 1    \n",
    "print(jo)"
   ]
  },
  {
   "cell_type": "code",
   "execution_count": 65,
   "id": "988d0aae-655c-4f60-87ba-14dfb1c94d4d",
   "metadata": {},
   "outputs": [
    {
     "name": "stdout",
     "output_type": "stream",
     "text": [
      "Yes in two lists have at least one element in common\n"
     ]
    }
   ],
   "source": [
    "#40. Check if two lists have at least one element in common.\n",
    "cou = [10,20,30,80,49]\n",
    "poi = [10,20,60,80,49,56,78]\n",
    "kl = set(cou)\n",
    "ds = set(poi)\n",
    "trew == bool(kl.intersection(ds))\n",
    "if trew == 0:\n",
    "    print(\"There is no element in common\")\n",
    "else:\n",
    "    print(\"Yes in two lists have at least one element in common\")"
   ]
  },
  {
   "cell_type": "code",
   "execution_count": 67,
   "id": "5b543989-1a4c-48f9-8a32-a86842a13ded",
   "metadata": {},
   "outputs": [
    {
     "name": "stdout",
     "output_type": "stream",
     "text": [
      "List is : [10, 20, 60, 80, 49, 56, 78]\n",
      "After removing all elements from a list : []\n"
     ]
    }
   ],
   "source": [
    "#41. Remove all elements from a list.\n",
    "poi = [10,20,60,80,49,56,78]\n",
    "print(\"List is :\",poi)\n",
    "poi.clear()\n",
    "print(\"After removing all elements from a list :\", poi)\n"
   ]
  },
  {
   "cell_type": "code",
   "execution_count": 72,
   "id": "80fe63a3-8aa4-41bb-99f4-f501ca21a275",
   "metadata": {},
   "outputs": [
    {
     "name": "stdout",
     "output_type": "stream",
     "text": [
      "[1, 2, 3, 0, 5, 0, 0, 0, 0]\n"
     ]
    }
   ],
   "source": [
    "#42. Replace negative numbers in a list with 0.\n",
    "gh = [1,2,3,-4,5,-6,-7,-8,-9]\n",
    "for i in range(1,10):\n",
    "    if gh[i-1] <= -1:\n",
    "        gh[i-1] = 0\n",
    "    else:\n",
    "        pass\n",
    "print(gh)  "
   ]
  },
  {
   "cell_type": "code",
   "execution_count": 71,
   "id": "2fb230bd-fec2-4956-bc31-87d8f8c8da87",
   "metadata": {},
   "outputs": [
    {
     "name": "stdout",
     "output_type": "stream",
     "text": [
      "String is : Hello world\n",
      "String into list of words : ['Hello', 'world']\n"
     ]
    }
   ],
   "source": [
    "#43. Convert a string into a list of words.\n",
    "kl = \"Hello world\"\n",
    "print(\"String is :\",kl)\n",
    "print(\"String into list of words :\",kl.split())"
   ]
  },
  {
   "cell_type": "code",
   "execution_count": 73,
   "id": "268ef33c-9a4e-4030-8855-11a7f2b97ffd",
   "metadata": {},
   "outputs": [
    {
     "name": "stdout",
     "output_type": "stream",
     "text": [
      "List of word is : ['Hello', 'world']\n",
      "String is : Hello world\n"
     ]
    }
   ],
   "source": [
    "#44. Convert a list of words into a string.\n",
    "f = ['Hello', 'world']\n",
    "print(\"List of word is :\",f)\n",
    "print(\"String is :\",' '.join(f))"
   ]
  },
  {
   "cell_type": "code",
   "execution_count": 79,
   "id": "11bf4f0f-65b0-42d5-926f-09373691f99f",
   "metadata": {},
   "outputs": [
    {
     "name": "stdout",
     "output_type": "stream",
     "text": [
      "list before [1, 2, 3, 4, 5, 6, 7, 8, 9, 45, 56]\n",
      "list after the first 5 number are  powers of 2. [2, 4, 8, 16, 32, 6, 7, 8, 9, 45, 56]\n"
     ]
    }
   ],
   "source": [
    "#45. Create a list of the first `n` powers of 2.\n",
    "#for first 5 number \n",
    "gh = [1,2,3,4,5,6,7,8,9,45,56]\n",
    "print(\"list before\",gh)\n",
    "for i in range(1,6):\n",
    "    gh[i-1] = 2**gh[i-1]\n",
    "print(\"list after the first 5 number are  powers of 2.\" ,gh)\n",
    "\n",
    "      \n"
   ]
  },
  {
   "cell_type": "code",
   "execution_count": 13,
   "id": "a8512231-1874-47e6-bcfb-3319146033ec",
   "metadata": {},
   "outputs": [
    {
     "name": "stdout",
     "output_type": "stream",
     "text": [
      "largest word in the list is : kjduhy\n"
     ]
    }
   ],
   "source": [
    "#46. Find the longest string in a list of strings.\n",
    "yu = yu = ['kjduhy', 'jieui' ,'iu']\n",
    "py = len(yu[0])\n",
    "okl = yu[0]\n",
    "for i in range(1,3):\n",
    "    if len(yu[i]) > py:\n",
    "        py = len(yu[i])\n",
    "        okl = yu[i]\n",
    "print(\"largest word in the list is :\",okl)\n"
   ]
  },
  {
   "cell_type": "code",
   "execution_count": 30,
   "id": "1a500123-18ce-4b13-9683-a6012d4bb022",
   "metadata": {},
   "outputs": [
    {
     "name": "stdout",
     "output_type": "stream",
     "text": [
      "largest word in the list is : iu\n"
     ]
    }
   ],
   "source": [
    "#47. Find the shortest string in a list of strings.\n",
    "yu = ['kjduhy', 'jieui' ,'iu']\n",
    "py = len(yu[0])\n",
    "okl = yu[0]\n",
    "for i in range(1,3):\n",
    "    if len(yu[i]) < py:\n",
    "        py = len(yu[i])\n",
    "        okl = yu[i]\n",
    "print(\"largest word in the list is :\",okl)"
   ]
  },
  {
   "cell_type": "code",
   "execution_count": 27,
   "id": "11104615-d32c-4e94-80ee-870c4304196d",
   "metadata": {},
   "outputs": [
    {
     "name": "stdin",
     "output_type": "stream",
     "text": [
      "Enter the number to Create a list of the first `n` triangular numbers : 5\n"
     ]
    },
    {
     "name": "stdout",
     "output_type": "stream",
     "text": [
      "[1, 3, 6, 10, 15]\n"
     ]
    }
   ],
   "source": [
    "#48. Create a list of the first `n` triangular numbers\n",
    "ytr = []\n",
    "o = 0\n",
    "io = int(input(\"Enter the number to Create a list of the first `n` triangular numbers :\"))\n",
    "for i in range(1,io+1):\n",
    "        while i > 0:\n",
    "            o = o+i\n",
    "            i = i-1\n",
    "        ytr.append(o)\n",
    "        o = 0\n",
    "print(ytr)\n",
    "    "
   ]
  },
  {
   "cell_type": "code",
   "execution_count": 27,
   "id": "803c6f78-3724-47a9-82e6-cd2fc3ddc9d6",
   "metadata": {},
   "outputs": [
    {
     "name": "stdout",
     "output_type": "stream",
     "text": [
      "list contains another list as a subsequence.\n"
     ]
    }
   ],
   "source": [
    "#49. Check if a list contains another list as a subsequence.\n",
    "country = ['India','US','France','Germany','Sri Lanka']\n",
    "jhu = []\n",
    "gh = ['India','Germany','Sri Lanka']\n",
    "count = 0\n",
    "ji = len(country)\n",
    "for i in gh:\n",
    "    for kl in range(0,ji):\n",
    "        if country[kl] == i:\n",
    "            count = kl\n",
    "            jhu.append(count)\n",
    "            exit\n",
    "ui = jhu.sort()\n",
    "if ui == jhu:\n",
    "    print(\"list contains another list as a subsequence.\")\n",
    "else:\n",
    "    print(\"list contains another list as a subsequence.\")\n",
    "            "
   ]
  },
  {
   "cell_type": "code",
   "execution_count": 79,
   "id": "07577355-628b-406f-9694-f44e063e3241",
   "metadata": {},
   "outputs": [],
   "source": [
    "#50. Swap two elements in a list by their indices.\n",
    "country = ['India','US','France','Germany']\n",
    "u = country[0]\n",
    "k = country[3]\n",
    "poi = set(country)\n",
    "poi."
   ]
  },
  {
   "cell_type": "code",
   "execution_count": null,
   "id": "c66bd5d0-ffd0-45b8-a805-0a4bc18ad8b4",
   "metadata": {},
   "outputs": [],
   "source": [
    "Tuple based practice problem :"
   ]
  },
  {
   "cell_type": "code",
   "execution_count": 30,
   "id": "d7d1e338-d67c-4116-85ba-132f82ea4f7c",
   "metadata": {},
   "outputs": [
    {
     "name": "stdout",
     "output_type": "stream",
     "text": [
      "A tuple with integers from 1 to 5 : (1, 2, 3, 4, 5)\n"
     ]
    }
   ],
   "source": [
    "#1. Create a tuple with integers from 1 to 5.\n",
    "cf = []\n",
    "i = 0\n",
    "while i < 5:\n",
    "    cf.append(i+1)\n",
    "    i += 1\n",
    "ji = tuple(cf)\n",
    "print(\"A tuple with integers from 1 to 5 :\",ji)"
   ]
  },
  {
   "cell_type": "code",
   "execution_count": 24,
   "id": "33fd15a2-bc2f-4ef2-a94a-61b75b50cad7",
   "metadata": {},
   "outputs": [
    {
     "name": "stdout",
     "output_type": "stream",
     "text": [
      "The third element of a tuple : 6\n"
     ]
    }
   ],
   "source": [
    "#2. Access the third element of a tuple.\n",
    "hu = (1, 2, 6, 4, 5)\n",
    "print(\"The third element of a tuple :\",hu[2])"
   ]
  },
  {
   "cell_type": "code",
   "execution_count": 25,
   "id": "85d2dd54-2785-482c-a8f2-b288c61b2014",
   "metadata": {},
   "outputs": [
    {
     "name": "stdout",
     "output_type": "stream",
     "text": [
      "Length of tuple is : 7\n"
     ]
    }
   ],
   "source": [
    "#3. Find the length of a tuple without using the `len()` function.\n",
    "hu = (1,2,6,8,9,4,5)\n",
    "count = 0\n",
    "for i in hu:\n",
    "    count += 1\n",
    "print(\"Length of tuple is :\",count)"
   ]
  },
  {
   "cell_type": "code",
   "execution_count": 30,
   "id": "270ccc48-1746-4615-b26e-bd6c452b8e4c",
   "metadata": {},
   "outputs": [
    {
     "name": "stdout",
     "output_type": "stream",
     "text": [
      "Tuple is : ('India', 'US', 'France', 'Germany', 'India')\n",
      "The occurrences of word \"India\" is :  2\n"
     ]
    }
   ],
   "source": [
    "#4.Count the occurrences of an element in a tuple.\n",
    "pl = ('India','US','France','Germany','India')\n",
    "print(\"Tuple is :\",pl)\n",
    "ch = pl.count('India')\n",
    "print('The occurrences of word \"India\" is : ',ch)"
   ]
  },
  {
   "cell_type": "code",
   "execution_count": 31,
   "id": "4d1fbb81-2b66-444a-bb05-2a76cf11810e",
   "metadata": {},
   "outputs": [
    {
     "name": "stdout",
     "output_type": "stream",
     "text": [
      "Tuple is : ('India', 'US', 'France', 'Germany', 'India')\n",
      "The index of first occurrences of word \"India\" is :  0\n"
     ]
    }
   ],
   "source": [
    "#5. Find the index of the first occurrence of an element in a tuple.\n",
    "pl = ('India','US','France','Germany','India')\n",
    "print(\"Tuple is :\",pl)\n",
    "ch = pl.index('India')\n",
    "print('The index of first occurrences of word \"India\" is : ',ch)"
   ]
  },
  {
   "cell_type": "code",
   "execution_count": 34,
   "id": "30b3a091-72de-4c41-925c-741398a43b5e",
   "metadata": {},
   "outputs": [
    {
     "name": "stdout",
     "output_type": "stream",
     "text": [
      "Tuple is : ('India', 'US', 'France', 'Germany', 'India')\n",
      "Yes element is present in tuple.\n"
     ]
    }
   ],
   "source": [
    "#6. Check if an element exists in a tuple.\n",
    "pl = ('India','US','France','Germany','India')\n",
    "print(\"Tuple is :\",pl)\n",
    "ch = pl.count('India')\n",
    "if ch > 0:\n",
    "    print(\"Yes element is present in tuple.\")\n",
    "else:\n",
    "    print(\"No element is not present in tuple.\")\n",
    "    \n"
   ]
  },
  {
   "cell_type": "code",
   "execution_count": 35,
   "id": "775d805b-d2a0-4646-bd80-c84aa19d57a5",
   "metadata": {},
   "outputs": [
    {
     "name": "stdout",
     "output_type": "stream",
     "text": [
      "Tuple is : ('India', 'US', 'France', 'Germany', 'India')\n",
      "After converting into list : ['India', 'US', 'France', 'Germany', 'India']\n"
     ]
    }
   ],
   "source": [
    "#7. Convert a tuple to a list.\n",
    "pl = ('India','US','France','Germany','India')\n",
    "print(\"Tuple is :\",pl)\n",
    "pl = list(pl)\n",
    "print(\"After converting into list :\",pl)"
   ]
  },
  {
   "cell_type": "code",
   "execution_count": 36,
   "id": "028dbb63-67ac-4237-9f87-f8ab2ab89858",
   "metadata": {},
   "outputs": [
    {
     "name": "stdout",
     "output_type": "stream",
     "text": [
      "List is : ['India', 'US', 'France', 'Germany', 'India']\n",
      "After converting into tuple : ('India', 'US', 'France', 'Germany', 'India')\n"
     ]
    }
   ],
   "source": [
    "#8. Convert a list to a tuple.\n",
    "pl = ['India', 'US', 'France', 'Germany', 'India']\n",
    "print(\"List is :\",pl)\n",
    "pl = tuple(pl)\n",
    "print(\"After converting into tuple :\",pl)"
   ]
  },
  {
   "cell_type": "code",
   "execution_count": 38,
   "id": "cb9eb3b1-c9dd-4752-a72d-5c64fec8b756",
   "metadata": {},
   "outputs": [
    {
     "name": "stdout",
     "output_type": "stream",
     "text": [
      "Tuple is : ('India', 'US', 'France', 'Germany', 'India')\n",
      "Value  1 India\n",
      "Value  2 US\n",
      "Value  3 France\n",
      "Value  4 Germany\n",
      "Value  5 India\n"
     ]
    }
   ],
   "source": [
    "#9. Unpack the elements of a tuple into variables.\n",
    "pl = ('India','US','France','Germany','India')\n",
    "print(\"Tuple is :\",pl)\n",
    "count = 1\n",
    "for i in pl:\n",
    "    print(\"Value \",count,i)\n",
    "    count += 1"
   ]
  },
  {
   "cell_type": "code",
   "execution_count": 39,
   "id": "a183ee16-448b-4095-b473-0bf9db6be5e7",
   "metadata": {},
   "outputs": [
    {
     "name": "stdout",
     "output_type": "stream",
     "text": [
      "tuple of even numbers from 1 to 10 is :  (2, 4, 6, 8, 10)\n"
     ]
    }
   ],
   "source": [
    "#10. Create a tuple of even numbers from 1 to 10.\n",
    "ui = (1,2,3,4,5,6,7,8,9,10)\n",
    "ui = list(ui)\n",
    "po = []\n",
    "for i in ui:\n",
    "    if i%2 == 0:\n",
    "        po.append(i)\n",
    "print(\"tuple of even numbers from 1 to 10 is : \",tuple(po))        "
   ]
  },
  {
   "cell_type": "code",
   "execution_count": 40,
   "id": "6aae5094-5ede-4e2a-9d5d-d97f0aff94d8",
   "metadata": {},
   "outputs": [
    {
     "name": "stdout",
     "output_type": "stream",
     "text": [
      "tuple of odd numbers from 1 to 10 is :  (1, 3, 5, 7, 9)\n"
     ]
    }
   ],
   "source": [
    "#11. Create a tuple of odd numbers from 1 to 10.\n",
    "ui = (1,2,3,4,5,6,7,8,9,10)\n",
    "ui = list(ui)\n",
    "po = []\n",
    "for i in ui:\n",
    "    if i%2 != 0:\n",
    "        po.append(i)\n",
    "print(\"tuple of odd numbers from 1 to 10 is : \",tuple(po)) "
   ]
  },
  {
   "cell_type": "code",
   "execution_count": 41,
   "id": "c0c9a9ce-61fd-45e4-9ee1-0aaf07a826a0",
   "metadata": {},
   "outputs": [
    {
     "name": "stdout",
     "output_type": "stream",
     "text": [
      "Tuple 1 is : (1, 2, 3, 4, 5, 6, 7, 8, 9, 10)\n",
      "Tuple 2 is : (12, 13, 14, 45)\n",
      "After concatenate two tuples : (1, 2, 3, 4, 5, 6, 7, 8, 9, 10, 12, 45, 13, 14)\n"
     ]
    }
   ],
   "source": [
    "#12. Concatenate two tuples.\n",
    "ui = (1,2,3,4,5,6,7,8,9,10)\n",
    "lo = (12,13,14,45)\n",
    "print(\"Tuple 1 is :\",ui)\n",
    "print(\"Tuple 2 is :\",lo)\n",
    "ui = set(ui)\n",
    "lo = set(lo)\n",
    "pi = ui.union(lo)\n",
    "pi = tuple(pi)\n",
    "print(\"After concatenate two tuples :\",pi)\n"
   ]
  },
  {
   "cell_type": "code",
   "execution_count": 43,
   "id": "f5c01654-fb4e-4471-a7bc-93cdae91db61",
   "metadata": {},
   "outputs": [
    {
     "name": "stdout",
     "output_type": "stream",
     "text": [
      "Tuple  is : (12, 13, 14, 45)\n",
      "After repeat a tuple three times : (12, 13, 14, 45, 12, 13, 14, 45, 12, 13, 14, 45)\n"
     ]
    }
   ],
   "source": [
    "#13. Repeat a tuple three times.\n",
    "lo = (12,13,14,45)\n",
    "print(\"Tuple  is :\",lo)\n",
    "print(\"After repeat a tuple three times :\",lo*3)"
   ]
  },
  {
   "cell_type": "code",
   "execution_count": 45,
   "id": "b69705f9-fe03-4a63-a9bc-e281440b9946",
   "metadata": {},
   "outputs": [
    {
     "name": "stdout",
     "output_type": "stream",
     "text": [
      "Tuple 1 is : (12, 13, 14, 45)\n",
      "Tuple 2 is : ()\n",
      "Tuple 1 is not empty\n",
      "Tuple 2 is empty\n"
     ]
    }
   ],
   "source": [
    "#14. Check if a tuple is empty.\n",
    "lo = (12,13,14,45)\n",
    "po = ()\n",
    "print(\"Tuple 1 is :\",lo)\n",
    "print(\"Tuple 2 is :\",po)\n",
    "if len(lo) == 0:\n",
    "    print(\"Tuple 1 is empty\")\n",
    "else:\n",
    "    print(\"Tuple 1 is not empty\")\n",
    "if len(po) == 0:\n",
    "    print(\"Tuple 2 is empty\")\n",
    "else:\n",
    "    print(\"Tuple 12 is not empty\")    \n",
    "    \n",
    "    "
   ]
  },
  {
   "cell_type": "code",
   "execution_count": 47,
   "id": "c2d1072a-9ce0-4baa-8ba8-a822aa33bf91",
   "metadata": {},
   "outputs": [
    {
     "name": "stdout",
     "output_type": "stream",
     "text": [
      "Nested tuple is : (('o', 'p'), ('k', 'l'))\n"
     ]
    }
   ],
   "source": [
    "#15. Create a nested tuple.\n",
    "lk = (('o','p'),('k','l'))\n",
    "print(\"Nested tuple is :\",lk)"
   ]
  },
  {
   "cell_type": "code",
   "execution_count": 48,
   "id": "0d24d19a-f896-4cb0-a5fd-0515e5818b31",
   "metadata": {},
   "outputs": [
    {
     "name": "stdout",
     "output_type": "stream",
     "text": [
      "First element of nested tuple is : ('o', 'p')\n"
     ]
    }
   ],
   "source": [
    "#16. Access the first element of a nested tuple.\n",
    "lk = (('o','p'),('k','l'))\n",
    "print(\"First element of nested tuple is :\",lk[0])"
   ]
  },
  {
   "cell_type": "code",
   "execution_count": 50,
   "id": "ce1b7b0c-8c90-42ff-bc80-b59b5dde2a52",
   "metadata": {},
   "outputs": [
    {
     "name": "stdout",
     "output_type": "stream",
     "text": [
      "Tuple now : ()\n"
     ]
    },
    {
     "name": "stdin",
     "output_type": "stream",
     "text": [
      "Enter a string as input a single element in tuple: kl\n"
     ]
    },
    {
     "name": "stdout",
     "output_type": "stream",
     "text": [
      "Now tuple is : ('kl',)\n"
     ]
    }
   ],
   "source": [
    "#17. Create a tuple with a single element.\n",
    "kl = ()\n",
    "print(\"Tuple now :\",kl)\n",
    "kl = list(kl)\n",
    "lo = str(input(\"Enter a string as input a single element in tuple:\") )       \n",
    "kl.append(lo)\n",
    "print(\"Now tuple is :\",tuple(kl))"
   ]
  },
  {
   "cell_type": "code",
   "execution_count": 51,
   "id": "3f88596f-72a2-497e-869b-ae1f3d943e47",
   "metadata": {},
   "outputs": [
    {
     "name": "stdout",
     "output_type": "stream",
     "text": [
      "Tuple 1 is : (1, 2, 3, 4, 5, 6, 7, 8, 9, 10)\n",
      "Tuple 2 is : (12, 13, 14, 45)\n",
      "compare through size \n",
      "Tuple 1 is larger in size \n"
     ]
    }
   ],
   "source": [
    "#18. Compare two tuples.\n",
    "ui = (1,2,3,4,5,6,7,8,9,10)\n",
    "lo = (12,13,14,45)\n",
    "print(\"Tuple 1 is :\",ui)\n",
    "print(\"Tuple 2 is :\",lo)\n",
    "print(\"compare through size \")\n",
    "if len(ui) > len(lo):\n",
    "    print(\"Tuple 1 is larger in size \")\n",
    "else:\n",
    "    print(\"Tuple 2 is larger in size \")"
   ]
  },
  {
   "cell_type": "code",
   "execution_count": 55,
   "id": "ad299ea5-8b5b-4aa4-90dd-bf22a87b343a",
   "metadata": {},
   "outputs": [
    {
     "name": "stdout",
     "output_type": "stream",
     "text": [
      "Tuple is : (1, 2, 3, 4, 5, 6, 7, 8, 9, 10)\n"
     ]
    }
   ],
   "source": [
    "#19. Delete a tuple.\n",
    "ui = (1,2,3,4,5,6,7,8,9,10)\n",
    "print(\"Tuple is :\",ui)\n",
    "del ui\n"
   ]
  },
  {
   "cell_type": "code",
   "execution_count": 57,
   "id": "bfa2ad2b-93af-404d-8e93-dfaf99caf352",
   "metadata": {},
   "outputs": [
    {
     "name": "stdout",
     "output_type": "stream",
     "text": [
      "Tuple is : (1, 2, 3, 4, 5, 6, 7, 8, 9, 10)\n",
      "After slice from 1 to 5 is : (1, 2, 3, 4, 5)\n"
     ]
    }
   ],
   "source": [
    "#20. Slice a tuple.\n",
    "ui = (1,2,3,4,5,6,7,8,9,10)\n",
    "print(\"Tuple is :\",ui)\n",
    "print(\"After slice from 1 to 5 is :\",ui[0:5:])"
   ]
  },
  {
   "cell_type": "code",
   "execution_count": 58,
   "id": "58056d60-7e33-4ab9-a185-6709793eabef",
   "metadata": {},
   "outputs": [
    {
     "name": "stdout",
     "output_type": "stream",
     "text": [
      "Tuple is : (1, 2, 3, 4, 5, 6, 7, 8, 9, 10)\n",
      "The maximum value in a tuple is : 10\n"
     ]
    }
   ],
   "source": [
    "#21. Find the maximum value in a tuple.\n",
    "ui = (1,2,3,4,5,6,7,8,9,10)\n",
    "print(\"Tuple is :\",ui)\n",
    "ui = list(ui)\n",
    "print(\"The maximum value in a tuple is :\",max(ui))"
   ]
  },
  {
   "cell_type": "code",
   "execution_count": 59,
   "id": "58dcd63c-322a-4acf-b93a-b8ad22d8f372",
   "metadata": {},
   "outputs": [
    {
     "name": "stdout",
     "output_type": "stream",
     "text": [
      "Tuple is : (1, 2, 3, 4, 5, 6, 7, 8, 9, 10)\n",
      "The minimum value in a tuple is : 1\n"
     ]
    }
   ],
   "source": [
    "#22. Find the minimum value in a tuple.\n",
    "ui = (1,2,3,4,5,6,7,8,9,10)\n",
    "print(\"Tuple is :\",ui)\n",
    "ui = list(ui)\n",
    "print(\"The minimum value in a tuple is :\",min(ui))"
   ]
  },
  {
   "cell_type": "code",
   "execution_count": 61,
   "id": "7211d952-0cdb-4284-9180-108d18c2b50e",
   "metadata": {},
   "outputs": [
    {
     "name": "stdin",
     "output_type": "stream",
     "text": [
      "Enter a string :  hgsdyg dsag\n"
     ]
    },
    {
     "name": "stdout",
     "output_type": "stream",
     "text": [
      "Afetr Converting string into a tuple of characters. ('h', 'g', 's', 'd', 'y', 'g', ' ', 'd', 's', 'a', 'g')\n"
     ]
    }
   ],
   "source": [
    "#23. Convert a string to a tuple of characters.\n",
    "hyu = str(input(\"Enter a string : \"))\n",
    "hyu = tuple(hyu)\n",
    "print(\"Afetr Converting string into a tuple of characters.\",hyu)"
   ]
  },
  {
   "cell_type": "code",
   "execution_count": 63,
   "id": "9783679f-3fc0-438b-bfd4-ee208b7c2d30",
   "metadata": {},
   "outputs": [
    {
     "name": "stdout",
     "output_type": "stream",
     "text": [
      "Tuple is : ('h', 'g', 's', 'd', 'y', 'g', ' ', 'd', 's', 'a', 'g')\n",
      "After Converting tuple of characters into a string. hgsdyg dsag\n"
     ]
    }
   ],
   "source": [
    "#24. Convert a tuple of characters to a string.\n",
    "hu = ('h', 'g', 's', 'd', 'y', 'g', ' ', 'd', 's', 'a', 'g')\n",
    "print(\"Tuple is :\",hu)\n",
    "hu = list(hu)\n",
    "hu = \"\".join(hu)\n",
    "print(\"After Converting tuple of characters into a string.\",hu)"
   ]
  },
  {
   "cell_type": "code",
   "execution_count": 67,
   "id": "fcbac8cd-146c-49ba-9486-deb27198b3a2",
   "metadata": {},
   "outputs": [
    {
     "name": "stdout",
     "output_type": "stream",
     "text": [
      "Tuple is : (3, 5, 'kl', '%')\n"
     ]
    }
   ],
   "source": [
    "#25. Create a tuple from multiple data types.\n",
    "kj = (3,5,'kl','%')\n",
    "print(\"Tuple is :\",kj)"
   ]
  },
  {
   "cell_type": "code",
   "execution_count": 68,
   "id": "ff075e4f-e490-4161-a82b-2057bdd26aee",
   "metadata": {},
   "outputs": [
    {
     "name": "stdout",
     "output_type": "stream",
     "text": [
      "Tuple 1 is : (1, 2, 3, 4, 5, 6, 7, 8, 9, 10)\n",
      "Tuple 2 is : (12, 13, 14, 45)\n",
      "Both are not identical\n"
     ]
    }
   ],
   "source": [
    "#26. Check if two tuples are identical.\n",
    "ui = (1,2,3,4,5,6,7,8,9,10)\n",
    "lo = (12,13,14,45)\n",
    "print(\"Tuple 1 is :\",ui)\n",
    "print(\"Tuple 2 is :\",lo)\n",
    "if ui == lo:\n",
    "    print(\"Both are identical\")\n",
    "else:\n",
    "    print(\"Both are not identical\")"
   ]
  },
  {
   "cell_type": "code",
   "execution_count": 69,
   "id": "beea7e8b-7c94-4b9f-873d-b9798cb6258a",
   "metadata": {},
   "outputs": [
    {
     "name": "stdout",
     "output_type": "stream",
     "text": [
      "Tuple is : (2, 10, 3, 6, 5, 4, 9, 8, 7, 1)\n",
      "Ater Sorted the elements of a tuple : (1, 2, 3, 4, 5, 6, 7, 8, 9, 10)\n"
     ]
    }
   ],
   "source": [
    "#27. Sort the elements of a tuple.\n",
    "ui = (2,10,3,6,5,4,9,8,7,1)\n",
    "print(\"Tuple is :\",ui)\n",
    "ui = list(ui)\n",
    "ui.sort()\n",
    "print(\"Ater Sorted the elements of a tuple :\",tuple(ui))\n"
   ]
  },
  {
   "cell_type": "code",
   "execution_count": 73,
   "id": "eba4e3b9-ea48-46b8-8dd6-61135cc483ea",
   "metadata": {},
   "outputs": [
    {
     "name": "stdout",
     "output_type": "stream",
     "text": [
      "Tuple is : (1, 2, 3, 4, 5, 6, 7, 8, 9, 10)\n",
      "After Converting tuple of integers to a tuple of strings : ('1', '2', '3', '4', '5', '6', '7', '8', '9', '10')\n"
     ]
    }
   ],
   "source": [
    "#28. Convert a tuple of integers to a tuple of strings.\n",
    "ui = (1,2,3,4,5,6,7,8,9,10)\n",
    "print(\"Tuple is :\",ui)\n",
    "ui = list(ui)\n",
    "vu = []\n",
    "for i in ui:\n",
    "    vu.append(str(i))\n",
    "print(\"After converting tuple of integers to a tuple of strings :\",tuple(vu))  \n",
    "    "
   ]
  },
  {
   "cell_type": "code",
   "execution_count": 74,
   "id": "4e8c2090-8539-46c7-8aa0-183eb918f180",
   "metadata": {},
   "outputs": [
    {
     "name": "stdout",
     "output_type": "stream",
     "text": [
      "Tuple is : ('1', '2', '3', '4', '5', '6', '7', '8', '9', '10')\n",
      "After converting tuple of strings to a tuple of integers : [1, 2, 3, 4, 5, 6, 7, 8, 9, 10]\n"
     ]
    }
   ],
   "source": [
    "#29. Convert a tuple of strings to a tuple of integers.\n",
    "ui =  ('1', '2', '3', '4', '5', '6', '7', '8', '9', '10')\n",
    "print(\"Tuple is :\",ui)\n",
    "ui = list(ui)\n",
    "vu = []\n",
    "for i in ui:\n",
    "    vu.append(int(i))\n",
    "print(\"After converting tuple of strings to a tuple of integers :\",vu)    "
   ]
  },
  {
   "cell_type": "code",
   "execution_count": 76,
   "id": "7544ff7f-aca5-472b-b23b-783519a595e8",
   "metadata": {},
   "outputs": [
    {
     "name": "stdout",
     "output_type": "stream",
     "text": [
      "Tuple 1 is : (1, 2, 3, 4, 5, 6, 7)\n",
      "Tuple 2 is : (6, 7, 8, 12, 13, 14, 45)\n",
      "After merge two tuples : (1, 2, 3, 4, 5, 6, 7, 8, 12, 13, 14, 45)\n"
     ]
    }
   ],
   "source": [
    "#30. Merge two tuples.\n",
    "ui = (1,2,3,4,5,6,7)\n",
    "lo = (6,7,8,12,13,14,45)\n",
    "print(\"Tuple 1 is :\",ui)\n",
    "print(\"Tuple 2 is :\",lo)\n",
    "ui = set(ui)\n",
    "lo = set(lo)\n",
    "pi = ui.union(lo)\n",
    "pi = tuple(pi)\n",
    "print(\"After merge two tuples :\",pi)"
   ]
  },
  {
   "cell_type": "code",
   "execution_count": 77,
   "id": "aa26df13-9b1f-47b0-a6f3-e95ac0f25aad",
   "metadata": {},
   "outputs": [
    {
     "name": "stdout",
     "output_type": "stream",
     "text": [
      "Tuple is : ((10, 20), 60, (80, 49), 56, 78)\n",
      "Flatten list :  (10, 20, 60, 80, 49, 56, 78)\n"
     ]
    }
   ],
   "source": [
    "#31. Flatten a nested tuple.\n",
    "poi = ((10,20),60,(80,49),56,78)\n",
    "print(\"Tuple is :\",poi)\n",
    "jh = []\n",
    "for i in poi:\n",
    "    if isinstance(i, tuple):\n",
    "         for t in i:\n",
    "            jh.append(t)\n",
    "    else:\n",
    "        jh.append(i)\n",
    "jh = tuple(jh)        \n",
    "print(\"Flatten list : \",jh)  "
   ]
  },
  {
   "cell_type": "code",
   "execution_count": 84,
   "id": "12d00a10-6145-4b11-8eae-00397bd928e7",
   "metadata": {},
   "outputs": [
    {
     "name": "stdout",
     "output_type": "stream",
     "text": [
      "(2, 3, 11, 13, 17)\n"
     ]
    }
   ],
   "source": [
    "#32. Create a tuple of the first 5 prime numbers.\n",
    "jhu = [2,3]\n",
    "count = 0\n",
    "j = [2,3,4,5,6,7,8,9]\n",
    "for i in range(4,19):\n",
    "    for a in j:\n",
    "        if i%a == 0:\n",
    "            count += 1 \n",
    "    if count == 0:\n",
    "        jhu.append(i)\n",
    "        count = 0\n",
    "    else:    \n",
    "        count = 0\n",
    "print(tuple(jhu))"
   ]
  },
  {
   "cell_type": "code",
   "execution_count": 88,
   "id": "38e1d69d-aa5c-49e4-b03a-9612a17198fe",
   "metadata": {},
   "outputs": [
    {
     "name": "stdout",
     "output_type": "stream",
     "text": [
      " Given tuple is palindrome :\n"
     ]
    }
   ],
   "source": [
    "#33. Check if a tuple is a palindrome.\n",
    "h = ('c','a','l','a','c')\n",
    "j = h[::-1]\n",
    "if j == h:\n",
    "    print(\" Given tuple is palindrome :\"  )\n",
    "else:\n",
    "    print(\" Given tuple is not a palindrome :\"  )"
   ]
  },
  {
   "cell_type": "code",
   "execution_count": 89,
   "id": "890b624b-926a-426b-9b81-88ea91f29c02",
   "metadata": {},
   "outputs": [
    {
     "name": "stdout",
     "output_type": "stream",
     "text": [
      "Squares of numbers from 1 to 5 : (1, 4, 9, 16, 25)\n"
     ]
    }
   ],
   "source": [
    "#34. Create a tuple of squares of numbers from 1 to 5.\n",
    "lp = []\n",
    "for i in range(1,6):\n",
    "    lp.append(i*i)\n",
    "print(\"Squares of numbers from 1 to 5 :\",tuple(lp))    \n"
   ]
  },
  {
   "cell_type": "code",
   "execution_count": 91,
   "id": "585c1ec8-9b4f-4157-8bbf-f60e9eddd5ca",
   "metadata": {},
   "outputs": [
    {
     "name": "stdout",
     "output_type": "stream",
     "text": [
      "Tuple is : (1, 2, 3, 4, 5, 6, 7, 8, 9, 10)\n",
      "Tuple of only even numbers  :  (2, 4, 6, 8, 10)\n"
     ]
    }
   ],
   "source": [
    "#35. Filter out all even numbers from a tuple.\n",
    "ui = (1,2,3,4,5,6,7,8,9,10)\n",
    "print(\"Tuple is :\",ui)\n",
    "ui = list(ui)\n",
    "po = []\n",
    "for i in ui:\n",
    "    if i%2 == 0:\n",
    "        po.append(i)\n",
    "print(\"Tuple of only even numbers  : \",tuple(po)) "
   ]
  },
  {
   "cell_type": "code",
   "execution_count": null,
   "id": "addc5117-1d1b-4330-8ac2-27f2fa758764",
   "metadata": {},
   "outputs": [
    {
     "name": "stdout",
     "output_type": "stream",
     "text": [
      "Tuple is : (1, 2, 3, 4, 5, 6, 7, 8, 9, 10)\n"
     ]
    }
   ],
   "source": [
    "#36. Multiply all elements in a tuple by 2.\n",
    "ui = (1,2,3,4,5,6,7,8,9,10)\n",
    "print(\"Tuple is :\",ui)\n",
    "ki = list(ui)\n",
    "for i in ki:\n",
    "    yu = i*2\n",
    "    ki.append(yu)\n",
    "print(\"After multiply all elements in a tuple by 2 :\",tuple(ki))    \n",
    "    "
   ]
  },
  {
   "cell_type": "code",
   "execution_count": 1,
   "id": "d504b7e5-795f-4e0c-a0f1-77efe3a1f434",
   "metadata": {},
   "outputs": [
    {
     "name": "stdout",
     "output_type": "stream",
     "text": [
      "(448, 480, 629, 798, 674, 46, 396, 709, 737, 521)\n"
     ]
    }
   ],
   "source": [
    "#37. Create a tuple of random numbers.\n",
    "import random\n",
    "jhk = [0]*10\n",
    "j = 0\n",
    "for i in range(1,11):\n",
    "    jhk[i-1] = random.randint(1,1000)\n",
    "print(tuple(jhk))"
   ]
  },
  {
   "cell_type": "code",
   "execution_count": 3,
   "id": "c8f43e8f-7db4-453f-9c88-a18721c98887",
   "metadata": {},
   "outputs": [
    {
     "name": "stdout",
     "output_type": "stream",
     "text": [
      "tUPLE is : (10, 20, 60, 80, 49, 56, 78)\n",
      "Enter the number upto : 7  to rotate the list to the left\n"
     ]
    },
    {
     "name": "stdin",
     "output_type": "stream",
     "text": [
      " 5\n"
     ]
    },
    {
     "name": "stdout",
     "output_type": "stream",
     "text": [
      "List after rotation to the left is : (56, 78, 10, 20, 60, 80, 49)\n"
     ]
    }
   ],
   "source": [
    "#39. Rotate a tuple to the left by `n` positions.\n",
    "poi = (10,20,60,80,49,56,78)\n",
    "print(\"tUPLE is :\",poi)\n",
    "print(\"Enter the number upto :\",len(poi), \" to rotate the tuple to the left\")\n",
    "a = int(input())\n",
    "poi = list(poi)\n",
    "if a <=7:\n",
    "    yui = poi[0:a:]\n",
    "    iop = poi[a:(len(poi)+1):]\n",
    "    iop = iop+yui\n",
    "    print(\"tuple after rotation to the left is :\",tuple(iop))\n",
    "    \n",
    "else:\n",
    "    print(\"Number is greater than :\", len(poi))"
   ]
  },
  {
   "cell_type": "code",
   "execution_count": 5,
   "id": "84c8ead3-6ebc-41f7-b66f-4079ba0323e8",
   "metadata": {},
   "outputs": [
    {
     "name": "stdout",
     "output_type": "stream",
     "text": [
      "Tuple is : (10, 20, 60, 80, 49, 56, 78)\n",
      "Enter the number upto : 7  to rotate the tuple to the left\n"
     ]
    },
    {
     "name": "stdin",
     "output_type": "stream",
     "text": [
      " 4\n"
     ]
    },
    {
     "name": "stdout",
     "output_type": "stream",
     "text": [
      "Tuple after rotation to the right is : (80, 49, 56, 78, 10, 20, 60)\n"
     ]
    }
   ],
   "source": [
    "#40. Rotate a tuple to the right by `n` positions.\n",
    "poi = (10,20,60,80,49,56,78)\n",
    "print(\"Tuple is :\",poi)\n",
    "print(\"Enter the number upto :\",len(poi), \" to rotate the tuple to the left\")\n",
    "a = int(input())\n",
    "if a <=7:\n",
    "    a = len(poi) - a\n",
    "    yui = poi[0:a:]\n",
    "    iop = poi[a:(len(poi)+1):]\n",
    "    iop = iop+yui\n",
    "    print(\"Tuple after rotation to the right is :\",tuple(iop))\n",
    "    \n",
    "else:\n",
    "    print(\"Number is greater than :\",len(poi))"
   ]
  },
  {
   "cell_type": "code",
   "execution_count": 8,
   "id": "dbb1fc44-125d-4e2d-b5ad-439eaa0f6cd2",
   "metadata": {},
   "outputs": [
    {
     "name": "stdout",
     "output_type": "stream",
     "text": [
      "(0, 1, 1, 2, 3)\n"
     ]
    }
   ],
   "source": [
    "#41. Create a tuple of the first 5 Fibonacci numbers.\n",
    "jhk = [0]*5\n",
    "jhk[0] = 0\n",
    "jhk[1] = 1\n",
    "#first initalize two number\n",
    "for i in range(2,5):\n",
    "    jhk[i] = jhk[i-1] + jhk[i-2]\n",
    "print(tuple(jhk))\n"
   ]
  },
  {
   "cell_type": "code",
   "execution_count": 10,
   "id": "0ad9f6a9-d3f6-4698-b8b9-680c57bcb16e",
   "metadata": {},
   "outputs": [
    {
     "name": "stdin",
     "output_type": "stream",
     "text": [
      "Enter the number for length of tuple 5\n",
      "Enter the element : 4\n",
      "Enter the element : 5\n",
      "Enter the element : 6\n",
      "Enter the element : 8\n",
      "Enter the element : 9\n"
     ]
    },
    {
     "name": "stdout",
     "output_type": "stream",
     "text": [
      "Tuple is : (4, 5, 6, 8, 9)\n"
     ]
    }
   ],
   "source": [
    "#42. Create a tuple from user input.\n",
    "jhk = []\n",
    "hg = int(input(\"Enter the number for length of tuple\"))\n",
    "for i in range(1,hg+1):\n",
    "         kl = int(input(\"Enter the element :\"))\n",
    "         jhk.append(kl)\n",
    "print(\"Tuple is :\",tuple(jhk))         "
   ]
  },
  {
   "cell_type": "code",
   "execution_count": 14,
   "id": "311b26be-17e5-40bc-8f66-3e96ad0bda06",
   "metadata": {},
   "outputs": [
    {
     "name": "stdout",
     "output_type": "stream",
     "text": [
      "Tuple is : (10, 20, 60, 80, 49, 56, 78)\n",
      "After the swap element of 2 and 4 : (10, 80, 60, 20, 49, 56, 78)\n"
     ]
    }
   ],
   "source": [
    "#43. Swap two elements in a tuple.\n",
    "poi = (10,20,60,80,49,56,78)\n",
    "print(\"Tuple is :\",poi)\n",
    "poi = list(poi)\n",
    "kl = poi[3]\n",
    "poi[3] = poi[1]\n",
    "poi[1] = kl\n",
    "print(\"After the swap element of 2 and 4 :\",tuple(poi))"
   ]
  },
  {
   "cell_type": "code",
   "execution_count": 26,
   "id": "4270fca7-56ea-41fe-b323-9b269408948d",
   "metadata": {},
   "outputs": [
    {
     "name": "stdout",
     "output_type": "stream",
     "text": [
      "Tuple is : (10, 20, 60, 80, 49, 56, 78)\n",
      "After reverse the tuple is : (78, 56, 49, 80, 60, 20, 10)\n"
     ]
    }
   ],
   "source": [
    "#44. Reverse the elements of a tuple.\n",
    "poi = (10,20,60,80,49,56,78)\n",
    "print(\"Tuple is :\",poi)\n",
    "poi = list(poi)\n",
    "poi = poi[::-1]\n",
    "print(\"After reverse the tuple is :\",tuple(poi))"
   ]
  },
  {
   "cell_type": "code",
   "execution_count": 17,
   "id": "7b7ef655-2774-4611-893a-96614d79d7e4",
   "metadata": {},
   "outputs": [
    {
     "name": "stdout",
     "output_type": "stream",
     "text": [
      "tuple before (1, 2, 3, 4, 5, 6, 7, 8, 9, 45, 56)\n",
      "Tuple after the first 5 number are  powers of 2. (2, 4, 8, 16, 32, 6, 7, 8, 9, 45, 56)\n"
     ]
    }
   ],
   "source": [
    "#45. Create a tuple of the first `n` powers of 2.\n",
    "gh = (1,2,3,4,5,6,7,8,9,45,56)\n",
    "print(\"tuple before\",gh)\n",
    "gh = list(gh)\n",
    "for i in range(1,6):\n",
    "    gh[i-1] = 2**gh[i-1]\n",
    "print(\"Tuple after the first 5 number are  powers of 2.\" ,tuple(gh))"
   ]
  },
  {
   "cell_type": "code",
   "execution_count": 19,
   "id": "7469ed50-b7fd-411b-9066-9ad46beda939",
   "metadata": {},
   "outputs": [
    {
     "name": "stdout",
     "output_type": "stream",
     "text": [
      "Tuple is : ('kjduhy', 'jieui', 'iu')\n",
      "largest word in the list is : kjduhy\n"
     ]
    }
   ],
   "source": [
    "#46. Find the longest string in a tuple of strings.\n",
    "yu =  ('kjduhy', 'jieui' ,'iu')\n",
    "print(\"Tuple is :\",yu)\n",
    "yu = list(yu)\n",
    "py = len(yu[0])\n",
    "okl = yu[0]\n",
    "for i in range(1,3):\n",
    "    if len(yu[i]) > py:\n",
    "        py = len(yu[i])\n",
    "        okl = yu[i]\n",
    "print(\"largest word in the list is :\",okl)"
   ]
  },
  {
   "cell_type": "code",
   "execution_count": 20,
   "id": "0b844098-8482-461d-b066-3b58103b1318",
   "metadata": {},
   "outputs": [
    {
     "name": "stdout",
     "output_type": "stream",
     "text": [
      "Tuple is : ('kjduhy', 'jieui', 'iu')\n",
      "largest word in the list is : iu\n"
     ]
    }
   ],
   "source": [
    "#47. Find the shortest string in a tuple of strings.\n",
    "yu = ('kjduhy', 'jieui' ,'iu')\n",
    "print(\"Tuple is :\",yu)\n",
    "yu = list(yu)\n",
    "py = len(yu[0])\n",
    "okl = yu[0]\n",
    "for i in range(1,3):\n",
    "    if len(yu[i]) < py:\n",
    "        py = len(yu[i])\n",
    "        okl = yu[i]\n",
    "print(\"largest word in the list is :\",okl)"
   ]
  },
  {
   "cell_type": "code",
   "execution_count": 21,
   "id": "7b968ea2-b299-43fe-9dda-d0cd1758b698",
   "metadata": {},
   "outputs": [
    {
     "name": "stdin",
     "output_type": "stream",
     "text": [
      "Enter the number to Create a list of the first `n` triangular numbers : 5\n"
     ]
    },
    {
     "name": "stdout",
     "output_type": "stream",
     "text": [
      "(1, 3, 6, 10, 15)\n"
     ]
    }
   ],
   "source": [
    "#48. Create a tuple of the first `n` triangular numbers.\n",
    "ytr = []\n",
    "o = 0\n",
    "io = int(input(\"Enter the number to Create a list of the first `n` triangular numbers :\"))\n",
    "for i in range(1,io+1):\n",
    "        while i > 0:\n",
    "            o = o+i\n",
    "            i = i-1\n",
    "        ytr.append(o)\n",
    "        o = 0\n",
    "print(tuple(ytr))"
   ]
  },
  {
   "cell_type": "code",
   "execution_count": 22,
   "id": "3d70ae3a-9fd2-4ab6-9120-77e5e1eb4140",
   "metadata": {},
   "outputs": [
    {
     "name": "stdout",
     "output_type": "stream",
     "text": [
      "uple 1 is : ('India', 'US', 'France', 'Germany', 'Sri Lanka')\n",
      "Tuple 2 is : ('India', 'Germany', 'Sri Lanka')\n",
      "Tuple contains another list as a subsequence.\n"
     ]
    }
   ],
   "source": [
    "#49. Check if a tuple contains another tuple as a subsequence.\n",
    "country =( 'India','US','France','Germany','Sri Lanka')\n",
    "jhu = []\n",
    "gh = ('India','Germany','Sri Lanka')\n",
    "print(\"uple 1 is :\",country)\n",
    "print(\"Tuple 2 is :\",gh)\n",
    "country = list(country)\n",
    "gh = list(gh)\n",
    "count = 0\n",
    "ji = len(country)\n",
    "for i in gh:\n",
    "    for kl in range(0,ji):\n",
    "        if country[kl] == i:\n",
    "            count = kl\n",
    "            jhu.append(count)\n",
    "            exit\n",
    "ui = jhu.sort()\n",
    "if ui == jhu:\n",
    "    print(\"Tuple contains another list as a subsequence.\")\n",
    "else:\n",
    "    print(\"Tuple contains another list as a subsequence.\")"
   ]
  },
  {
   "cell_type": "code",
   "execution_count": 23,
   "id": "3a1373d6-1813-48fd-8952-6d924df448b4",
   "metadata": {},
   "outputs": [
    {
     "name": "stdin",
     "output_type": "stream",
     "text": [
      "Enter the length of tuple : 6\n"
     ]
    },
    {
     "name": "stdout",
     "output_type": "stream",
     "text": [
      "Tuple is : (1, 0, 1, 0, 1, 0)\n"
     ]
    }
   ],
   "source": [
    "#50. Create a tuple of alternating 1s and 0s of length `n`.\n",
    "poi = int(input(\"Enter the length of tuple :\"))\n",
    "ju = []\n",
    "for i in range(1,poi+1):\n",
    "    if i%2 == 0:\n",
    "        ju.append(i%2)\n",
    "    else:\n",
    "        ju.append(i%2)\n",
    "print(\"Tuple is :\",tuple(ju))        \n",
    "    "
   ]
  },
  {
   "cell_type": "code",
   "execution_count": 8,
   "id": "5c0fef86-d195-4a20-a1ee-52c4c2d52d88",
   "metadata": {},
   "outputs": [],
   "source": [
    "#Set Based Practice Problem :"
   ]
  },
  {
   "cell_type": "code",
   "execution_count": 25,
   "id": "11664023-ab80-4784-80b2-fa21c82816fc",
   "metadata": {},
   "outputs": [
    {
     "name": "stdout",
     "output_type": "stream",
     "text": [
      "Tuple is : {1, 2, 3, 4, 5}\n"
     ]
    }
   ],
   "source": [
    "#1. Create a set with integers from 1 to 5.\n",
    "kl = []\n",
    "for i in range(1,6):\n",
    "    kl.append(i)\n",
    "print(\"Tuple is :\",set(kl))    "
   ]
  },
  {
   "cell_type": "code",
   "execution_count": 27,
   "id": "ca3f086b-06b4-4341-9737-7b7e3dbb9d25",
   "metadata": {},
   "outputs": [
    {
     "name": "stdout",
     "output_type": "stream",
     "text": [
      "Set is : {80, 49, 20, 56, 10, 60, 78}\n"
     ]
    },
    {
     "name": "stdin",
     "output_type": "stream",
     "text": [
      "Enter value  to add in set: 5\n"
     ]
    },
    {
     "name": "stdout",
     "output_type": "stream",
     "text": [
      "after add element is : (80, 49, 20, 56, 10, 60, 78, 5)\n"
     ]
    }
   ],
   "source": [
    "#2. Add an element to a set.\n",
    "poi = {10,20,60,80,49,56,78}\n",
    "print(\"Set is :\",poi)\n",
    "poi = list(poi)\n",
    "jo = int(input(\"Enter value  to add in set:\"))\n",
    "poi.append(jo)\n",
    "print(\"after add element is :\",tuple(poi))"
   ]
  },
  {
   "cell_type": "code",
   "execution_count": 1,
   "id": "b05f0009-bff7-49bb-9e76-2741b4d6de9a",
   "metadata": {},
   "outputs": [
    {
     "name": "stdout",
     "output_type": "stream",
     "text": [
      "Set is : {80, 49, 20, 56, 10, 60, 78}\n"
     ]
    },
    {
     "name": "stdin",
     "output_type": "stream",
     "text": [
      "Element to remove is : 49\n"
     ]
    },
    {
     "name": "stdout",
     "output_type": "stream",
     "text": [
      "After removing element set is : {10, 78, 80, 20, 56, 60}\n"
     ]
    }
   ],
   "source": [
    "#3. Remove an element from a set.\n",
    "poi = {10,20,60,80,49,56,78}\n",
    "print(\"Set is :\",poi)\n",
    "ko = int(input(\"Element to remove is :\"))\n",
    "gh = []\n",
    "poi = list(poi)\n",
    "for i in  poi:\n",
    "    if i != ko:\n",
    "        gh.append(i)       \n",
    "print(\"After removing element set is :\",set(gh))        \n"
   ]
  },
  {
   "cell_type": "code",
   "execution_count": 7,
   "id": "3edbb95a-298c-4f90-aed8-9516cba2c970",
   "metadata": {},
   "outputs": [
    {
     "name": "stdout",
     "output_type": "stream",
     "text": [
      "Set is : {80, 49, 20, 56, 10, 60, 78}\n"
     ]
    },
    {
     "name": "stdin",
     "output_type": "stream",
     "text": [
      "Element to check is : 49\n"
     ]
    },
    {
     "name": "stdout",
     "output_type": "stream",
     "text": [
      "Element is found\n"
     ]
    }
   ],
   "source": [
    "#4. Check if an element exists in a set.\n",
    "poi = {10,20,60,80,49,56,78}\n",
    "print(\"Set is :\",poi)\n",
    "ko = int(input(\"Element to check is :\"))\n",
    "poi = list(poi)\n",
    "count = 1\n",
    "for i in  poi:\n",
    "    if i == ko:\n",
    "        count += 1\n",
    "if count > 1:\n",
    "    print(\"Element is found\")\n",
    "else:\n",
    "    print(\"Element is not found\")"
   ]
  },
  {
   "cell_type": "code",
   "execution_count": 8,
   "id": "3d2683fc-7505-49a0-8a95-454bfa7f3c0d",
   "metadata": {},
   "outputs": [
    {
     "name": "stdout",
     "output_type": "stream",
     "text": [
      "Set is : {80, 49, 20, 56, 10, 60, 78}\n",
      "Length of set is : 7\n"
     ]
    }
   ],
   "source": [
    "#5. Find the length of a set without using the `len()` function.\n",
    "poi = {10,20,60,80,49,56,78}\n",
    "print(\"Set is :\",poi)\n",
    "poi = list(poi)\n",
    "count = 0\n",
    "for i in poi:\n",
    "    count += 1\n",
    "print(\"Length of set is :\",count)"
   ]
  },
  {
   "cell_type": "code",
   "execution_count": 9,
   "id": "d2058482-63d9-4f7c-834c-e296e12cd074",
   "metadata": {},
   "outputs": [
    {
     "name": "stdout",
     "output_type": "stream",
     "text": [
      "Set is : {80, 49, 20, 56, 10, 60, 78}\n",
      "Now set is is: set()\n"
     ]
    }
   ],
   "source": [
    "#6. Clear all elements from a set.\n",
    "poi = {10,20,60,80,49,56,78}\n",
    "print(\"Set is :\",poi)\n",
    "poi = list(poi)\n",
    "poi.clear()\n",
    "print(\"Now set is is:\",set(poi))"
   ]
  },
  {
   "cell_type": "code",
   "execution_count": 14,
   "id": "346f6e94-9334-41ee-8bea-1563f1d638d2",
   "metadata": {},
   "outputs": [
    {
     "name": "stdout",
     "output_type": "stream",
     "text": [
      "{2, 4, 6, 8, 10}\n"
     ]
    }
   ],
   "source": [
    "#7. Create a set of even numbers from 1 to 10.\n",
    "jhk = [0]*10\n",
    "j = []\n",
    "for i in range(1,11):\n",
    "    if i%2 == 0:\n",
    "        j.append(i)\n",
    "    else:\n",
    "        pass\n",
    "print(set(j))"
   ]
  },
  {
   "cell_type": "code",
   "execution_count": 15,
   "id": "168b4822-f484-493c-aba5-501c66a237cb",
   "metadata": {},
   "outputs": [
    {
     "name": "stdout",
     "output_type": "stream",
     "text": [
      "{1, 3, 5, 7, 9}\n"
     ]
    }
   ],
   "source": [
    "#8. Create a set of odd numbers from 1 to 10.\n",
    "jhk = [0]*10\n",
    "j = []\n",
    "for i in range(1,11):\n",
    "    if i%2 == 0:\n",
    "        pass\n",
    "    else:\n",
    "        j.append(i)\n",
    "print(set(j))"
   ]
  },
  {
   "cell_type": "code",
   "execution_count": 12,
   "id": "fb50299f-a9e0-4bc0-928c-f055b1a87ab8",
   "metadata": {},
   "outputs": [
    {
     "name": "stdout",
     "output_type": "stream",
     "text": [
      "Set 1 is : {1, 2, 3, 4, 5, 6, 7}\n",
      "Set 2 is : {45, 6, 7, 8, 12, 13, 14}\n",
      "After merge two set : {1, 2, 3, 4, 5, 6, 7, 8, 12, 45, 13, 14}\n"
     ]
    }
   ],
   "source": [
    "#9. Find the union of two sets.\n",
    "ui = {1,2,3,4,5,6,7}\n",
    "lo = {6,7,8,12,13,14,45}\n",
    "print(\"Set 1 is :\",ui)\n",
    "print(\"Set 2 is :\",lo)\n",
    "pi = ui.union(lo)\n",
    "print(\"After merge two set :\",pi)"
   ]
  },
  {
   "cell_type": "code",
   "execution_count": 17,
   "id": "e8dec5e2-0fba-4710-9901-249f5d2b8ffc",
   "metadata": {},
   "outputs": [
    {
     "name": "stdout",
     "output_type": "stream",
     "text": [
      "Set 1 is : {1, 2, 3, 4, 5, 6, 7}\n",
      "Set 2 is : {45, 6, 7, 8, 12, 13, 14}\n",
      "Intersection of two set : {6, 7}\n"
     ]
    }
   ],
   "source": [
    "#10. Find the intersection of two sets.\n",
    "ui = {1,2,3,4,5,6,7}\n",
    "lo = {6,7,8,12,13,14,45}\n",
    "print(\"Set 1 is :\",ui)\n",
    "print(\"Set 2 is :\",lo)\n",
    "pi = ui.intersection(lo)\n",
    "print(\"Intersection of two set :\",pi)"
   ]
  },
  {
   "cell_type": "code",
   "execution_count": 13,
   "id": "54ee7a47-c90a-436f-a0b7-5b2a7383ed1a",
   "metadata": {},
   "outputs": [
    {
     "name": "stdout",
     "output_type": "stream",
     "text": [
      "Set 1 is : {1, 2, 3, 4, 5, 6, 7}\n",
      "Set 2 is : {45, 6, 7, 8, 12, 13, 14}\n",
      "difference of two set : {1, 2, 3, 4, 5}\n"
     ]
    }
   ],
   "source": [
    "#11. Find the difference between two sets.\n",
    "ui = {1,2,3,4,5,6,7}\n",
    "lo = {6,7,8,12,13,14,45}\n",
    "print(\"Set 1 is :\",ui)\n",
    "print(\"Set 2 is :\",lo)\n",
    "pi = ui.difference(lo)\n",
    "print(\"difference of two set :\",pi)"
   ]
  },
  {
   "cell_type": "code",
   "execution_count": 20,
   "id": "d86da6be-f801-4538-a3e1-1a96251a3789",
   "metadata": {},
   "outputs": [
    {
     "name": "stdout",
     "output_type": "stream",
     "text": [
      "Set 1 is : {1, 2, 3, 4, 5, 6, 7}\n",
      "Set 2 is : {45, 6, 7, 8, 12, 13, 14}\n",
      "Set 1 is not a subset of set 2\n"
     ]
    }
   ],
   "source": [
    "#12. Check if a set is a subset of another set.\n",
    "ui = {1,2,3,4,5,6,7}\n",
    "lo = {6,7,8,12,13,14,45}\n",
    "print(\"Set 1 is :\",ui)\n",
    "print(\"Set 2 is :\",lo)\n",
    "pi = ui.issubset(lo)\n",
    "if pi == True:\n",
    "    print(\"Set 1 is subset of set 2\")\n",
    "else:\n",
    "    print(\"Set 1 is not a subset of set 2\")"
   ]
  },
  {
   "cell_type": "code",
   "execution_count": 22,
   "id": "dddac22e-1820-480f-8a83-21e652b53314",
   "metadata": {},
   "outputs": [
    {
     "name": "stdout",
     "output_type": "stream",
     "text": [
      "Set 1 is : {1, 2, 3, 4, 5, 6, 7}\n",
      "Set 2 is : {45, 6, 7, 8, 12, 13, 14}\n",
      "Set 1 is not a superset \n"
     ]
    }
   ],
   "source": [
    "#13. Check if a set is a superset of another set.\n",
    "ui = {1,2,3,4,5,6,7}\n",
    "lo = {6,7,8,12,13,14,45}\n",
    "print(\"Set 1 is :\",ui)\n",
    "print(\"Set 2 is :\",lo)\n",
    "pi = ui.issuperset(lo)\n",
    "if pi == True:\n",
    "    print(\"Set 1 is superset of \")\n",
    "else:\n",
    "    print(\"Set 1 is not a superset \")"
   ]
  },
  {
   "cell_type": "code",
   "execution_count": 1,
   "id": "82ee098e-6160-48c8-a0be-32c69a250d41",
   "metadata": {},
   "outputs": [
    {
     "name": "stdout",
     "output_type": "stream",
     "text": [
      "list is : [6, 7, 8, 12, 13, 14, 45]\n",
      "After convert to set : {6, 7, 8, 12, 13, 14, 45}\n"
     ]
    }
   ],
   "source": [
    "#14. Create a set from a list.\n",
    "lo = [6,7,8,12,13,14,45]\n",
    "print(\"list is :\",lo)\n",
    "print(\"After convert to set :\",set(lo))"
   ]
  },
  {
   "cell_type": "code",
   "execution_count": 3,
   "id": "a4344de3-e3f7-42c6-bda3-023eb922802d",
   "metadata": {},
   "outputs": [
    {
     "name": "stdout",
     "output_type": "stream",
     "text": [
      "Set is : {45, 6, 7, 8, 12, 13, 14}\n",
      "After convert to list : [45, 6, 7, 8, 12, 13, 14]\n"
     ]
    }
   ],
   "source": [
    "#15. Convert a set to a list.\n",
    "lo = {6,7,8,12,13,14,45}\n",
    "print(\"Set is :\",lo)\n",
    "print(\"After convert to list :\",list(lo))"
   ]
  },
  {
   "cell_type": "code",
   "execution_count": 20,
   "id": "29a13728-76a4-41ee-bc95-8771f2b983d9",
   "metadata": {},
   "outputs": [
    {
     "name": "stdout",
     "output_type": "stream",
     "text": [
      "Set is : {1, 2, 3, 4, 5, 6, 7, 8, 9}\n",
      "After removing a random element from a set. {1, 2, 3, 4, 5, 7, 8, 9}\n"
     ]
    }
   ],
   "source": [
    "#16. Remove a random element from a set.\n",
    "lo = {1,2,3,4,5,6,7,8,9}\n",
    "print(\"Set is :\",lo)\n",
    "import random\n",
    "lp = random.randint(1,9)\n",
    "lo.discard(lp)\n",
    "print(\"After removing a random element from a set.\",lo)\n"
   ]
  },
  {
   "cell_type": "code",
   "execution_count": 10,
   "id": "b5f26bda-209d-4cc0-82db-2bcdbe7b0ce2",
   "metadata": {},
   "outputs": [
    {
     "name": "stdout",
     "output_type": "stream",
     "text": [
      "Set is : {80, 49, 20, 56, 10, 60, 78}\n"
     ]
    },
    {
     "name": "stdin",
     "output_type": "stream",
     "text": [
      "Element to pop is : 20\n"
     ]
    },
    {
     "name": "stdout",
     "output_type": "stream",
     "text": [
      "After pop element set is : {10, 78, 80, 49, 56, 60}\n"
     ]
    }
   ],
   "source": [
    "#17. Pop an element from a set.\n",
    "poi = {10,20,60,80,49,56,78}\n",
    "print(\"Set is :\",poi)\n",
    "ko = int(input(\"Element to pop is :\"))\n",
    "gh = []\n",
    "poi = list(poi)\n",
    "for i in  poi:\n",
    "    if i != ko:\n",
    "        gh.append(i)       \n",
    "print(\"After pop element set is :\",set(gh))\n"
   ]
  },
  {
   "cell_type": "code",
   "execution_count": 6,
   "id": "0cff2aa3-af4e-4574-b832-91eb885d1e97",
   "metadata": {},
   "outputs": [
    {
     "name": "stdout",
     "output_type": "stream",
     "text": [
      "Set 1 is : {1, 2, 3, 4, 5, 6, 7}\n",
      "Set 2 is : {45, 6, 7, 8, 12, 13, 14}\n",
      "Seta have common element  \n"
     ]
    }
   ],
   "source": [
    "#18. Check if two sets have no elements in common.\n",
    "ui = {1,2,3,4,5,6,7}\n",
    "lo = {6,7,8,12,13,14,45}\n",
    "print(\"Set 1 is :\",ui)\n",
    "print(\"Set 2 is :\",lo)\n",
    "pi = ui.intersection(lo)\n",
    "pi = len(pi)\n",
    "if pi > 0:\n",
    "    print(\"Seta have common element  \")\n",
    "else:\n",
    "    print(\"Sets have no element common  \")"
   ]
  },
  {
   "cell_type": "code",
   "execution_count": 14,
   "id": "ee3d8f4a-5635-4827-8e9d-a35275563c4f",
   "metadata": {},
   "outputs": [
    {
     "name": "stdout",
     "output_type": "stream",
     "text": [
      "Set 1 is : {1, 2, 3, 4, 5, 6, 7}\n",
      "Set 2 is : {45, 6, 7, 8, 12, 13, 14}\n",
      "Symmetric difference of two set : {1, 2, 3, 4, 5, 8, 12, 13, 45, 14}\n"
     ]
    }
   ],
   "source": [
    "#19. Find the symmetric difference between two sets.\n",
    "ui = {1,2,3,4,5,6,7}\n",
    "lo = {6,7,8,12,13,14,45}\n",
    "print(\"Set 1 is :\",ui)\n",
    "print(\"Set 2 is :\",lo)\n",
    "pi = ui.difference(lo)\n",
    "i = lo.difference(ui)\n",
    "pi = pi.union(i)\n",
    "print(\"Symmetric difference of two set :\",pi)"
   ]
  },
  {
   "cell_type": "code",
   "execution_count": 16,
   "id": "ce5be5b4-6ab6-4458-905e-398369d39366",
   "metadata": {},
   "outputs": [
    {
     "name": "stdout",
     "output_type": "stream",
     "text": [
      "Set 1 is : {1, 2, 3, 4, 5, 6, 7}\n",
      "Set 2 is : {45, 6, 7, 8, 12, 13, 14}\n",
      " After update a set with elements from another set. {1, 2, 3, 4, 5, 6, 7, 8, 12, 45, 13, 14}\n"
     ]
    }
   ],
   "source": [
    "#20. Update a set with elements from another set.\n",
    "ui = {1,2,3,4,5,6,7}\n",
    "lo = {6,7,8,12,13,14,45}\n",
    "print(\"Set 1 is :\",ui)\n",
    "print(\"Set 2 is :\",lo)\n",
    "pi = ui.union(lo)\n",
    "print(\" After update a set with elements from another set.\",pi)"
   ]
  },
  {
   "cell_type": "code",
   "execution_count": 17,
   "id": "0e004343-2918-498a-a56e-4406fb3f7775",
   "metadata": {},
   "outputs": [
    {
     "name": "stdout",
     "output_type": "stream",
     "text": [
      "{2, 3, 11, 13, 17}\n"
     ]
    }
   ],
   "source": [
    "#21. Create a set of the first 5 prime numbers.\n",
    "jhu = [2,3]\n",
    "count = 0\n",
    "j = [2,3,4,5,6,7,8,9]\n",
    "for i in range(4,19):\n",
    "    for a in j:\n",
    "        if i%a == 0:\n",
    "            count += 1 \n",
    "    if count == 0:\n",
    "        jhu.append(i)\n",
    "        count = 0\n",
    "    else:    \n",
    "        count = 0\n",
    "print(set(jhu))"
   ]
  },
  {
   "cell_type": "code",
   "execution_count": 19,
   "id": "7d12425b-5f48-437f-b7a9-41edf0cace22",
   "metadata": {},
   "outputs": [
    {
     "name": "stdout",
     "output_type": "stream",
     "text": [
      "Set 1 is : {1, 2, 3, 4, 5, 6, 7}\n",
      "Set 2 is : {45, 6, 7, 8, 12, 13, 14}\n",
      "Two sets are not identical:\n"
     ]
    }
   ],
   "source": [
    "#22. Check if two sets are identical.\n",
    "ui = {1,2,3,4,5,6,7}\n",
    "lo = {6,7,8,12,13,14,45}\n",
    "print(\"Set 1 is :\",ui)\n",
    "print(\"Set 2 is :\",lo)\n",
    "if ui == lo:\n",
    "    print(\"two sets are  identical:\")\n",
    "else:\n",
    "    print(\"Two sets are not identical:\")"
   ]
  },
  {
   "cell_type": "code",
   "execution_count": 20,
   "id": "962ed1c1-b372-4f87-b0ad-9fdb795434f3",
   "metadata": {},
   "outputs": [
    {
     "name": "stdout",
     "output_type": "stream",
     "text": [
      "Set is : {80, 49, 20, 56, 10, 60, 78}\n",
      "Afetr convert to frozen set; frozenset({80, 49, 20, 56, 10, 60, 78})\n"
     ]
    }
   ],
   "source": [
    "#23. Create a frozen set.\n",
    "poi = {10,20,60,80,49,56,78}\n",
    "print(\"Set is :\",poi)\n",
    "poi = frozenset(poi)\n",
    "print(\"Afetr convert to frozen set;\",poi)"
   ]
  },
  {
   "cell_type": "code",
   "execution_count": 22,
   "id": "87388859-82c2-4a9a-940e-9214490ec51f",
   "metadata": {},
   "outputs": [
    {
     "name": "stdout",
     "output_type": "stream",
     "text": [
      "Set 1 is : {1, 2, 3, 4, 5, 6, 7}\n",
      "Set 2 is : {45, 6, 7, 8, 12, 13, 14}\n",
      "Set is not disjoint with another set :\n"
     ]
    }
   ],
   "source": [
    "#24. Check if a set is disjoint with another set.\n",
    "ui = {1,2,3,4,5,6,7}\n",
    "lo = {6,7,8,12,13,14,45}\n",
    "print(\"Set 1 is :\",ui)\n",
    "print(\"Set 2 is :\",lo)\n",
    "poi = ui.isdisjoint(lo)\n",
    "if poi == True:\n",
    "    print(\"Set is disjoint with another set :\")\n",
    "else:\n",
    "    print(\"Set is not disjoint with another set :\")"
   ]
  },
  {
   "cell_type": "code",
   "execution_count": 23,
   "id": "c59c94a8-1ba0-4366-b046-41e7fa24cfb0",
   "metadata": {},
   "outputs": [
    {
     "name": "stdout",
     "output_type": "stream",
     "text": [
      "Squares of numbers from 1 to 5 : {1, 4, 9, 16, 25}\n"
     ]
    }
   ],
   "source": [
    "#25. Create a set of squares of numbers from 1 to 5.\n",
    "lp = []\n",
    "for i in range(1,6):\n",
    "    lp.append(i*i)\n",
    "print(\"Squares of numbers from 1 to 5 :\",set(lp)) "
   ]
  },
  {
   "cell_type": "code",
   "execution_count": 24,
   "id": "c93d6874-4e2e-4f0f-b0c0-6a807f81d757",
   "metadata": {},
   "outputs": [
    {
     "name": "stdout",
     "output_type": "stream",
     "text": [
      "{64, 8, 12, 78, 52, 58}\n"
     ]
    }
   ],
   "source": [
    "#26. Filter out all even numbers from a set.\n",
    "jhk = {12,5,8,78,45,64,89,52,58}\n",
    "j = []\n",
    "for i in jhk:\n",
    "    if i%2 == 0:\n",
    "        j.append(i)\n",
    "    else:\n",
    "        pass\n",
    "print(set(j))"
   ]
  },
  {
   "cell_type": "code",
   "execution_count": 25,
   "id": "c6afb681-88d9-404c-906a-9b66a73e7f58",
   "metadata": {},
   "outputs": [
    {
     "name": "stdout",
     "output_type": "stream",
     "text": [
      "{128, 104, 10, 16, 178, 116, 24, 90, 156}\n"
     ]
    }
   ],
   "source": [
    "#27. Multiply all elements in a set by 2.\n",
    "jhk = {12,5,8,78,45,64,89,52,58}\n",
    "j = []\n",
    "for i in jhk:\n",
    "    j.append(i*2)\n",
    "print(set(j))"
   ]
  },
  {
   "cell_type": "code",
   "execution_count": 27,
   "id": "cb73e710-2aba-44a2-afc0-194f68d10a73",
   "metadata": {},
   "outputs": [
    {
     "name": "stdout",
     "output_type": "stream",
     "text": [
      "{198, 649, 466, 119, 245, 726, 471, 280, 284, 925}\n"
     ]
    }
   ],
   "source": [
    "#28. Create a set of random numbers.\n",
    "import random\n",
    "jhk = [0]*10\n",
    "j = 0\n",
    "for i in range(1,11):\n",
    "    jhk[i-1] = random.randint(1,1000)\n",
    "print(set(jhk))"
   ]
  },
  {
   "cell_type": "code",
   "execution_count": 28,
   "id": "2a1d9ab7-de94-43c9-a54d-ce54df242253",
   "metadata": {},
   "outputs": [
    {
     "name": "stdout",
     "output_type": "stream",
     "text": [
      "Set is : {80, 49, 20, 56, 10, 60, 78}\n",
      "Set is not empty\n"
     ]
    }
   ],
   "source": [
    "#29. Check if a set is empty.\n",
    "poi = {10,20,60,80,49,56,78}\n",
    "print(\"Set is :\",poi)\n",
    "poi = len(poi)\n",
    "if  poi == 0:\n",
    "    print(\"Set is empty\")\n",
    "else:\n",
    "    print(\"Set is not empty\")"
   ]
  },
  {
   "cell_type": "code",
   "execution_count": 32,
   "id": "ec2f244f-3d1d-479a-9ae3-29a845404ffb",
   "metadata": {},
   "outputs": [
    {
     "name": "stdout",
     "output_type": "stream",
     "text": [
      "Set 1 is : {1, 2, 3, 4, 5, 6, 7}\n",
      "Set 2 is : {45, 6, 7, 8, 12, 13, 14}\n",
      "Afetr nesting : {frozenset({45, 6, 7, 8, 12, 13, 14}), frozenset({1, 2, 3, 4, 5, 6, 7})}\n"
     ]
    }
   ],
   "source": [
    "#30. Create a nested set (hint: use frozenset).\n",
    "ui = {1,2,3,4,5,6,7}\n",
    "lo = {6,7,8,12,13,14,45}\n",
    "print(\"Set 1 is :\",ui)\n",
    "print(\"Set 2 is :\",lo)\n",
    "lp = {frozenset(ui),frozenset(lo)}\n",
    "print(\"Afetr nesting :\",lp)"
   ]
  },
  {
   "cell_type": "code",
   "execution_count": 3,
   "id": "c78a9740-cf7d-406c-9a62-f902f8e18023",
   "metadata": {},
   "outputs": [
    {
     "name": "stdout",
     "output_type": "stream",
     "text": [
      "Set is : {80, 49, 20, 56, 10, 60, 78}\n"
     ]
    },
    {
     "name": "stdin",
     "output_type": "stream",
     "text": [
      "Enter element to remove : 49\n"
     ]
    },
    {
     "name": "stdout",
     "output_type": "stream",
     "text": [
      "After removing an element from a set using the discard method. {80, 20, 56, 10, 60, 78}\n"
     ]
    }
   ],
   "source": [
    "#31. Remove an element from a set using the discard method.\n",
    "poi = {10,20,60,80,49,56,78}\n",
    "print(\"Set is :\",poi)\n",
    "lo = int(input(\"Enter element to remove :\"))\n",
    "poi.discard(lo)\n",
    "print(\"After removing an element from a set using the discard method.\",poi)"
   ]
  },
  {
   "cell_type": "code",
   "execution_count": 4,
   "id": "54995a45-9deb-4099-a001-55ef7f682f1b",
   "metadata": {},
   "outputs": [
    {
     "name": "stdout",
     "output_type": "stream",
     "text": [
      "Set 1 is : {1, 2, 3, 4, 5, 6, 7}\n",
      "Set 2 is : {45, 6, 7, 8, 12, 13, 14}\n",
      "two sets are not disjoint:\n",
      "Set 1 is  not subset of set 2 \n"
     ]
    }
   ],
   "source": [
    "#32. Compare two sets.\n",
    "ui = {1,2,3,4,5,6,7}\n",
    "lo = {6,7,8,12,13,14,45}\n",
    "print(\"Set 1 is :\",ui)\n",
    "print(\"Set 2 is :\",lo)\n",
    "poi = ui.isdisjoint(lo)\n",
    "kl = ui.issubset(lo)\n",
    "if poi == True:\n",
    "    print(\" Two sets are disjoint:\")\n",
    "else:\n",
    "    print(\"two sets are not disjoint:\")\n",
    "if kl == True:\n",
    "    print(\" Set 1 is  subset of set 2 :\")\n",
    "else:\n",
    "    print(\"Set 1 is  not subset of set 2 \")"
   ]
  },
  {
   "cell_type": "code",
   "execution_count": 5,
   "id": "2620de98-d814-4955-b060-8a23b776cddf",
   "metadata": {},
   "outputs": [
    {
     "name": "stdin",
     "output_type": "stream",
     "text": [
      "Enter the string jhrdguiryuih\n"
     ]
    },
    {
     "name": "stdout",
     "output_type": "stream",
     "text": [
      "After converting into string :  {'y', 'h', 'u', 'd', 'i', 'g', 'r', 'j'}\n"
     ]
    }
   ],
   "source": [
    "#33. Create a set from a string.\n",
    "a = str(input('Enter the string'))\n",
    "print(\"After converting into string : \",set(a))\n"
   ]
  },
  {
   "cell_type": "code",
   "execution_count": 4,
   "id": "7ce09c81-bc38-4a44-97c5-c4b2de1c9852",
   "metadata": {},
   "outputs": [
    {
     "name": "stdout",
     "output_type": "stream",
     "text": [
      "set is : {'5', '4', '2', '8', '10', '1', '3', '9', '6', '7'}\n",
      "After converting set of strings to a set of integers : {1, 2, 3, 4, 5, 6, 7, 8, 9, 10}\n"
     ]
    }
   ],
   "source": [
    "#34. Convert a set of strings to a set of integers.\n",
    "ui =  {'1', '2', '3', '4', '5', '6', '7', '8', '9', '10'}\n",
    "print(\"set is :\",ui)\n",
    "ui = list(ui)\n",
    "vu = []\n",
    "for i in ui:\n",
    "    vu.append(int(i))\n",
    "print(\"After converting set of strings to a set of integers :\",set(vu)) "
   ]
  },
  {
   "cell_type": "code",
   "execution_count": 2,
   "id": "1d817b52-2efc-42ef-b064-e3caa4bc3df2",
   "metadata": {},
   "outputs": [
    {
     "name": "stdout",
     "output_type": "stream",
     "text": [
      "Set is : {1, 2, 3, 4, 5, 6, 7, 8, 9, 10}\n",
      "After converting set of integers to a set of strings : {'4', '5', '2', '6', '10', '8', '7', '3', '1', '9'}\n"
     ]
    }
   ],
   "source": [
    "#35. Convert a set of integers to a set of strings.\n",
    "ui = {1,2,3,4,5,6,7,8,9,10}\n",
    "print(\"Set is :\",ui)\n",
    "ui = list(ui)\n",
    "vu = []\n",
    "for i in ui:\n",
    "    vu.append(str(i))\n",
    "print(\"After converting set of integers to a set of strings :\",set(vu)) "
   ]
  },
  {
   "cell_type": "code",
   "execution_count": 3,
   "id": "bb10bc1c-a357-4a6d-8065-e551c4ebe671",
   "metadata": {},
   "outputs": [
    {
     "name": "stdout",
     "output_type": "stream",
     "text": [
      "tuple before (1, 2, 3, 4, 5, 6, 7, 8, 9, 45, 56)\n",
      "After converting to set : {1, 2, 3, 4, 5, 6, 7, 8, 9, 45, 56}\n"
     ]
    }
   ],
   "source": [
    "#36. Create a set from a tuple.\n",
    "gh = (1,2,3,4,5,6,7,8,9,45,56)\n",
    "print(\"tuple before\",gh)\n",
    "print(\"After converting to set :\",set(gh))"
   ]
  },
  {
   "cell_type": "code",
   "execution_count": 1,
   "id": "d9901d1d-856a-4444-b5c4-bc8daacc1713",
   "metadata": {},
   "outputs": [
    {
     "name": "stdout",
     "output_type": "stream",
     "text": [
      "Set before {1, 2, 3, 4, 5, 6, 7, 8, 9, 45, 56}\n",
      "After converting to tuple : (1, 2, 3, 4, 5, 6, 7, 8, 9, 45, 56)\n"
     ]
    }
   ],
   "source": [
    "#37. Convert a set to a tuple.\n",
    "gh = {1,2,3,4,5,6,7,8,9,45,56}\n",
    "print(\"Set before\",gh)\n",
    "print(\"After converting to tuple :\",tuple(gh))"
   ]
  },
  {
   "cell_type": "code",
   "execution_count": 2,
   "id": "6432ea7d-70c4-4037-9e08-3060d554ccfb",
   "metadata": {},
   "outputs": [
    {
     "name": "stdout",
     "output_type": "stream",
     "text": [
      "Set is : {1, 2, 3, 4, 5, 6, 7, 8, 9, 45, 56}\n",
      "Maximum value in a set is : 56\n"
     ]
    }
   ],
   "source": [
    "#38. Find the maximum value in a set.\n",
    "gh = {1,2,3,4,5,6,7,8,9,45,56}\n",
    "print(\"Set is :\",gh)\n",
    "lp = max(gh)\n",
    "print(\"Maximum value in a set is :\",lp)"
   ]
  },
  {
   "cell_type": "code",
   "execution_count": 1,
   "id": "a75f298b-4cd3-4a53-9e20-823f50ff4297",
   "metadata": {},
   "outputs": [
    {
     "name": "stdout",
     "output_type": "stream",
     "text": [
      "Set is : {1, 2, 3, 4, 5, 6, 7, 8, 9, 45, 56}\n",
      "Mainimum value in a set is : 1\n"
     ]
    }
   ],
   "source": [
    "#39. Find the minimum value in a set.\n",
    "gh = {1,2,3,4,5,6,7,8,9,45,56}\n",
    "print(\"Set is :\",gh)\n",
    "lp = min(gh)\n",
    "print(\"Mainimum value in a set is :\",lp)"
   ]
  },
  {
   "cell_type": "code",
   "execution_count": 3,
   "id": "16049b55-a516-41b4-ad39-b0ed553c640d",
   "metadata": {},
   "outputs": [
    {
     "name": "stdin",
     "output_type": "stream",
     "text": [
      "Enter the number for length of set 5\n",
      "Enter the element : 4\n",
      "Enter the element : 7\n",
      "Enter the element : 8\n",
      "Enter the element : 9\n",
      "Enter the element : 2\n"
     ]
    },
    {
     "name": "stdout",
     "output_type": "stream",
     "text": [
      "Set is : {2, 4, 7, 8, 9}\n"
     ]
    }
   ],
   "source": [
    "#40. Create a set from user input.\n",
    "jhk = []\n",
    "hg = int(input(\"Enter the number for length of set\"))\n",
    "for i in range(1,hg+1):\n",
    "         kl = int(input(\"Enter the element :\"))\n",
    "         jhk.append(kl)\n",
    "print(\"Set is :\",set(jhk)) "
   ]
  },
  {
   "cell_type": "code",
   "execution_count": 9,
   "id": "b23e5d96-2354-4d3e-88a2-cc7fbdcc46fd",
   "metadata": {},
   "outputs": [
    {
     "name": "stdout",
     "output_type": "stream",
     "text": [
      "Set 1 is : {1, 2, 3, 4, 5, 6, 7}\n",
      "Set 2 is : {45, 6, 7, 8, 12, 13, 14}\n",
      " Set intersection is not empty \n"
     ]
    }
   ],
   "source": [
    "#41. Check if the intersection of two sets is empty.\n",
    "ui = {1,2,3,4,5,6,7}\n",
    "lo = {6,7,8,12,13,14,45}\n",
    "print(\"Set 1 is :\",ui)\n",
    "print(\"Set 2 is :\",lo)\n",
    "pi = ui.intersection(lo)\n",
    "pi = len(pi)\n",
    "if pi >= 1:\n",
    "    print(\" Set intersection is not empty \")\n",
    "else:\n",
    "    print(\"Set intersection is not emptyv  \")"
   ]
  },
  {
   "cell_type": "code",
   "execution_count": 11,
   "id": "738d756e-b35a-4f36-b824-ef2f2a87e7a7",
   "metadata": {},
   "outputs": [
    {
     "name": "stdout",
     "output_type": "stream",
     "text": [
      "{0, 1, 2, 3, 5}\n"
     ]
    }
   ],
   "source": [
    "#42. Create a set of the first 5 Fibonacci numbers.\n",
    "jhk = [0]*10\n",
    "jhk[0] = 0\n",
    "jhk[1] = 1\n",
    "#first initalize two number\n",
    "for i in range(2,6):\n",
    "    jhk[i] = jhk[i-1] + jhk[i-2]\n",
    "print(set(jhk))"
   ]
  },
  {
   "cell_type": "code",
   "execution_count": 12,
   "id": "2607cbbe-8ae8-4a1d-8c0f-0d472a19adc9",
   "metadata": {},
   "outputs": [
    {
     "name": "stdout",
     "output_type": "stream",
     "text": [
      "List  is : [1, 2, 3, 4, 5, 6, 7, 9, 3, 4, 9, 1, 3]\n",
      "After removing duplicates from a list using sets. {1, 2, 3, 4, 5, 6, 7, 9}\n"
     ]
    }
   ],
   "source": [
    "#43. Remove duplicates from a list using sets.\n",
    "ui = [1,2,3,4,5,6,7,9,3,4,9,1,3]\n",
    "print(\"List  is :\",ui)\n",
    "print(\"After removing duplicates from a list using sets.\",set(ui))\n",
    "\n",
    "\n"
   ]
  },
  {
   "cell_type": "code",
   "execution_count": 16,
   "id": "c1a68820-b09b-41bb-a39a-af2fcbd54599",
   "metadata": {},
   "outputs": [
    {
     "name": "stdout",
     "output_type": "stream",
     "text": [
      "Set have same elements, regardless of their count.\n"
     ]
    }
   ],
   "source": [
    "#44. Check if two sets have the same elements, regardless of their count.\n",
    "yt = {1,2,3,4,5,6,7,9}\n",
    "p = {9,8,7,6,5,4,3,2,1}\n",
    "yt = list(yt)\n",
    "p = list(p)\n",
    "yt = yt.sort()\n",
    "p = p.sort()\n",
    "if p == yt:\n",
    "    print(\"Set have same elements, regardless of their count.\")\n",
    "else:\n",
    "    print(\"Set not have same elements, regardless of their count.\")"
   ]
  },
  {
   "cell_type": "code",
   "execution_count": 17,
   "id": "9f451d40-5e55-4c07-b858-368f0c09dc29",
   "metadata": {},
   "outputs": [
    {
     "name": "stdout",
     "output_type": "stream",
     "text": [
      "Set before {1, 2, 3, 4, 5, 6, 7, 8, 9, 45, 56}\n",
      "Tuple after the first 5 number are  powers of 2. {32, 2, 4, 6, 7, 8, 9, 45, 16, 56}\n"
     ]
    }
   ],
   "source": [
    "#45. Create a set of the first `n` powers of 2.\n",
    "gh = {1,2,3,4,5,6,7,8,9,45,56}\n",
    "print(\"Set before\",gh)\n",
    "gh = list(gh)\n",
    "for i in range(1,6):\n",
    "    gh[i-1] = 2**gh[i-1]\n",
    "print(\"Tuple after the first 5 number are  powers of 2.\" ,set(gh))"
   ]
  },
  {
   "cell_type": "code",
   "execution_count": 2,
   "id": "1e05a717-326e-4cdf-b439-62a4cc9f8934",
   "metadata": {},
   "outputs": [
    {
     "name": "stdout",
     "output_type": "stream",
     "text": [
      "Set  is : {1, 2, 3, 4, 5, 6, 7}\n",
      "list is : [6, 7, 8, 12, 13, 14, 45]\n",
      "The common elements between a set and a list. {6, 7}\n"
     ]
    }
   ],
   "source": [
    "#46. Find the common elements between a set and a list.\n",
    "ui = {1,2,3,4,5,6,7}\n",
    "lo = [6,7,8,12,13,14,45]\n",
    "print(\"Set  is :\",ui)\n",
    "print(\"list is :\",lo)\n",
    "lo = set(lo)\n",
    "pl = ui.intersection(lo)\n",
    "print(\"The common elements between a set and a list.\",pl)"
   ]
  },
  {
   "cell_type": "code",
   "execution_count": 8,
   "id": "58c303cd-4418-488b-99a0-736075613bcf",
   "metadata": {},
   "outputs": [
    {
     "name": "stdin",
     "output_type": "stream",
     "text": [
      "Enter the number to Create a set of the first `n` triangular numbers : 5\n"
     ]
    },
    {
     "name": "stdout",
     "output_type": "stream",
     "text": [
      "{1, 3, 6, 10, 15}\n"
     ]
    }
   ],
   "source": [
    "#47. Create a set of the first `n` triangular numbers.\n",
    "ytr = []\n",
    "o = 0\n",
    "io = int(input(\"Enter the number to Create a set of the first `n` triangular numbers :\"))\n",
    "for i in range(1,io+1):\n",
    "        while i > 0:\n",
    "            o = o+i\n",
    "            i = i-1\n",
    "        ytr.append(o)\n",
    "        o = 0\n",
    "print(set(ytr))"
   ]
  },
  {
   "cell_type": "code",
   "execution_count": 9,
   "id": "a973432b-26d5-4e6c-b0dd-9589b393aed0",
   "metadata": {},
   "outputs": [
    {
     "name": "stdout",
     "output_type": "stream",
     "text": [
      "Set 1 is : {1, 2, 3, 4, 5, 6, 7}\n",
      "Set 2 is : {45, 6, 7, 8, 12, 13, 14}\n",
      "Set 1 is  not subset of set 2 \n"
     ]
    }
   ],
   "source": [
    "#48. Check if a set contains another set as a subset.\n",
    "ui = {1,2,3,4,5,6,7}\n",
    "lo = {6,7,8,12,13,14,45}\n",
    "print(\"Set 1 is :\",ui)\n",
    "print(\"Set 2 is :\",lo)\n",
    "kl = ui.issubset(lo)\n",
    "if kl == True:\n",
    "    print(\" Set 1 is  subset of set 2 :\")\n",
    "else:\n",
    "    print(\"Set 1 is  not subset of set 2 \")"
   ]
  },
  {
   "cell_type": "code",
   "execution_count": 13,
   "id": "42cef10b-c8ed-48ff-b750-7c0dee28cfaa",
   "metadata": {},
   "outputs": [
    {
     "name": "stdin",
     "output_type": "stream",
     "text": [
      "Enter the length of Set : 5\n"
     ]
    },
    {
     "name": "stdout",
     "output_type": "stream",
     "text": [
      "Tuple is : {0, 1}\n"
     ]
    }
   ],
   "source": [
    "#49. Create a set of alternating 1s and 0s of length `n`.\n",
    "poi = int(input(\"Enter the length of Set :\"))\n",
    "ju = []\n",
    "for i in range(1,poi+1):\n",
    "    if i%2 == 0:\n",
    "        ju.append(i%2)\n",
    "    else:\n",
    "        ju.append(i%2)\n",
    "print(\"Tuple is :\",set(ju))   \n",
    "#Answer always 0,1 two values because set not contain duplicate value"
   ]
  },
  {
   "cell_type": "code",
   "execution_count": 14,
   "id": "1f1e3644-69d3-497b-86ad-c8d2effe914d",
   "metadata": {},
   "outputs": [
    {
     "name": "stdout",
     "output_type": "stream",
     "text": [
      "Set 1 is : {1, 2, 3, 4, 5, 6, 7}\n",
      "Set 2 is : {45, 6, 7, 8, 12, 13, 14}\n",
      "Set 3 is : {48, 17, 98, 68, 92, 46}\n",
      "After merge 3 sets into one {1, 2, 3, 4, 5, 6, 7, 8, 98, 68, 12, 45, 13, 14, 48, 17, 46, 92}\n"
     ]
    }
   ],
   "source": [
    "#50. Merge multiple sets into one.\n",
    "ui = {1,2,3,4,5,6,7}\n",
    "lo = {6,7,8,12,13,14,45}\n",
    "pu = {17,68,98,46,48,92}\n",
    "print(\"Set 1 is :\",ui)\n",
    "print(\"Set 2 is :\",lo)\n",
    "print(\"Set 3 is :\",pu)\n",
    "uy = ui.union(lo)\n",
    "uy = uy.union(pu)\n",
    "print(\"After merge 3 sets into one\",uy)"
   ]
  },
  {
   "cell_type": "code",
   "execution_count": null,
   "id": "b05f845e-449a-4f72-82d1-2e0fa4ce1986",
   "metadata": {},
   "outputs": [],
   "source": []
  }
 ],
 "metadata": {
  "kernelspec": {
   "display_name": "Python 3 (ipykernel)",
   "language": "python",
   "name": "python3"
  },
  "language_info": {
   "codemirror_mode": {
    "name": "ipython",
    "version": 3
   },
   "file_extension": ".py",
   "mimetype": "text/x-python",
   "name": "python",
   "nbconvert_exporter": "python",
   "pygments_lexer": "ipython3",
   "version": "3.10.8"
  }
 },
 "nbformat": 4,
 "nbformat_minor": 5
}
